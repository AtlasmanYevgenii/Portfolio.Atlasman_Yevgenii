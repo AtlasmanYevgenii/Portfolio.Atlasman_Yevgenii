{
 "cells": [
  {
   "cell_type": "markdown",
   "metadata": {},
   "source": [
    "# Analyzing borrowers’ risk of defaulting\n",
    "\n",
    "By Yevgenii Atlasman  \n",
    "October 2021"
   ]
  },
  {
   "cell_type": "markdown",
   "metadata": {},
   "source": [
    "Our project is to prepare a report for a bank's loan division. We'll need to find out if a customer's marital status and number of children has an impact on whether they will default on a loan. The bank already has some data on customers' credit worthiness.\n",
    "\n",
    "**The main aim of the project is to build a credit scoring of a potential customer. The credit scoring is used to evaluate the ability of a potential borrower to repay their loan.**  \n",
    "\n",
    "**Plan of our work**\n",
    " 1. Preprocess the data:\n",
    " - Identify and fill in missing values\n",
    " - Replace the real number data type with the integer type\n",
    " - Delete duplicate data\n",
    " - Categorize the data\n",
    " 2. Answer these questions:\n",
    " - Is there a connection between having kids and repaying a loan on time?\n",
    " - Is there a connection between marital status and repaying a loan on time?\n",
    " - Is there a connection between income level and repaying a loan on time?\n",
    " - How do different loan purposes affect on-time loan repayment?"
   ]
  },
  {
   "cell_type": "markdown",
   "metadata": {},
   "source": [
    "## Open the data file and have a look at the general information."
   ]
  },
  {
   "cell_type": "markdown",
   "metadata": {},
   "source": [
    "Import libraries. Install `pymystem3` module."
   ]
  },
  {
   "cell_type": "markdown",
   "metadata": {},
   "source": [
    "Let's load the Mystem library from pymystem3 and call the Counter container from the collections module."
   ]
  },
  {
   "cell_type": "code",
   "execution_count": 35,
   "metadata": {},
   "outputs": [
    {
     "name": "stdout",
     "output_type": "stream",
     "text": [
      "Requirement already satisfied: pymystem3 in /opt/conda/lib/python3.9/site-packages (0.2.0)\n",
      "Requirement already satisfied: requests in /opt/conda/lib/python3.9/site-packages (from pymystem3) (2.26.0)\n",
      "Requirement already satisfied: charset-normalizer~=2.0.0 in /opt/conda/lib/python3.9/site-packages (from requests->pymystem3) (2.0.0)\n",
      "Requirement already satisfied: urllib3<1.27,>=1.21.1 in /opt/conda/lib/python3.9/site-packages (from requests->pymystem3) (1.26.7)\n",
      "Requirement already satisfied: idna<4,>=2.5 in /opt/conda/lib/python3.9/site-packages (from requests->pymystem3) (3.1)\n",
      "Requirement already satisfied: certifi>=2017.4.17 in /opt/conda/lib/python3.9/site-packages (from requests->pymystem3) (2021.10.8)\n",
      "Note: you may need to restart the kernel to use updated packages.\n"
     ]
    }
   ],
   "source": [
    "pip install pymystem3"
   ]
  },
  {
   "cell_type": "code",
   "execution_count": 36,
   "metadata": {},
   "outputs": [],
   "source": [
    "import pandas as pd\n",
    "from pymystem3 import Mystem\n",
    "from collections import Counter"
   ]
  },
  {
   "cell_type": "markdown",
   "metadata": {},
   "source": [
    "**Use try-except method to read csv file, because it should work both on local computer and jupiter hub.**   "
   ]
  },
  {
   "cell_type": "code",
   "execution_count": 38,
   "metadata": {},
   "outputs": [],
   "source": [
    "try:\n",
    "    credit_scoring = pd.read_csv('credit_scoring_eng.csv')\n",
    "except:\n",
    "    credit_scoring = pd.read_csv('/datasets/credit_scoring_eng.csv')"
   ]
  },
  {
   "cell_type": "code",
   "execution_count": 39,
   "metadata": {},
   "outputs": [
    {
     "data": {
      "text/html": [
       "<div>\n",
       "<style scoped>\n",
       "    .dataframe tbody tr th:only-of-type {\n",
       "        vertical-align: middle;\n",
       "    }\n",
       "\n",
       "    .dataframe tbody tr th {\n",
       "        vertical-align: top;\n",
       "    }\n",
       "\n",
       "    .dataframe thead th {\n",
       "        text-align: right;\n",
       "    }\n",
       "</style>\n",
       "<table border=\"1\" class=\"dataframe\">\n",
       "  <thead>\n",
       "    <tr style=\"text-align: right;\">\n",
       "      <th></th>\n",
       "      <th>children</th>\n",
       "      <th>days_employed</th>\n",
       "      <th>dob_years</th>\n",
       "      <th>education</th>\n",
       "      <th>education_id</th>\n",
       "      <th>family_status</th>\n",
       "      <th>family_status_id</th>\n",
       "      <th>gender</th>\n",
       "      <th>income_type</th>\n",
       "      <th>debt</th>\n",
       "      <th>total_income</th>\n",
       "      <th>purpose</th>\n",
       "    </tr>\n",
       "  </thead>\n",
       "  <tbody>\n",
       "    <tr>\n",
       "      <th>0</th>\n",
       "      <td>1</td>\n",
       "      <td>-8437.673028</td>\n",
       "      <td>42</td>\n",
       "      <td>bachelor's degree</td>\n",
       "      <td>0</td>\n",
       "      <td>married</td>\n",
       "      <td>0</td>\n",
       "      <td>F</td>\n",
       "      <td>employee</td>\n",
       "      <td>0</td>\n",
       "      <td>40620.102</td>\n",
       "      <td>purchase of the house</td>\n",
       "    </tr>\n",
       "    <tr>\n",
       "      <th>1</th>\n",
       "      <td>1</td>\n",
       "      <td>-4024.803754</td>\n",
       "      <td>36</td>\n",
       "      <td>secondary education</td>\n",
       "      <td>1</td>\n",
       "      <td>married</td>\n",
       "      <td>0</td>\n",
       "      <td>F</td>\n",
       "      <td>employee</td>\n",
       "      <td>0</td>\n",
       "      <td>17932.802</td>\n",
       "      <td>car purchase</td>\n",
       "    </tr>\n",
       "    <tr>\n",
       "      <th>2</th>\n",
       "      <td>0</td>\n",
       "      <td>-5623.422610</td>\n",
       "      <td>33</td>\n",
       "      <td>Secondary Education</td>\n",
       "      <td>1</td>\n",
       "      <td>married</td>\n",
       "      <td>0</td>\n",
       "      <td>M</td>\n",
       "      <td>employee</td>\n",
       "      <td>0</td>\n",
       "      <td>23341.752</td>\n",
       "      <td>purchase of the house</td>\n",
       "    </tr>\n",
       "    <tr>\n",
       "      <th>3</th>\n",
       "      <td>3</td>\n",
       "      <td>-4124.747207</td>\n",
       "      <td>32</td>\n",
       "      <td>secondary education</td>\n",
       "      <td>1</td>\n",
       "      <td>married</td>\n",
       "      <td>0</td>\n",
       "      <td>M</td>\n",
       "      <td>employee</td>\n",
       "      <td>0</td>\n",
       "      <td>42820.568</td>\n",
       "      <td>supplementary education</td>\n",
       "    </tr>\n",
       "    <tr>\n",
       "      <th>4</th>\n",
       "      <td>0</td>\n",
       "      <td>340266.072047</td>\n",
       "      <td>53</td>\n",
       "      <td>secondary education</td>\n",
       "      <td>1</td>\n",
       "      <td>civil partnership</td>\n",
       "      <td>1</td>\n",
       "      <td>F</td>\n",
       "      <td>retiree</td>\n",
       "      <td>0</td>\n",
       "      <td>25378.572</td>\n",
       "      <td>to have a wedding</td>\n",
       "    </tr>\n",
       "  </tbody>\n",
       "</table>\n",
       "</div>"
      ],
      "text/plain": [
       "   children  days_employed  dob_years            education  education_id  \\\n",
       "0         1   -8437.673028         42    bachelor's degree             0   \n",
       "1         1   -4024.803754         36  secondary education             1   \n",
       "2         0   -5623.422610         33  Secondary Education             1   \n",
       "3         3   -4124.747207         32  secondary education             1   \n",
       "4         0  340266.072047         53  secondary education             1   \n",
       "\n",
       "       family_status  family_status_id gender income_type  debt  total_income  \\\n",
       "0            married                 0      F    employee     0     40620.102   \n",
       "1            married                 0      F    employee     0     17932.802   \n",
       "2            married                 0      M    employee     0     23341.752   \n",
       "3            married                 0      M    employee     0     42820.568   \n",
       "4  civil partnership                 1      F     retiree     0     25378.572   \n",
       "\n",
       "                   purpose  \n",
       "0    purchase of the house  \n",
       "1             car purchase  \n",
       "2    purchase of the house  \n",
       "3  supplementary education  \n",
       "4        to have a wedding  "
      ]
     },
     "execution_count": 39,
     "metadata": {},
     "output_type": "execute_result"
    }
   ],
   "source": [
    "credit_scoring.head()"
   ]
  },
  {
   "cell_type": "markdown",
   "metadata": {},
   "source": [
    "It seems like there are a lot of negative values in the `days_employed` column. Probably it was mistake in inserting data. We should take a closer look at this column, and check how many values there negeative. Also in the column `purpose` we can see reasons for taking out a loan like `purchase of a car`, `buying my own car`, `to buy a car`, `car purchase`, so we'll need to unite all this values. Probably, customers were asked to write down purposes instead of making them choose from the list (with option write their own answer if they didn't find relevant purpose). "
   ]
  },
  {
   "cell_type": "markdown",
   "metadata": {},
   "source": [
    "## Data preprocessing"
   ]
  },
  {
   "cell_type": "markdown",
   "metadata": {},
   "source": [
    "Let's check what columns have missing values and what data type in each column by calling the `info()` method."
   ]
  },
  {
   "cell_type": "code",
   "execution_count": 40,
   "metadata": {},
   "outputs": [
    {
     "name": "stdout",
     "output_type": "stream",
     "text": [
      "<class 'pandas.core.frame.DataFrame'>\n",
      "RangeIndex: 21525 entries, 0 to 21524\n",
      "Data columns (total 12 columns):\n",
      " #   Column            Non-Null Count  Dtype  \n",
      "---  ------            --------------  -----  \n",
      " 0   children          21525 non-null  int64  \n",
      " 1   days_employed     19351 non-null  float64\n",
      " 2   dob_years         21525 non-null  int64  \n",
      " 3   education         21525 non-null  object \n",
      " 4   education_id      21525 non-null  int64  \n",
      " 5   family_status     21525 non-null  object \n",
      " 6   family_status_id  21525 non-null  int64  \n",
      " 7   gender            21525 non-null  object \n",
      " 8   income_type       21525 non-null  object \n",
      " 9   debt              21525 non-null  int64  \n",
      " 10  total_income      19351 non-null  float64\n",
      " 11  purpose           21525 non-null  object \n",
      "dtypes: float64(2), int64(5), object(5)\n",
      "memory usage: 2.0+ MB\n"
     ]
    }
   ],
   "source": [
    "credit_scoring.info()"
   ]
  },
  {
   "cell_type": "markdown",
   "metadata": {},
   "source": [
    "There are some missing values in columns `total_income` and `days_employed`. Take a closer look at these missing values later. There is also float type in `total_income`. It will be better to work with money as integer values."
   ]
  },
  {
   "cell_type": "markdown",
   "metadata": {},
   "source": [
    "Let's also take a look at first ten rows."
   ]
  },
  {
   "cell_type": "code",
   "execution_count": 41,
   "metadata": {},
   "outputs": [
    {
     "data": {
      "text/html": [
       "<div>\n",
       "<style scoped>\n",
       "    .dataframe tbody tr th:only-of-type {\n",
       "        vertical-align: middle;\n",
       "    }\n",
       "\n",
       "    .dataframe tbody tr th {\n",
       "        vertical-align: top;\n",
       "    }\n",
       "\n",
       "    .dataframe thead th {\n",
       "        text-align: right;\n",
       "    }\n",
       "</style>\n",
       "<table border=\"1\" class=\"dataframe\">\n",
       "  <thead>\n",
       "    <tr style=\"text-align: right;\">\n",
       "      <th></th>\n",
       "      <th>children</th>\n",
       "      <th>days_employed</th>\n",
       "      <th>dob_years</th>\n",
       "      <th>education</th>\n",
       "      <th>education_id</th>\n",
       "      <th>family_status</th>\n",
       "      <th>family_status_id</th>\n",
       "      <th>gender</th>\n",
       "      <th>income_type</th>\n",
       "      <th>debt</th>\n",
       "      <th>total_income</th>\n",
       "      <th>purpose</th>\n",
       "    </tr>\n",
       "  </thead>\n",
       "  <tbody>\n",
       "    <tr>\n",
       "      <th>0</th>\n",
       "      <td>1</td>\n",
       "      <td>-8437.673028</td>\n",
       "      <td>42</td>\n",
       "      <td>bachelor's degree</td>\n",
       "      <td>0</td>\n",
       "      <td>married</td>\n",
       "      <td>0</td>\n",
       "      <td>F</td>\n",
       "      <td>employee</td>\n",
       "      <td>0</td>\n",
       "      <td>40620.102</td>\n",
       "      <td>purchase of the house</td>\n",
       "    </tr>\n",
       "    <tr>\n",
       "      <th>1</th>\n",
       "      <td>1</td>\n",
       "      <td>-4024.803754</td>\n",
       "      <td>36</td>\n",
       "      <td>secondary education</td>\n",
       "      <td>1</td>\n",
       "      <td>married</td>\n",
       "      <td>0</td>\n",
       "      <td>F</td>\n",
       "      <td>employee</td>\n",
       "      <td>0</td>\n",
       "      <td>17932.802</td>\n",
       "      <td>car purchase</td>\n",
       "    </tr>\n",
       "    <tr>\n",
       "      <th>2</th>\n",
       "      <td>0</td>\n",
       "      <td>-5623.422610</td>\n",
       "      <td>33</td>\n",
       "      <td>Secondary Education</td>\n",
       "      <td>1</td>\n",
       "      <td>married</td>\n",
       "      <td>0</td>\n",
       "      <td>M</td>\n",
       "      <td>employee</td>\n",
       "      <td>0</td>\n",
       "      <td>23341.752</td>\n",
       "      <td>purchase of the house</td>\n",
       "    </tr>\n",
       "    <tr>\n",
       "      <th>3</th>\n",
       "      <td>3</td>\n",
       "      <td>-4124.747207</td>\n",
       "      <td>32</td>\n",
       "      <td>secondary education</td>\n",
       "      <td>1</td>\n",
       "      <td>married</td>\n",
       "      <td>0</td>\n",
       "      <td>M</td>\n",
       "      <td>employee</td>\n",
       "      <td>0</td>\n",
       "      <td>42820.568</td>\n",
       "      <td>supplementary education</td>\n",
       "    </tr>\n",
       "    <tr>\n",
       "      <th>4</th>\n",
       "      <td>0</td>\n",
       "      <td>340266.072047</td>\n",
       "      <td>53</td>\n",
       "      <td>secondary education</td>\n",
       "      <td>1</td>\n",
       "      <td>civil partnership</td>\n",
       "      <td>1</td>\n",
       "      <td>F</td>\n",
       "      <td>retiree</td>\n",
       "      <td>0</td>\n",
       "      <td>25378.572</td>\n",
       "      <td>to have a wedding</td>\n",
       "    </tr>\n",
       "    <tr>\n",
       "      <th>5</th>\n",
       "      <td>0</td>\n",
       "      <td>-926.185831</td>\n",
       "      <td>27</td>\n",
       "      <td>bachelor's degree</td>\n",
       "      <td>0</td>\n",
       "      <td>civil partnership</td>\n",
       "      <td>1</td>\n",
       "      <td>M</td>\n",
       "      <td>business</td>\n",
       "      <td>0</td>\n",
       "      <td>40922.170</td>\n",
       "      <td>purchase of the house</td>\n",
       "    </tr>\n",
       "    <tr>\n",
       "      <th>6</th>\n",
       "      <td>0</td>\n",
       "      <td>-2879.202052</td>\n",
       "      <td>43</td>\n",
       "      <td>bachelor's degree</td>\n",
       "      <td>0</td>\n",
       "      <td>married</td>\n",
       "      <td>0</td>\n",
       "      <td>F</td>\n",
       "      <td>business</td>\n",
       "      <td>0</td>\n",
       "      <td>38484.156</td>\n",
       "      <td>housing transactions</td>\n",
       "    </tr>\n",
       "    <tr>\n",
       "      <th>7</th>\n",
       "      <td>0</td>\n",
       "      <td>-152.779569</td>\n",
       "      <td>50</td>\n",
       "      <td>SECONDARY EDUCATION</td>\n",
       "      <td>1</td>\n",
       "      <td>married</td>\n",
       "      <td>0</td>\n",
       "      <td>M</td>\n",
       "      <td>employee</td>\n",
       "      <td>0</td>\n",
       "      <td>21731.829</td>\n",
       "      <td>education</td>\n",
       "    </tr>\n",
       "    <tr>\n",
       "      <th>8</th>\n",
       "      <td>2</td>\n",
       "      <td>-6929.865299</td>\n",
       "      <td>35</td>\n",
       "      <td>BACHELOR'S DEGREE</td>\n",
       "      <td>0</td>\n",
       "      <td>civil partnership</td>\n",
       "      <td>1</td>\n",
       "      <td>F</td>\n",
       "      <td>employee</td>\n",
       "      <td>0</td>\n",
       "      <td>15337.093</td>\n",
       "      <td>having a wedding</td>\n",
       "    </tr>\n",
       "    <tr>\n",
       "      <th>9</th>\n",
       "      <td>0</td>\n",
       "      <td>-2188.756445</td>\n",
       "      <td>41</td>\n",
       "      <td>secondary education</td>\n",
       "      <td>1</td>\n",
       "      <td>married</td>\n",
       "      <td>0</td>\n",
       "      <td>M</td>\n",
       "      <td>employee</td>\n",
       "      <td>0</td>\n",
       "      <td>23108.150</td>\n",
       "      <td>purchase of the house for my family</td>\n",
       "    </tr>\n",
       "  </tbody>\n",
       "</table>\n",
       "</div>"
      ],
      "text/plain": [
       "   children  days_employed  dob_years            education  education_id  \\\n",
       "0         1   -8437.673028         42    bachelor's degree             0   \n",
       "1         1   -4024.803754         36  secondary education             1   \n",
       "2         0   -5623.422610         33  Secondary Education             1   \n",
       "3         3   -4124.747207         32  secondary education             1   \n",
       "4         0  340266.072047         53  secondary education             1   \n",
       "5         0    -926.185831         27    bachelor's degree             0   \n",
       "6         0   -2879.202052         43    bachelor's degree             0   \n",
       "7         0    -152.779569         50  SECONDARY EDUCATION             1   \n",
       "8         2   -6929.865299         35    BACHELOR'S DEGREE             0   \n",
       "9         0   -2188.756445         41  secondary education             1   \n",
       "\n",
       "       family_status  family_status_id gender income_type  debt  total_income  \\\n",
       "0            married                 0      F    employee     0     40620.102   \n",
       "1            married                 0      F    employee     0     17932.802   \n",
       "2            married                 0      M    employee     0     23341.752   \n",
       "3            married                 0      M    employee     0     42820.568   \n",
       "4  civil partnership                 1      F     retiree     0     25378.572   \n",
       "5  civil partnership                 1      M    business     0     40922.170   \n",
       "6            married                 0      F    business     0     38484.156   \n",
       "7            married                 0      M    employee     0     21731.829   \n",
       "8  civil partnership                 1      F    employee     0     15337.093   \n",
       "9            married                 0      M    employee     0     23108.150   \n",
       "\n",
       "                               purpose  \n",
       "0                purchase of the house  \n",
       "1                         car purchase  \n",
       "2                purchase of the house  \n",
       "3              supplementary education  \n",
       "4                    to have a wedding  \n",
       "5                purchase of the house  \n",
       "6                 housing transactions  \n",
       "7                            education  \n",
       "8                     having a wedding  \n",
       "9  purchase of the house for my family  "
      ]
     },
     "execution_count": 41,
     "metadata": {},
     "output_type": "execute_result"
    }
   ],
   "source": [
    "credit_scoring.head(10)"
   ]
  },
  {
   "cell_type": "markdown",
   "metadata": {},
   "source": [
    "There are some answers written in the higher case in `education` column. We'll need to make all the characters in the string lowercase later."
   ]
  },
  {
   "cell_type": "markdown",
   "metadata": {},
   "source": [
    "Let's also check how many rows in `days_employed` column have negative value."
   ]
  },
  {
   "cell_type": "code",
   "execution_count": 42,
   "metadata": {},
   "outputs": [
    {
     "data": {
      "text/plain": [
       "children            15906\n",
       "days_employed       15906\n",
       "dob_years           15906\n",
       "education           15906\n",
       "education_id        15906\n",
       "family_status       15906\n",
       "family_status_id    15906\n",
       "gender              15906\n",
       "income_type         15906\n",
       "debt                15906\n",
       "total_income        15906\n",
       "purpose             15906\n",
       "dtype: int64"
      ]
     },
     "execution_count": 42,
     "metadata": {},
     "output_type": "execute_result"
    }
   ],
   "source": [
    "credit_scoring[credit_scoring['days_employed'] < 0].count()"
   ]
  },
  {
   "cell_type": "markdown",
   "metadata": {},
   "source": [
    "`15906` negative vales from total `21525`. That's a lot. We should notify data engineers about this problem in order to find the root of it. We won't need this column in our analysis, so we can leave it as it is. "
   ]
  },
  {
   "cell_type": "markdown",
   "metadata": {},
   "source": [
    "Let's see if there are some other columns with negative values."
   ]
  },
  {
   "cell_type": "code",
   "execution_count": 43,
   "metadata": {},
   "outputs": [
    {
     "data": {
      "text/plain": [
       "children            47\n",
       "days_employed       44\n",
       "dob_years           47\n",
       "education           47\n",
       "education_id        47\n",
       "family_status       47\n",
       "family_status_id    47\n",
       "gender              47\n",
       "income_type         47\n",
       "debt                47\n",
       "total_income        44\n",
       "purpose             47\n",
       "dtype: int64"
      ]
     },
     "execution_count": 43,
     "metadata": {},
     "output_type": "execute_result"
    }
   ],
   "source": [
    "credit_scoring[credit_scoring['children'] < 0].count()"
   ]
  },
  {
   "cell_type": "markdown",
   "metadata": {},
   "source": [
    "There are 47 rows that have negative value in the column `children`."
   ]
  },
  {
   "cell_type": "markdown",
   "metadata": {},
   "source": [
    "Let's look what variables has column `children` using the `unique()` method."
   ]
  },
  {
   "cell_type": "code",
   "execution_count": 44,
   "metadata": {},
   "outputs": [
    {
     "data": {
      "text/plain": [
       "array([ 1,  0,  3,  2, -1,  4, 20,  5])"
      ]
     },
     "execution_count": 44,
     "metadata": {},
     "output_type": "execute_result"
    }
   ],
   "source": [
    "credit_scoring['children'].unique()"
   ]
  },
  {
   "cell_type": "markdown",
   "metadata": {},
   "source": [
    "There are 47 customers with `-1` children. It's probably a mistake. Also we found out that there are customers with `20` children. We should change it to `1` and `2`, it might be a mistake in data entry."
   ]
  },
  {
   "cell_type": "markdown",
   "metadata": {},
   "source": [
    "**Use the `abs()` method to change all values in `children` to positive values.**   "
   ]
  },
  {
   "cell_type": "code",
   "execution_count": 45,
   "metadata": {},
   "outputs": [
    {
     "data": {
      "text/plain": [
       "array([1, 0, 3, 2, 4, 5])"
      ]
     },
     "execution_count": 45,
     "metadata": {},
     "output_type": "execute_result"
    }
   ],
   "source": [
    "credit_scoring['children'] = abs(credit_scoring['children'])\n",
    "credit_scoring.loc[credit_scoring['children'] == 20, 'children'] = 2\n",
    "credit_scoring['children'].unique()"
   ]
  },
  {
   "cell_type": "markdown",
   "metadata": {},
   "source": [
    "As we saw previously, there were some values in the `education` column with differrent cases. Let's check how many different unique values in this column."
   ]
  },
  {
   "cell_type": "code",
   "execution_count": 46,
   "metadata": {},
   "outputs": [
    {
     "data": {
      "text/plain": [
       "array([\"bachelor's degree\", 'secondary education', 'Secondary Education',\n",
       "       'SECONDARY EDUCATION', \"BACHELOR'S DEGREE\", 'some college',\n",
       "       'primary education', \"Bachelor's Degree\", 'SOME COLLEGE',\n",
       "       'Some College', 'PRIMARY EDUCATION', 'Primary Education',\n",
       "       'Graduate Degree', 'GRADUATE DEGREE', 'graduate degree'],\n",
       "      dtype=object)"
      ]
     },
     "execution_count": 46,
     "metadata": {},
     "output_type": "execute_result"
    }
   ],
   "source": [
    "credit_scoring['education'].unique()"
   ]
  },
  {
   "cell_type": "markdown",
   "metadata": {},
   "source": [
    "These are the same answers, only written with higher case letters. "
   ]
  },
  {
   "cell_type": "markdown",
   "metadata": {},
   "source": [
    "Let's make every variables in `education` column lowercase using the `str.lower()` method. And check the result using the `unique()` method."
   ]
  },
  {
   "cell_type": "code",
   "execution_count": 47,
   "metadata": {},
   "outputs": [],
   "source": [
    "credit_scoring['education'] = credit_scoring['education'].str.lower()"
   ]
  },
  {
   "cell_type": "code",
   "execution_count": 48,
   "metadata": {},
   "outputs": [
    {
     "data": {
      "text/plain": [
       "array([\"bachelor's degree\", 'secondary education', 'some college',\n",
       "       'primary education', 'graduate degree'], dtype=object)"
      ]
     },
     "execution_count": 48,
     "metadata": {},
     "output_type": "execute_result"
    }
   ],
   "source": [
    "credit_scoring['education'].unique()"
   ]
  },
  {
   "cell_type": "markdown",
   "metadata": {},
   "source": [
    "Let's check if where are other columns which have `0` values creating the loop."
   ]
  },
  {
   "cell_type": "code",
   "execution_count": 49,
   "metadata": {},
   "outputs": [
    {
     "name": "stdout",
     "output_type": "stream",
     "text": [
      "children 14149\n",
      "days_employed 0\n",
      "dob_years 101\n",
      "education 0\n",
      "education_id 5260\n",
      "family_status 0\n",
      "family_status_id 12380\n",
      "gender 0\n",
      "income_type 0\n",
      "debt 19784\n",
      "total_income 0\n",
      "purpose 0\n"
     ]
    }
   ],
   "source": [
    "for i in credit_scoring:\n",
    "    print(i, len(credit_scoring[credit_scoring[i]==0]))"
   ]
  },
  {
   "cell_type": "markdown",
   "metadata": {},
   "source": [
    "It's fine with `children`, `education_id`, `family_status_id` and `debt` to have `0`. But for customers ages in column `dob_years` it's not. But we can skip this column, we are not going to use it in our analysis."
   ]
  },
  {
   "cell_type": "markdown",
   "metadata": {},
   "source": [
    "### Processing missing values"
   ]
  },
  {
   "cell_type": "markdown",
   "metadata": {},
   "source": [
    "Let's see how many rows we have and how many missing values are in each column."
   ]
  },
  {
   "cell_type": "code",
   "execution_count": 50,
   "metadata": {},
   "outputs": [
    {
     "name": "stdout",
     "output_type": "stream",
     "text": [
      "Total rows 21525\n"
     ]
    },
    {
     "data": {
      "text/plain": [
       "children               0\n",
       "days_employed       2174\n",
       "dob_years              0\n",
       "education              0\n",
       "education_id           0\n",
       "family_status          0\n",
       "family_status_id       0\n",
       "gender                 0\n",
       "income_type            0\n",
       "debt                   0\n",
       "total_income        2174\n",
       "purpose                0\n",
       "dtype: int64"
      ]
     },
     "execution_count": 50,
     "metadata": {},
     "output_type": "execute_result"
    }
   ],
   "source": [
    "print('Total rows', len(credit_scoring))\n",
    "credit_scoring.isnull().sum()"
   ]
  },
  {
   "cell_type": "markdown",
   "metadata": {},
   "source": [
    "We can assume that people who didn't indicate their income in `total_income`, don't have income and these are the same people whose `days_employed` is null (they are unemployed). These are quantitative variables."
   ]
  },
  {
   "cell_type": "markdown",
   "metadata": {},
   "source": [
    "**We should check percentage of missing values in every column. For that count all the missing values in columns and divide amount of missing values by total number of rows and multiply by 100.**"
   ]
  },
  {
   "cell_type": "code",
   "execution_count": 51,
   "metadata": {},
   "outputs": [
    {
     "data": {
      "text/html": [
       "<div>\n",
       "<style scoped>\n",
       "    .dataframe tbody tr th:only-of-type {\n",
       "        vertical-align: middle;\n",
       "    }\n",
       "\n",
       "    .dataframe tbody tr th {\n",
       "        vertical-align: top;\n",
       "    }\n",
       "\n",
       "    .dataframe thead th {\n",
       "        text-align: right;\n",
       "    }\n",
       "</style>\n",
       "<table border=\"1\" class=\"dataframe\">\n",
       "  <thead>\n",
       "    <tr style=\"text-align: right;\">\n",
       "      <th></th>\n",
       "      <th>missing_values</th>\n",
       "      <th>% of total</th>\n",
       "    </tr>\n",
       "  </thead>\n",
       "  <tbody>\n",
       "    <tr>\n",
       "      <th>days_employed</th>\n",
       "      <td>2174</td>\n",
       "      <td>10.1</td>\n",
       "    </tr>\n",
       "    <tr>\n",
       "      <th>total_income</th>\n",
       "      <td>2174</td>\n",
       "      <td>10.1</td>\n",
       "    </tr>\n",
       "    <tr>\n",
       "      <th>children</th>\n",
       "      <td>0</td>\n",
       "      <td>0.0</td>\n",
       "    </tr>\n",
       "    <tr>\n",
       "      <th>dob_years</th>\n",
       "      <td>0</td>\n",
       "      <td>0.0</td>\n",
       "    </tr>\n",
       "    <tr>\n",
       "      <th>education</th>\n",
       "      <td>0</td>\n",
       "      <td>0.0</td>\n",
       "    </tr>\n",
       "    <tr>\n",
       "      <th>education_id</th>\n",
       "      <td>0</td>\n",
       "      <td>0.0</td>\n",
       "    </tr>\n",
       "    <tr>\n",
       "      <th>family_status</th>\n",
       "      <td>0</td>\n",
       "      <td>0.0</td>\n",
       "    </tr>\n",
       "    <tr>\n",
       "      <th>family_status_id</th>\n",
       "      <td>0</td>\n",
       "      <td>0.0</td>\n",
       "    </tr>\n",
       "    <tr>\n",
       "      <th>gender</th>\n",
       "      <td>0</td>\n",
       "      <td>0.0</td>\n",
       "    </tr>\n",
       "    <tr>\n",
       "      <th>income_type</th>\n",
       "      <td>0</td>\n",
       "      <td>0.0</td>\n",
       "    </tr>\n",
       "    <tr>\n",
       "      <th>debt</th>\n",
       "      <td>0</td>\n",
       "      <td>0.0</td>\n",
       "    </tr>\n",
       "    <tr>\n",
       "      <th>purpose</th>\n",
       "      <td>0</td>\n",
       "      <td>0.0</td>\n",
       "    </tr>\n",
       "  </tbody>\n",
       "</table>\n",
       "</div>"
      ],
      "text/plain": [
       "                  missing_values  % of total\n",
       "days_employed               2174        10.1\n",
       "total_income                2174        10.1\n",
       "children                       0         0.0\n",
       "dob_years                      0         0.0\n",
       "education                      0         0.0\n",
       "education_id                   0         0.0\n",
       "family_status                  0         0.0\n",
       "family_status_id               0         0.0\n",
       "gender                         0         0.0\n",
       "income_type                    0         0.0\n",
       "debt                           0         0.0\n",
       "purpose                        0         0.0"
      ]
     },
     "execution_count": 51,
     "metadata": {},
     "output_type": "execute_result"
    }
   ],
   "source": [
    "report = credit_scoring.isna().sum().to_frame() \n",
    "report = report.rename(columns = {0: 'missing_values'}) \n",
    "report['% of total'] = ((report['missing_values'] / credit_scoring.shape[0])*100).round(2)\n",
    "report.sort_values(by = 'missing_values', ascending = False)"
   ]
  },
  {
   "cell_type": "markdown",
   "metadata": {},
   "source": [
    "**It's 10% of missing values in each column. We can try and replace it by some median values. But if it was more than 10%, we couldn't do it.**"
   ]
  },
  {
   "cell_type": "markdown",
   "metadata": {},
   "source": [
    "Let's see if it's true. Use the `isnull()` method for finding missing values and the `unique()` method for seeing all unique values in a column."
   ]
  },
  {
   "cell_type": "code",
   "execution_count": 52,
   "metadata": {},
   "outputs": [
    {
     "data": {
      "text/plain": [
       "array([nan])"
      ]
     },
     "execution_count": 52,
     "metadata": {},
     "output_type": "execute_result"
    }
   ],
   "source": [
    "credit_scoring[credit_scoring['total_income'].isnull()]['days_employed'].unique()"
   ]
  },
  {
   "cell_type": "markdown",
   "metadata": {},
   "source": [
    "That's correct."
   ]
  },
  {
   "cell_type": "markdown",
   "metadata": {},
   "source": [
    "Let's look at these rows."
   ]
  },
  {
   "cell_type": "code",
   "execution_count": 53,
   "metadata": {},
   "outputs": [
    {
     "data": {
      "text/html": [
       "<div>\n",
       "<style scoped>\n",
       "    .dataframe tbody tr th:only-of-type {\n",
       "        vertical-align: middle;\n",
       "    }\n",
       "\n",
       "    .dataframe tbody tr th {\n",
       "        vertical-align: top;\n",
       "    }\n",
       "\n",
       "    .dataframe thead th {\n",
       "        text-align: right;\n",
       "    }\n",
       "</style>\n",
       "<table border=\"1\" class=\"dataframe\">\n",
       "  <thead>\n",
       "    <tr style=\"text-align: right;\">\n",
       "      <th></th>\n",
       "      <th>children</th>\n",
       "      <th>days_employed</th>\n",
       "      <th>dob_years</th>\n",
       "      <th>education</th>\n",
       "      <th>education_id</th>\n",
       "      <th>family_status</th>\n",
       "      <th>family_status_id</th>\n",
       "      <th>gender</th>\n",
       "      <th>income_type</th>\n",
       "      <th>debt</th>\n",
       "      <th>total_income</th>\n",
       "      <th>purpose</th>\n",
       "    </tr>\n",
       "  </thead>\n",
       "  <tbody>\n",
       "    <tr>\n",
       "      <th>12</th>\n",
       "      <td>0</td>\n",
       "      <td>NaN</td>\n",
       "      <td>65</td>\n",
       "      <td>secondary education</td>\n",
       "      <td>1</td>\n",
       "      <td>civil partnership</td>\n",
       "      <td>1</td>\n",
       "      <td>M</td>\n",
       "      <td>retiree</td>\n",
       "      <td>0</td>\n",
       "      <td>NaN</td>\n",
       "      <td>to have a wedding</td>\n",
       "    </tr>\n",
       "    <tr>\n",
       "      <th>26</th>\n",
       "      <td>0</td>\n",
       "      <td>NaN</td>\n",
       "      <td>41</td>\n",
       "      <td>secondary education</td>\n",
       "      <td>1</td>\n",
       "      <td>married</td>\n",
       "      <td>0</td>\n",
       "      <td>M</td>\n",
       "      <td>civil servant</td>\n",
       "      <td>0</td>\n",
       "      <td>NaN</td>\n",
       "      <td>education</td>\n",
       "    </tr>\n",
       "    <tr>\n",
       "      <th>29</th>\n",
       "      <td>0</td>\n",
       "      <td>NaN</td>\n",
       "      <td>63</td>\n",
       "      <td>secondary education</td>\n",
       "      <td>1</td>\n",
       "      <td>unmarried</td>\n",
       "      <td>4</td>\n",
       "      <td>F</td>\n",
       "      <td>retiree</td>\n",
       "      <td>0</td>\n",
       "      <td>NaN</td>\n",
       "      <td>building a real estate</td>\n",
       "    </tr>\n",
       "    <tr>\n",
       "      <th>41</th>\n",
       "      <td>0</td>\n",
       "      <td>NaN</td>\n",
       "      <td>50</td>\n",
       "      <td>secondary education</td>\n",
       "      <td>1</td>\n",
       "      <td>married</td>\n",
       "      <td>0</td>\n",
       "      <td>F</td>\n",
       "      <td>civil servant</td>\n",
       "      <td>0</td>\n",
       "      <td>NaN</td>\n",
       "      <td>second-hand car purchase</td>\n",
       "    </tr>\n",
       "    <tr>\n",
       "      <th>55</th>\n",
       "      <td>0</td>\n",
       "      <td>NaN</td>\n",
       "      <td>54</td>\n",
       "      <td>secondary education</td>\n",
       "      <td>1</td>\n",
       "      <td>civil partnership</td>\n",
       "      <td>1</td>\n",
       "      <td>F</td>\n",
       "      <td>retiree</td>\n",
       "      <td>1</td>\n",
       "      <td>NaN</td>\n",
       "      <td>to have a wedding</td>\n",
       "    </tr>\n",
       "  </tbody>\n",
       "</table>\n",
       "</div>"
      ],
      "text/plain": [
       "    children  days_employed  dob_years            education  education_id  \\\n",
       "12         0            NaN         65  secondary education             1   \n",
       "26         0            NaN         41  secondary education             1   \n",
       "29         0            NaN         63  secondary education             1   \n",
       "41         0            NaN         50  secondary education             1   \n",
       "55         0            NaN         54  secondary education             1   \n",
       "\n",
       "        family_status  family_status_id gender    income_type  debt  \\\n",
       "12  civil partnership                 1      M        retiree     0   \n",
       "26            married                 0      M  civil servant     0   \n",
       "29          unmarried                 4      F        retiree     0   \n",
       "41            married                 0      F  civil servant     0   \n",
       "55  civil partnership                 1      F        retiree     1   \n",
       "\n",
       "    total_income                   purpose  \n",
       "12           NaN         to have a wedding  \n",
       "26           NaN                 education  \n",
       "29           NaN    building a real estate  \n",
       "41           NaN  second-hand car purchase  \n",
       "55           NaN         to have a wedding  "
      ]
     },
     "execution_count": 53,
     "metadata": {},
     "output_type": "execute_result"
    }
   ],
   "source": [
    "credit_scoring[credit_scoring['days_employed'].isnull()].head(5)"
   ]
  },
  {
   "cell_type": "markdown",
   "metadata": {},
   "source": [
    "It's strange, but people with no information in `days_employed` and `total_income` still have `income_type` mentioned."
   ]
  },
  {
   "cell_type": "markdown",
   "metadata": {},
   "source": [
    "Let's see which different income types is in our dataset."
   ]
  },
  {
   "cell_type": "code",
   "execution_count": 54,
   "metadata": {},
   "outputs": [
    {
     "data": {
      "text/plain": [
       "array(['employee', 'retiree', 'business', 'civil servant', 'unemployed',\n",
       "       'entrepreneur', 'student', 'paternity / maternity leave'],\n",
       "      dtype=object)"
      ]
     },
     "execution_count": 54,
     "metadata": {},
     "output_type": "execute_result"
    }
   ],
   "source": [
    "credit_scoring['income_type'].unique()"
   ]
  },
  {
   "cell_type": "markdown",
   "metadata": {},
   "source": [
    "Let's take a look at unemployed customers."
   ]
  },
  {
   "cell_type": "code",
   "execution_count": 55,
   "metadata": {},
   "outputs": [
    {
     "data": {
      "text/html": [
       "<div>\n",
       "<style scoped>\n",
       "    .dataframe tbody tr th:only-of-type {\n",
       "        vertical-align: middle;\n",
       "    }\n",
       "\n",
       "    .dataframe tbody tr th {\n",
       "        vertical-align: top;\n",
       "    }\n",
       "\n",
       "    .dataframe thead th {\n",
       "        text-align: right;\n",
       "    }\n",
       "</style>\n",
       "<table border=\"1\" class=\"dataframe\">\n",
       "  <thead>\n",
       "    <tr style=\"text-align: right;\">\n",
       "      <th></th>\n",
       "      <th>children</th>\n",
       "      <th>days_employed</th>\n",
       "      <th>dob_years</th>\n",
       "      <th>education</th>\n",
       "      <th>education_id</th>\n",
       "      <th>family_status</th>\n",
       "      <th>family_status_id</th>\n",
       "      <th>gender</th>\n",
       "      <th>income_type</th>\n",
       "      <th>debt</th>\n",
       "      <th>total_income</th>\n",
       "      <th>purpose</th>\n",
       "    </tr>\n",
       "  </thead>\n",
       "  <tbody>\n",
       "    <tr>\n",
       "      <th>3133</th>\n",
       "      <td>1</td>\n",
       "      <td>337524.466835</td>\n",
       "      <td>31</td>\n",
       "      <td>secondary education</td>\n",
       "      <td>1</td>\n",
       "      <td>married</td>\n",
       "      <td>0</td>\n",
       "      <td>M</td>\n",
       "      <td>unemployed</td>\n",
       "      <td>1</td>\n",
       "      <td>9593.119</td>\n",
       "      <td>buying property for renting out</td>\n",
       "    </tr>\n",
       "    <tr>\n",
       "      <th>14798</th>\n",
       "      <td>0</td>\n",
       "      <td>395302.838654</td>\n",
       "      <td>45</td>\n",
       "      <td>bachelor's degree</td>\n",
       "      <td>0</td>\n",
       "      <td>civil partnership</td>\n",
       "      <td>1</td>\n",
       "      <td>F</td>\n",
       "      <td>unemployed</td>\n",
       "      <td>0</td>\n",
       "      <td>32435.602</td>\n",
       "      <td>housing renovation</td>\n",
       "    </tr>\n",
       "  </tbody>\n",
       "</table>\n",
       "</div>"
      ],
      "text/plain": [
       "       children  days_employed  dob_years            education  education_id  \\\n",
       "3133          1  337524.466835         31  secondary education             1   \n",
       "14798         0  395302.838654         45    bachelor's degree             0   \n",
       "\n",
       "           family_status  family_status_id gender income_type  debt  \\\n",
       "3133             married                 0      M  unemployed     1   \n",
       "14798  civil partnership                 1      F  unemployed     0   \n",
       "\n",
       "       total_income                          purpose  \n",
       "3133       9593.119  buying property for renting out  \n",
       "14798     32435.602               housing renovation  "
      ]
     },
     "execution_count": 55,
     "metadata": {},
     "output_type": "execute_result"
    }
   ],
   "source": [
    "credit_scoring.loc[credit_scoring['income_type'] == 'unemployed']"
   ]
  },
  {
   "cell_type": "markdown",
   "metadata": {},
   "source": [
    "They are unemloyed, but have income (maybe passive income or some allowance)."
   ]
  },
  {
   "cell_type": "markdown",
   "metadata": {},
   "source": [
    "#### Conclusion\n",
    "We don't know for sure how the data was collected and what `unemployed` really means. Some people that are technically unemployed can still have income. We can skip values of `days_employed` column, because we are not going to use it. We should notify data engineers about problem in this column in order to find the root of it. We won't drop this column, because we still need to look for duplicates rows and it can change the result."
   ]
  },
  {
   "cell_type": "markdown",
   "metadata": {},
   "source": [
    "### Filling in missing values\n",
    "Let's try to fill the `total_income` column by averages for some categories. Now, in order to fill in missing values in `total_income` column, lets find median total income value grouping by `income_type` column. Use the `median()` and the `groupby()` methods."
   ]
  },
  {
   "cell_type": "code",
   "execution_count": 56,
   "metadata": {},
   "outputs": [
    {
     "data": {
      "text/plain": [
       "income_type\n",
       "business                       27577.2720\n",
       "civil servant                  24071.6695\n",
       "employee                       22815.1035\n",
       "entrepreneur                   79866.1030\n",
       "paternity / maternity leave     8612.6610\n",
       "retiree                        18962.3180\n",
       "student                        15712.2600\n",
       "unemployed                     21014.3605\n",
       "Name: total_income, dtype: float64"
      ]
     },
     "execution_count": 56,
     "metadata": {},
     "output_type": "execute_result"
    }
   ],
   "source": [
    "grouped1 = credit_scoring.groupby(['income_type'])['total_income'].median()\n",
    "grouped1"
   ]
  },
  {
   "cell_type": "markdown",
   "metadata": {},
   "source": [
    "Here we see median income for each `income_type`. Now we need to fill in all missing values in `total_income `according to values for `income_type` above. Use the `fillna()` method and `transform()`."
   ]
  },
  {
   "cell_type": "code",
   "execution_count": 57,
   "metadata": {},
   "outputs": [],
   "source": [
    "credit_scoring['clean_income1'] = credit_scoring['total_income'].fillna(credit_scoring.groupby([\n",
    "    'income_type'])['total_income'].transform('median'))"
   ]
  },
  {
   "cell_type": "code",
   "execution_count": 58,
   "metadata": {},
   "outputs": [
    {
     "data": {
      "text/html": [
       "<div>\n",
       "<style scoped>\n",
       "    .dataframe tbody tr th:only-of-type {\n",
       "        vertical-align: middle;\n",
       "    }\n",
       "\n",
       "    .dataframe tbody tr th {\n",
       "        vertical-align: top;\n",
       "    }\n",
       "\n",
       "    .dataframe thead th {\n",
       "        text-align: right;\n",
       "    }\n",
       "</style>\n",
       "<table border=\"1\" class=\"dataframe\">\n",
       "  <thead>\n",
       "    <tr style=\"text-align: right;\">\n",
       "      <th></th>\n",
       "      <th>children</th>\n",
       "      <th>days_employed</th>\n",
       "      <th>dob_years</th>\n",
       "      <th>education</th>\n",
       "      <th>education_id</th>\n",
       "      <th>family_status</th>\n",
       "      <th>family_status_id</th>\n",
       "      <th>gender</th>\n",
       "      <th>income_type</th>\n",
       "      <th>debt</th>\n",
       "      <th>total_income</th>\n",
       "      <th>purpose</th>\n",
       "      <th>clean_income1</th>\n",
       "    </tr>\n",
       "  </thead>\n",
       "  <tbody>\n",
       "    <tr>\n",
       "      <th>12</th>\n",
       "      <td>0</td>\n",
       "      <td>NaN</td>\n",
       "      <td>65</td>\n",
       "      <td>secondary education</td>\n",
       "      <td>1</td>\n",
       "      <td>civil partnership</td>\n",
       "      <td>1</td>\n",
       "      <td>M</td>\n",
       "      <td>retiree</td>\n",
       "      <td>0</td>\n",
       "      <td>NaN</td>\n",
       "      <td>to have a wedding</td>\n",
       "      <td>18962.3180</td>\n",
       "    </tr>\n",
       "    <tr>\n",
       "      <th>26</th>\n",
       "      <td>0</td>\n",
       "      <td>NaN</td>\n",
       "      <td>41</td>\n",
       "      <td>secondary education</td>\n",
       "      <td>1</td>\n",
       "      <td>married</td>\n",
       "      <td>0</td>\n",
       "      <td>M</td>\n",
       "      <td>civil servant</td>\n",
       "      <td>0</td>\n",
       "      <td>NaN</td>\n",
       "      <td>education</td>\n",
       "      <td>24071.6695</td>\n",
       "    </tr>\n",
       "    <tr>\n",
       "      <th>29</th>\n",
       "      <td>0</td>\n",
       "      <td>NaN</td>\n",
       "      <td>63</td>\n",
       "      <td>secondary education</td>\n",
       "      <td>1</td>\n",
       "      <td>unmarried</td>\n",
       "      <td>4</td>\n",
       "      <td>F</td>\n",
       "      <td>retiree</td>\n",
       "      <td>0</td>\n",
       "      <td>NaN</td>\n",
       "      <td>building a real estate</td>\n",
       "      <td>18962.3180</td>\n",
       "    </tr>\n",
       "    <tr>\n",
       "      <th>41</th>\n",
       "      <td>0</td>\n",
       "      <td>NaN</td>\n",
       "      <td>50</td>\n",
       "      <td>secondary education</td>\n",
       "      <td>1</td>\n",
       "      <td>married</td>\n",
       "      <td>0</td>\n",
       "      <td>F</td>\n",
       "      <td>civil servant</td>\n",
       "      <td>0</td>\n",
       "      <td>NaN</td>\n",
       "      <td>second-hand car purchase</td>\n",
       "      <td>24071.6695</td>\n",
       "    </tr>\n",
       "    <tr>\n",
       "      <th>55</th>\n",
       "      <td>0</td>\n",
       "      <td>NaN</td>\n",
       "      <td>54</td>\n",
       "      <td>secondary education</td>\n",
       "      <td>1</td>\n",
       "      <td>civil partnership</td>\n",
       "      <td>1</td>\n",
       "      <td>F</td>\n",
       "      <td>retiree</td>\n",
       "      <td>1</td>\n",
       "      <td>NaN</td>\n",
       "      <td>to have a wedding</td>\n",
       "      <td>18962.3180</td>\n",
       "    </tr>\n",
       "  </tbody>\n",
       "</table>\n",
       "</div>"
      ],
      "text/plain": [
       "    children  days_employed  dob_years            education  education_id  \\\n",
       "12         0            NaN         65  secondary education             1   \n",
       "26         0            NaN         41  secondary education             1   \n",
       "29         0            NaN         63  secondary education             1   \n",
       "41         0            NaN         50  secondary education             1   \n",
       "55         0            NaN         54  secondary education             1   \n",
       "\n",
       "        family_status  family_status_id gender    income_type  debt  \\\n",
       "12  civil partnership                 1      M        retiree     0   \n",
       "26            married                 0      M  civil servant     0   \n",
       "29          unmarried                 4      F        retiree     0   \n",
       "41            married                 0      F  civil servant     0   \n",
       "55  civil partnership                 1      F        retiree     1   \n",
       "\n",
       "    total_income                   purpose  clean_income1  \n",
       "12           NaN         to have a wedding     18962.3180  \n",
       "26           NaN                 education     24071.6695  \n",
       "29           NaN    building a real estate     18962.3180  \n",
       "41           NaN  second-hand car purchase     24071.6695  \n",
       "55           NaN         to have a wedding     18962.3180  "
      ]
     },
     "execution_count": 58,
     "metadata": {},
     "output_type": "execute_result"
    }
   ],
   "source": [
    "credit_scoring[credit_scoring.total_income.isnull()].head()"
   ]
  },
  {
   "cell_type": "markdown",
   "metadata": {},
   "source": [
    "Now, let's do the same order finding out median values grouping by a. `income_type` and `education_id`. b. `income_type`, `education_id` and `gender`, because men's and women's salary could be different for the same education and income type. We should check it. "
   ]
  },
  {
   "cell_type": "code",
   "execution_count": 59,
   "metadata": {},
   "outputs": [
    {
     "data": {
      "text/plain": [
       "income_type                  education_id\n",
       "business                     0               32285.6640\n",
       "                             1               25451.3100\n",
       "                             2               28778.7440\n",
       "                             3               21887.8250\n",
       "civil servant                0               27601.7775\n",
       "                             1               21864.4750\n",
       "                             2               25694.7750\n",
       "                             3               23734.2870\n",
       "                             4               17822.7570\n",
       "employee                     0               26502.5190\n",
       "                             1               21848.8175\n",
       "                             2               24209.4300\n",
       "                             3               20159.1860\n",
       "                             4               31771.3210\n",
       "entrepreneur                 0               79866.1030\n",
       "paternity / maternity leave  1                8612.6610\n",
       "retiree                      0               23078.5230\n",
       "                             1               18374.8570\n",
       "                             2               19221.9030\n",
       "                             3               16415.7850\n",
       "                             4               28334.2150\n",
       "student                      0               15712.2600\n",
       "unemployed                   0               32435.6020\n",
       "                             1                9593.1190\n",
       "Name: total_income, dtype: float64"
      ]
     },
     "execution_count": 59,
     "metadata": {},
     "output_type": "execute_result"
    }
   ],
   "source": [
    "grouped2 = credit_scoring.groupby(['income_type', 'education_id'])['total_income'].median()\n",
    "grouped2"
   ]
  },
  {
   "cell_type": "markdown",
   "metadata": {},
   "source": [
    "How we can see above civil servants with graduate degree have the smallest salary in their category, but employees with graduate degree have the biggest one in employee category and also graduate degree wins in retiree category."
   ]
  },
  {
   "cell_type": "code",
   "execution_count": 60,
   "metadata": {},
   "outputs": [],
   "source": [
    "credit_scoring['clean_income2'] = credit_scoring['total_income'].fillna(credit_scoring.groupby([\n",
    "    'income_type', 'education_id'])['total_income'].transform('median'))"
   ]
  },
  {
   "cell_type": "markdown",
   "metadata": {},
   "source": [
    "Check the result."
   ]
  },
  {
   "cell_type": "code",
   "execution_count": 62,
   "metadata": {},
   "outputs": [
    {
     "data": {
      "text/html": [
       "<div>\n",
       "<style scoped>\n",
       "    .dataframe tbody tr th:only-of-type {\n",
       "        vertical-align: middle;\n",
       "    }\n",
       "\n",
       "    .dataframe tbody tr th {\n",
       "        vertical-align: top;\n",
       "    }\n",
       "\n",
       "    .dataframe thead th {\n",
       "        text-align: right;\n",
       "    }\n",
       "</style>\n",
       "<table border=\"1\" class=\"dataframe\">\n",
       "  <thead>\n",
       "    <tr style=\"text-align: right;\">\n",
       "      <th></th>\n",
       "      <th>children</th>\n",
       "      <th>days_employed</th>\n",
       "      <th>dob_years</th>\n",
       "      <th>education</th>\n",
       "      <th>education_id</th>\n",
       "      <th>family_status</th>\n",
       "      <th>family_status_id</th>\n",
       "      <th>gender</th>\n",
       "      <th>income_type</th>\n",
       "      <th>debt</th>\n",
       "      <th>total_income</th>\n",
       "      <th>purpose</th>\n",
       "      <th>clean_income1</th>\n",
       "      <th>clean_income2</th>\n",
       "    </tr>\n",
       "  </thead>\n",
       "  <tbody>\n",
       "    <tr>\n",
       "      <th>12</th>\n",
       "      <td>0</td>\n",
       "      <td>NaN</td>\n",
       "      <td>65</td>\n",
       "      <td>secondary education</td>\n",
       "      <td>1</td>\n",
       "      <td>civil partnership</td>\n",
       "      <td>1</td>\n",
       "      <td>M</td>\n",
       "      <td>retiree</td>\n",
       "      <td>0</td>\n",
       "      <td>NaN</td>\n",
       "      <td>to have a wedding</td>\n",
       "      <td>18962.3180</td>\n",
       "      <td>18374.857</td>\n",
       "    </tr>\n",
       "    <tr>\n",
       "      <th>26</th>\n",
       "      <td>0</td>\n",
       "      <td>NaN</td>\n",
       "      <td>41</td>\n",
       "      <td>secondary education</td>\n",
       "      <td>1</td>\n",
       "      <td>married</td>\n",
       "      <td>0</td>\n",
       "      <td>M</td>\n",
       "      <td>civil servant</td>\n",
       "      <td>0</td>\n",
       "      <td>NaN</td>\n",
       "      <td>education</td>\n",
       "      <td>24071.6695</td>\n",
       "      <td>21864.475</td>\n",
       "    </tr>\n",
       "    <tr>\n",
       "      <th>29</th>\n",
       "      <td>0</td>\n",
       "      <td>NaN</td>\n",
       "      <td>63</td>\n",
       "      <td>secondary education</td>\n",
       "      <td>1</td>\n",
       "      <td>unmarried</td>\n",
       "      <td>4</td>\n",
       "      <td>F</td>\n",
       "      <td>retiree</td>\n",
       "      <td>0</td>\n",
       "      <td>NaN</td>\n",
       "      <td>building a real estate</td>\n",
       "      <td>18962.3180</td>\n",
       "      <td>18374.857</td>\n",
       "    </tr>\n",
       "    <tr>\n",
       "      <th>41</th>\n",
       "      <td>0</td>\n",
       "      <td>NaN</td>\n",
       "      <td>50</td>\n",
       "      <td>secondary education</td>\n",
       "      <td>1</td>\n",
       "      <td>married</td>\n",
       "      <td>0</td>\n",
       "      <td>F</td>\n",
       "      <td>civil servant</td>\n",
       "      <td>0</td>\n",
       "      <td>NaN</td>\n",
       "      <td>second-hand car purchase</td>\n",
       "      <td>24071.6695</td>\n",
       "      <td>21864.475</td>\n",
       "    </tr>\n",
       "    <tr>\n",
       "      <th>55</th>\n",
       "      <td>0</td>\n",
       "      <td>NaN</td>\n",
       "      <td>54</td>\n",
       "      <td>secondary education</td>\n",
       "      <td>1</td>\n",
       "      <td>civil partnership</td>\n",
       "      <td>1</td>\n",
       "      <td>F</td>\n",
       "      <td>retiree</td>\n",
       "      <td>1</td>\n",
       "      <td>NaN</td>\n",
       "      <td>to have a wedding</td>\n",
       "      <td>18962.3180</td>\n",
       "      <td>18374.857</td>\n",
       "    </tr>\n",
       "  </tbody>\n",
       "</table>\n",
       "</div>"
      ],
      "text/plain": [
       "    children  days_employed  dob_years            education  education_id  \\\n",
       "12         0            NaN         65  secondary education             1   \n",
       "26         0            NaN         41  secondary education             1   \n",
       "29         0            NaN         63  secondary education             1   \n",
       "41         0            NaN         50  secondary education             1   \n",
       "55         0            NaN         54  secondary education             1   \n",
       "\n",
       "        family_status  family_status_id gender    income_type  debt  \\\n",
       "12  civil partnership                 1      M        retiree     0   \n",
       "26            married                 0      M  civil servant     0   \n",
       "29          unmarried                 4      F        retiree     0   \n",
       "41            married                 0      F  civil servant     0   \n",
       "55  civil partnership                 1      F        retiree     1   \n",
       "\n",
       "    total_income                   purpose  clean_income1  clean_income2  \n",
       "12           NaN         to have a wedding     18962.3180      18374.857  \n",
       "26           NaN                 education     24071.6695      21864.475  \n",
       "29           NaN    building a real estate     18962.3180      18374.857  \n",
       "41           NaN  second-hand car purchase     24071.6695      21864.475  \n",
       "55           NaN         to have a wedding     18962.3180      18374.857  "
      ]
     },
     "execution_count": 62,
     "metadata": {},
     "output_type": "execute_result"
    }
   ],
   "source": [
    "credit_scoring[credit_scoring.total_income.isnull()].head()"
   ]
  },
  {
   "cell_type": "markdown",
   "metadata": {},
   "source": [
    "Group by `income_type`, `education_id` and `gender`."
   ]
  },
  {
   "cell_type": "code",
   "execution_count": 63,
   "metadata": {},
   "outputs": [
    {
     "data": {
      "text/plain": [
       "income_type                  gender  education_id\n",
       "business                     F       0               30382.9540\n",
       "                                     1               23181.0850\n",
       "                                     2               27275.4595\n",
       "                                     3               21441.9210\n",
       "                             M       0               37290.3815\n",
       "                                     1               29102.2430\n",
       "                                     2               30606.7090\n",
       "                                     3               24016.1540\n",
       "                             XNA     2               32624.8250\n",
       "civil servant                F       0               25254.6300\n",
       "                                     1               20133.0890\n",
       "                                     2               21855.8610\n",
       "                                     3               14339.0340\n",
       "                                     4               17822.7570\n",
       "                             M       0               34353.0630\n",
       "                                     1               27144.3130\n",
       "                                     2               28371.3005\n",
       "                                     3               30554.6660\n",
       "employee                     F       0               24590.6965\n",
       "                                     1               19860.3340\n",
       "                                     2               21588.0300\n",
       "                                     3               18962.6750\n",
       "                             M       0               30759.5680\n",
       "                                     1               25005.8240\n",
       "                                     2               30252.1470\n",
       "                                     3               22662.0740\n",
       "                                     4               31771.3210\n",
       "entrepreneur                 F       0               79866.1030\n",
       "                             M       0                      NaN\n",
       "paternity / maternity leave  F       1                8612.6610\n",
       "retiree                      F       0               22784.6850\n",
       "                                     1               18046.5560\n",
       "                                     2               18654.8760\n",
       "                                     3               16188.8905\n",
       "                                     4               40868.0310\n",
       "                             M       0               25193.1730\n",
       "                                     1               20175.5510\n",
       "                                     2               19946.7950\n",
       "                                     3               18099.8720\n",
       "                                     4               15800.3990\n",
       "student                      M       0               15712.2600\n",
       "unemployed                   F       0               32435.6020\n",
       "                             M       1                9593.1190\n",
       "Name: total_income, dtype: float64"
      ]
     },
     "execution_count": 63,
     "metadata": {},
     "output_type": "execute_result"
    }
   ],
   "source": [
    "grouped3 = credit_scoring.groupby(['income_type', 'gender', 'education_id'])['total_income'].median()\n",
    "grouped3"
   ]
  },
  {
   "cell_type": "markdown",
   "metadata": {},
   "source": [
    "Here we see that men with the same education and income type get much bigger salary than women. Only in category retiree-graduate degree women have bigger salary (40868) than men (15800) and entrepreneur women have (79866) and there isn't men here. But it's only outliers because of small sample of values in this group."
   ]
  },
  {
   "cell_type": "markdown",
   "metadata": {},
   "source": [
    "Check this for entrepreneurs."
   ]
  },
  {
   "cell_type": "code",
   "execution_count": 64,
   "metadata": {},
   "outputs": [
    {
     "data": {
      "text/html": [
       "<div>\n",
       "<style scoped>\n",
       "    .dataframe tbody tr th:only-of-type {\n",
       "        vertical-align: middle;\n",
       "    }\n",
       "\n",
       "    .dataframe tbody tr th {\n",
       "        vertical-align: top;\n",
       "    }\n",
       "\n",
       "    .dataframe thead th {\n",
       "        text-align: right;\n",
       "    }\n",
       "</style>\n",
       "<table border=\"1\" class=\"dataframe\">\n",
       "  <thead>\n",
       "    <tr style=\"text-align: right;\">\n",
       "      <th></th>\n",
       "      <th>children</th>\n",
       "      <th>days_employed</th>\n",
       "      <th>dob_years</th>\n",
       "      <th>education</th>\n",
       "      <th>education_id</th>\n",
       "      <th>family_status</th>\n",
       "      <th>family_status_id</th>\n",
       "      <th>gender</th>\n",
       "      <th>income_type</th>\n",
       "      <th>debt</th>\n",
       "      <th>total_income</th>\n",
       "      <th>purpose</th>\n",
       "      <th>clean_income1</th>\n",
       "      <th>clean_income2</th>\n",
       "    </tr>\n",
       "  </thead>\n",
       "  <tbody>\n",
       "    <tr>\n",
       "      <th>5936</th>\n",
       "      <td>0</td>\n",
       "      <td>NaN</td>\n",
       "      <td>58</td>\n",
       "      <td>bachelor's degree</td>\n",
       "      <td>0</td>\n",
       "      <td>married</td>\n",
       "      <td>0</td>\n",
       "      <td>M</td>\n",
       "      <td>entrepreneur</td>\n",
       "      <td>0</td>\n",
       "      <td>NaN</td>\n",
       "      <td>buy residential real estate</td>\n",
       "      <td>79866.103</td>\n",
       "      <td>79866.103</td>\n",
       "    </tr>\n",
       "    <tr>\n",
       "      <th>18697</th>\n",
       "      <td>0</td>\n",
       "      <td>-520.848083</td>\n",
       "      <td>27</td>\n",
       "      <td>bachelor's degree</td>\n",
       "      <td>0</td>\n",
       "      <td>civil partnership</td>\n",
       "      <td>1</td>\n",
       "      <td>F</td>\n",
       "      <td>entrepreneur</td>\n",
       "      <td>0</td>\n",
       "      <td>79866.103</td>\n",
       "      <td>having a wedding</td>\n",
       "      <td>79866.103</td>\n",
       "      <td>79866.103</td>\n",
       "    </tr>\n",
       "  </tbody>\n",
       "</table>\n",
       "</div>"
      ],
      "text/plain": [
       "       children  days_employed  dob_years          education  education_id  \\\n",
       "5936          0            NaN         58  bachelor's degree             0   \n",
       "18697         0    -520.848083         27  bachelor's degree             0   \n",
       "\n",
       "           family_status  family_status_id gender   income_type  debt  \\\n",
       "5936             married                 0      M  entrepreneur     0   \n",
       "18697  civil partnership                 1      F  entrepreneur     0   \n",
       "\n",
       "       total_income                      purpose  clean_income1  clean_income2  \n",
       "5936            NaN  buy residential real estate      79866.103      79866.103  \n",
       "18697     79866.103             having a wedding      79866.103      79866.103  "
      ]
     },
     "execution_count": 64,
     "metadata": {},
     "output_type": "execute_result"
    }
   ],
   "source": [
    "credit_scoring[credit_scoring['income_type'] == 'entrepreneur']"
   ]
  },
  {
   "cell_type": "markdown",
   "metadata": {},
   "source": [
    "Yes, it's only two loaners with income type as entrepreneur. So we can't compare it."
   ]
  },
  {
   "cell_type": "code",
   "execution_count": 65,
   "metadata": {},
   "outputs": [],
   "source": [
    "credit_scoring['clean_income3'] = credit_scoring['total_income'].fillna(credit_scoring.groupby([\n",
    "    'income_type', 'gender', 'education_id'])['total_income'].transform('median'))"
   ]
  },
  {
   "cell_type": "markdown",
   "metadata": {},
   "source": [
    "Check the result."
   ]
  },
  {
   "cell_type": "code",
   "execution_count": 66,
   "metadata": {},
   "outputs": [
    {
     "data": {
      "text/html": [
       "<div>\n",
       "<style scoped>\n",
       "    .dataframe tbody tr th:only-of-type {\n",
       "        vertical-align: middle;\n",
       "    }\n",
       "\n",
       "    .dataframe tbody tr th {\n",
       "        vertical-align: top;\n",
       "    }\n",
       "\n",
       "    .dataframe thead th {\n",
       "        text-align: right;\n",
       "    }\n",
       "</style>\n",
       "<table border=\"1\" class=\"dataframe\">\n",
       "  <thead>\n",
       "    <tr style=\"text-align: right;\">\n",
       "      <th></th>\n",
       "      <th>children</th>\n",
       "      <th>days_employed</th>\n",
       "      <th>dob_years</th>\n",
       "      <th>education</th>\n",
       "      <th>education_id</th>\n",
       "      <th>family_status</th>\n",
       "      <th>family_status_id</th>\n",
       "      <th>gender</th>\n",
       "      <th>income_type</th>\n",
       "      <th>debt</th>\n",
       "      <th>total_income</th>\n",
       "      <th>purpose</th>\n",
       "      <th>clean_income1</th>\n",
       "      <th>clean_income2</th>\n",
       "      <th>clean_income3</th>\n",
       "    </tr>\n",
       "  </thead>\n",
       "  <tbody>\n",
       "    <tr>\n",
       "      <th>12</th>\n",
       "      <td>0</td>\n",
       "      <td>NaN</td>\n",
       "      <td>65</td>\n",
       "      <td>secondary education</td>\n",
       "      <td>1</td>\n",
       "      <td>civil partnership</td>\n",
       "      <td>1</td>\n",
       "      <td>M</td>\n",
       "      <td>retiree</td>\n",
       "      <td>0</td>\n",
       "      <td>NaN</td>\n",
       "      <td>to have a wedding</td>\n",
       "      <td>18962.3180</td>\n",
       "      <td>18374.857</td>\n",
       "      <td>20175.551</td>\n",
       "    </tr>\n",
       "    <tr>\n",
       "      <th>26</th>\n",
       "      <td>0</td>\n",
       "      <td>NaN</td>\n",
       "      <td>41</td>\n",
       "      <td>secondary education</td>\n",
       "      <td>1</td>\n",
       "      <td>married</td>\n",
       "      <td>0</td>\n",
       "      <td>M</td>\n",
       "      <td>civil servant</td>\n",
       "      <td>0</td>\n",
       "      <td>NaN</td>\n",
       "      <td>education</td>\n",
       "      <td>24071.6695</td>\n",
       "      <td>21864.475</td>\n",
       "      <td>27144.313</td>\n",
       "    </tr>\n",
       "    <tr>\n",
       "      <th>29</th>\n",
       "      <td>0</td>\n",
       "      <td>NaN</td>\n",
       "      <td>63</td>\n",
       "      <td>secondary education</td>\n",
       "      <td>1</td>\n",
       "      <td>unmarried</td>\n",
       "      <td>4</td>\n",
       "      <td>F</td>\n",
       "      <td>retiree</td>\n",
       "      <td>0</td>\n",
       "      <td>NaN</td>\n",
       "      <td>building a real estate</td>\n",
       "      <td>18962.3180</td>\n",
       "      <td>18374.857</td>\n",
       "      <td>18046.556</td>\n",
       "    </tr>\n",
       "    <tr>\n",
       "      <th>41</th>\n",
       "      <td>0</td>\n",
       "      <td>NaN</td>\n",
       "      <td>50</td>\n",
       "      <td>secondary education</td>\n",
       "      <td>1</td>\n",
       "      <td>married</td>\n",
       "      <td>0</td>\n",
       "      <td>F</td>\n",
       "      <td>civil servant</td>\n",
       "      <td>0</td>\n",
       "      <td>NaN</td>\n",
       "      <td>second-hand car purchase</td>\n",
       "      <td>24071.6695</td>\n",
       "      <td>21864.475</td>\n",
       "      <td>20133.089</td>\n",
       "    </tr>\n",
       "    <tr>\n",
       "      <th>55</th>\n",
       "      <td>0</td>\n",
       "      <td>NaN</td>\n",
       "      <td>54</td>\n",
       "      <td>secondary education</td>\n",
       "      <td>1</td>\n",
       "      <td>civil partnership</td>\n",
       "      <td>1</td>\n",
       "      <td>F</td>\n",
       "      <td>retiree</td>\n",
       "      <td>1</td>\n",
       "      <td>NaN</td>\n",
       "      <td>to have a wedding</td>\n",
       "      <td>18962.3180</td>\n",
       "      <td>18374.857</td>\n",
       "      <td>18046.556</td>\n",
       "    </tr>\n",
       "  </tbody>\n",
       "</table>\n",
       "</div>"
      ],
      "text/plain": [
       "    children  days_employed  dob_years            education  education_id  \\\n",
       "12         0            NaN         65  secondary education             1   \n",
       "26         0            NaN         41  secondary education             1   \n",
       "29         0            NaN         63  secondary education             1   \n",
       "41         0            NaN         50  secondary education             1   \n",
       "55         0            NaN         54  secondary education             1   \n",
       "\n",
       "        family_status  family_status_id gender    income_type  debt  \\\n",
       "12  civil partnership                 1      M        retiree     0   \n",
       "26            married                 0      M  civil servant     0   \n",
       "29          unmarried                 4      F        retiree     0   \n",
       "41            married                 0      F  civil servant     0   \n",
       "55  civil partnership                 1      F        retiree     1   \n",
       "\n",
       "    total_income                   purpose  clean_income1  clean_income2  \\\n",
       "12           NaN         to have a wedding     18962.3180      18374.857   \n",
       "26           NaN                 education     24071.6695      21864.475   \n",
       "29           NaN    building a real estate     18962.3180      18374.857   \n",
       "41           NaN  second-hand car purchase     24071.6695      21864.475   \n",
       "55           NaN         to have a wedding     18962.3180      18374.857   \n",
       "\n",
       "    clean_income3  \n",
       "12      20175.551  \n",
       "26      27144.313  \n",
       "29      18046.556  \n",
       "41      20133.089  \n",
       "55      18046.556  "
      ]
     },
     "execution_count": 66,
     "metadata": {},
     "output_type": "execute_result"
    }
   ],
   "source": [
    "credit_scoring[credit_scoring.total_income.isnull()].head()"
   ]
  },
  {
   "cell_type": "markdown",
   "metadata": {},
   "source": [
    "Let's check now median values for each `clean_income1`, `clean_income2`, `clean_income3`, and if we got all our missing values filled."
   ]
  },
  {
   "cell_type": "code",
   "execution_count": 67,
   "metadata": {},
   "outputs": [
    {
     "data": {
      "text/html": [
       "<div>\n",
       "<style scoped>\n",
       "    .dataframe tbody tr th:only-of-type {\n",
       "        vertical-align: middle;\n",
       "    }\n",
       "\n",
       "    .dataframe tbody tr th {\n",
       "        vertical-align: top;\n",
       "    }\n",
       "\n",
       "    .dataframe thead th {\n",
       "        text-align: right;\n",
       "    }\n",
       "</style>\n",
       "<table border=\"1\" class=\"dataframe\">\n",
       "  <thead>\n",
       "    <tr style=\"text-align: right;\">\n",
       "      <th></th>\n",
       "      <th>children</th>\n",
       "      <th>days_employed</th>\n",
       "      <th>dob_years</th>\n",
       "      <th>education_id</th>\n",
       "      <th>family_status_id</th>\n",
       "      <th>debt</th>\n",
       "      <th>total_income</th>\n",
       "      <th>clean_income1</th>\n",
       "      <th>clean_income2</th>\n",
       "      <th>clean_income3</th>\n",
       "    </tr>\n",
       "  </thead>\n",
       "  <tbody>\n",
       "    <tr>\n",
       "      <th>count</th>\n",
       "      <td>21525.000000</td>\n",
       "      <td>19351.000000</td>\n",
       "      <td>21525.000000</td>\n",
       "      <td>21525.000000</td>\n",
       "      <td>21525.000000</td>\n",
       "      <td>21525.000000</td>\n",
       "      <td>19351.000000</td>\n",
       "      <td>21525.000000</td>\n",
       "      <td>21525.000000</td>\n",
       "      <td>21524.000000</td>\n",
       "    </tr>\n",
       "    <tr>\n",
       "      <th>mean</th>\n",
       "      <td>0.479721</td>\n",
       "      <td>63046.497661</td>\n",
       "      <td>43.293380</td>\n",
       "      <td>0.817236</td>\n",
       "      <td>0.972544</td>\n",
       "      <td>0.080883</td>\n",
       "      <td>26787.568355</td>\n",
       "      <td>26436.051922</td>\n",
       "      <td>26456.597412</td>\n",
       "      <td>26456.873757</td>\n",
       "    </tr>\n",
       "    <tr>\n",
       "      <th>std</th>\n",
       "      <td>0.755528</td>\n",
       "      <td>140827.311974</td>\n",
       "      <td>12.574584</td>\n",
       "      <td>0.548138</td>\n",
       "      <td>1.420324</td>\n",
       "      <td>0.272661</td>\n",
       "      <td>16475.450632</td>\n",
       "      <td>15686.986477</td>\n",
       "      <td>15703.769010</td>\n",
       "      <td>15723.367222</td>\n",
       "    </tr>\n",
       "    <tr>\n",
       "      <th>min</th>\n",
       "      <td>0.000000</td>\n",
       "      <td>-18388.949901</td>\n",
       "      <td>0.000000</td>\n",
       "      <td>0.000000</td>\n",
       "      <td>0.000000</td>\n",
       "      <td>0.000000</td>\n",
       "      <td>3306.762000</td>\n",
       "      <td>3306.762000</td>\n",
       "      <td>3306.762000</td>\n",
       "      <td>3306.762000</td>\n",
       "    </tr>\n",
       "    <tr>\n",
       "      <th>25%</th>\n",
       "      <td>0.000000</td>\n",
       "      <td>-2747.423625</td>\n",
       "      <td>33.000000</td>\n",
       "      <td>1.000000</td>\n",
       "      <td>0.000000</td>\n",
       "      <td>0.000000</td>\n",
       "      <td>16488.504500</td>\n",
       "      <td>17247.708000</td>\n",
       "      <td>17235.090000</td>\n",
       "      <td>17234.415000</td>\n",
       "    </tr>\n",
       "    <tr>\n",
       "      <th>50%</th>\n",
       "      <td>0.000000</td>\n",
       "      <td>-1203.369529</td>\n",
       "      <td>42.000000</td>\n",
       "      <td>1.000000</td>\n",
       "      <td>0.000000</td>\n",
       "      <td>0.000000</td>\n",
       "      <td>23202.870000</td>\n",
       "      <td>22815.103500</td>\n",
       "      <td>22959.405000</td>\n",
       "      <td>23181.085000</td>\n",
       "    </tr>\n",
       "    <tr>\n",
       "      <th>75%</th>\n",
       "      <td>1.000000</td>\n",
       "      <td>-291.095954</td>\n",
       "      <td>53.000000</td>\n",
       "      <td>1.000000</td>\n",
       "      <td>1.000000</td>\n",
       "      <td>0.000000</td>\n",
       "      <td>32549.611000</td>\n",
       "      <td>31287.991000</td>\n",
       "      <td>31703.887000</td>\n",
       "      <td>31456.873250</td>\n",
       "    </tr>\n",
       "    <tr>\n",
       "      <th>max</th>\n",
       "      <td>5.000000</td>\n",
       "      <td>401755.400475</td>\n",
       "      <td>75.000000</td>\n",
       "      <td>4.000000</td>\n",
       "      <td>4.000000</td>\n",
       "      <td>1.000000</td>\n",
       "      <td>362496.645000</td>\n",
       "      <td>362496.645000</td>\n",
       "      <td>362496.645000</td>\n",
       "      <td>362496.645000</td>\n",
       "    </tr>\n",
       "  </tbody>\n",
       "</table>\n",
       "</div>"
      ],
      "text/plain": [
       "           children  days_employed     dob_years  education_id  \\\n",
       "count  21525.000000   19351.000000  21525.000000  21525.000000   \n",
       "mean       0.479721   63046.497661     43.293380      0.817236   \n",
       "std        0.755528  140827.311974     12.574584      0.548138   \n",
       "min        0.000000  -18388.949901      0.000000      0.000000   \n",
       "25%        0.000000   -2747.423625     33.000000      1.000000   \n",
       "50%        0.000000   -1203.369529     42.000000      1.000000   \n",
       "75%        1.000000    -291.095954     53.000000      1.000000   \n",
       "max        5.000000  401755.400475     75.000000      4.000000   \n",
       "\n",
       "       family_status_id          debt   total_income  clean_income1  \\\n",
       "count      21525.000000  21525.000000   19351.000000   21525.000000   \n",
       "mean           0.972544      0.080883   26787.568355   26436.051922   \n",
       "std            1.420324      0.272661   16475.450632   15686.986477   \n",
       "min            0.000000      0.000000    3306.762000    3306.762000   \n",
       "25%            0.000000      0.000000   16488.504500   17247.708000   \n",
       "50%            0.000000      0.000000   23202.870000   22815.103500   \n",
       "75%            1.000000      0.000000   32549.611000   31287.991000   \n",
       "max            4.000000      1.000000  362496.645000  362496.645000   \n",
       "\n",
       "       clean_income2  clean_income3  \n",
       "count   21525.000000   21524.000000  \n",
       "mean    26456.597412   26456.873757  \n",
       "std     15703.769010   15723.367222  \n",
       "min      3306.762000    3306.762000  \n",
       "25%     17235.090000   17234.415000  \n",
       "50%     22959.405000   23181.085000  \n",
       "75%     31703.887000   31456.873250  \n",
       "max    362496.645000  362496.645000  "
      ]
     },
     "execution_count": 67,
     "metadata": {},
     "output_type": "execute_result"
    }
   ],
   "source": [
    "credit_scoring.describe()"
   ]
  },
  {
   "cell_type": "markdown",
   "metadata": {},
   "source": [
    "#### Conclusion"
   ]
  },
  {
   "cell_type": "markdown",
   "metadata": {},
   "source": [
    "**We decided to fill in missing values because the percentage of missing values 10% from all rows of data. We think that it could be some mistakes in inserting the data. Because it was the same amount of missing values in `days_employed` column and `total_income`, it might be questionnaire form on the web site or on the bank clerk computer, where then you leave `days_employed` column empty, you can't get the question about `total_income` we should check it with data engineers. But for our goal it's OK for now to fill in this values.**   \n",
    "\n",
    "As we can see for clean_income3 where we looked for median value by `income_type`, `education_id` and `gender`, we've got closer value (23181) to median in `total_income` (23202). But we left one missing value apparantly in the entrepreneur-male category. It has small sample for men and women. So let's stick with filling in according only to `income_type` and `education_id`. The results obtained are quite close to original data."
   ]
  },
  {
   "cell_type": "markdown",
   "metadata": {},
   "source": [
    "Common logic is that it is better to think about the strategies of filling in the missing values and if it is impossible to fill in the missing values we can simply leave missing values in the data unchanged, because sometimes when the percentage of the missing values is big and the data is rather sensitive our attempts to fill in missing values using mean or median can be risky in terms of distortion of the original data, so it is important to take it into consideration!\n",
    "       \n",
    "We can use median to fill in missing values in column `total_income` because this statistics is more resistant to outliers. \n",
    "\n",
    "Finally is important to understand the nature of the missing values, formulate hypotheses or reasons for the presence of missing values in the data, and based on these hypotheses, try to choose a way to fill the data. It is important to understand that replacing missing values with a simple median or mean by column can significantly distort the original data if the percentage of gaps in the columns exceeds 10%."
   ]
  },
  {
   "cell_type": "markdown",
   "metadata": {},
   "source": [
    "### Data type replacement"
   ]
  },
  {
   "cell_type": "markdown",
   "metadata": {},
   "source": [
    "Now, when we filled in missing values we can change data type in column `clean_income2` from float to integer. It's easier way to work with numbers like salary. We can use the `astype()` method with it's argument `('int')`."
   ]
  },
  {
   "cell_type": "code",
   "execution_count": 68,
   "metadata": {},
   "outputs": [],
   "source": [
    "credit_scoring['clean_income2'] = credit_scoring['clean_income2'].astype('int')"
   ]
  },
  {
   "cell_type": "code",
   "execution_count": 69,
   "metadata": {},
   "outputs": [
    {
     "data": {
      "text/html": [
       "<div>\n",
       "<style scoped>\n",
       "    .dataframe tbody tr th:only-of-type {\n",
       "        vertical-align: middle;\n",
       "    }\n",
       "\n",
       "    .dataframe tbody tr th {\n",
       "        vertical-align: top;\n",
       "    }\n",
       "\n",
       "    .dataframe thead th {\n",
       "        text-align: right;\n",
       "    }\n",
       "</style>\n",
       "<table border=\"1\" class=\"dataframe\">\n",
       "  <thead>\n",
       "    <tr style=\"text-align: right;\">\n",
       "      <th></th>\n",
       "      <th>children</th>\n",
       "      <th>days_employed</th>\n",
       "      <th>dob_years</th>\n",
       "      <th>education</th>\n",
       "      <th>education_id</th>\n",
       "      <th>family_status</th>\n",
       "      <th>family_status_id</th>\n",
       "      <th>gender</th>\n",
       "      <th>income_type</th>\n",
       "      <th>debt</th>\n",
       "      <th>total_income</th>\n",
       "      <th>purpose</th>\n",
       "      <th>clean_income1</th>\n",
       "      <th>clean_income2</th>\n",
       "      <th>clean_income3</th>\n",
       "    </tr>\n",
       "  </thead>\n",
       "  <tbody>\n",
       "    <tr>\n",
       "      <th>0</th>\n",
       "      <td>1</td>\n",
       "      <td>-8437.673028</td>\n",
       "      <td>42</td>\n",
       "      <td>bachelor's degree</td>\n",
       "      <td>0</td>\n",
       "      <td>married</td>\n",
       "      <td>0</td>\n",
       "      <td>F</td>\n",
       "      <td>employee</td>\n",
       "      <td>0</td>\n",
       "      <td>40620.102</td>\n",
       "      <td>purchase of the house</td>\n",
       "      <td>40620.102</td>\n",
       "      <td>40620</td>\n",
       "      <td>40620.102</td>\n",
       "    </tr>\n",
       "    <tr>\n",
       "      <th>1</th>\n",
       "      <td>1</td>\n",
       "      <td>-4024.803754</td>\n",
       "      <td>36</td>\n",
       "      <td>secondary education</td>\n",
       "      <td>1</td>\n",
       "      <td>married</td>\n",
       "      <td>0</td>\n",
       "      <td>F</td>\n",
       "      <td>employee</td>\n",
       "      <td>0</td>\n",
       "      <td>17932.802</td>\n",
       "      <td>car purchase</td>\n",
       "      <td>17932.802</td>\n",
       "      <td>17932</td>\n",
       "      <td>17932.802</td>\n",
       "    </tr>\n",
       "    <tr>\n",
       "      <th>2</th>\n",
       "      <td>0</td>\n",
       "      <td>-5623.422610</td>\n",
       "      <td>33</td>\n",
       "      <td>secondary education</td>\n",
       "      <td>1</td>\n",
       "      <td>married</td>\n",
       "      <td>0</td>\n",
       "      <td>M</td>\n",
       "      <td>employee</td>\n",
       "      <td>0</td>\n",
       "      <td>23341.752</td>\n",
       "      <td>purchase of the house</td>\n",
       "      <td>23341.752</td>\n",
       "      <td>23341</td>\n",
       "      <td>23341.752</td>\n",
       "    </tr>\n",
       "    <tr>\n",
       "      <th>3</th>\n",
       "      <td>3</td>\n",
       "      <td>-4124.747207</td>\n",
       "      <td>32</td>\n",
       "      <td>secondary education</td>\n",
       "      <td>1</td>\n",
       "      <td>married</td>\n",
       "      <td>0</td>\n",
       "      <td>M</td>\n",
       "      <td>employee</td>\n",
       "      <td>0</td>\n",
       "      <td>42820.568</td>\n",
       "      <td>supplementary education</td>\n",
       "      <td>42820.568</td>\n",
       "      <td>42820</td>\n",
       "      <td>42820.568</td>\n",
       "    </tr>\n",
       "    <tr>\n",
       "      <th>4</th>\n",
       "      <td>0</td>\n",
       "      <td>340266.072047</td>\n",
       "      <td>53</td>\n",
       "      <td>secondary education</td>\n",
       "      <td>1</td>\n",
       "      <td>civil partnership</td>\n",
       "      <td>1</td>\n",
       "      <td>F</td>\n",
       "      <td>retiree</td>\n",
       "      <td>0</td>\n",
       "      <td>25378.572</td>\n",
       "      <td>to have a wedding</td>\n",
       "      <td>25378.572</td>\n",
       "      <td>25378</td>\n",
       "      <td>25378.572</td>\n",
       "    </tr>\n",
       "  </tbody>\n",
       "</table>\n",
       "</div>"
      ],
      "text/plain": [
       "   children  days_employed  dob_years            education  education_id  \\\n",
       "0         1   -8437.673028         42    bachelor's degree             0   \n",
       "1         1   -4024.803754         36  secondary education             1   \n",
       "2         0   -5623.422610         33  secondary education             1   \n",
       "3         3   -4124.747207         32  secondary education             1   \n",
       "4         0  340266.072047         53  secondary education             1   \n",
       "\n",
       "       family_status  family_status_id gender income_type  debt  total_income  \\\n",
       "0            married                 0      F    employee     0     40620.102   \n",
       "1            married                 0      F    employee     0     17932.802   \n",
       "2            married                 0      M    employee     0     23341.752   \n",
       "3            married                 0      M    employee     0     42820.568   \n",
       "4  civil partnership                 1      F     retiree     0     25378.572   \n",
       "\n",
       "                   purpose  clean_income1  clean_income2  clean_income3  \n",
       "0    purchase of the house      40620.102          40620      40620.102  \n",
       "1             car purchase      17932.802          17932      17932.802  \n",
       "2    purchase of the house      23341.752          23341      23341.752  \n",
       "3  supplementary education      42820.568          42820      42820.568  \n",
       "4        to have a wedding      25378.572          25378      25378.572  "
      ]
     },
     "execution_count": 69,
     "metadata": {},
     "output_type": "execute_result"
    }
   ],
   "source": [
    "credit_scoring.head()"
   ]
  },
  {
   "cell_type": "markdown",
   "metadata": {},
   "source": [
    "**Let's change data type of `days_employed` column too. For that we should fill in missing values with `0` first. Use the `fillna()` method for this column.**"
   ]
  },
  {
   "cell_type": "code",
   "execution_count": 70,
   "metadata": {},
   "outputs": [],
   "source": [
    "credit_scoring['days_employed'] = credit_scoring['days_employed'].fillna(0)"
   ]
  },
  {
   "cell_type": "markdown",
   "metadata": {},
   "source": [
    "**Use the `astype()` for `days_employed` column with argument `int`.**"
   ]
  },
  {
   "cell_type": "code",
   "execution_count": 71,
   "metadata": {},
   "outputs": [],
   "source": [
    "credit_scoring['days_employed'] = credit_scoring['days_employed'].astype('int')"
   ]
  },
  {
   "cell_type": "markdown",
   "metadata": {},
   "source": [
    "**Get rid from negative values in this column.**"
   ]
  },
  {
   "cell_type": "code",
   "execution_count": 72,
   "metadata": {},
   "outputs": [],
   "source": [
    "credit_scoring['days_employed'] = abs(credit_scoring['days_employed'])"
   ]
  },
  {
   "cell_type": "markdown",
   "metadata": {},
   "source": [
    "**Let's check how it looks like now.**"
   ]
  },
  {
   "cell_type": "code",
   "execution_count": 73,
   "metadata": {},
   "outputs": [
    {
     "data": {
      "text/html": [
       "<div>\n",
       "<style scoped>\n",
       "    .dataframe tbody tr th:only-of-type {\n",
       "        vertical-align: middle;\n",
       "    }\n",
       "\n",
       "    .dataframe tbody tr th {\n",
       "        vertical-align: top;\n",
       "    }\n",
       "\n",
       "    .dataframe thead th {\n",
       "        text-align: right;\n",
       "    }\n",
       "</style>\n",
       "<table border=\"1\" class=\"dataframe\">\n",
       "  <thead>\n",
       "    <tr style=\"text-align: right;\">\n",
       "      <th></th>\n",
       "      <th>children</th>\n",
       "      <th>days_employed</th>\n",
       "      <th>dob_years</th>\n",
       "      <th>education</th>\n",
       "      <th>education_id</th>\n",
       "      <th>family_status</th>\n",
       "      <th>family_status_id</th>\n",
       "      <th>gender</th>\n",
       "      <th>income_type</th>\n",
       "      <th>debt</th>\n",
       "      <th>total_income</th>\n",
       "      <th>purpose</th>\n",
       "      <th>clean_income1</th>\n",
       "      <th>clean_income2</th>\n",
       "      <th>clean_income3</th>\n",
       "    </tr>\n",
       "  </thead>\n",
       "  <tbody>\n",
       "    <tr>\n",
       "      <th>0</th>\n",
       "      <td>1</td>\n",
       "      <td>8437</td>\n",
       "      <td>42</td>\n",
       "      <td>bachelor's degree</td>\n",
       "      <td>0</td>\n",
       "      <td>married</td>\n",
       "      <td>0</td>\n",
       "      <td>F</td>\n",
       "      <td>employee</td>\n",
       "      <td>0</td>\n",
       "      <td>40620.102</td>\n",
       "      <td>purchase of the house</td>\n",
       "      <td>40620.102</td>\n",
       "      <td>40620</td>\n",
       "      <td>40620.102</td>\n",
       "    </tr>\n",
       "    <tr>\n",
       "      <th>1</th>\n",
       "      <td>1</td>\n",
       "      <td>4024</td>\n",
       "      <td>36</td>\n",
       "      <td>secondary education</td>\n",
       "      <td>1</td>\n",
       "      <td>married</td>\n",
       "      <td>0</td>\n",
       "      <td>F</td>\n",
       "      <td>employee</td>\n",
       "      <td>0</td>\n",
       "      <td>17932.802</td>\n",
       "      <td>car purchase</td>\n",
       "      <td>17932.802</td>\n",
       "      <td>17932</td>\n",
       "      <td>17932.802</td>\n",
       "    </tr>\n",
       "    <tr>\n",
       "      <th>2</th>\n",
       "      <td>0</td>\n",
       "      <td>5623</td>\n",
       "      <td>33</td>\n",
       "      <td>secondary education</td>\n",
       "      <td>1</td>\n",
       "      <td>married</td>\n",
       "      <td>0</td>\n",
       "      <td>M</td>\n",
       "      <td>employee</td>\n",
       "      <td>0</td>\n",
       "      <td>23341.752</td>\n",
       "      <td>purchase of the house</td>\n",
       "      <td>23341.752</td>\n",
       "      <td>23341</td>\n",
       "      <td>23341.752</td>\n",
       "    </tr>\n",
       "    <tr>\n",
       "      <th>3</th>\n",
       "      <td>3</td>\n",
       "      <td>4124</td>\n",
       "      <td>32</td>\n",
       "      <td>secondary education</td>\n",
       "      <td>1</td>\n",
       "      <td>married</td>\n",
       "      <td>0</td>\n",
       "      <td>M</td>\n",
       "      <td>employee</td>\n",
       "      <td>0</td>\n",
       "      <td>42820.568</td>\n",
       "      <td>supplementary education</td>\n",
       "      <td>42820.568</td>\n",
       "      <td>42820</td>\n",
       "      <td>42820.568</td>\n",
       "    </tr>\n",
       "    <tr>\n",
       "      <th>4</th>\n",
       "      <td>0</td>\n",
       "      <td>340266</td>\n",
       "      <td>53</td>\n",
       "      <td>secondary education</td>\n",
       "      <td>1</td>\n",
       "      <td>civil partnership</td>\n",
       "      <td>1</td>\n",
       "      <td>F</td>\n",
       "      <td>retiree</td>\n",
       "      <td>0</td>\n",
       "      <td>25378.572</td>\n",
       "      <td>to have a wedding</td>\n",
       "      <td>25378.572</td>\n",
       "      <td>25378</td>\n",
       "      <td>25378.572</td>\n",
       "    </tr>\n",
       "  </tbody>\n",
       "</table>\n",
       "</div>"
      ],
      "text/plain": [
       "   children  days_employed  dob_years            education  education_id  \\\n",
       "0         1           8437         42    bachelor's degree             0   \n",
       "1         1           4024         36  secondary education             1   \n",
       "2         0           5623         33  secondary education             1   \n",
       "3         3           4124         32  secondary education             1   \n",
       "4         0         340266         53  secondary education             1   \n",
       "\n",
       "       family_status  family_status_id gender income_type  debt  total_income  \\\n",
       "0            married                 0      F    employee     0     40620.102   \n",
       "1            married                 0      F    employee     0     17932.802   \n",
       "2            married                 0      M    employee     0     23341.752   \n",
       "3            married                 0      M    employee     0     42820.568   \n",
       "4  civil partnership                 1      F     retiree     0     25378.572   \n",
       "\n",
       "                   purpose  clean_income1  clean_income2  clean_income3  \n",
       "0    purchase of the house      40620.102          40620      40620.102  \n",
       "1             car purchase      17932.802          17932      17932.802  \n",
       "2    purchase of the house      23341.752          23341      23341.752  \n",
       "3  supplementary education      42820.568          42820      42820.568  \n",
       "4        to have a wedding      25378.572          25378      25378.572  "
      ]
     },
     "execution_count": 73,
     "metadata": {},
     "output_type": "execute_result"
    }
   ],
   "source": [
    "credit_scoring.head()"
   ]
  },
  {
   "cell_type": "markdown",
   "metadata": {},
   "source": [
    "#### Conclusion"
   ]
  },
  {
   "cell_type": "markdown",
   "metadata": {},
   "source": [
    "Now it's better to work with salary when it's type integer. And less mess with `days_employed`."
   ]
  },
  {
   "cell_type": "code",
   "execution_count": 74,
   "metadata": {},
   "outputs": [
    {
     "name": "stdout",
     "output_type": "stream",
     "text": [
      "<class 'pandas.core.frame.DataFrame'>\n",
      "RangeIndex: 21525 entries, 0 to 21524\n",
      "Data columns (total 15 columns):\n",
      " #   Column            Non-Null Count  Dtype  \n",
      "---  ------            --------------  -----  \n",
      " 0   children          21525 non-null  int64  \n",
      " 1   days_employed     21525 non-null  int64  \n",
      " 2   dob_years         21525 non-null  int64  \n",
      " 3   education         21525 non-null  object \n",
      " 4   education_id      21525 non-null  int64  \n",
      " 5   family_status     21525 non-null  object \n",
      " 6   family_status_id  21525 non-null  int64  \n",
      " 7   gender            21525 non-null  object \n",
      " 8   income_type       21525 non-null  object \n",
      " 9   debt              21525 non-null  int64  \n",
      " 10  total_income      19351 non-null  float64\n",
      " 11  purpose           21525 non-null  object \n",
      " 12  clean_income1     21525 non-null  float64\n",
      " 13  clean_income2     21525 non-null  int64  \n",
      " 14  clean_income3     21524 non-null  float64\n",
      "dtypes: float64(3), int64(7), object(5)\n",
      "memory usage: 2.5+ MB\n"
     ]
    }
   ],
   "source": [
    "credit_scoring.info()"
   ]
  },
  {
   "cell_type": "markdown",
   "metadata": {},
   "source": [
    "### Processing duplicates"
   ]
  },
  {
   "cell_type": "markdown",
   "metadata": {},
   "source": [
    "Let's check if we have duplicates in our dataset using the `duplicated()` method for finding duplicates along with the method `sum()` that returns the total number of duplicates."
   ]
  },
  {
   "cell_type": "code",
   "execution_count": 75,
   "metadata": {},
   "outputs": [
    {
     "data": {
      "text/plain": [
       "71"
      ]
     },
     "execution_count": 75,
     "metadata": {},
     "output_type": "execute_result"
    }
   ],
   "source": [
    "credit_scoring.duplicated().sum()"
   ]
  },
  {
   "cell_type": "markdown",
   "metadata": {},
   "source": [
    "Check the result. Cut all the duplicates and put it in the table sorting by the `dob_years`."
   ]
  },
  {
   "cell_type": "code",
   "execution_count": 76,
   "metadata": {},
   "outputs": [
    {
     "data": {
      "text/html": [
       "<div>\n",
       "<style scoped>\n",
       "    .dataframe tbody tr th:only-of-type {\n",
       "        vertical-align: middle;\n",
       "    }\n",
       "\n",
       "    .dataframe tbody tr th {\n",
       "        vertical-align: top;\n",
       "    }\n",
       "\n",
       "    .dataframe thead th {\n",
       "        text-align: right;\n",
       "    }\n",
       "</style>\n",
       "<table border=\"1\" class=\"dataframe\">\n",
       "  <thead>\n",
       "    <tr style=\"text-align: right;\">\n",
       "      <th></th>\n",
       "      <th>children</th>\n",
       "      <th>days_employed</th>\n",
       "      <th>dob_years</th>\n",
       "      <th>education</th>\n",
       "      <th>education_id</th>\n",
       "      <th>family_status</th>\n",
       "      <th>family_status_id</th>\n",
       "      <th>gender</th>\n",
       "      <th>income_type</th>\n",
       "      <th>debt</th>\n",
       "      <th>total_income</th>\n",
       "      <th>purpose</th>\n",
       "      <th>clean_income1</th>\n",
       "      <th>clean_income2</th>\n",
       "      <th>clean_income3</th>\n",
       "    </tr>\n",
       "  </thead>\n",
       "  <tbody>\n",
       "    <tr>\n",
       "      <th>20297</th>\n",
       "      <td>1</td>\n",
       "      <td>0</td>\n",
       "      <td>23</td>\n",
       "      <td>secondary education</td>\n",
       "      <td>1</td>\n",
       "      <td>civil partnership</td>\n",
       "      <td>1</td>\n",
       "      <td>F</td>\n",
       "      <td>employee</td>\n",
       "      <td>0</td>\n",
       "      <td>NaN</td>\n",
       "      <td>to have a wedding</td>\n",
       "      <td>22815.1035</td>\n",
       "      <td>21848</td>\n",
       "      <td>19860.334</td>\n",
       "    </tr>\n",
       "    <tr>\n",
       "      <th>8853</th>\n",
       "      <td>1</td>\n",
       "      <td>0</td>\n",
       "      <td>23</td>\n",
       "      <td>secondary education</td>\n",
       "      <td>1</td>\n",
       "      <td>civil partnership</td>\n",
       "      <td>1</td>\n",
       "      <td>F</td>\n",
       "      <td>employee</td>\n",
       "      <td>0</td>\n",
       "      <td>NaN</td>\n",
       "      <td>to have a wedding</td>\n",
       "      <td>22815.1035</td>\n",
       "      <td>21848</td>\n",
       "      <td>19860.334</td>\n",
       "    </tr>\n",
       "    <tr>\n",
       "      <th>15892</th>\n",
       "      <td>0</td>\n",
       "      <td>0</td>\n",
       "      <td>23</td>\n",
       "      <td>secondary education</td>\n",
       "      <td>1</td>\n",
       "      <td>unmarried</td>\n",
       "      <td>4</td>\n",
       "      <td>F</td>\n",
       "      <td>employee</td>\n",
       "      <td>0</td>\n",
       "      <td>NaN</td>\n",
       "      <td>second-hand car purchase</td>\n",
       "      <td>22815.1035</td>\n",
       "      <td>21848</td>\n",
       "      <td>19860.334</td>\n",
       "    </tr>\n",
       "    <tr>\n",
       "      <th>19321</th>\n",
       "      <td>0</td>\n",
       "      <td>0</td>\n",
       "      <td>23</td>\n",
       "      <td>secondary education</td>\n",
       "      <td>1</td>\n",
       "      <td>unmarried</td>\n",
       "      <td>4</td>\n",
       "      <td>F</td>\n",
       "      <td>employee</td>\n",
       "      <td>0</td>\n",
       "      <td>NaN</td>\n",
       "      <td>second-hand car purchase</td>\n",
       "      <td>22815.1035</td>\n",
       "      <td>21848</td>\n",
       "      <td>19860.334</td>\n",
       "    </tr>\n",
       "    <tr>\n",
       "      <th>3452</th>\n",
       "      <td>0</td>\n",
       "      <td>0</td>\n",
       "      <td>29</td>\n",
       "      <td>bachelor's degree</td>\n",
       "      <td>0</td>\n",
       "      <td>married</td>\n",
       "      <td>0</td>\n",
       "      <td>M</td>\n",
       "      <td>employee</td>\n",
       "      <td>0</td>\n",
       "      <td>NaN</td>\n",
       "      <td>buy residential real estate</td>\n",
       "      <td>22815.1035</td>\n",
       "      <td>26502</td>\n",
       "      <td>30759.568</td>\n",
       "    </tr>\n",
       "  </tbody>\n",
       "</table>\n",
       "</div>"
      ],
      "text/plain": [
       "       children  days_employed  dob_years            education  education_id  \\\n",
       "20297         1              0         23  secondary education             1   \n",
       "8853          1              0         23  secondary education             1   \n",
       "15892         0              0         23  secondary education             1   \n",
       "19321         0              0         23  secondary education             1   \n",
       "3452          0              0         29    bachelor's degree             0   \n",
       "\n",
       "           family_status  family_status_id gender income_type  debt  \\\n",
       "20297  civil partnership                 1      F    employee     0   \n",
       "8853   civil partnership                 1      F    employee     0   \n",
       "15892          unmarried                 4      F    employee     0   \n",
       "19321          unmarried                 4      F    employee     0   \n",
       "3452             married                 0      M    employee     0   \n",
       "\n",
       "       total_income                      purpose  clean_income1  \\\n",
       "20297           NaN            to have a wedding     22815.1035   \n",
       "8853            NaN            to have a wedding     22815.1035   \n",
       "15892           NaN     second-hand car purchase     22815.1035   \n",
       "19321           NaN     second-hand car purchase     22815.1035   \n",
       "3452            NaN  buy residential real estate     22815.1035   \n",
       "\n",
       "       clean_income2  clean_income3  \n",
       "20297          21848      19860.334  \n",
       "8853           21848      19860.334  \n",
       "15892          21848      19860.334  \n",
       "19321          21848      19860.334  \n",
       "3452           26502      30759.568  "
      ]
     },
     "execution_count": 76,
     "metadata": {},
     "output_type": "execute_result"
    }
   ],
   "source": [
    "credit_scoring.loc[credit_scoring.duplicated(keep=False), :].sort_values('dob_years').head()"
   ]
  },
  {
   "cell_type": "markdown",
   "metadata": {},
   "source": [
    "Let's drop duplicates using the `drop_duplicates()` method and the `reset_index()`."
   ]
  },
  {
   "cell_type": "code",
   "execution_count": 77,
   "metadata": {},
   "outputs": [
    {
     "data": {
      "text/html": [
       "<div>\n",
       "<style scoped>\n",
       "    .dataframe tbody tr th:only-of-type {\n",
       "        vertical-align: middle;\n",
       "    }\n",
       "\n",
       "    .dataframe tbody tr th {\n",
       "        vertical-align: top;\n",
       "    }\n",
       "\n",
       "    .dataframe thead th {\n",
       "        text-align: right;\n",
       "    }\n",
       "</style>\n",
       "<table border=\"1\" class=\"dataframe\">\n",
       "  <thead>\n",
       "    <tr style=\"text-align: right;\">\n",
       "      <th></th>\n",
       "      <th>children</th>\n",
       "      <th>days_employed</th>\n",
       "      <th>dob_years</th>\n",
       "      <th>education</th>\n",
       "      <th>education_id</th>\n",
       "      <th>family_status</th>\n",
       "      <th>family_status_id</th>\n",
       "      <th>gender</th>\n",
       "      <th>income_type</th>\n",
       "      <th>debt</th>\n",
       "      <th>total_income</th>\n",
       "      <th>purpose</th>\n",
       "      <th>clean_income1</th>\n",
       "      <th>clean_income2</th>\n",
       "      <th>clean_income3</th>\n",
       "    </tr>\n",
       "  </thead>\n",
       "  <tbody>\n",
       "    <tr>\n",
       "      <th>0</th>\n",
       "      <td>1</td>\n",
       "      <td>8437</td>\n",
       "      <td>42</td>\n",
       "      <td>bachelor's degree</td>\n",
       "      <td>0</td>\n",
       "      <td>married</td>\n",
       "      <td>0</td>\n",
       "      <td>F</td>\n",
       "      <td>employee</td>\n",
       "      <td>0</td>\n",
       "      <td>40620.102</td>\n",
       "      <td>purchase of the house</td>\n",
       "      <td>40620.102</td>\n",
       "      <td>40620</td>\n",
       "      <td>40620.102</td>\n",
       "    </tr>\n",
       "    <tr>\n",
       "      <th>1</th>\n",
       "      <td>1</td>\n",
       "      <td>4024</td>\n",
       "      <td>36</td>\n",
       "      <td>secondary education</td>\n",
       "      <td>1</td>\n",
       "      <td>married</td>\n",
       "      <td>0</td>\n",
       "      <td>F</td>\n",
       "      <td>employee</td>\n",
       "      <td>0</td>\n",
       "      <td>17932.802</td>\n",
       "      <td>car purchase</td>\n",
       "      <td>17932.802</td>\n",
       "      <td>17932</td>\n",
       "      <td>17932.802</td>\n",
       "    </tr>\n",
       "    <tr>\n",
       "      <th>2</th>\n",
       "      <td>0</td>\n",
       "      <td>5623</td>\n",
       "      <td>33</td>\n",
       "      <td>secondary education</td>\n",
       "      <td>1</td>\n",
       "      <td>married</td>\n",
       "      <td>0</td>\n",
       "      <td>M</td>\n",
       "      <td>employee</td>\n",
       "      <td>0</td>\n",
       "      <td>23341.752</td>\n",
       "      <td>purchase of the house</td>\n",
       "      <td>23341.752</td>\n",
       "      <td>23341</td>\n",
       "      <td>23341.752</td>\n",
       "    </tr>\n",
       "    <tr>\n",
       "      <th>3</th>\n",
       "      <td>3</td>\n",
       "      <td>4124</td>\n",
       "      <td>32</td>\n",
       "      <td>secondary education</td>\n",
       "      <td>1</td>\n",
       "      <td>married</td>\n",
       "      <td>0</td>\n",
       "      <td>M</td>\n",
       "      <td>employee</td>\n",
       "      <td>0</td>\n",
       "      <td>42820.568</td>\n",
       "      <td>supplementary education</td>\n",
       "      <td>42820.568</td>\n",
       "      <td>42820</td>\n",
       "      <td>42820.568</td>\n",
       "    </tr>\n",
       "    <tr>\n",
       "      <th>4</th>\n",
       "      <td>0</td>\n",
       "      <td>340266</td>\n",
       "      <td>53</td>\n",
       "      <td>secondary education</td>\n",
       "      <td>1</td>\n",
       "      <td>civil partnership</td>\n",
       "      <td>1</td>\n",
       "      <td>F</td>\n",
       "      <td>retiree</td>\n",
       "      <td>0</td>\n",
       "      <td>25378.572</td>\n",
       "      <td>to have a wedding</td>\n",
       "      <td>25378.572</td>\n",
       "      <td>25378</td>\n",
       "      <td>25378.572</td>\n",
       "    </tr>\n",
       "  </tbody>\n",
       "</table>\n",
       "</div>"
      ],
      "text/plain": [
       "   children  days_employed  dob_years            education  education_id  \\\n",
       "0         1           8437         42    bachelor's degree             0   \n",
       "1         1           4024         36  secondary education             1   \n",
       "2         0           5623         33  secondary education             1   \n",
       "3         3           4124         32  secondary education             1   \n",
       "4         0         340266         53  secondary education             1   \n",
       "\n",
       "       family_status  family_status_id gender income_type  debt  total_income  \\\n",
       "0            married                 0      F    employee     0     40620.102   \n",
       "1            married                 0      F    employee     0     17932.802   \n",
       "2            married                 0      M    employee     0     23341.752   \n",
       "3            married                 0      M    employee     0     42820.568   \n",
       "4  civil partnership                 1      F     retiree     0     25378.572   \n",
       "\n",
       "                   purpose  clean_income1  clean_income2  clean_income3  \n",
       "0    purchase of the house      40620.102          40620      40620.102  \n",
       "1             car purchase      17932.802          17932      17932.802  \n",
       "2    purchase of the house      23341.752          23341      23341.752  \n",
       "3  supplementary education      42820.568          42820      42820.568  \n",
       "4        to have a wedding      25378.572          25378      25378.572  "
      ]
     },
     "execution_count": 77,
     "metadata": {},
     "output_type": "execute_result"
    }
   ],
   "source": [
    "credit_scoring = credit_scoring.drop_duplicates().reset_index(drop=True)\n",
    "credit_scoring.head()"
   ]
  },
  {
   "cell_type": "markdown",
   "metadata": {},
   "source": [
    "#### Conclusion"
   ]
  },
  {
   "cell_type": "markdown",
   "metadata": {},
   "source": [
    "As we can see there are 3 duplicate rows for the customer in age 71, who has secondary education, in civil partnership, female, retired, and needs loan fot having a wedding. We can't be sure that there was triple entry from the same customer and not from different 71-years old women. We should check how data was collected with different departments, ask data engineers. In this case we can drop these duplicates. There are only 71, so it won't affect on the total result."
   ]
  },
  {
   "cell_type": "markdown",
   "metadata": {},
   "source": [
    "### Categorizing Data"
   ]
  },
  {
   "cell_type": "markdown",
   "metadata": {},
   "source": [
    "We need to make categorization - to organize selected data into groups according to specific criterias. We'll create a list of categories from the given data."
   ]
  },
  {
   "cell_type": "markdown",
   "metadata": {},
   "source": [
    "Let's categorize our customers according to their's income. Call the `describe()` method to `total_income` column."
   ]
  },
  {
   "cell_type": "code",
   "execution_count": 78,
   "metadata": {},
   "outputs": [
    {
     "data": {
      "text/plain": [
       "count     21454.000000\n",
       "mean      26472.049128\n",
       "std       15726.191978\n",
       "min        3306.000000\n",
       "25%       17202.000000\n",
       "50%       22993.000000\n",
       "75%       31728.750000\n",
       "max      362496.000000\n",
       "Name: clean_income2, dtype: float64"
      ]
     },
     "execution_count": 78,
     "metadata": {},
     "output_type": "execute_result"
    }
   ],
   "source": [
    "credit_scoring.clean_income2.describe()"
   ]
  },
  {
   "cell_type": "markdown",
   "metadata": {},
   "source": [
    "Write function using the keyword `def`. Let's accept that income from 0 to 10000 equal to `poverty` category, from 10000 to 23000 - `poor`, from 23000 to 50000 - `middle-class`, from 50000 to 100000 - `wealthy`, from 100000 - `rich`."
   ]
  },
  {
   "cell_type": "code",
   "execution_count": 79,
   "metadata": {},
   "outputs": [],
   "source": [
    "def clean_income2_cat(x):\n",
    "    if x>=0 and x<=10000:\n",
    "        return 'poverty'\n",
    "    if x>10000 and x<=23000:\n",
    "        return 'poor'\n",
    "    if x>23000 and x<=50000:\n",
    "        return 'middle-class'\n",
    "    if x>50000 and x<=100000:\n",
    "        return 'wealthy'\n",
    "    if x>100000:\n",
    "        return 'rich'"
   ]
  },
  {
   "cell_type": "markdown",
   "metadata": {},
   "source": [
    "Check how our function works by creating the new column and applying the function to column `clean_income2`. Use the `apply()` method. And print dataframe."
   ]
  },
  {
   "cell_type": "code",
   "execution_count": 80,
   "metadata": {},
   "outputs": [],
   "source": [
    "credit_scoring['income_level'] = credit_scoring['clean_income2'].apply(clean_income2_cat)"
   ]
  },
  {
   "cell_type": "code",
   "execution_count": 81,
   "metadata": {},
   "outputs": [
    {
     "data": {
      "text/html": [
       "<div>\n",
       "<style scoped>\n",
       "    .dataframe tbody tr th:only-of-type {\n",
       "        vertical-align: middle;\n",
       "    }\n",
       "\n",
       "    .dataframe tbody tr th {\n",
       "        vertical-align: top;\n",
       "    }\n",
       "\n",
       "    .dataframe thead th {\n",
       "        text-align: right;\n",
       "    }\n",
       "</style>\n",
       "<table border=\"1\" class=\"dataframe\">\n",
       "  <thead>\n",
       "    <tr style=\"text-align: right;\">\n",
       "      <th></th>\n",
       "      <th>children</th>\n",
       "      <th>days_employed</th>\n",
       "      <th>dob_years</th>\n",
       "      <th>education</th>\n",
       "      <th>education_id</th>\n",
       "      <th>family_status</th>\n",
       "      <th>family_status_id</th>\n",
       "      <th>gender</th>\n",
       "      <th>income_type</th>\n",
       "      <th>debt</th>\n",
       "      <th>total_income</th>\n",
       "      <th>purpose</th>\n",
       "      <th>clean_income1</th>\n",
       "      <th>clean_income2</th>\n",
       "      <th>clean_income3</th>\n",
       "      <th>income_level</th>\n",
       "    </tr>\n",
       "  </thead>\n",
       "  <tbody>\n",
       "    <tr>\n",
       "      <th>0</th>\n",
       "      <td>1</td>\n",
       "      <td>8437</td>\n",
       "      <td>42</td>\n",
       "      <td>bachelor's degree</td>\n",
       "      <td>0</td>\n",
       "      <td>married</td>\n",
       "      <td>0</td>\n",
       "      <td>F</td>\n",
       "      <td>employee</td>\n",
       "      <td>0</td>\n",
       "      <td>40620.102</td>\n",
       "      <td>purchase of the house</td>\n",
       "      <td>40620.102</td>\n",
       "      <td>40620</td>\n",
       "      <td>40620.102</td>\n",
       "      <td>middle-class</td>\n",
       "    </tr>\n",
       "    <tr>\n",
       "      <th>1</th>\n",
       "      <td>1</td>\n",
       "      <td>4024</td>\n",
       "      <td>36</td>\n",
       "      <td>secondary education</td>\n",
       "      <td>1</td>\n",
       "      <td>married</td>\n",
       "      <td>0</td>\n",
       "      <td>F</td>\n",
       "      <td>employee</td>\n",
       "      <td>0</td>\n",
       "      <td>17932.802</td>\n",
       "      <td>car purchase</td>\n",
       "      <td>17932.802</td>\n",
       "      <td>17932</td>\n",
       "      <td>17932.802</td>\n",
       "      <td>poor</td>\n",
       "    </tr>\n",
       "    <tr>\n",
       "      <th>2</th>\n",
       "      <td>0</td>\n",
       "      <td>5623</td>\n",
       "      <td>33</td>\n",
       "      <td>secondary education</td>\n",
       "      <td>1</td>\n",
       "      <td>married</td>\n",
       "      <td>0</td>\n",
       "      <td>M</td>\n",
       "      <td>employee</td>\n",
       "      <td>0</td>\n",
       "      <td>23341.752</td>\n",
       "      <td>purchase of the house</td>\n",
       "      <td>23341.752</td>\n",
       "      <td>23341</td>\n",
       "      <td>23341.752</td>\n",
       "      <td>middle-class</td>\n",
       "    </tr>\n",
       "    <tr>\n",
       "      <th>3</th>\n",
       "      <td>3</td>\n",
       "      <td>4124</td>\n",
       "      <td>32</td>\n",
       "      <td>secondary education</td>\n",
       "      <td>1</td>\n",
       "      <td>married</td>\n",
       "      <td>0</td>\n",
       "      <td>M</td>\n",
       "      <td>employee</td>\n",
       "      <td>0</td>\n",
       "      <td>42820.568</td>\n",
       "      <td>supplementary education</td>\n",
       "      <td>42820.568</td>\n",
       "      <td>42820</td>\n",
       "      <td>42820.568</td>\n",
       "      <td>middle-class</td>\n",
       "    </tr>\n",
       "    <tr>\n",
       "      <th>4</th>\n",
       "      <td>0</td>\n",
       "      <td>340266</td>\n",
       "      <td>53</td>\n",
       "      <td>secondary education</td>\n",
       "      <td>1</td>\n",
       "      <td>civil partnership</td>\n",
       "      <td>1</td>\n",
       "      <td>F</td>\n",
       "      <td>retiree</td>\n",
       "      <td>0</td>\n",
       "      <td>25378.572</td>\n",
       "      <td>to have a wedding</td>\n",
       "      <td>25378.572</td>\n",
       "      <td>25378</td>\n",
       "      <td>25378.572</td>\n",
       "      <td>middle-class</td>\n",
       "    </tr>\n",
       "  </tbody>\n",
       "</table>\n",
       "</div>"
      ],
      "text/plain": [
       "   children  days_employed  dob_years            education  education_id  \\\n",
       "0         1           8437         42    bachelor's degree             0   \n",
       "1         1           4024         36  secondary education             1   \n",
       "2         0           5623         33  secondary education             1   \n",
       "3         3           4124         32  secondary education             1   \n",
       "4         0         340266         53  secondary education             1   \n",
       "\n",
       "       family_status  family_status_id gender income_type  debt  total_income  \\\n",
       "0            married                 0      F    employee     0     40620.102   \n",
       "1            married                 0      F    employee     0     17932.802   \n",
       "2            married                 0      M    employee     0     23341.752   \n",
       "3            married                 0      M    employee     0     42820.568   \n",
       "4  civil partnership                 1      F     retiree     0     25378.572   \n",
       "\n",
       "                   purpose  clean_income1  clean_income2  clean_income3  \\\n",
       "0    purchase of the house      40620.102          40620      40620.102   \n",
       "1             car purchase      17932.802          17932      17932.802   \n",
       "2    purchase of the house      23341.752          23341      23341.752   \n",
       "3  supplementary education      42820.568          42820      42820.568   \n",
       "4        to have a wedding      25378.572          25378      25378.572   \n",
       "\n",
       "   income_level  \n",
       "0  middle-class  \n",
       "1          poor  \n",
       "2  middle-class  \n",
       "3  middle-class  \n",
       "4  middle-class  "
      ]
     },
     "execution_count": 81,
     "metadata": {},
     "output_type": "execute_result"
    }
   ],
   "source": [
    "credit_scoring.head()"
   ]
  },
  {
   "cell_type": "code",
   "execution_count": 82,
   "metadata": {},
   "outputs": [
    {
     "name": "stdout",
     "output_type": "stream",
     "text": [
      "<class 'pandas.core.frame.DataFrame'>\n",
      "RangeIndex: 21454 entries, 0 to 21453\n",
      "Data columns (total 16 columns):\n",
      " #   Column            Non-Null Count  Dtype  \n",
      "---  ------            --------------  -----  \n",
      " 0   children          21454 non-null  int64  \n",
      " 1   days_employed     21454 non-null  int64  \n",
      " 2   dob_years         21454 non-null  int64  \n",
      " 3   education         21454 non-null  object \n",
      " 4   education_id      21454 non-null  int64  \n",
      " 5   family_status     21454 non-null  object \n",
      " 6   family_status_id  21454 non-null  int64  \n",
      " 7   gender            21454 non-null  object \n",
      " 8   income_type       21454 non-null  object \n",
      " 9   debt              21454 non-null  int64  \n",
      " 10  total_income      19351 non-null  float64\n",
      " 11  purpose           21454 non-null  object \n",
      " 12  clean_income1     21454 non-null  float64\n",
      " 13  clean_income2     21454 non-null  int64  \n",
      " 14  clean_income3     21453 non-null  float64\n",
      " 15  income_level      21454 non-null  object \n",
      "dtypes: float64(3), int64(7), object(6)\n",
      "memory usage: 2.6+ MB\n"
     ]
    }
   ],
   "source": [
    "credit_scoring.info()"
   ]
  },
  {
   "cell_type": "markdown",
   "metadata": {},
   "source": [
    "Check how many customers in the each category grouping by `income_level` and using the `count()` method."
   ]
  },
  {
   "cell_type": "code",
   "execution_count": 83,
   "metadata": {},
   "outputs": [
    {
     "data": {
      "text/plain": [
       "income_level\n",
       "middle-class    9403\n",
       "poor            9803\n",
       "poverty          927\n",
       "rich              99\n",
       "wealthy         1222\n",
       "Name: income_level, dtype: int64"
      ]
     },
     "execution_count": 83,
     "metadata": {},
     "output_type": "execute_result"
    }
   ],
   "source": [
    "credit_scoring.groupby('income_level')['income_level'].count()"
   ]
  },
  {
   "cell_type": "markdown",
   "metadata": {},
   "source": [
    "Let's categorize our dataset according to purposes. We should check what purposes we have in the `purpose` column by calling the `unique()` method for this column."
   ]
  },
  {
   "cell_type": "code",
   "execution_count": 84,
   "metadata": {},
   "outputs": [
    {
     "data": {
      "text/plain": [
       "array(['purchase of the house', 'car purchase', 'supplementary education',\n",
       "       'to have a wedding', 'housing transactions', 'education',\n",
       "       'having a wedding', 'purchase of the house for my family',\n",
       "       'buy real estate', 'buy commercial real estate',\n",
       "       'buy residential real estate', 'construction of own property',\n",
       "       'property', 'building a property', 'buying a second-hand car',\n",
       "       'buying my own car', 'transactions with commercial real estate',\n",
       "       'building a real estate', 'housing',\n",
       "       'transactions with my real estate', 'cars', 'to become educated',\n",
       "       'second-hand car purchase', 'getting an education', 'car',\n",
       "       'wedding ceremony', 'to get a supplementary education',\n",
       "       'purchase of my own house', 'real estate transactions',\n",
       "       'getting higher education', 'to own a car', 'purchase of a car',\n",
       "       'profile education', 'university education',\n",
       "       'buying property for renting out', 'to buy a car',\n",
       "       'housing renovation', 'going to university'], dtype=object)"
      ]
     },
     "execution_count": 84,
     "metadata": {},
     "output_type": "execute_result"
    }
   ],
   "source": [
    "credit_scoring.purpose.unique()"
   ]
  },
  {
   "cell_type": "markdown",
   "metadata": {},
   "source": [
    "Now, we can see all the purposes, so we can create 4 categories and make list of key words for each of them."
   ]
  },
  {
   "cell_type": "code",
   "execution_count": 85,
   "metadata": {},
   "outputs": [],
   "source": [
    "wedding_category = ['wedding','ceremony']\n",
    "house_category = ['house', 'real','estate','property','housing']\n",
    "car_category = ['car','cars']\n",
    "education_category = ['education','university', 'educated']"
   ]
  },
  {
   "cell_type": "code",
   "execution_count": 86,
   "metadata": {},
   "outputs": [],
   "source": [
    "m = Mystem()"
   ]
  },
  {
   "cell_type": "markdown",
   "metadata": {},
   "source": [
    "Let's build up the function for lemmatization words and check if it works properly."
   ]
  },
  {
   "cell_type": "code",
   "execution_count": 87,
   "metadata": {},
   "outputs": [],
   "source": [
    "def lemmatization_func(line):\n",
    "    lemmatized = m.lemmatize(line)\n",
    "    return lemmatized"
   ]
  },
  {
   "cell_type": "markdown",
   "metadata": {},
   "source": [
    "Let's check how it works. Take example of sentence from the column `purpose` from the first row and save into variable `example`."
   ]
  },
  {
   "cell_type": "code",
   "execution_count": 88,
   "metadata": {},
   "outputs": [
    {
     "data": {
      "text/plain": [
       "'purchase of the house'"
      ]
     },
     "execution_count": 88,
     "metadata": {},
     "output_type": "execute_result"
    }
   ],
   "source": [
    "example = credit_scoring.loc[0]['purpose']\n",
    "example"
   ]
  },
  {
   "cell_type": "markdown",
   "metadata": {},
   "source": [
    "Let's lemmatize this example."
   ]
  },
  {
   "cell_type": "code",
   "execution_count": 89,
   "metadata": {},
   "outputs": [
    {
     "data": {
      "text/plain": [
       "['purchase', ' ', 'of', ' ', 'the', ' ', 'house', '\\n']"
      ]
     },
     "execution_count": 89,
     "metadata": {},
     "output_type": "execute_result"
    }
   ],
   "source": [
    "lemmatization_func(example)"
   ]
  },
  {
   "cell_type": "markdown",
   "metadata": {},
   "source": [
    "Now write and check `any()` function. It should return `True`, if it finds any word in `lemmatization_func(example)` that matches any word from list of words in variable `house_category`."
   ]
  },
  {
   "cell_type": "code",
   "execution_count": 90,
   "metadata": {},
   "outputs": [
    {
     "data": {
      "text/plain": [
       "True"
      ]
     },
     "execution_count": 90,
     "metadata": {},
     "output_type": "execute_result"
    }
   ],
   "source": [
    "any(word in lemmatization_func(example) for word in house_category)"
   ]
  },
  {
   "cell_type": "markdown",
   "metadata": {},
   "source": [
    "Here write the same for list of words in variable `wedding_category`. It should return `False`, because in our variable `example` it won't find any word that matches any word from list of words in `wedding_category`."
   ]
  },
  {
   "cell_type": "code",
   "execution_count": 91,
   "metadata": {},
   "outputs": [
    {
     "data": {
      "text/plain": [
       "False"
      ]
     },
     "execution_count": 91,
     "metadata": {},
     "output_type": "execute_result"
    }
   ],
   "source": [
    "any(word in lemmatization_func(example) for word in wedding_category)"
   ]
  },
  {
   "cell_type": "markdown",
   "metadata": {},
   "source": [
    "It works properly."
   ]
  },
  {
   "cell_type": "markdown",
   "metadata": {},
   "source": [
    "Now we should modify our `lemmatization_func(line)` function, so that it will check lemmatized words in each category list and will return name of category like `wedding`, `car`, `education`, `house` or `other` if it's doesn't match any words from categories lists."
   ]
  },
  {
   "cell_type": "code",
   "execution_count": 92,
   "metadata": {},
   "outputs": [],
   "source": [
    "def lemmatization_func(line):\n",
    "    lemmatized = m.lemmatize(line)\n",
    "    if any(word in lemmatized for word in wedding_category):\n",
    "        return 'wedding'\n",
    "    elif any(word in lemmatized for word in car_category):\n",
    "        return 'car'\n",
    "    elif any(word in lemmatized for word in education_category):\n",
    "        return 'education'\n",
    "    elif any(word in lemmatized for word in house_category):\n",
    "        return 'house'\n",
    "    else:\n",
    "        return 'other'"
   ]
  },
  {
   "cell_type": "markdown",
   "metadata": {},
   "source": [
    "Let's add new column `clean_purpose` to our dataset in order more clearly categorize loan puproses."
   ]
  },
  {
   "cell_type": "code",
   "execution_count": 93,
   "metadata": {},
   "outputs": [],
   "source": [
    "credit_scoring['clean_purpose'] = credit_scoring['purpose'].apply(lemmatization_func)"
   ]
  },
  {
   "cell_type": "markdown",
   "metadata": {},
   "source": [
    "Now, check how many loans were for different purpose categories."
   ]
  },
  {
   "cell_type": "code",
   "execution_count": 95,
   "metadata": {},
   "outputs": [
    {
     "data": {
      "text/plain": [
       "house        10811\n",
       "car           4306\n",
       "education     4013\n",
       "wedding       2324\n",
       "Name: clean_purpose, dtype: int64"
      ]
     },
     "execution_count": 95,
     "metadata": {},
     "output_type": "execute_result"
    }
   ],
   "source": [
    "credit_scoring['clean_purpose'].value_counts()"
   ]
  },
  {
   "cell_type": "markdown",
   "metadata": {},
   "source": [
    "We categorized all our purposes into just 4 categories. Let's check our dataset."
   ]
  },
  {
   "cell_type": "code",
   "execution_count": 98,
   "metadata": {},
   "outputs": [
    {
     "data": {
      "text/html": [
       "<div>\n",
       "<style scoped>\n",
       "    .dataframe tbody tr th:only-of-type {\n",
       "        vertical-align: middle;\n",
       "    }\n",
       "\n",
       "    .dataframe tbody tr th {\n",
       "        vertical-align: top;\n",
       "    }\n",
       "\n",
       "    .dataframe thead th {\n",
       "        text-align: right;\n",
       "    }\n",
       "</style>\n",
       "<table border=\"1\" class=\"dataframe\">\n",
       "  <thead>\n",
       "    <tr style=\"text-align: right;\">\n",
       "      <th></th>\n",
       "      <th>children</th>\n",
       "      <th>days_employed</th>\n",
       "      <th>dob_years</th>\n",
       "      <th>education</th>\n",
       "      <th>education_id</th>\n",
       "      <th>family_status</th>\n",
       "      <th>family_status_id</th>\n",
       "      <th>gender</th>\n",
       "      <th>income_type</th>\n",
       "      <th>debt</th>\n",
       "      <th>total_income</th>\n",
       "      <th>purpose</th>\n",
       "      <th>clean_income1</th>\n",
       "      <th>clean_income2</th>\n",
       "      <th>clean_income3</th>\n",
       "      <th>income_level</th>\n",
       "      <th>clean_purpose</th>\n",
       "    </tr>\n",
       "  </thead>\n",
       "  <tbody>\n",
       "    <tr>\n",
       "      <th>0</th>\n",
       "      <td>1</td>\n",
       "      <td>8437</td>\n",
       "      <td>42</td>\n",
       "      <td>bachelor's degree</td>\n",
       "      <td>0</td>\n",
       "      <td>married</td>\n",
       "      <td>0</td>\n",
       "      <td>F</td>\n",
       "      <td>employee</td>\n",
       "      <td>0</td>\n",
       "      <td>40620.102</td>\n",
       "      <td>purchase of the house</td>\n",
       "      <td>40620.102</td>\n",
       "      <td>40620</td>\n",
       "      <td>40620.102</td>\n",
       "      <td>middle-class</td>\n",
       "      <td>house</td>\n",
       "    </tr>\n",
       "    <tr>\n",
       "      <th>1</th>\n",
       "      <td>1</td>\n",
       "      <td>4024</td>\n",
       "      <td>36</td>\n",
       "      <td>secondary education</td>\n",
       "      <td>1</td>\n",
       "      <td>married</td>\n",
       "      <td>0</td>\n",
       "      <td>F</td>\n",
       "      <td>employee</td>\n",
       "      <td>0</td>\n",
       "      <td>17932.802</td>\n",
       "      <td>car purchase</td>\n",
       "      <td>17932.802</td>\n",
       "      <td>17932</td>\n",
       "      <td>17932.802</td>\n",
       "      <td>poor</td>\n",
       "      <td>car</td>\n",
       "    </tr>\n",
       "    <tr>\n",
       "      <th>2</th>\n",
       "      <td>0</td>\n",
       "      <td>5623</td>\n",
       "      <td>33</td>\n",
       "      <td>secondary education</td>\n",
       "      <td>1</td>\n",
       "      <td>married</td>\n",
       "      <td>0</td>\n",
       "      <td>M</td>\n",
       "      <td>employee</td>\n",
       "      <td>0</td>\n",
       "      <td>23341.752</td>\n",
       "      <td>purchase of the house</td>\n",
       "      <td>23341.752</td>\n",
       "      <td>23341</td>\n",
       "      <td>23341.752</td>\n",
       "      <td>middle-class</td>\n",
       "      <td>house</td>\n",
       "    </tr>\n",
       "    <tr>\n",
       "      <th>3</th>\n",
       "      <td>3</td>\n",
       "      <td>4124</td>\n",
       "      <td>32</td>\n",
       "      <td>secondary education</td>\n",
       "      <td>1</td>\n",
       "      <td>married</td>\n",
       "      <td>0</td>\n",
       "      <td>M</td>\n",
       "      <td>employee</td>\n",
       "      <td>0</td>\n",
       "      <td>42820.568</td>\n",
       "      <td>supplementary education</td>\n",
       "      <td>42820.568</td>\n",
       "      <td>42820</td>\n",
       "      <td>42820.568</td>\n",
       "      <td>middle-class</td>\n",
       "      <td>education</td>\n",
       "    </tr>\n",
       "    <tr>\n",
       "      <th>4</th>\n",
       "      <td>0</td>\n",
       "      <td>340266</td>\n",
       "      <td>53</td>\n",
       "      <td>secondary education</td>\n",
       "      <td>1</td>\n",
       "      <td>civil partnership</td>\n",
       "      <td>1</td>\n",
       "      <td>F</td>\n",
       "      <td>retiree</td>\n",
       "      <td>0</td>\n",
       "      <td>25378.572</td>\n",
       "      <td>to have a wedding</td>\n",
       "      <td>25378.572</td>\n",
       "      <td>25378</td>\n",
       "      <td>25378.572</td>\n",
       "      <td>middle-class</td>\n",
       "      <td>wedding</td>\n",
       "    </tr>\n",
       "  </tbody>\n",
       "</table>\n",
       "</div>"
      ],
      "text/plain": [
       "   children  days_employed  dob_years            education  education_id  \\\n",
       "0         1           8437         42    bachelor's degree             0   \n",
       "1         1           4024         36  secondary education             1   \n",
       "2         0           5623         33  secondary education             1   \n",
       "3         3           4124         32  secondary education             1   \n",
       "4         0         340266         53  secondary education             1   \n",
       "\n",
       "       family_status  family_status_id gender income_type  debt  total_income  \\\n",
       "0            married                 0      F    employee     0     40620.102   \n",
       "1            married                 0      F    employee     0     17932.802   \n",
       "2            married                 0      M    employee     0     23341.752   \n",
       "3            married                 0      M    employee     0     42820.568   \n",
       "4  civil partnership                 1      F     retiree     0     25378.572   \n",
       "\n",
       "                   purpose  clean_income1  clean_income2  clean_income3  \\\n",
       "0    purchase of the house      40620.102          40620      40620.102   \n",
       "1             car purchase      17932.802          17932      17932.802   \n",
       "2    purchase of the house      23341.752          23341      23341.752   \n",
       "3  supplementary education      42820.568          42820      42820.568   \n",
       "4        to have a wedding      25378.572          25378      25378.572   \n",
       "\n",
       "   income_level clean_purpose  \n",
       "0  middle-class         house  \n",
       "1          poor           car  \n",
       "2  middle-class         house  \n",
       "3  middle-class     education  \n",
       "4  middle-class       wedding  "
      ]
     },
     "execution_count": 98,
     "metadata": {},
     "output_type": "execute_result"
    }
   ],
   "source": [
    "credit_scoring.head()"
   ]
  },
  {
   "cell_type": "markdown",
   "metadata": {},
   "source": [
    "#### Conclusion"
   ]
  },
  {
   "cell_type": "markdown",
   "metadata": {},
   "source": [
    "We categorized our customers by income and purpose to get loan. Now we can group them to different categories by their key characteristic. According to this categories we will be able to analyse relation between different categories of customers and their ability to repay a loan on time."
   ]
  },
  {
   "cell_type": "markdown",
   "metadata": {},
   "source": [
    "## Answer the questions"
   ]
  },
  {
   "cell_type": "markdown",
   "metadata": {},
   "source": [
    "### Is there a relation between having kids and repaying a loan on time?"
   ]
  },
  {
   "cell_type": "markdown",
   "metadata": {},
   "source": [
    "Build pivot table using `pivot_table(data, index, columns, values, aggfunc, margins=True)` method, where `index`: the column or columns whose values become the indices in the pivot table, `columns`: the column or columns whose values become columns in the pivot table, `values`: the values we want to aggregate in the pivot table, `aggfunc`: the aggregate function that we're applying to the values, `margins`: the argument to include row/column totals."
   ]
  },
  {
   "cell_type": "markdown",
   "metadata": {},
   "source": [
    "Let's look how having kids influnce on repaying a loan on time. Where `0` in debt means that loan was repayed on time, and `1` in debt means that loan was defaulted."
   ]
  },
  {
   "cell_type": "code",
   "execution_count": 99,
   "metadata": {},
   "outputs": [
    {
     "data": {
      "text/html": [
       "<div>\n",
       "<style scoped>\n",
       "    .dataframe tbody tr th:only-of-type {\n",
       "        vertical-align: middle;\n",
       "    }\n",
       "\n",
       "    .dataframe tbody tr th {\n",
       "        vertical-align: top;\n",
       "    }\n",
       "\n",
       "    .dataframe thead th {\n",
       "        text-align: right;\n",
       "    }\n",
       "</style>\n",
       "<table border=\"1\" class=\"dataframe\">\n",
       "  <thead>\n",
       "    <tr style=\"text-align: right;\">\n",
       "      <th>debt</th>\n",
       "      <th>0</th>\n",
       "      <th>1</th>\n",
       "      <th>All</th>\n",
       "    </tr>\n",
       "    <tr>\n",
       "      <th>children</th>\n",
       "      <th></th>\n",
       "      <th></th>\n",
       "      <th></th>\n",
       "    </tr>\n",
       "  </thead>\n",
       "  <tbody>\n",
       "    <tr>\n",
       "      <th>0</th>\n",
       "      <td>13028.0</td>\n",
       "      <td>1063.0</td>\n",
       "      <td>14091</td>\n",
       "    </tr>\n",
       "    <tr>\n",
       "      <th>1</th>\n",
       "      <td>4410.0</td>\n",
       "      <td>445.0</td>\n",
       "      <td>4855</td>\n",
       "    </tr>\n",
       "    <tr>\n",
       "      <th>2</th>\n",
       "      <td>1926.0</td>\n",
       "      <td>202.0</td>\n",
       "      <td>2128</td>\n",
       "    </tr>\n",
       "    <tr>\n",
       "      <th>3</th>\n",
       "      <td>303.0</td>\n",
       "      <td>27.0</td>\n",
       "      <td>330</td>\n",
       "    </tr>\n",
       "    <tr>\n",
       "      <th>4</th>\n",
       "      <td>37.0</td>\n",
       "      <td>4.0</td>\n",
       "      <td>41</td>\n",
       "    </tr>\n",
       "    <tr>\n",
       "      <th>5</th>\n",
       "      <td>9.0</td>\n",
       "      <td>NaN</td>\n",
       "      <td>9</td>\n",
       "    </tr>\n",
       "    <tr>\n",
       "      <th>All</th>\n",
       "      <td>19713.0</td>\n",
       "      <td>1741.0</td>\n",
       "      <td>21454</td>\n",
       "    </tr>\n",
       "  </tbody>\n",
       "</table>\n",
       "</div>"
      ],
      "text/plain": [
       "debt            0       1    All\n",
       "children                        \n",
       "0         13028.0  1063.0  14091\n",
       "1          4410.0   445.0   4855\n",
       "2          1926.0   202.0   2128\n",
       "3           303.0    27.0    330\n",
       "4            37.0     4.0     41\n",
       "5             9.0     NaN      9\n",
       "All       19713.0  1741.0  21454"
      ]
     },
     "execution_count": 99,
     "metadata": {},
     "output_type": "execute_result"
    }
   ],
   "source": [
    "children_status = pd.pivot_table(credit_scoring, index = 'children', columns = 'debt', \n",
    "                              values = 'family_status_id', aggfunc = 'count', margins=True)\n",
    "children_status"
   ]
  },
  {
   "cell_type": "markdown",
   "metadata": {},
   "source": [
    "Calculate `default_rate` for customers with different children status and apply new column to our pivot table (`default_rate`). For this divide column with defaulted loans (has index `[1]`, because column `children` became index in our pivot table) by overall amount of loans for each amount of kids (`[All]`)."
   ]
  },
  {
   "cell_type": "code",
   "execution_count": 100,
   "metadata": {},
   "outputs": [
    {
     "data": {
      "text/html": [
       "<div>\n",
       "<style scoped>\n",
       "    .dataframe tbody tr th:only-of-type {\n",
       "        vertical-align: middle;\n",
       "    }\n",
       "\n",
       "    .dataframe tbody tr th {\n",
       "        vertical-align: top;\n",
       "    }\n",
       "\n",
       "    .dataframe thead th {\n",
       "        text-align: right;\n",
       "    }\n",
       "</style>\n",
       "<table border=\"1\" class=\"dataframe\">\n",
       "  <thead>\n",
       "    <tr style=\"text-align: right;\">\n",
       "      <th>debt</th>\n",
       "      <th>0</th>\n",
       "      <th>1</th>\n",
       "      <th>All</th>\n",
       "      <th>default_rate</th>\n",
       "    </tr>\n",
       "    <tr>\n",
       "      <th>children</th>\n",
       "      <th></th>\n",
       "      <th></th>\n",
       "      <th></th>\n",
       "      <th></th>\n",
       "    </tr>\n",
       "  </thead>\n",
       "  <tbody>\n",
       "    <tr>\n",
       "      <th>0</th>\n",
       "      <td>13028.0</td>\n",
       "      <td>1063.0</td>\n",
       "      <td>14091</td>\n",
       "      <td>7.543822</td>\n",
       "    </tr>\n",
       "    <tr>\n",
       "      <th>1</th>\n",
       "      <td>4410.0</td>\n",
       "      <td>445.0</td>\n",
       "      <td>4855</td>\n",
       "      <td>9.165808</td>\n",
       "    </tr>\n",
       "    <tr>\n",
       "      <th>2</th>\n",
       "      <td>1926.0</td>\n",
       "      <td>202.0</td>\n",
       "      <td>2128</td>\n",
       "      <td>9.492481</td>\n",
       "    </tr>\n",
       "    <tr>\n",
       "      <th>3</th>\n",
       "      <td>303.0</td>\n",
       "      <td>27.0</td>\n",
       "      <td>330</td>\n",
       "      <td>8.181818</td>\n",
       "    </tr>\n",
       "    <tr>\n",
       "      <th>4</th>\n",
       "      <td>37.0</td>\n",
       "      <td>4.0</td>\n",
       "      <td>41</td>\n",
       "      <td>9.756098</td>\n",
       "    </tr>\n",
       "    <tr>\n",
       "      <th>5</th>\n",
       "      <td>9.0</td>\n",
       "      <td>NaN</td>\n",
       "      <td>9</td>\n",
       "      <td>NaN</td>\n",
       "    </tr>\n",
       "    <tr>\n",
       "      <th>All</th>\n",
       "      <td>19713.0</td>\n",
       "      <td>1741.0</td>\n",
       "      <td>21454</td>\n",
       "      <td>8.115037</td>\n",
       "    </tr>\n",
       "  </tbody>\n",
       "</table>\n",
       "</div>"
      ],
      "text/plain": [
       "debt            0       1    All  default_rate\n",
       "children                                      \n",
       "0         13028.0  1063.0  14091      7.543822\n",
       "1          4410.0   445.0   4855      9.165808\n",
       "2          1926.0   202.0   2128      9.492481\n",
       "3           303.0    27.0    330      8.181818\n",
       "4            37.0     4.0     41      9.756098\n",
       "5             9.0     NaN      9           NaN\n",
       "All       19713.0  1741.0  21454      8.115037"
      ]
     },
     "execution_count": 100,
     "metadata": {},
     "output_type": "execute_result"
    }
   ],
   "source": [
    "children_status['default_rate'] = (children_status[1] / children_status['All']) * 100\n",
    "children_status"
   ]
  },
  {
   "cell_type": "markdown",
   "metadata": {},
   "source": [
    "#### Conclusion"
   ]
  },
  {
   "cell_type": "markdown",
   "metadata": {},
   "source": [
    "People with ***no children*** are the **best category** in term to the `default rate`, because their `default rate - 7.54%` below the `average default rate - 8.12%`. The **worst category** - people with ***4 children*** (`9.76%`). And with increasing the amount of children the default rate also increasing. It means that ***more children*** - **higher default risk**. Only people with 3 children are out of this rule and people with 5 children had no defaults. But we should keep in mind that it was only 9 people with 5 kids who took a loan. So it can be too small sample. Although maybe people with 5 children more responsible, because they know that have a lot of children to care about."
   ]
  },
  {
   "cell_type": "markdown",
   "metadata": {},
   "source": [
    "**Recomendation** to the bank will be to check better people with more children. Our conclusion that people without children the most trusted group."
   ]
  },
  {
   "cell_type": "markdown",
   "metadata": {},
   "source": [
    "### Is there a relation between marital status and repaying a loan on time?"
   ]
  },
  {
   "cell_type": "markdown",
   "metadata": {},
   "source": [
    "Build pivot table to see how different **marital status** influnces on repaying a loan on time. "
   ]
  },
  {
   "cell_type": "code",
   "execution_count": 101,
   "metadata": {},
   "outputs": [
    {
     "data": {
      "text/html": [
       "<div>\n",
       "<style scoped>\n",
       "    .dataframe tbody tr th:only-of-type {\n",
       "        vertical-align: middle;\n",
       "    }\n",
       "\n",
       "    .dataframe tbody tr th {\n",
       "        vertical-align: top;\n",
       "    }\n",
       "\n",
       "    .dataframe thead th {\n",
       "        text-align: right;\n",
       "    }\n",
       "</style>\n",
       "<table border=\"1\" class=\"dataframe\">\n",
       "  <thead>\n",
       "    <tr style=\"text-align: right;\">\n",
       "      <th>debt</th>\n",
       "      <th>0</th>\n",
       "      <th>1</th>\n",
       "      <th>All</th>\n",
       "    </tr>\n",
       "    <tr>\n",
       "      <th>family_status</th>\n",
       "      <th></th>\n",
       "      <th></th>\n",
       "      <th></th>\n",
       "    </tr>\n",
       "  </thead>\n",
       "  <tbody>\n",
       "    <tr>\n",
       "      <th>civil partnership</th>\n",
       "      <td>3763</td>\n",
       "      <td>388</td>\n",
       "      <td>4151</td>\n",
       "    </tr>\n",
       "    <tr>\n",
       "      <th>divorced</th>\n",
       "      <td>1110</td>\n",
       "      <td>85</td>\n",
       "      <td>1195</td>\n",
       "    </tr>\n",
       "    <tr>\n",
       "      <th>married</th>\n",
       "      <td>11408</td>\n",
       "      <td>931</td>\n",
       "      <td>12339</td>\n",
       "    </tr>\n",
       "    <tr>\n",
       "      <th>unmarried</th>\n",
       "      <td>2536</td>\n",
       "      <td>274</td>\n",
       "      <td>2810</td>\n",
       "    </tr>\n",
       "    <tr>\n",
       "      <th>widow / widower</th>\n",
       "      <td>896</td>\n",
       "      <td>63</td>\n",
       "      <td>959</td>\n",
       "    </tr>\n",
       "    <tr>\n",
       "      <th>All</th>\n",
       "      <td>19713</td>\n",
       "      <td>1741</td>\n",
       "      <td>21454</td>\n",
       "    </tr>\n",
       "  </tbody>\n",
       "</table>\n",
       "</div>"
      ],
      "text/plain": [
       "debt                   0     1    All\n",
       "family_status                        \n",
       "civil partnership   3763   388   4151\n",
       "divorced            1110    85   1195\n",
       "married            11408   931  12339\n",
       "unmarried           2536   274   2810\n",
       "widow / widower      896    63    959\n",
       "All                19713  1741  21454"
      ]
     },
     "execution_count": 101,
     "metadata": {},
     "output_type": "execute_result"
    }
   ],
   "source": [
    "family_status = pd.pivot_table(credit_scoring, index = 'family_status', columns = 'debt', \n",
    "                               values = 'family_status_id', aggfunc = 'count', margins=True)\n",
    "family_status"
   ]
  },
  {
   "cell_type": "markdown",
   "metadata": {},
   "source": [
    "Calculate `default_rate` for customers with different marital status."
   ]
  },
  {
   "cell_type": "code",
   "execution_count": 102,
   "metadata": {},
   "outputs": [
    {
     "data": {
      "text/html": [
       "<div>\n",
       "<style scoped>\n",
       "    .dataframe tbody tr th:only-of-type {\n",
       "        vertical-align: middle;\n",
       "    }\n",
       "\n",
       "    .dataframe tbody tr th {\n",
       "        vertical-align: top;\n",
       "    }\n",
       "\n",
       "    .dataframe thead th {\n",
       "        text-align: right;\n",
       "    }\n",
       "</style>\n",
       "<table border=\"1\" class=\"dataframe\">\n",
       "  <thead>\n",
       "    <tr style=\"text-align: right;\">\n",
       "      <th>debt</th>\n",
       "      <th>0</th>\n",
       "      <th>1</th>\n",
       "      <th>All</th>\n",
       "      <th>default_rate</th>\n",
       "    </tr>\n",
       "    <tr>\n",
       "      <th>family_status</th>\n",
       "      <th></th>\n",
       "      <th></th>\n",
       "      <th></th>\n",
       "      <th></th>\n",
       "    </tr>\n",
       "  </thead>\n",
       "  <tbody>\n",
       "    <tr>\n",
       "      <th>civil partnership</th>\n",
       "      <td>3763</td>\n",
       "      <td>388</td>\n",
       "      <td>4151</td>\n",
       "      <td>9.347145</td>\n",
       "    </tr>\n",
       "    <tr>\n",
       "      <th>divorced</th>\n",
       "      <td>1110</td>\n",
       "      <td>85</td>\n",
       "      <td>1195</td>\n",
       "      <td>7.112971</td>\n",
       "    </tr>\n",
       "    <tr>\n",
       "      <th>married</th>\n",
       "      <td>11408</td>\n",
       "      <td>931</td>\n",
       "      <td>12339</td>\n",
       "      <td>7.545182</td>\n",
       "    </tr>\n",
       "    <tr>\n",
       "      <th>unmarried</th>\n",
       "      <td>2536</td>\n",
       "      <td>274</td>\n",
       "      <td>2810</td>\n",
       "      <td>9.750890</td>\n",
       "    </tr>\n",
       "    <tr>\n",
       "      <th>widow / widower</th>\n",
       "      <td>896</td>\n",
       "      <td>63</td>\n",
       "      <td>959</td>\n",
       "      <td>6.569343</td>\n",
       "    </tr>\n",
       "    <tr>\n",
       "      <th>All</th>\n",
       "      <td>19713</td>\n",
       "      <td>1741</td>\n",
       "      <td>21454</td>\n",
       "      <td>8.115037</td>\n",
       "    </tr>\n",
       "  </tbody>\n",
       "</table>\n",
       "</div>"
      ],
      "text/plain": [
       "debt                   0     1    All  default_rate\n",
       "family_status                                      \n",
       "civil partnership   3763   388   4151      9.347145\n",
       "divorced            1110    85   1195      7.112971\n",
       "married            11408   931  12339      7.545182\n",
       "unmarried           2536   274   2810      9.750890\n",
       "widow / widower      896    63    959      6.569343\n",
       "All                19713  1741  21454      8.115037"
      ]
     },
     "execution_count": 102,
     "metadata": {},
     "output_type": "execute_result"
    }
   ],
   "source": [
    "family_status['default_rate'] = (family_status[1] / family_status['All']) * 100\n",
    "family_status"
   ]
  },
  {
   "cell_type": "markdown",
   "metadata": {},
   "source": [
    "Let's double check our result by grouping by `children` and `family_status` in pivot table."
   ]
  },
  {
   "cell_type": "code",
   "execution_count": 104,
   "metadata": {},
   "outputs": [
    {
     "data": {
      "text/html": [
       "<div>\n",
       "<style scoped>\n",
       "    .dataframe tbody tr th:only-of-type {\n",
       "        vertical-align: middle;\n",
       "    }\n",
       "\n",
       "    .dataframe tbody tr th {\n",
       "        vertical-align: top;\n",
       "    }\n",
       "\n",
       "    .dataframe thead th {\n",
       "        text-align: right;\n",
       "    }\n",
       "</style>\n",
       "<table border=\"1\" class=\"dataframe\">\n",
       "  <thead>\n",
       "    <tr style=\"text-align: right;\">\n",
       "      <th></th>\n",
       "      <th>debt</th>\n",
       "      <th>0</th>\n",
       "      <th>1</th>\n",
       "      <th>All</th>\n",
       "    </tr>\n",
       "    <tr>\n",
       "      <th>family_status</th>\n",
       "      <th>children</th>\n",
       "      <th></th>\n",
       "      <th></th>\n",
       "      <th></th>\n",
       "    </tr>\n",
       "  </thead>\n",
       "  <tbody>\n",
       "    <tr>\n",
       "      <th rowspan=\"6\" valign=\"top\">civil partnership</th>\n",
       "      <th>0</th>\n",
       "      <td>2501.0</td>\n",
       "      <td>229.0</td>\n",
       "      <td>2730</td>\n",
       "    </tr>\n",
       "    <tr>\n",
       "      <th>1</th>\n",
       "      <td>882.0</td>\n",
       "      <td>118.0</td>\n",
       "      <td>1000</td>\n",
       "    </tr>\n",
       "    <tr>\n",
       "      <th>2</th>\n",
       "      <td>322.0</td>\n",
       "      <td>33.0</td>\n",
       "      <td>355</td>\n",
       "    </tr>\n",
       "    <tr>\n",
       "      <th>3</th>\n",
       "      <td>48.0</td>\n",
       "      <td>8.0</td>\n",
       "      <td>56</td>\n",
       "    </tr>\n",
       "    <tr>\n",
       "      <th>4</th>\n",
       "      <td>8.0</td>\n",
       "      <td>NaN</td>\n",
       "      <td>8</td>\n",
       "    </tr>\n",
       "    <tr>\n",
       "      <th>5</th>\n",
       "      <td>2.0</td>\n",
       "      <td>NaN</td>\n",
       "      <td>2</td>\n",
       "    </tr>\n",
       "    <tr>\n",
       "      <th rowspan=\"5\" valign=\"top\">divorced</th>\n",
       "      <th>0</th>\n",
       "      <td>729.0</td>\n",
       "      <td>55.0</td>\n",
       "      <td>784</td>\n",
       "    </tr>\n",
       "    <tr>\n",
       "      <th>1</th>\n",
       "      <td>295.0</td>\n",
       "      <td>21.0</td>\n",
       "      <td>316</td>\n",
       "    </tr>\n",
       "    <tr>\n",
       "      <th>2</th>\n",
       "      <td>75.0</td>\n",
       "      <td>8.0</td>\n",
       "      <td>83</td>\n",
       "    </tr>\n",
       "    <tr>\n",
       "      <th>3</th>\n",
       "      <td>10.0</td>\n",
       "      <td>1.0</td>\n",
       "      <td>11</td>\n",
       "    </tr>\n",
       "    <tr>\n",
       "      <th>4</th>\n",
       "      <td>1.0</td>\n",
       "      <td>NaN</td>\n",
       "      <td>1</td>\n",
       "    </tr>\n",
       "    <tr>\n",
       "      <th rowspan=\"6\" valign=\"top\">married</th>\n",
       "      <th>0</th>\n",
       "      <td>6952.0</td>\n",
       "      <td>516.0</td>\n",
       "      <td>7468</td>\n",
       "    </tr>\n",
       "    <tr>\n",
       "      <th>1</th>\n",
       "      <td>2757.0</td>\n",
       "      <td>247.0</td>\n",
       "      <td>3004</td>\n",
       "    </tr>\n",
       "    <tr>\n",
       "      <th>2</th>\n",
       "      <td>1434.0</td>\n",
       "      <td>148.0</td>\n",
       "      <td>1582</td>\n",
       "    </tr>\n",
       "    <tr>\n",
       "      <th>3</th>\n",
       "      <td>232.0</td>\n",
       "      <td>17.0</td>\n",
       "      <td>249</td>\n",
       "    </tr>\n",
       "    <tr>\n",
       "      <th>4</th>\n",
       "      <td>26.0</td>\n",
       "      <td>3.0</td>\n",
       "      <td>29</td>\n",
       "    </tr>\n",
       "    <tr>\n",
       "      <th>5</th>\n",
       "      <td>7.0</td>\n",
       "      <td>NaN</td>\n",
       "      <td>7</td>\n",
       "    </tr>\n",
       "    <tr>\n",
       "      <th rowspan=\"5\" valign=\"top\">unmarried</th>\n",
       "      <th>0</th>\n",
       "      <td>2052.0</td>\n",
       "      <td>210.0</td>\n",
       "      <td>2262</td>\n",
       "    </tr>\n",
       "    <tr>\n",
       "      <th>1</th>\n",
       "      <td>402.0</td>\n",
       "      <td>52.0</td>\n",
       "      <td>454</td>\n",
       "    </tr>\n",
       "    <tr>\n",
       "      <th>2</th>\n",
       "      <td>74.0</td>\n",
       "      <td>10.0</td>\n",
       "      <td>84</td>\n",
       "    </tr>\n",
       "    <tr>\n",
       "      <th>3</th>\n",
       "      <td>7.0</td>\n",
       "      <td>1.0</td>\n",
       "      <td>8</td>\n",
       "    </tr>\n",
       "    <tr>\n",
       "      <th>4</th>\n",
       "      <td>1.0</td>\n",
       "      <td>1.0</td>\n",
       "      <td>2</td>\n",
       "    </tr>\n",
       "    <tr>\n",
       "      <th rowspan=\"5\" valign=\"top\">widow / widower</th>\n",
       "      <th>0</th>\n",
       "      <td>794.0</td>\n",
       "      <td>53.0</td>\n",
       "      <td>847</td>\n",
       "    </tr>\n",
       "    <tr>\n",
       "      <th>1</th>\n",
       "      <td>74.0</td>\n",
       "      <td>7.0</td>\n",
       "      <td>81</td>\n",
       "    </tr>\n",
       "    <tr>\n",
       "      <th>2</th>\n",
       "      <td>21.0</td>\n",
       "      <td>3.0</td>\n",
       "      <td>24</td>\n",
       "    </tr>\n",
       "    <tr>\n",
       "      <th>3</th>\n",
       "      <td>6.0</td>\n",
       "      <td>NaN</td>\n",
       "      <td>6</td>\n",
       "    </tr>\n",
       "    <tr>\n",
       "      <th>4</th>\n",
       "      <td>1.0</td>\n",
       "      <td>NaN</td>\n",
       "      <td>1</td>\n",
       "    </tr>\n",
       "    <tr>\n",
       "      <th>All</th>\n",
       "      <th></th>\n",
       "      <td>19713.0</td>\n",
       "      <td>1741.0</td>\n",
       "      <td>21454</td>\n",
       "    </tr>\n",
       "  </tbody>\n",
       "</table>\n",
       "</div>"
      ],
      "text/plain": [
       "debt                              0       1    All\n",
       "family_status     children                        \n",
       "civil partnership 0          2501.0   229.0   2730\n",
       "                  1           882.0   118.0   1000\n",
       "                  2           322.0    33.0    355\n",
       "                  3            48.0     8.0     56\n",
       "                  4             8.0     NaN      8\n",
       "                  5             2.0     NaN      2\n",
       "divorced          0           729.0    55.0    784\n",
       "                  1           295.0    21.0    316\n",
       "                  2            75.0     8.0     83\n",
       "                  3            10.0     1.0     11\n",
       "                  4             1.0     NaN      1\n",
       "married           0          6952.0   516.0   7468\n",
       "                  1          2757.0   247.0   3004\n",
       "                  2          1434.0   148.0   1582\n",
       "                  3           232.0    17.0    249\n",
       "                  4            26.0     3.0     29\n",
       "                  5             7.0     NaN      7\n",
       "unmarried         0          2052.0   210.0   2262\n",
       "                  1           402.0    52.0    454\n",
       "                  2            74.0    10.0     84\n",
       "                  3             7.0     1.0      8\n",
       "                  4             1.0     1.0      2\n",
       "widow / widower   0           794.0    53.0    847\n",
       "                  1            74.0     7.0     81\n",
       "                  2            21.0     3.0     24\n",
       "                  3             6.0     NaN      6\n",
       "                  4             1.0     NaN      1\n",
       "All                         19713.0  1741.0  21454"
      ]
     },
     "execution_count": 104,
     "metadata": {},
     "output_type": "execute_result"
    }
   ],
   "source": [
    "family_status_kids = pd.pivot_table(credit_scoring, index = ['family_status','children'], columns = 'debt', \n",
    "                               values = 'family_status_id', aggfunc = 'count', margins=True)\n",
    "family_status_kids"
   ]
  },
  {
   "cell_type": "code",
   "execution_count": 105,
   "metadata": {},
   "outputs": [
    {
     "data": {
      "text/html": [
       "<div>\n",
       "<style scoped>\n",
       "    .dataframe tbody tr th:only-of-type {\n",
       "        vertical-align: middle;\n",
       "    }\n",
       "\n",
       "    .dataframe tbody tr th {\n",
       "        vertical-align: top;\n",
       "    }\n",
       "\n",
       "    .dataframe thead th {\n",
       "        text-align: right;\n",
       "    }\n",
       "</style>\n",
       "<table border=\"1\" class=\"dataframe\">\n",
       "  <thead>\n",
       "    <tr style=\"text-align: right;\">\n",
       "      <th></th>\n",
       "      <th>debt</th>\n",
       "      <th>0</th>\n",
       "      <th>1</th>\n",
       "      <th>All</th>\n",
       "      <th>default_rate</th>\n",
       "    </tr>\n",
       "    <tr>\n",
       "      <th>family_status</th>\n",
       "      <th>children</th>\n",
       "      <th></th>\n",
       "      <th></th>\n",
       "      <th></th>\n",
       "      <th></th>\n",
       "    </tr>\n",
       "  </thead>\n",
       "  <tbody>\n",
       "    <tr>\n",
       "      <th rowspan=\"6\" valign=\"top\">civil partnership</th>\n",
       "      <th>0</th>\n",
       "      <td>2501.0</td>\n",
       "      <td>229.0</td>\n",
       "      <td>2730</td>\n",
       "      <td>8.388278</td>\n",
       "    </tr>\n",
       "    <tr>\n",
       "      <th>1</th>\n",
       "      <td>882.0</td>\n",
       "      <td>118.0</td>\n",
       "      <td>1000</td>\n",
       "      <td>11.800000</td>\n",
       "    </tr>\n",
       "    <tr>\n",
       "      <th>2</th>\n",
       "      <td>322.0</td>\n",
       "      <td>33.0</td>\n",
       "      <td>355</td>\n",
       "      <td>9.295775</td>\n",
       "    </tr>\n",
       "    <tr>\n",
       "      <th>3</th>\n",
       "      <td>48.0</td>\n",
       "      <td>8.0</td>\n",
       "      <td>56</td>\n",
       "      <td>14.285714</td>\n",
       "    </tr>\n",
       "    <tr>\n",
       "      <th>4</th>\n",
       "      <td>8.0</td>\n",
       "      <td>NaN</td>\n",
       "      <td>8</td>\n",
       "      <td>NaN</td>\n",
       "    </tr>\n",
       "    <tr>\n",
       "      <th>5</th>\n",
       "      <td>2.0</td>\n",
       "      <td>NaN</td>\n",
       "      <td>2</td>\n",
       "      <td>NaN</td>\n",
       "    </tr>\n",
       "    <tr>\n",
       "      <th rowspan=\"5\" valign=\"top\">divorced</th>\n",
       "      <th>0</th>\n",
       "      <td>729.0</td>\n",
       "      <td>55.0</td>\n",
       "      <td>784</td>\n",
       "      <td>7.015306</td>\n",
       "    </tr>\n",
       "    <tr>\n",
       "      <th>1</th>\n",
       "      <td>295.0</td>\n",
       "      <td>21.0</td>\n",
       "      <td>316</td>\n",
       "      <td>6.645570</td>\n",
       "    </tr>\n",
       "    <tr>\n",
       "      <th>2</th>\n",
       "      <td>75.0</td>\n",
       "      <td>8.0</td>\n",
       "      <td>83</td>\n",
       "      <td>9.638554</td>\n",
       "    </tr>\n",
       "    <tr>\n",
       "      <th>3</th>\n",
       "      <td>10.0</td>\n",
       "      <td>1.0</td>\n",
       "      <td>11</td>\n",
       "      <td>9.090909</td>\n",
       "    </tr>\n",
       "    <tr>\n",
       "      <th>4</th>\n",
       "      <td>1.0</td>\n",
       "      <td>NaN</td>\n",
       "      <td>1</td>\n",
       "      <td>NaN</td>\n",
       "    </tr>\n",
       "    <tr>\n",
       "      <th rowspan=\"6\" valign=\"top\">married</th>\n",
       "      <th>0</th>\n",
       "      <td>6952.0</td>\n",
       "      <td>516.0</td>\n",
       "      <td>7468</td>\n",
       "      <td>6.909480</td>\n",
       "    </tr>\n",
       "    <tr>\n",
       "      <th>1</th>\n",
       "      <td>2757.0</td>\n",
       "      <td>247.0</td>\n",
       "      <td>3004</td>\n",
       "      <td>8.222370</td>\n",
       "    </tr>\n",
       "    <tr>\n",
       "      <th>2</th>\n",
       "      <td>1434.0</td>\n",
       "      <td>148.0</td>\n",
       "      <td>1582</td>\n",
       "      <td>9.355247</td>\n",
       "    </tr>\n",
       "    <tr>\n",
       "      <th>3</th>\n",
       "      <td>232.0</td>\n",
       "      <td>17.0</td>\n",
       "      <td>249</td>\n",
       "      <td>6.827309</td>\n",
       "    </tr>\n",
       "    <tr>\n",
       "      <th>4</th>\n",
       "      <td>26.0</td>\n",
       "      <td>3.0</td>\n",
       "      <td>29</td>\n",
       "      <td>10.344828</td>\n",
       "    </tr>\n",
       "    <tr>\n",
       "      <th>5</th>\n",
       "      <td>7.0</td>\n",
       "      <td>NaN</td>\n",
       "      <td>7</td>\n",
       "      <td>NaN</td>\n",
       "    </tr>\n",
       "    <tr>\n",
       "      <th rowspan=\"5\" valign=\"top\">unmarried</th>\n",
       "      <th>0</th>\n",
       "      <td>2052.0</td>\n",
       "      <td>210.0</td>\n",
       "      <td>2262</td>\n",
       "      <td>9.283820</td>\n",
       "    </tr>\n",
       "    <tr>\n",
       "      <th>1</th>\n",
       "      <td>402.0</td>\n",
       "      <td>52.0</td>\n",
       "      <td>454</td>\n",
       "      <td>11.453744</td>\n",
       "    </tr>\n",
       "    <tr>\n",
       "      <th>2</th>\n",
       "      <td>74.0</td>\n",
       "      <td>10.0</td>\n",
       "      <td>84</td>\n",
       "      <td>11.904762</td>\n",
       "    </tr>\n",
       "    <tr>\n",
       "      <th>3</th>\n",
       "      <td>7.0</td>\n",
       "      <td>1.0</td>\n",
       "      <td>8</td>\n",
       "      <td>12.500000</td>\n",
       "    </tr>\n",
       "    <tr>\n",
       "      <th>4</th>\n",
       "      <td>1.0</td>\n",
       "      <td>1.0</td>\n",
       "      <td>2</td>\n",
       "      <td>50.000000</td>\n",
       "    </tr>\n",
       "    <tr>\n",
       "      <th rowspan=\"5\" valign=\"top\">widow / widower</th>\n",
       "      <th>0</th>\n",
       "      <td>794.0</td>\n",
       "      <td>53.0</td>\n",
       "      <td>847</td>\n",
       "      <td>6.257379</td>\n",
       "    </tr>\n",
       "    <tr>\n",
       "      <th>1</th>\n",
       "      <td>74.0</td>\n",
       "      <td>7.0</td>\n",
       "      <td>81</td>\n",
       "      <td>8.641975</td>\n",
       "    </tr>\n",
       "    <tr>\n",
       "      <th>2</th>\n",
       "      <td>21.0</td>\n",
       "      <td>3.0</td>\n",
       "      <td>24</td>\n",
       "      <td>12.500000</td>\n",
       "    </tr>\n",
       "    <tr>\n",
       "      <th>3</th>\n",
       "      <td>6.0</td>\n",
       "      <td>NaN</td>\n",
       "      <td>6</td>\n",
       "      <td>NaN</td>\n",
       "    </tr>\n",
       "    <tr>\n",
       "      <th>4</th>\n",
       "      <td>1.0</td>\n",
       "      <td>NaN</td>\n",
       "      <td>1</td>\n",
       "      <td>NaN</td>\n",
       "    </tr>\n",
       "    <tr>\n",
       "      <th>All</th>\n",
       "      <th></th>\n",
       "      <td>19713.0</td>\n",
       "      <td>1741.0</td>\n",
       "      <td>21454</td>\n",
       "      <td>8.115037</td>\n",
       "    </tr>\n",
       "  </tbody>\n",
       "</table>\n",
       "</div>"
      ],
      "text/plain": [
       "debt                              0       1    All  default_rate\n",
       "family_status     children                                      \n",
       "civil partnership 0          2501.0   229.0   2730      8.388278\n",
       "                  1           882.0   118.0   1000     11.800000\n",
       "                  2           322.0    33.0    355      9.295775\n",
       "                  3            48.0     8.0     56     14.285714\n",
       "                  4             8.0     NaN      8           NaN\n",
       "                  5             2.0     NaN      2           NaN\n",
       "divorced          0           729.0    55.0    784      7.015306\n",
       "                  1           295.0    21.0    316      6.645570\n",
       "                  2            75.0     8.0     83      9.638554\n",
       "                  3            10.0     1.0     11      9.090909\n",
       "                  4             1.0     NaN      1           NaN\n",
       "married           0          6952.0   516.0   7468      6.909480\n",
       "                  1          2757.0   247.0   3004      8.222370\n",
       "                  2          1434.0   148.0   1582      9.355247\n",
       "                  3           232.0    17.0    249      6.827309\n",
       "                  4            26.0     3.0     29     10.344828\n",
       "                  5             7.0     NaN      7           NaN\n",
       "unmarried         0          2052.0   210.0   2262      9.283820\n",
       "                  1           402.0    52.0    454     11.453744\n",
       "                  2            74.0    10.0     84     11.904762\n",
       "                  3             7.0     1.0      8     12.500000\n",
       "                  4             1.0     1.0      2     50.000000\n",
       "widow / widower   0           794.0    53.0    847      6.257379\n",
       "                  1            74.0     7.0     81      8.641975\n",
       "                  2            21.0     3.0     24     12.500000\n",
       "                  3             6.0     NaN      6           NaN\n",
       "                  4             1.0     NaN      1           NaN\n",
       "All                         19713.0  1741.0  21454      8.115037"
      ]
     },
     "execution_count": 105,
     "metadata": {},
     "output_type": "execute_result"
    }
   ],
   "source": [
    "family_status_kids['default_rate'] = (family_status_kids[1] / family_status_kids['All']) * 100\n",
    "family_status_kids"
   ]
  },
  {
   "cell_type": "markdown",
   "metadata": {},
   "source": [
    "#### Conclusion"
   ]
  },
  {
   "cell_type": "markdown",
   "metadata": {},
   "source": [
    "**Married, divorced people and widow/widower** the most trusted categories, because of lower default rate (below the `average 8.12%`). People in ***civil partnership*** and ***unmarried*** have **high default rate** and have to be checked carefully. We see that unmarried people have high default rate especially with 4 kids - 50%, widows/widowers with 2 children also have high default rate -12.5%. People in civil relationships also have high default risk. Probably the **best option** for bank it's ***married people with no kids or 1 kid***. And also divorced without kids or with 1 kid and widow/widower without kids."
   ]
  },
  {
   "cell_type": "markdown",
   "metadata": {},
   "source": [
    "### Is there a relation between income level and repaying a loan on time?"
   ]
  },
  {
   "cell_type": "markdown",
   "metadata": {},
   "source": [
    "Build pivot table for different income level to find out how it influences on repaying a loan."
   ]
  },
  {
   "cell_type": "code",
   "execution_count": 107,
   "metadata": {},
   "outputs": [
    {
     "data": {
      "text/html": [
       "<div>\n",
       "<style scoped>\n",
       "    .dataframe tbody tr th:only-of-type {\n",
       "        vertical-align: middle;\n",
       "    }\n",
       "\n",
       "    .dataframe tbody tr th {\n",
       "        vertical-align: top;\n",
       "    }\n",
       "\n",
       "    .dataframe thead th {\n",
       "        text-align: right;\n",
       "    }\n",
       "</style>\n",
       "<table border=\"1\" class=\"dataframe\">\n",
       "  <thead>\n",
       "    <tr style=\"text-align: right;\">\n",
       "      <th>debt</th>\n",
       "      <th>0</th>\n",
       "      <th>1</th>\n",
       "      <th>All</th>\n",
       "    </tr>\n",
       "    <tr>\n",
       "      <th>income_level</th>\n",
       "      <th></th>\n",
       "      <th></th>\n",
       "      <th></th>\n",
       "    </tr>\n",
       "  </thead>\n",
       "  <tbody>\n",
       "    <tr>\n",
       "      <th>middle-class</th>\n",
       "      <td>8666</td>\n",
       "      <td>737</td>\n",
       "      <td>9403</td>\n",
       "    </tr>\n",
       "    <tr>\n",
       "      <th>poor</th>\n",
       "      <td>8949</td>\n",
       "      <td>854</td>\n",
       "      <td>9803</td>\n",
       "    </tr>\n",
       "    <tr>\n",
       "      <th>poverty</th>\n",
       "      <td>869</td>\n",
       "      <td>58</td>\n",
       "      <td>927</td>\n",
       "    </tr>\n",
       "    <tr>\n",
       "      <th>rich</th>\n",
       "      <td>93</td>\n",
       "      <td>6</td>\n",
       "      <td>99</td>\n",
       "    </tr>\n",
       "    <tr>\n",
       "      <th>wealthy</th>\n",
       "      <td>1136</td>\n",
       "      <td>86</td>\n",
       "      <td>1222</td>\n",
       "    </tr>\n",
       "    <tr>\n",
       "      <th>All</th>\n",
       "      <td>19713</td>\n",
       "      <td>1741</td>\n",
       "      <td>21454</td>\n",
       "    </tr>\n",
       "  </tbody>\n",
       "</table>\n",
       "</div>"
      ],
      "text/plain": [
       "debt              0     1    All\n",
       "income_level                    \n",
       "middle-class   8666   737   9403\n",
       "poor           8949   854   9803\n",
       "poverty         869    58    927\n",
       "rich             93     6     99\n",
       "wealthy        1136    86   1222\n",
       "All           19713  1741  21454"
      ]
     },
     "execution_count": 107,
     "metadata": {},
     "output_type": "execute_result"
    }
   ],
   "source": [
    "income_level = pd.pivot_table(credit_scoring, index = 'income_level', columns = 'debt', \n",
    "                               values = 'family_status_id', aggfunc = 'count', margins=True)\n",
    "income_level"
   ]
  },
  {
   "cell_type": "markdown",
   "metadata": {},
   "source": [
    "Calculate default rate for people with different income level."
   ]
  },
  {
   "cell_type": "code",
   "execution_count": 108,
   "metadata": {},
   "outputs": [
    {
     "data": {
      "text/html": [
       "<div>\n",
       "<style scoped>\n",
       "    .dataframe tbody tr th:only-of-type {\n",
       "        vertical-align: middle;\n",
       "    }\n",
       "\n",
       "    .dataframe tbody tr th {\n",
       "        vertical-align: top;\n",
       "    }\n",
       "\n",
       "    .dataframe thead th {\n",
       "        text-align: right;\n",
       "    }\n",
       "</style>\n",
       "<table border=\"1\" class=\"dataframe\">\n",
       "  <thead>\n",
       "    <tr style=\"text-align: right;\">\n",
       "      <th>debt</th>\n",
       "      <th>0</th>\n",
       "      <th>1</th>\n",
       "      <th>All</th>\n",
       "      <th>default_rate</th>\n",
       "    </tr>\n",
       "    <tr>\n",
       "      <th>income_level</th>\n",
       "      <th></th>\n",
       "      <th></th>\n",
       "      <th></th>\n",
       "      <th></th>\n",
       "    </tr>\n",
       "  </thead>\n",
       "  <tbody>\n",
       "    <tr>\n",
       "      <th>middle-class</th>\n",
       "      <td>8666</td>\n",
       "      <td>737</td>\n",
       "      <td>9403</td>\n",
       "      <td>7.837924</td>\n",
       "    </tr>\n",
       "    <tr>\n",
       "      <th>poor</th>\n",
       "      <td>8949</td>\n",
       "      <td>854</td>\n",
       "      <td>9803</td>\n",
       "      <td>8.711619</td>\n",
       "    </tr>\n",
       "    <tr>\n",
       "      <th>poverty</th>\n",
       "      <td>869</td>\n",
       "      <td>58</td>\n",
       "      <td>927</td>\n",
       "      <td>6.256742</td>\n",
       "    </tr>\n",
       "    <tr>\n",
       "      <th>rich</th>\n",
       "      <td>93</td>\n",
       "      <td>6</td>\n",
       "      <td>99</td>\n",
       "      <td>6.060606</td>\n",
       "    </tr>\n",
       "    <tr>\n",
       "      <th>wealthy</th>\n",
       "      <td>1136</td>\n",
       "      <td>86</td>\n",
       "      <td>1222</td>\n",
       "      <td>7.037643</td>\n",
       "    </tr>\n",
       "    <tr>\n",
       "      <th>All</th>\n",
       "      <td>19713</td>\n",
       "      <td>1741</td>\n",
       "      <td>21454</td>\n",
       "      <td>8.115037</td>\n",
       "    </tr>\n",
       "  </tbody>\n",
       "</table>\n",
       "</div>"
      ],
      "text/plain": [
       "debt              0     1    All  default_rate\n",
       "income_level                                  \n",
       "middle-class   8666   737   9403      7.837924\n",
       "poor           8949   854   9803      8.711619\n",
       "poverty         869    58    927      6.256742\n",
       "rich             93     6     99      6.060606\n",
       "wealthy        1136    86   1222      7.037643\n",
       "All           19713  1741  21454      8.115037"
      ]
     },
     "execution_count": 108,
     "metadata": {},
     "output_type": "execute_result"
    }
   ],
   "source": [
    "income_level['default_rate'] = (income_level[1] / income_level['All']) * 100\n",
    "income_level"
   ]
  },
  {
   "cell_type": "markdown",
   "metadata": {},
   "source": [
    "#### Conclusion"
   ]
  },
  {
   "cell_type": "markdown",
   "metadata": {},
   "source": [
    "People with income level group like **rich, wealthy and poverty** are repaying their loans better and have **lower default rate** than poor and middle-class. Maybe people in `poverty` category take less money for loan or repay carefully and safe money to return it to the bank. Maybe people with small total income have less kids. We don't know if it's true overall, but for our dataset we've got this result."
   ]
  },
  {
   "cell_type": "markdown",
   "metadata": {},
   "source": [
    "### How do different loan purposes affect on-time repayment of the loan?"
   ]
  },
  {
   "cell_type": "markdown",
   "metadata": {},
   "source": [
    "Build pivot table for different loan purposes to find out how it influences on repaying a loan."
   ]
  },
  {
   "cell_type": "code",
   "execution_count": 109,
   "metadata": {},
   "outputs": [
    {
     "data": {
      "text/html": [
       "<div>\n",
       "<style scoped>\n",
       "    .dataframe tbody tr th:only-of-type {\n",
       "        vertical-align: middle;\n",
       "    }\n",
       "\n",
       "    .dataframe tbody tr th {\n",
       "        vertical-align: top;\n",
       "    }\n",
       "\n",
       "    .dataframe thead th {\n",
       "        text-align: right;\n",
       "    }\n",
       "</style>\n",
       "<table border=\"1\" class=\"dataframe\">\n",
       "  <thead>\n",
       "    <tr style=\"text-align: right;\">\n",
       "      <th>debt</th>\n",
       "      <th>0</th>\n",
       "      <th>1</th>\n",
       "      <th>All</th>\n",
       "    </tr>\n",
       "    <tr>\n",
       "      <th>clean_purpose</th>\n",
       "      <th></th>\n",
       "      <th></th>\n",
       "      <th></th>\n",
       "    </tr>\n",
       "  </thead>\n",
       "  <tbody>\n",
       "    <tr>\n",
       "      <th>car</th>\n",
       "      <td>3903</td>\n",
       "      <td>403</td>\n",
       "      <td>4306</td>\n",
       "    </tr>\n",
       "    <tr>\n",
       "      <th>education</th>\n",
       "      <td>3643</td>\n",
       "      <td>370</td>\n",
       "      <td>4013</td>\n",
       "    </tr>\n",
       "    <tr>\n",
       "      <th>house</th>\n",
       "      <td>10029</td>\n",
       "      <td>782</td>\n",
       "      <td>10811</td>\n",
       "    </tr>\n",
       "    <tr>\n",
       "      <th>wedding</th>\n",
       "      <td>2138</td>\n",
       "      <td>186</td>\n",
       "      <td>2324</td>\n",
       "    </tr>\n",
       "    <tr>\n",
       "      <th>All</th>\n",
       "      <td>19713</td>\n",
       "      <td>1741</td>\n",
       "      <td>21454</td>\n",
       "    </tr>\n",
       "  </tbody>\n",
       "</table>\n",
       "</div>"
      ],
      "text/plain": [
       "debt               0     1    All\n",
       "clean_purpose                    \n",
       "car             3903   403   4306\n",
       "education       3643   370   4013\n",
       "house          10029   782  10811\n",
       "wedding         2138   186   2324\n",
       "All            19713  1741  21454"
      ]
     },
     "execution_count": 109,
     "metadata": {},
     "output_type": "execute_result"
    }
   ],
   "source": [
    "loan_purpose = pd.pivot_table(credit_scoring, index = 'clean_purpose', columns = 'debt', \n",
    "                               values = 'family_status_id', aggfunc = 'count', margins=True)\n",
    "loan_purpose"
   ]
  },
  {
   "cell_type": "markdown",
   "metadata": {},
   "source": [
    "Calculate `default rate` for people with different loan purposes."
   ]
  },
  {
   "cell_type": "code",
   "execution_count": 110,
   "metadata": {},
   "outputs": [
    {
     "data": {
      "text/html": [
       "<div>\n",
       "<style scoped>\n",
       "    .dataframe tbody tr th:only-of-type {\n",
       "        vertical-align: middle;\n",
       "    }\n",
       "\n",
       "    .dataframe tbody tr th {\n",
       "        vertical-align: top;\n",
       "    }\n",
       "\n",
       "    .dataframe thead th {\n",
       "        text-align: right;\n",
       "    }\n",
       "</style>\n",
       "<table border=\"1\" class=\"dataframe\">\n",
       "  <thead>\n",
       "    <tr style=\"text-align: right;\">\n",
       "      <th>debt</th>\n",
       "      <th>0</th>\n",
       "      <th>1</th>\n",
       "      <th>All</th>\n",
       "      <th>default_rate</th>\n",
       "    </tr>\n",
       "    <tr>\n",
       "      <th>clean_purpose</th>\n",
       "      <th></th>\n",
       "      <th></th>\n",
       "      <th></th>\n",
       "      <th></th>\n",
       "    </tr>\n",
       "  </thead>\n",
       "  <tbody>\n",
       "    <tr>\n",
       "      <th>car</th>\n",
       "      <td>3903</td>\n",
       "      <td>403</td>\n",
       "      <td>4306</td>\n",
       "      <td>9.359034</td>\n",
       "    </tr>\n",
       "    <tr>\n",
       "      <th>education</th>\n",
       "      <td>3643</td>\n",
       "      <td>370</td>\n",
       "      <td>4013</td>\n",
       "      <td>9.220035</td>\n",
       "    </tr>\n",
       "    <tr>\n",
       "      <th>house</th>\n",
       "      <td>10029</td>\n",
       "      <td>782</td>\n",
       "      <td>10811</td>\n",
       "      <td>7.233373</td>\n",
       "    </tr>\n",
       "    <tr>\n",
       "      <th>wedding</th>\n",
       "      <td>2138</td>\n",
       "      <td>186</td>\n",
       "      <td>2324</td>\n",
       "      <td>8.003442</td>\n",
       "    </tr>\n",
       "    <tr>\n",
       "      <th>All</th>\n",
       "      <td>19713</td>\n",
       "      <td>1741</td>\n",
       "      <td>21454</td>\n",
       "      <td>8.115037</td>\n",
       "    </tr>\n",
       "  </tbody>\n",
       "</table>\n",
       "</div>"
      ],
      "text/plain": [
       "debt               0     1    All  default_rate\n",
       "clean_purpose                                  \n",
       "car             3903   403   4306      9.359034\n",
       "education       3643   370   4013      9.220035\n",
       "house          10029   782  10811      7.233373\n",
       "wedding         2138   186   2324      8.003442\n",
       "All            19713  1741  21454      8.115037"
      ]
     },
     "execution_count": 110,
     "metadata": {},
     "output_type": "execute_result"
    }
   ],
   "source": [
    "loan_purpose['default_rate'] = (loan_purpose[1] / loan_purpose['All']) * 100\n",
    "loan_purpose"
   ]
  },
  {
   "cell_type": "markdown",
   "metadata": {},
   "source": [
    "#### Conclusion"
   ]
  },
  {
   "cell_type": "markdown",
   "metadata": {},
   "source": [
    "**Lower default risk** have people who take ***loans for houses***. And such purposes like ***buying car and education*** have **high risk** not repaying loans on time. Probably, students have less income level, have less time to work or maybe don't have degree yet to work on high-payed job. And people who buy real estate can rent it and get passive income, because a lot of people who buy property already have some money and want to invest it."
   ]
  },
  {
   "cell_type": "markdown",
   "metadata": {},
   "source": [
    "## General conclusion"
   ]
  },
  {
   "cell_type": "markdown",
   "metadata": {},
   "source": [
    "We examined and prepared our data to analysis. We found out in data some strange values like negative `days_employed` column and `0` values in the customer's age. Probably it was mistake in inserting data. So we would notify engineers about that and skiped this columns, because we shouldn't use these. Also we had weird numbers of children like `-1` and `20`. We thougt that it's typos and replaced it with `1` and `2`."
   ]
  },
  {
   "cell_type": "markdown",
   "metadata": {},
   "source": [
    "We found missing values in `total_income`. We grouped all customers by `income_type` and `education` (we've got closer result to original data than other combination). We found median total income for each group. So we could fill missing values in with median values."
   ]
  },
  {
   "cell_type": "markdown",
   "metadata": {},
   "source": [
    "After that we transofmed all education values to lowercase because it was too messed up. We replaced data type of salary to integer so it would be cleaner and easier to work with it. We found out 71 duplicate rows, so we delated it."
   ]
  },
  {
   "cell_type": "markdown",
   "metadata": {},
   "source": [
    "We categorized customers by their's total income to 5 groupes: `poverty` with income `less than 10000`, `poor` with income `from 10000 to 23000`, `middle-class` with income `from 23000 to 50000`, `wealthy` with income `from 50000 to 100000` and `rich` - `more than 100000`. And got `9803 loaners in poor class`, `9403 in middle-class`, `927 in poverty class`, `1222 - wealthy` and `99 - rich`."
   ]
  },
  {
   "cell_type": "markdown",
   "metadata": {},
   "source": [
    "We categorized customers by their loan purpose on `4 groups` - `car`, `house`, `wedding` and `education`. And we've got `10811` loaners who took a loan `to buy house`, `4306 - to buy car`, `4013 - on education` and `2324 - on wedding`."
   ]
  },
  {
   "cell_type": "markdown",
   "metadata": {},
   "source": [
    "Answering all of 4 questions we figured out that the **best categories** in terms of the loan are ***married people (default rate - 7.55%), without children (default rate - 7.55% too), whose total income more than 50000 (default rate - from 6 to 7%)*** and ***middle class with total income more than 23000 (default rate - 7.83%), who want to buy house (default rate - 7.23%)***. These are the most `truthworthy` loaners."
   ]
  }
 ],
 "metadata": {
  "ExecuteTimeLog": [
   {
    "duration": 663,
    "start_time": "2021-10-11T04:37:22.927Z"
   },
   {
    "duration": 45,
    "start_time": "2021-10-11T04:37:32.706Z"
   },
   {
    "duration": 46,
    "start_time": "2021-10-11T04:38:25.588Z"
   },
   {
    "duration": 640,
    "start_time": "2021-10-11T04:44:08.863Z"
   },
   {
    "duration": 54,
    "start_time": "2021-10-11T04:44:38.344Z"
   },
   {
    "duration": 69,
    "start_time": "2021-10-11T04:45:30.483Z"
   },
   {
    "duration": 269,
    "start_time": "2021-10-11T05:13:26.054Z"
   },
   {
    "duration": 618,
    "start_time": "2021-10-11T05:13:56.996Z"
   },
   {
    "duration": 72,
    "start_time": "2021-10-11T05:14:14.760Z"
   },
   {
    "duration": 10,
    "start_time": "2021-10-11T05:14:37.679Z"
   },
   {
    "duration": 19,
    "start_time": "2021-10-11T05:23:00.320Z"
   },
   {
    "duration": 251,
    "start_time": "2021-10-11T05:23:14.662Z"
   },
   {
    "duration": 10,
    "start_time": "2021-10-11T05:23:31.187Z"
   },
   {
    "duration": 212,
    "start_time": "2021-10-11T05:23:50.874Z"
   },
   {
    "duration": 52,
    "start_time": "2021-10-11T05:24:50.771Z"
   },
   {
    "duration": 57,
    "start_time": "2021-10-11T05:25:16.926Z"
   },
   {
    "duration": 13,
    "start_time": "2021-10-11T05:27:46.621Z"
   },
   {
    "duration": 13,
    "start_time": "2021-10-11T05:28:27.300Z"
   },
   {
    "duration": 19,
    "start_time": "2021-10-11T05:33:36.710Z"
   },
   {
    "duration": 10,
    "start_time": "2021-10-11T05:40:16.940Z"
   },
   {
    "duration": 73,
    "start_time": "2021-10-11T05:42:24.243Z"
   },
   {
    "duration": 75,
    "start_time": "2021-10-11T05:42:43.673Z"
   },
   {
    "duration": 11,
    "start_time": "2021-10-11T05:42:58.334Z"
   },
   {
    "duration": 11,
    "start_time": "2021-10-11T05:43:11.255Z"
   },
   {
    "duration": 11,
    "start_time": "2021-10-11T05:43:22.942Z"
   },
   {
    "duration": 20,
    "start_time": "2021-10-11T05:57:48.034Z"
   },
   {
    "duration": 11,
    "start_time": "2021-10-11T05:58:08.329Z"
   },
   {
    "duration": 10,
    "start_time": "2021-10-11T05:58:19.859Z"
   },
   {
    "duration": -220,
    "start_time": "2021-10-11T05:58:57.896Z"
   },
   {
    "duration": -239,
    "start_time": "2021-10-11T05:59:09.143Z"
   },
   {
    "duration": 5481,
    "start_time": "2021-10-11T06:00:17.172Z"
   },
   {
    "duration": -749,
    "start_time": "2021-10-11T06:00:56.431Z"
   },
   {
    "duration": 5387,
    "start_time": "2021-10-11T06:01:03.418Z"
   },
   {
    "duration": 5,
    "start_time": "2021-10-11T06:02:11.410Z"
   },
   {
    "duration": 5,
    "start_time": "2021-10-11T06:02:46.835Z"
   },
   {
    "duration": 212,
    "start_time": "2021-10-11T06:02:59.098Z"
   },
   {
    "duration": 213,
    "start_time": "2021-10-11T06:03:08.732Z"
   },
   {
    "duration": 7,
    "start_time": "2021-10-11T06:06:51.112Z"
   },
   {
    "duration": 6,
    "start_time": "2021-10-11T06:07:21.061Z"
   },
   {
    "duration": 71,
    "start_time": "2021-10-11T06:08:28.815Z"
   },
   {
    "duration": 8,
    "start_time": "2021-10-11T06:08:34.897Z"
   },
   {
    "duration": 10,
    "start_time": "2021-10-11T06:13:07.753Z"
   },
   {
    "duration": 13,
    "start_time": "2021-10-11T06:13:37.589Z"
   },
   {
    "duration": 218,
    "start_time": "2021-10-11T06:14:23.907Z"
   },
   {
    "duration": 14,
    "start_time": "2021-10-11T06:14:30.955Z"
   },
   {
    "duration": 24,
    "start_time": "2021-10-11T06:14:35.621Z"
   },
   {
    "duration": 225,
    "start_time": "2021-10-11T06:15:23.194Z"
   },
   {
    "duration": 15,
    "start_time": "2021-10-11T06:15:32.765Z"
   },
   {
    "duration": 10,
    "start_time": "2021-10-11T06:17:16.344Z"
   },
   {
    "duration": 6,
    "start_time": "2021-10-11T06:17:33.602Z"
   },
   {
    "duration": 243,
    "start_time": "2021-10-11T06:17:49.605Z"
   },
   {
    "duration": 6,
    "start_time": "2021-10-11T06:18:15.560Z"
   },
   {
    "duration": 6,
    "start_time": "2021-10-11T06:18:25.117Z"
   },
   {
    "duration": 14,
    "start_time": "2021-10-11T06:18:49.379Z"
   },
   {
    "duration": 15,
    "start_time": "2021-10-11T06:19:49.610Z"
   },
   {
    "duration": 18,
    "start_time": "2021-10-11T06:23:36.985Z"
   },
   {
    "duration": 223,
    "start_time": "2021-10-11T06:24:04.848Z"
   },
   {
    "duration": 211,
    "start_time": "2021-10-11T06:24:11.553Z"
   },
   {
    "duration": 14,
    "start_time": "2021-10-11T06:24:21.224Z"
   },
   {
    "duration": 7,
    "start_time": "2021-10-11T06:24:54.404Z"
   },
   {
    "duration": 1023,
    "start_time": "2021-10-11T06:25:16.155Z"
   },
   {
    "duration": 12,
    "start_time": "2021-10-11T06:25:25.384Z"
   },
   {
    "duration": 12,
    "start_time": "2021-10-11T06:25:38.951Z"
   },
   {
    "duration": 13,
    "start_time": "2021-10-11T06:25:53.775Z"
   },
   {
    "duration": 308,
    "start_time": "2021-10-11T06:26:10.320Z"
   },
   {
    "duration": 228,
    "start_time": "2021-10-11T06:26:23.495Z"
   },
   {
    "duration": 28,
    "start_time": "2021-10-11T06:27:43.878Z"
   },
   {
    "duration": 25,
    "start_time": "2021-10-11T06:28:00.097Z"
   },
   {
    "duration": 14,
    "start_time": "2021-10-11T06:29:27.202Z"
   },
   {
    "duration": 14,
    "start_time": "2021-10-11T06:30:15.486Z"
   },
   {
    "duration": 269,
    "start_time": "2021-10-11T06:31:16.972Z"
   },
   {
    "duration": 362,
    "start_time": "2021-10-11T06:31:22.031Z"
   },
   {
    "duration": 31,
    "start_time": "2021-10-11T06:31:41.643Z"
   },
   {
    "duration": 15,
    "start_time": "2021-10-11T06:34:12.050Z"
   },
   {
    "duration": 12,
    "start_time": "2021-10-11T06:35:28.001Z"
   },
   {
    "duration": 19,
    "start_time": "2021-10-11T07:13:15.588Z"
   },
   {
    "duration": 14,
    "start_time": "2021-10-11T07:14:18.235Z"
   },
   {
    "duration": 7,
    "start_time": "2021-10-11T07:15:20.535Z"
   },
   {
    "duration": 5,
    "start_time": "2021-10-11T07:15:38.269Z"
   },
   {
    "duration": 10,
    "start_time": "2021-10-11T07:16:06.039Z"
   },
   {
    "duration": 210,
    "start_time": "2021-10-11T07:16:25.201Z"
   },
   {
    "duration": 19,
    "start_time": "2021-10-11T07:17:13.357Z"
   },
   {
    "duration": 9,
    "start_time": "2021-10-11T07:17:44.147Z"
   },
   {
    "duration": 15,
    "start_time": "2021-10-11T07:18:53.014Z"
   },
   {
    "duration": 18,
    "start_time": "2021-10-11T07:19:04.727Z"
   },
   {
    "duration": 31,
    "start_time": "2021-10-11T07:24:08.049Z"
   },
   {
    "duration": 31,
    "start_time": "2021-10-11T07:30:37.383Z"
   },
   {
    "duration": 31,
    "start_time": "2021-10-11T07:30:57.152Z"
   },
   {
    "duration": 27,
    "start_time": "2021-10-11T07:31:05.391Z"
   },
   {
    "duration": 29,
    "start_time": "2021-10-11T07:32:00.726Z"
   },
   {
    "duration": 28,
    "start_time": "2021-10-11T07:32:11.059Z"
   },
   {
    "duration": 24,
    "start_time": "2021-10-11T07:32:17.948Z"
   },
   {
    "duration": 25,
    "start_time": "2021-10-11T07:34:43.038Z"
   },
   {
    "duration": 7,
    "start_time": "2021-10-11T07:35:57.244Z"
   },
   {
    "duration": 8,
    "start_time": "2021-10-11T07:37:29.993Z"
   },
   {
    "duration": 20,
    "start_time": "2021-10-11T07:38:22.878Z"
   },
   {
    "duration": 18,
    "start_time": "2021-10-11T07:40:09.234Z"
   },
   {
    "duration": 18,
    "start_time": "2021-10-11T07:43:43.880Z"
   },
   {
    "duration": 19,
    "start_time": "2021-10-11T07:44:10.623Z"
   },
   {
    "duration": 10,
    "start_time": "2021-10-11T07:46:34.005Z"
   },
   {
    "duration": 18,
    "start_time": "2021-10-11T07:46:45.462Z"
   },
   {
    "duration": 19,
    "start_time": "2021-10-11T07:47:06.787Z"
   },
   {
    "duration": 17,
    "start_time": "2021-10-11T07:48:25.378Z"
   },
   {
    "duration": 15,
    "start_time": "2021-10-11T07:49:53.633Z"
   },
   {
    "duration": 26,
    "start_time": "2021-10-11T07:52:54.969Z"
   },
   {
    "duration": 25,
    "start_time": "2021-10-11T07:53:05.756Z"
   },
   {
    "duration": 19,
    "start_time": "2021-10-11T07:54:20.687Z"
   },
   {
    "duration": 19,
    "start_time": "2021-10-11T07:56:45.626Z"
   },
   {
    "duration": 24,
    "start_time": "2021-10-11T08:11:51.724Z"
   },
   {
    "duration": 227,
    "start_time": "2021-10-11T08:14:53.942Z"
   },
   {
    "duration": 17,
    "start_time": "2021-10-11T08:16:28.383Z"
   },
   {
    "duration": 7,
    "start_time": "2021-10-11T08:19:28.986Z"
   },
   {
    "duration": 17,
    "start_time": "2021-10-11T08:24:36.026Z"
   },
   {
    "duration": 24,
    "start_time": "2021-10-11T08:25:14.836Z"
   },
   {
    "duration": 8,
    "start_time": "2021-10-11T08:26:11.377Z"
   },
   {
    "duration": 200,
    "start_time": "2021-10-11T08:26:51.410Z"
   },
   {
    "duration": -290,
    "start_time": "2021-10-11T08:27:25.729Z"
   },
   {
    "duration": 5079,
    "start_time": "2021-10-11T08:27:31.815Z"
   },
   {
    "duration": 5128,
    "start_time": "2021-10-11T08:28:00.642Z"
   },
   {
    "duration": -440,
    "start_time": "2021-10-11T08:29:13.360Z"
   },
   {
    "duration": 28,
    "start_time": "2021-10-11T08:29:30.715Z"
   },
   {
    "duration": 4,
    "start_time": "2021-10-11T08:29:58.949Z"
   },
   {
    "duration": 24,
    "start_time": "2021-10-11T08:30:11.633Z"
   },
   {
    "duration": 26,
    "start_time": "2021-10-11T08:30:20.816Z"
   },
   {
    "duration": 6,
    "start_time": "2021-10-11T08:31:06.492Z"
   },
   {
    "duration": 6,
    "start_time": "2021-10-11T08:31:14.591Z"
   },
   {
    "duration": 6,
    "start_time": "2021-10-11T08:31:24.807Z"
   },
   {
    "duration": 7,
    "start_time": "2021-10-11T08:31:32.786Z"
   },
   {
    "duration": 7,
    "start_time": "2021-10-11T08:31:36.341Z"
   },
   {
    "duration": 7,
    "start_time": "2021-10-11T08:31:48.174Z"
   },
   {
    "duration": 7,
    "start_time": "2021-10-11T08:31:57.862Z"
   },
   {
    "duration": 209,
    "start_time": "2021-10-11T08:33:03.038Z"
   },
   {
    "duration": 9,
    "start_time": "2021-10-11T08:33:11.393Z"
   },
   {
    "duration": 21,
    "start_time": "2021-10-11T08:33:35.446Z"
   },
   {
    "duration": 18,
    "start_time": "2021-10-11T08:34:41.450Z"
   },
   {
    "duration": 8,
    "start_time": "2021-10-11T08:34:46.868Z"
   },
   {
    "duration": 9,
    "start_time": "2021-10-11T08:35:11.787Z"
   },
   {
    "duration": 7,
    "start_time": "2021-10-11T08:36:15.743Z"
   },
   {
    "duration": 6,
    "start_time": "2021-10-11T08:36:19.379Z"
   },
   {
    "duration": 8,
    "start_time": "2021-10-11T08:36:42.865Z"
   },
   {
    "duration": 17,
    "start_time": "2021-10-11T08:38:14.181Z"
   },
   {
    "duration": 200,
    "start_time": "2021-10-11T08:38:47.812Z"
   },
   {
    "duration": 205,
    "start_time": "2021-10-11T08:38:59.368Z"
   },
   {
    "duration": 9,
    "start_time": "2021-10-11T08:39:06.400Z"
   },
   {
    "duration": 10,
    "start_time": "2021-10-11T08:39:10.890Z"
   },
   {
    "duration": 13,
    "start_time": "2021-10-11T08:39:19.550Z"
   },
   {
    "duration": 19,
    "start_time": "2021-10-11T08:39:42.812Z"
   },
   {
    "duration": 1203,
    "start_time": "2021-10-11T08:55:38.583Z"
   },
   {
    "duration": 29,
    "start_time": "2021-10-11T08:56:36.898Z"
   },
   {
    "duration": 22,
    "start_time": "2021-10-11T08:56:57.017Z"
   },
   {
    "duration": 8,
    "start_time": "2021-10-11T08:58:56.521Z"
   },
   {
    "duration": 206,
    "start_time": "2021-10-11T10:34:19.210Z"
   },
   {
    "duration": 12,
    "start_time": "2021-10-11T10:34:38.008Z"
   },
   {
    "duration": 21,
    "start_time": "2021-10-11T10:36:46.413Z"
   },
   {
    "duration": 9,
    "start_time": "2021-10-11T10:37:05.591Z"
   },
   {
    "duration": 20,
    "start_time": "2021-10-11T10:37:12.129Z"
   },
   {
    "duration": 214,
    "start_time": "2021-10-11T10:37:21.822Z"
   },
   {
    "duration": 11,
    "start_time": "2021-10-11T10:37:40.379Z"
   },
   {
    "duration": 12,
    "start_time": "2021-10-11T10:37:50.457Z"
   },
   {
    "duration": 15,
    "start_time": "2021-10-11T10:38:02.057Z"
   },
   {
    "duration": 11,
    "start_time": "2021-10-11T10:39:02.072Z"
   },
   {
    "duration": 246,
    "start_time": "2021-10-11T10:39:19.836Z"
   },
   {
    "duration": 5,
    "start_time": "2021-10-11T10:39:24.431Z"
   },
   {
    "duration": 19,
    "start_time": "2021-10-11T10:39:40.397Z"
   },
   {
    "duration": 14,
    "start_time": "2021-10-11T10:39:51.711Z"
   },
   {
    "duration": 4,
    "start_time": "2021-10-11T10:40:00.653Z"
   },
   {
    "duration": 5,
    "start_time": "2021-10-11T10:40:18.160Z"
   },
   {
    "duration": 7,
    "start_time": "2021-10-11T10:40:36.623Z"
   },
   {
    "duration": 8,
    "start_time": "2021-10-11T10:40:48.515Z"
   },
   {
    "duration": 215,
    "start_time": "2021-10-11T10:41:23.220Z"
   },
   {
    "duration": 269,
    "start_time": "2021-10-11T10:42:33.582Z"
   },
   {
    "duration": 20,
    "start_time": "2021-10-11T10:42:46.397Z"
   },
   {
    "duration": 19,
    "start_time": "2021-10-11T10:44:42.805Z"
   },
   {
    "duration": 19,
    "start_time": "2021-10-11T10:45:02.418Z"
   },
   {
    "duration": 8,
    "start_time": "2021-10-11T10:45:47.300Z"
   },
   {
    "duration": 15,
    "start_time": "2021-10-11T10:46:02.396Z"
   },
   {
    "duration": 12,
    "start_time": "2021-10-11T10:46:11.357Z"
   },
   {
    "duration": 24,
    "start_time": "2021-10-11T10:55:46.426Z"
   },
   {
    "duration": 33,
    "start_time": "2021-10-11T10:56:06.441Z"
   },
   {
    "duration": 21,
    "start_time": "2021-10-11T10:56:18.555Z"
   },
   {
    "duration": 6,
    "start_time": "2021-10-11T10:56:41.492Z"
   },
   {
    "duration": 14,
    "start_time": "2021-10-11T10:57:13.238Z"
   },
   {
    "duration": 19,
    "start_time": "2021-10-11T11:15:32.645Z"
   },
   {
    "duration": 15,
    "start_time": "2021-10-11T11:17:21.655Z"
   },
   {
    "duration": 17,
    "start_time": "2021-10-11T11:18:33.969Z"
   },
   {
    "duration": 17,
    "start_time": "2021-10-11T11:19:11.140Z"
   },
   {
    "duration": 16,
    "start_time": "2021-10-11T11:19:20.292Z"
   },
   {
    "duration": 220,
    "start_time": "2021-10-11T11:21:21.994Z"
   },
   {
    "duration": 3092,
    "start_time": "2021-10-11T11:21:34.638Z"
   },
   {
    "duration": 15,
    "start_time": "2021-10-11T11:21:46.227Z"
   },
   {
    "duration": 225,
    "start_time": "2021-10-11T11:21:59.141Z"
   },
   {
    "duration": 232,
    "start_time": "2021-10-11T11:22:07.072Z"
   },
   {
    "duration": 216,
    "start_time": "2021-10-11T11:22:11.624Z"
   },
   {
    "duration": 15,
    "start_time": "2021-10-11T11:22:23.683Z"
   },
   {
    "duration": 390,
    "start_time": "2021-10-12T05:50:53.057Z"
   },
   {
    "duration": 321,
    "start_time": "2021-10-12T05:51:39.639Z"
   },
   {
    "duration": 905,
    "start_time": "2021-10-12T05:52:11.936Z"
   },
   {
    "duration": 353,
    "start_time": "2021-10-12T05:52:39.637Z"
   },
   {
    "duration": 343,
    "start_time": "2021-10-12T05:53:27.340Z"
   },
   {
    "duration": 351,
    "start_time": "2021-10-12T05:53:33.159Z"
   },
   {
    "duration": 330,
    "start_time": "2021-10-12T05:53:44.515Z"
   },
   {
    "duration": 325,
    "start_time": "2021-10-12T05:54:38.593Z"
   },
   {
    "duration": 912,
    "start_time": "2021-10-12T05:54:57.148Z"
   },
   {
    "duration": 363,
    "start_time": "2021-10-12T05:55:09.587Z"
   },
   {
    "duration": 1679,
    "start_time": "2021-10-12T05:55:21.992Z"
   },
   {
    "duration": 329,
    "start_time": "2021-10-12T05:56:18.733Z"
   },
   {
    "duration": 340,
    "start_time": "2021-10-12T05:57:39.410Z"
   },
   {
    "duration": 17,
    "start_time": "2021-10-12T06:06:49.153Z"
   },
   {
    "duration": 335,
    "start_time": "2021-10-12T06:08:45.104Z"
   },
   {
    "duration": 36,
    "start_time": "2021-10-12T06:08:54.393Z"
   },
   {
    "duration": 11,
    "start_time": "2021-10-12T06:09:31.682Z"
   },
   {
    "duration": 10,
    "start_time": "2021-10-12T06:10:10.349Z"
   },
   {
    "duration": 5,
    "start_time": "2021-10-12T06:18:09.361Z"
   },
   {
    "duration": 46,
    "start_time": "2021-10-12T06:20:46.849Z"
   },
   {
    "duration": 6,
    "start_time": "2021-10-12T07:34:46.860Z"
   },
   {
    "duration": 6,
    "start_time": "2021-10-12T07:37:40.087Z"
   },
   {
    "duration": 114,
    "start_time": "2021-10-12T07:43:54.883Z"
   },
   {
    "duration": 112,
    "start_time": "2021-10-12T07:44:15.080Z"
   },
   {
    "duration": 310,
    "start_time": "2021-10-12T07:44:21.267Z"
   },
   {
    "duration": 37,
    "start_time": "2021-10-12T07:44:29.363Z"
   },
   {
    "duration": 45,
    "start_time": "2021-10-12T07:48:49.727Z"
   },
   {
    "duration": 6,
    "start_time": "2021-10-12T08:00:27.058Z"
   },
   {
    "duration": 337,
    "start_time": "2021-10-12T08:05:32.193Z"
   },
   {
    "duration": 350,
    "start_time": "2021-10-12T08:05:37.499Z"
   },
   {
    "duration": 4,
    "start_time": "2021-10-12T08:05:55.503Z"
   },
   {
    "duration": 3,
    "start_time": "2021-10-12T08:06:14.047Z"
   },
   {
    "duration": 4,
    "start_time": "2021-10-12T08:06:15.741Z"
   },
   {
    "duration": 892,
    "start_time": "2021-10-12T08:06:48.941Z"
   },
   {
    "duration": 4,
    "start_time": "2021-10-12T08:41:45.588Z"
   },
   {
    "duration": 7,
    "start_time": "2021-10-12T08:47:13.745Z"
   },
   {
    "duration": 414,
    "start_time": "2021-10-12T08:48:05.036Z"
   },
   {
    "duration": 3,
    "start_time": "2021-10-12T08:48:19.258Z"
   },
   {
    "duration": 7,
    "start_time": "2021-10-12T08:48:23.803Z"
   },
   {
    "duration": 106,
    "start_time": "2021-10-12T08:59:48.303Z"
   },
   {
    "duration": 109,
    "start_time": "2021-10-12T09:00:14.440Z"
   },
   {
    "duration": 7,
    "start_time": "2021-10-12T09:00:18.549Z"
   },
   {
    "duration": 6,
    "start_time": "2021-10-12T09:00:51.284Z"
   },
   {
    "duration": 1907,
    "start_time": "2021-10-12T09:05:11.893Z"
   },
   {
    "duration": 2054,
    "start_time": "2021-10-12T09:06:26.053Z"
   },
   {
    "duration": 36,
    "start_time": "2021-10-12T09:06:45.077Z"
   },
   {
    "duration": 6,
    "start_time": "2021-10-12T09:07:02.833Z"
   },
   {
    "duration": 1916,
    "start_time": "2021-10-12T09:07:08.503Z"
   },
   {
    "duration": 11,
    "start_time": "2021-10-12T09:07:12.596Z"
   },
   {
    "duration": 34,
    "start_time": "2021-10-12T09:08:38.074Z"
   },
   {
    "duration": 5,
    "start_time": "2021-10-12T09:09:17.002Z"
   },
   {
    "duration": 2039,
    "start_time": "2021-10-12T09:09:25.971Z"
   },
   {
    "duration": 10,
    "start_time": "2021-10-12T09:09:30.081Z"
   },
   {
    "duration": 34,
    "start_time": "2021-10-12T09:09:37.413Z"
   },
   {
    "duration": 40,
    "start_time": "2021-10-12T09:10:24.256Z"
   },
   {
    "duration": 4337,
    "start_time": "2021-10-12T09:10:46.450Z"
   },
   {
    "duration": 12,
    "start_time": "2021-10-12T09:11:09.297Z"
   },
   {
    "duration": 10,
    "start_time": "2021-10-12T09:11:22.031Z"
   },
   {
    "duration": 39,
    "start_time": "2021-10-12T09:11:30.968Z"
   },
   {
    "duration": 4,
    "start_time": "2021-10-12T09:12:09.677Z"
   },
   {
    "duration": 5,
    "start_time": "2021-10-12T09:12:17.169Z"
   },
   {
    "duration": 2003,
    "start_time": "2021-10-12T09:12:19.726Z"
   },
   {
    "duration": 10,
    "start_time": "2021-10-12T09:12:23.629Z"
   },
   {
    "duration": 13,
    "start_time": "2021-10-12T09:12:34.670Z"
   },
   {
    "duration": 11,
    "start_time": "2021-10-12T09:29:27.423Z"
   },
   {
    "duration": 385,
    "start_time": "2021-10-12T09:39:23.029Z"
   },
   {
    "duration": 11,
    "start_time": "2021-10-12T09:39:32.243Z"
   },
   {
    "duration": 394,
    "start_time": "2021-10-12T09:40:25.909Z"
   },
   {
    "duration": 12,
    "start_time": "2021-10-12T09:57:20.001Z"
   },
   {
    "duration": 13,
    "start_time": "2021-10-12T10:00:05.954Z"
   },
   {
    "duration": 13,
    "start_time": "2021-10-12T10:00:15.171Z"
   },
   {
    "duration": 10,
    "start_time": "2021-10-12T10:02:17.015Z"
   },
   {
    "duration": 12,
    "start_time": "2021-10-12T10:02:49.589Z"
   },
   {
    "duration": 45,
    "start_time": "2021-10-12T10:03:50.355Z"
   },
   {
    "duration": 44,
    "start_time": "2021-10-12T10:06:27.337Z"
   },
   {
    "duration": 21,
    "start_time": "2021-10-12T10:07:40.274Z"
   },
   {
    "duration": 10,
    "start_time": "2021-10-12T10:08:12.454Z"
   },
   {
    "duration": 38,
    "start_time": "2021-10-12T10:08:15.791Z"
   },
   {
    "duration": 30,
    "start_time": "2021-10-12T10:09:00.388Z"
   },
   {
    "duration": 315,
    "start_time": "2021-10-12T10:09:15.927Z"
   },
   {
    "duration": -637,
    "start_time": "2021-10-12T10:09:46.493Z"
   },
   {
    "duration": 10119,
    "start_time": "2021-10-12T10:09:47.986Z"
   },
   {
    "duration": 11395,
    "start_time": "2021-10-12T10:10:04.203Z"
   },
   {
    "duration": 322,
    "start_time": "2021-10-12T10:10:34.499Z"
   },
   {
    "duration": 10979,
    "start_time": "2021-10-12T10:11:05.632Z"
   },
   {
    "duration": 9525,
    "start_time": "2021-10-12T10:11:19.061Z"
   },
   {
    "duration": 507,
    "start_time": "2021-10-12T10:11:51.901Z"
   },
   {
    "duration": 540,
    "start_time": "2021-10-12T10:11:58.973Z"
   },
   {
    "duration": 9463,
    "start_time": "2021-10-12T10:12:08.033Z"
   },
   {
    "duration": 9367,
    "start_time": "2021-10-12T10:12:40.211Z"
   },
   {
    "duration": 10384,
    "start_time": "2021-10-12T10:13:09.718Z"
   },
   {
    "duration": 9631,
    "start_time": "2021-10-12T10:13:25.576Z"
   },
   {
    "duration": 411,
    "start_time": "2021-10-12T10:14:24.253Z"
   },
   {
    "duration": 9236,
    "start_time": "2021-10-12T10:14:47.996Z"
   },
   {
    "duration": 9013,
    "start_time": "2021-10-12T10:15:48.427Z"
   },
   {
    "duration": 405,
    "start_time": "2021-10-12T10:16:32.155Z"
   },
   {
    "duration": 838,
    "start_time": "2021-10-12T10:16:44.613Z"
   },
   {
    "duration": 17,
    "start_time": "2021-10-12T10:16:52.052Z"
   },
   {
    "duration": 16,
    "start_time": "2021-10-12T10:17:02.711Z"
   },
   {
    "duration": 10,
    "start_time": "2021-10-12T10:17:07.066Z"
   },
   {
    "duration": 6,
    "start_time": "2021-10-12T10:17:11.613Z"
   },
   {
    "duration": 6,
    "start_time": "2021-10-12T10:17:18.015Z"
   },
   {
    "duration": 21,
    "start_time": "2021-10-12T10:17:26.998Z"
   },
   {
    "duration": 33,
    "start_time": "2021-10-12T10:18:02.534Z"
   },
   {
    "duration": 13,
    "start_time": "2021-10-12T10:18:13.143Z"
   },
   {
    "duration": 10,
    "start_time": "2021-10-12T10:18:43.463Z"
   },
   {
    "duration": 36,
    "start_time": "2021-10-12T10:18:46.261Z"
   },
   {
    "duration": 37,
    "start_time": "2021-10-12T10:19:14.499Z"
   },
   {
    "duration": 9,
    "start_time": "2021-10-12T10:21:11.098Z"
   },
   {
    "duration": 37,
    "start_time": "2021-10-12T10:21:41.087Z"
   },
   {
    "duration": 38,
    "start_time": "2021-10-12T10:22:54.356Z"
   },
   {
    "duration": 20,
    "start_time": "2021-10-12T10:23:07.082Z"
   },
   {
    "duration": 18,
    "start_time": "2021-10-12T10:23:27.538Z"
   },
   {
    "duration": 9722,
    "start_time": "2021-10-12T10:23:50.807Z"
   },
   {
    "duration": -633,
    "start_time": "2021-10-12T10:24:21.668Z"
   },
   {
    "duration": 11546,
    "start_time": "2021-10-12T10:24:24.506Z"
   },
   {
    "duration": 10267,
    "start_time": "2021-10-12T10:24:45.625Z"
   },
   {
    "duration": 6,
    "start_time": "2021-10-12T10:25:04.667Z"
   },
   {
    "duration": 7,
    "start_time": "2021-10-12T10:25:13.098Z"
   },
   {
    "duration": 10013,
    "start_time": "2021-10-12T10:25:40.344Z"
   },
   {
    "duration": 9785,
    "start_time": "2021-10-12T10:25:59.035Z"
   },
   {
    "duration": 6,
    "start_time": "2021-10-12T10:26:18.309Z"
   },
   {
    "duration": 388,
    "start_time": "2021-10-12T10:27:03.512Z"
   },
   {
    "duration": 875,
    "start_time": "2021-10-12T10:27:13.627Z"
   },
   {
    "duration": 368,
    "start_time": "2021-10-12T10:27:25.594Z"
   },
   {
    "duration": 18,
    "start_time": "2021-10-12T10:27:34.696Z"
   },
   {
    "duration": 18,
    "start_time": "2021-10-12T10:27:45.836Z"
   },
   {
    "duration": 14,
    "start_time": "2021-10-12T10:27:52.001Z"
   },
   {
    "duration": 19,
    "start_time": "2021-10-12T10:27:56.497Z"
   },
   {
    "duration": 20,
    "start_time": "2021-10-12T10:28:00.501Z"
   },
   {
    "duration": 17,
    "start_time": "2021-10-12T10:28:04.009Z"
   },
   {
    "duration": 10,
    "start_time": "2021-10-12T10:28:06.726Z"
   },
   {
    "duration": 6,
    "start_time": "2021-10-12T10:28:09.365Z"
   },
   {
    "duration": 7,
    "start_time": "2021-10-12T10:28:13.332Z"
   },
   {
    "duration": 17,
    "start_time": "2021-10-12T10:28:15.223Z"
   },
   {
    "duration": 20,
    "start_time": "2021-10-12T10:28:19.431Z"
   },
   {
    "duration": 118,
    "start_time": "2021-10-12T10:28:31.816Z"
   },
   {
    "duration": 21,
    "start_time": "2021-10-12T10:28:43.089Z"
   },
   {
    "duration": 21,
    "start_time": "2021-10-12T10:28:56.299Z"
   },
   {
    "duration": 20,
    "start_time": "2021-10-12T10:28:59.232Z"
   },
   {
    "duration": 23,
    "start_time": "2021-10-12T10:32:30.092Z"
   },
   {
    "duration": 19,
    "start_time": "2021-10-12T10:32:38.947Z"
   },
   {
    "duration": 33,
    "start_time": "2021-10-12T10:33:01.510Z"
   },
   {
    "duration": 8,
    "start_time": "2021-10-12T10:33:12.588Z"
   },
   {
    "duration": 7,
    "start_time": "2021-10-12T10:33:46.915Z"
   },
   {
    "duration": 7,
    "start_time": "2021-10-12T10:34:04.618Z"
   },
   {
    "duration": 465,
    "start_time": "2021-10-12T10:34:15.065Z"
   },
   {
    "duration": 359,
    "start_time": "2021-10-12T10:34:30.932Z"
   },
   {
    "duration": 357,
    "start_time": "2021-10-12T10:34:33.344Z"
   },
   {
    "duration": 346,
    "start_time": "2021-10-12T10:34:42.138Z"
   },
   {
    "duration": 1843,
    "start_time": "2021-10-12T10:35:06.309Z"
   },
   {
    "duration": 889,
    "start_time": "2021-10-12T10:35:12.014Z"
   },
   {
    "duration": 21,
    "start_time": "2021-10-12T10:35:22.229Z"
   },
   {
    "duration": 7,
    "start_time": "2021-10-12T10:35:26.783Z"
   },
   {
    "duration": 7,
    "start_time": "2021-10-12T10:35:37.567Z"
   },
   {
    "duration": 373,
    "start_time": "2021-10-12T10:36:33.609Z"
   },
   {
    "duration": 129,
    "start_time": "2021-10-12T10:36:43.222Z"
   },
   {
    "duration": 329,
    "start_time": "2021-10-12T10:36:45.795Z"
   },
   {
    "duration": 108,
    "start_time": "2021-10-12T10:36:57.466Z"
   },
   {
    "duration": 569,
    "start_time": "2021-10-12T10:37:01.356Z"
   },
   {
    "duration": 367,
    "start_time": "2021-10-12T10:37:09.866Z"
   },
   {
    "duration": 19,
    "start_time": "2021-10-12T10:37:21.311Z"
   },
   {
    "duration": 342,
    "start_time": "2021-10-12T10:37:49.946Z"
   },
   {
    "duration": 404,
    "start_time": "2021-10-12T10:38:00.903Z"
   },
   {
    "duration": 19,
    "start_time": "2021-10-12T10:38:07.496Z"
   },
   {
    "duration": 19,
    "start_time": "2021-10-12T10:41:06.408Z"
   },
   {
    "duration": 6,
    "start_time": "2021-10-12T10:41:12.290Z"
   },
   {
    "duration": 7,
    "start_time": "2021-10-12T10:41:20.578Z"
   },
   {
    "duration": 7,
    "start_time": "2021-10-12T10:41:30.531Z"
   },
   {
    "duration": 371,
    "start_time": "2021-10-12T10:41:57.406Z"
   },
   {
    "duration": 345,
    "start_time": "2021-10-12T10:42:07.312Z"
   },
   {
    "duration": 347,
    "start_time": "2021-10-12T10:42:13.604Z"
   },
   {
    "duration": 117,
    "start_time": "2021-10-12T10:42:31.285Z"
   },
   {
    "duration": 157,
    "start_time": "2021-10-12T10:42:40.103Z"
   },
   {
    "duration": 21,
    "start_time": "2021-10-12T10:42:50.834Z"
   },
   {
    "duration": 33,
    "start_time": "2021-10-12T10:43:19.879Z"
   },
   {
    "duration": 8,
    "start_time": "2021-10-12T10:43:29.621Z"
   },
   {
    "duration": 6,
    "start_time": "2021-10-12T10:43:37.255Z"
   },
   {
    "duration": 9885,
    "start_time": "2021-10-12T10:43:44.142Z"
   },
   {
    "duration": 6,
    "start_time": "2021-10-12T10:43:57.895Z"
   },
   {
    "duration": 337,
    "start_time": "2021-10-12T10:45:45.771Z"
   },
   {
    "duration": 21,
    "start_time": "2021-10-12T10:46:20.867Z"
   },
   {
    "duration": 345,
    "start_time": "2021-10-12T10:46:23.853Z"
   },
   {
    "duration": 7,
    "start_time": "2021-10-12T10:46:34.800Z"
   },
   {
    "duration": 357,
    "start_time": "2021-10-12T10:46:48.286Z"
   },
   {
    "duration": 13,
    "start_time": "2021-10-12T10:47:13.924Z"
   },
   {
    "duration": 342,
    "start_time": "2021-10-12T10:47:17.115Z"
   },
   {
    "duration": 351,
    "start_time": "2021-10-12T10:47:35.049Z"
   },
   {
    "duration": 341,
    "start_time": "2021-10-12T10:47:40.271Z"
   },
   {
    "duration": 8,
    "start_time": "2021-10-12T10:48:16.943Z"
   },
   {
    "duration": 7,
    "start_time": "2021-10-12T10:48:25.096Z"
   },
   {
    "duration": 15,
    "start_time": "2021-10-12T10:48:33.405Z"
   },
   {
    "duration": 8,
    "start_time": "2021-10-12T10:48:39.170Z"
   },
   {
    "duration": 35,
    "start_time": "2021-10-12T10:49:18.784Z"
   },
   {
    "duration": 13,
    "start_time": "2021-10-12T10:53:38.799Z"
   },
   {
    "duration": 14,
    "start_time": "2021-10-12T10:54:19.294Z"
   },
   {
    "duration": 37,
    "start_time": "2021-10-12T10:54:24.566Z"
   },
   {
    "duration": 7,
    "start_time": "2021-10-12T10:54:42.379Z"
   },
   {
    "duration": 7,
    "start_time": "2021-10-12T10:54:51.825Z"
   },
   {
    "duration": 25,
    "start_time": "2021-10-12T10:55:30.651Z"
   },
   {
    "duration": 7,
    "start_time": "2021-10-12T10:55:36.857Z"
   },
   {
    "duration": 402,
    "start_time": "2021-10-12T10:55:44.885Z"
   },
   {
    "duration": 350,
    "start_time": "2021-10-12T10:55:58.443Z"
   },
   {
    "duration": 7,
    "start_time": "2021-10-12T10:56:06.403Z"
   },
   {
    "duration": 6,
    "start_time": "2021-10-12T10:56:13.735Z"
   },
   {
    "duration": 37,
    "start_time": "2021-10-12T10:56:20.591Z"
   },
   {
    "duration": 396,
    "start_time": "2021-10-12T10:56:42.429Z"
   },
   {
    "duration": 7,
    "start_time": "2021-10-12T10:56:51.350Z"
   },
   {
    "duration": 6,
    "start_time": "2021-10-12T10:57:05.401Z"
   },
   {
    "duration": 54,
    "start_time": "2021-10-12T10:57:12.175Z"
   },
   {
    "duration": 22,
    "start_time": "2021-10-12T10:57:25.089Z"
   },
   {
    "duration": 870,
    "start_time": "2021-10-12T10:57:58.129Z"
   },
   {
    "duration": 9,
    "start_time": "2021-10-12T10:58:18.184Z"
   },
   {
    "duration": 15,
    "start_time": "2021-10-12T10:58:22.120Z"
   },
   {
    "duration": 6,
    "start_time": "2021-10-12T10:58:26.498Z"
   },
   {
    "duration": 6,
    "start_time": "2021-10-12T10:58:29.120Z"
   },
   {
    "duration": 22,
    "start_time": "2021-10-12T11:01:09.598Z"
   },
   {
    "duration": 401,
    "start_time": "2021-10-12T11:05:10.728Z"
   },
   {
    "duration": 37,
    "start_time": "2021-10-12T11:05:18.703Z"
   },
   {
    "duration": 632,
    "start_time": "2021-10-12T11:12:35.701Z"
   },
   {
    "duration": 425,
    "start_time": "2021-10-12T11:12:56.534Z"
   },
   {
    "duration": 334,
    "start_time": "2021-10-12T11:13:35.969Z"
   },
   {
    "duration": 7,
    "start_time": "2021-10-12T11:13:47.104Z"
   },
   {
    "duration": 6,
    "start_time": "2021-10-12T11:14:36.688Z"
   },
   {
    "duration": 4,
    "start_time": "2021-10-12T11:16:30.979Z"
   },
   {
    "duration": 6,
    "start_time": "2021-10-12T11:16:37.147Z"
   },
   {
    "duration": 11,
    "start_time": "2021-10-12T11:18:26.913Z"
   },
   {
    "duration": 10,
    "start_time": "2021-10-12T11:18:39.215Z"
   },
   {
    "duration": 6,
    "start_time": "2021-10-12T11:18:44.370Z"
   },
   {
    "duration": 8,
    "start_time": "2021-10-12T11:18:50.460Z"
   },
   {
    "duration": 7,
    "start_time": "2021-10-12T11:19:16.941Z"
   },
   {
    "duration": 8,
    "start_time": "2021-10-12T11:19:19.734Z"
   },
   {
    "duration": 41,
    "start_time": "2021-10-12T11:19:27.201Z"
   },
   {
    "duration": 34,
    "start_time": "2021-10-12T11:38:52.593Z"
   },
   {
    "duration": 921,
    "start_time": "2021-10-12T11:39:24.786Z"
   },
   {
    "duration": 19,
    "start_time": "2021-10-12T11:39:31.606Z"
   },
   {
    "duration": 20,
    "start_time": "2021-10-12T11:39:36.686Z"
   },
   {
    "duration": 18,
    "start_time": "2021-10-12T11:39:39.078Z"
   },
   {
    "duration": 12,
    "start_time": "2021-10-12T11:39:42.071Z"
   },
   {
    "duration": 6,
    "start_time": "2021-10-12T11:39:45.157Z"
   },
   {
    "duration": 7,
    "start_time": "2021-10-12T11:39:49.740Z"
   },
   {
    "duration": 14,
    "start_time": "2021-10-12T11:39:52.504Z"
   },
   {
    "duration": 15,
    "start_time": "2021-10-12T11:39:54.352Z"
   },
   {
    "duration": 9,
    "start_time": "2021-10-12T11:39:56.796Z"
   },
   {
    "duration": 37,
    "start_time": "2021-10-12T11:40:01.409Z"
   },
   {
    "duration": 8,
    "start_time": "2021-10-12T11:40:55.083Z"
   },
   {
    "duration": 10,
    "start_time": "2021-10-12T11:41:00.233Z"
   },
   {
    "duration": 9,
    "start_time": "2021-10-12T11:41:06.495Z"
   },
   {
    "duration": 37,
    "start_time": "2021-10-12T11:41:08.388Z"
   },
   {
    "duration": 12,
    "start_time": "2021-10-12T11:41:13.755Z"
   },
   {
    "duration": 40,
    "start_time": "2021-10-12T11:41:15.544Z"
   },
   {
    "duration": 32,
    "start_time": "2021-10-12T11:43:10.067Z"
   },
   {
    "duration": 12,
    "start_time": "2021-10-12T11:43:29.170Z"
   },
   {
    "duration": -611,
    "start_time": "2021-10-12T11:43:53.584Z"
   },
   {
    "duration": 10565,
    "start_time": "2021-10-12T11:44:17.104Z"
   },
   {
    "duration": 5,
    "start_time": "2021-10-12T11:44:49.025Z"
   },
   {
    "duration": 1811,
    "start_time": "2021-10-12T11:44:53.095Z"
   },
   {
    "duration": 884,
    "start_time": "2021-10-12T11:45:32.136Z"
   },
   {
    "duration": 14,
    "start_time": "2021-10-12T11:45:33.023Z"
   },
   {
    "duration": 19,
    "start_time": "2021-10-12T11:45:33.057Z"
   },
   {
    "duration": 33,
    "start_time": "2021-10-12T11:45:33.078Z"
   },
   {
    "duration": 18,
    "start_time": "2021-10-12T11:45:33.113Z"
   },
   {
    "duration": 27,
    "start_time": "2021-10-12T11:45:33.134Z"
   },
   {
    "duration": 19,
    "start_time": "2021-10-12T11:45:33.164Z"
   },
   {
    "duration": 29,
    "start_time": "2021-10-12T11:45:33.187Z"
   },
   {
    "duration": 20,
    "start_time": "2021-10-12T11:45:33.219Z"
   },
   {
    "duration": 53,
    "start_time": "2021-10-12T11:45:33.241Z"
   },
   {
    "duration": 42,
    "start_time": "2021-10-12T11:45:33.297Z"
   },
   {
    "duration": 15,
    "start_time": "2021-10-12T11:45:33.358Z"
   },
   {
    "duration": 17,
    "start_time": "2021-10-12T11:45:33.375Z"
   },
   {
    "duration": 39,
    "start_time": "2021-10-12T11:45:33.394Z"
   },
   {
    "duration": 21,
    "start_time": "2021-10-12T11:45:33.436Z"
   },
   {
    "duration": 25,
    "start_time": "2021-10-12T11:45:33.459Z"
   },
   {
    "duration": 33,
    "start_time": "2021-10-12T11:45:33.486Z"
   },
   {
    "duration": 23,
    "start_time": "2021-10-12T11:45:33.521Z"
   },
   {
    "duration": 49,
    "start_time": "2021-10-12T11:45:33.546Z"
   },
   {
    "duration": 13,
    "start_time": "2021-10-12T11:45:33.598Z"
   },
   {
    "duration": 26,
    "start_time": "2021-10-12T11:45:33.613Z"
   },
   {
    "duration": 58,
    "start_time": "2021-10-12T11:45:33.641Z"
   },
   {
    "duration": 30,
    "start_time": "2021-10-12T11:45:33.704Z"
   },
   {
    "duration": 11,
    "start_time": "2021-10-12T11:45:33.757Z"
   },
   {
    "duration": 12,
    "start_time": "2021-10-12T11:45:33.770Z"
   },
   {
    "duration": 25,
    "start_time": "2021-10-12T11:45:33.784Z"
   },
   {
    "duration": 20,
    "start_time": "2021-10-12T11:45:33.812Z"
   },
   {
    "duration": 21,
    "start_time": "2021-10-12T11:45:33.834Z"
   },
   {
    "duration": 25,
    "start_time": "2021-10-12T11:45:33.858Z"
   },
   {
    "duration": 25,
    "start_time": "2021-10-12T11:45:33.885Z"
   },
   {
    "duration": 22,
    "start_time": "2021-10-12T11:45:33.912Z"
   },
   {
    "duration": 892,
    "start_time": "2021-10-12T11:45:33.936Z"
   },
   {
    "duration": 6,
    "start_time": "2021-10-12T11:45:34.830Z"
   },
   {
    "duration": 27,
    "start_time": "2021-10-12T11:45:34.839Z"
   },
   {
    "duration": 20,
    "start_time": "2021-10-12T11:45:34.868Z"
   },
   {
    "duration": 1936,
    "start_time": "2021-10-12T11:45:34.890Z"
   },
   {
    "duration": 29,
    "start_time": "2021-10-12T11:45:36.828Z"
   },
   {
    "duration": 47,
    "start_time": "2021-10-12T11:45:36.859Z"
   },
   {
    "duration": 331,
    "start_time": "2021-10-13T06:12:32.911Z"
   },
   {
    "duration": 325,
    "start_time": "2021-10-13T06:12:35.632Z"
   },
   {
    "duration": 731,
    "start_time": "2021-10-13T06:12:46.800Z"
   },
   {
    "duration": 12,
    "start_time": "2021-10-13T06:12:47.533Z"
   },
   {
    "duration": 14,
    "start_time": "2021-10-13T06:12:47.548Z"
   },
   {
    "duration": 11,
    "start_time": "2021-10-13T06:12:47.578Z"
   },
   {
    "duration": 8,
    "start_time": "2021-10-13T06:12:47.591Z"
   },
   {
    "duration": 6,
    "start_time": "2021-10-13T06:12:47.601Z"
   },
   {
    "duration": 8,
    "start_time": "2021-10-13T06:12:47.609Z"
   },
   {
    "duration": 10,
    "start_time": "2021-10-13T06:12:47.620Z"
   },
   {
    "duration": 7,
    "start_time": "2021-10-13T06:12:47.632Z"
   },
   {
    "duration": 57,
    "start_time": "2021-10-13T06:12:47.641Z"
   },
   {
    "duration": 30,
    "start_time": "2021-10-13T06:12:47.700Z"
   },
   {
    "duration": 12,
    "start_time": "2021-10-13T06:12:47.732Z"
   },
   {
    "duration": 35,
    "start_time": "2021-10-13T06:12:47.745Z"
   },
   {
    "duration": 14,
    "start_time": "2021-10-13T06:12:47.782Z"
   },
   {
    "duration": 5,
    "start_time": "2021-10-13T06:12:47.798Z"
   },
   {
    "duration": 13,
    "start_time": "2021-10-13T06:12:47.804Z"
   },
   {
    "duration": 9,
    "start_time": "2021-10-13T06:12:47.819Z"
   },
   {
    "duration": 48,
    "start_time": "2021-10-13T06:12:47.830Z"
   },
   {
    "duration": 22,
    "start_time": "2021-10-13T06:12:47.880Z"
   },
   {
    "duration": 10,
    "start_time": "2021-10-13T06:12:47.904Z"
   },
   {
    "duration": 8,
    "start_time": "2021-10-13T06:12:47.916Z"
   },
   {
    "duration": 52,
    "start_time": "2021-10-13T06:12:47.926Z"
   },
   {
    "duration": 23,
    "start_time": "2021-10-13T06:12:47.983Z"
   },
   {
    "duration": 11,
    "start_time": "2021-10-13T06:12:48.008Z"
   },
   {
    "duration": 5,
    "start_time": "2021-10-13T06:12:48.021Z"
   },
   {
    "duration": 24,
    "start_time": "2021-10-13T06:12:48.028Z"
   },
   {
    "duration": 22,
    "start_time": "2021-10-13T06:12:48.054Z"
   },
   {
    "duration": 19,
    "start_time": "2021-10-13T06:12:48.078Z"
   },
   {
    "duration": 2,
    "start_time": "2021-10-13T06:12:48.099Z"
   },
   {
    "duration": 5,
    "start_time": "2021-10-13T06:12:48.103Z"
   },
   {
    "duration": 8,
    "start_time": "2021-10-13T06:12:48.110Z"
   },
   {
    "duration": 679,
    "start_time": "2021-10-13T06:12:48.120Z"
   },
   {
    "duration": 4,
    "start_time": "2021-10-13T06:12:48.801Z"
   },
   {
    "duration": 17,
    "start_time": "2021-10-13T06:12:48.807Z"
   },
   {
    "duration": 5,
    "start_time": "2021-10-13T06:12:48.826Z"
   },
   {
    "duration": 1525,
    "start_time": "2021-10-13T06:12:48.833Z"
   },
   {
    "duration": 20,
    "start_time": "2021-10-13T06:12:50.360Z"
   },
   {
    "duration": 27,
    "start_time": "2021-10-13T06:12:50.382Z"
   },
   {
    "duration": 17,
    "start_time": "2021-10-13T06:13:33.710Z"
   },
   {
    "duration": 27,
    "start_time": "2021-10-13T06:14:06.484Z"
   },
   {
    "duration": 16,
    "start_time": "2021-10-13T06:14:46.347Z"
   },
   {
    "duration": 15,
    "start_time": "2021-10-13T06:14:59.722Z"
   },
   {
    "duration": 661,
    "start_time": "2021-10-13T06:15:07.200Z"
   },
   {
    "duration": 11,
    "start_time": "2021-10-13T06:15:07.863Z"
   },
   {
    "duration": 28,
    "start_time": "2021-10-13T06:15:07.876Z"
   },
   {
    "duration": 20,
    "start_time": "2021-10-13T06:15:07.905Z"
   },
   {
    "duration": 23,
    "start_time": "2021-10-13T06:15:07.927Z"
   },
   {
    "duration": 13,
    "start_time": "2021-10-13T06:15:07.952Z"
   },
   {
    "duration": 11,
    "start_time": "2021-10-13T06:15:07.967Z"
   },
   {
    "duration": 10,
    "start_time": "2021-10-13T06:15:07.980Z"
   },
   {
    "duration": 10,
    "start_time": "2021-10-13T06:15:07.992Z"
   },
   {
    "duration": 30,
    "start_time": "2021-10-13T06:15:08.004Z"
   },
   {
    "duration": 25,
    "start_time": "2021-10-13T06:15:08.036Z"
   },
   {
    "duration": 24,
    "start_time": "2021-10-13T06:15:08.063Z"
   },
   {
    "duration": 9,
    "start_time": "2021-10-13T06:15:08.089Z"
   },
   {
    "duration": 13,
    "start_time": "2021-10-13T06:15:08.099Z"
   },
   {
    "duration": 4,
    "start_time": "2021-10-13T06:15:08.114Z"
   },
   {
    "duration": 16,
    "start_time": "2021-10-13T06:15:08.119Z"
   },
   {
    "duration": 14,
    "start_time": "2021-10-13T06:15:08.137Z"
   },
   {
    "duration": 7,
    "start_time": "2021-10-13T06:15:08.178Z"
   },
   {
    "duration": 21,
    "start_time": "2021-10-13T06:15:08.186Z"
   },
   {
    "duration": 14,
    "start_time": "2021-10-13T06:15:08.209Z"
   },
   {
    "duration": 10,
    "start_time": "2021-10-13T06:15:08.225Z"
   },
   {
    "duration": 43,
    "start_time": "2021-10-13T06:15:08.236Z"
   },
   {
    "duration": 19,
    "start_time": "2021-10-13T06:15:08.282Z"
   },
   {
    "duration": 11,
    "start_time": "2021-10-13T06:15:08.303Z"
   },
   {
    "duration": 7,
    "start_time": "2021-10-13T06:15:08.316Z"
   },
   {
    "duration": 14,
    "start_time": "2021-10-13T06:15:08.325Z"
   },
   {
    "duration": 11,
    "start_time": "2021-10-13T06:15:08.340Z"
   },
   {
    "duration": 20,
    "start_time": "2021-10-13T06:15:08.353Z"
   },
   {
    "duration": 8,
    "start_time": "2021-10-13T06:15:08.375Z"
   },
   {
    "duration": 11,
    "start_time": "2021-10-13T06:15:08.385Z"
   },
   {
    "duration": 13,
    "start_time": "2021-10-13T06:15:08.397Z"
   },
   {
    "duration": 657,
    "start_time": "2021-10-13T06:15:08.411Z"
   },
   {
    "duration": 7,
    "start_time": "2021-10-13T06:15:09.070Z"
   },
   {
    "duration": 8,
    "start_time": "2021-10-13T06:15:09.079Z"
   },
   {
    "duration": 8,
    "start_time": "2021-10-13T06:15:09.089Z"
   },
   {
    "duration": 1720,
    "start_time": "2021-10-13T06:15:09.099Z"
   },
   {
    "duration": 7,
    "start_time": "2021-10-13T06:15:10.821Z"
   },
   {
    "duration": 33,
    "start_time": "2021-10-13T06:15:10.829Z"
   },
   {
    "duration": 26,
    "start_time": "2021-10-13T06:16:51.325Z"
   },
   {
    "duration": 27,
    "start_time": "2021-10-13T06:19:36.218Z"
   },
   {
    "duration": 25,
    "start_time": "2021-10-13T06:20:08.984Z"
   },
   {
    "duration": 6,
    "start_time": "2021-10-13T06:20:36.803Z"
   },
   {
    "duration": 6,
    "start_time": "2021-10-13T06:20:50.916Z"
   },
   {
    "duration": 6,
    "start_time": "2021-10-13T06:20:58.425Z"
   },
   {
    "duration": 16,
    "start_time": "2021-10-13T06:21:54.943Z"
   },
   {
    "duration": 27,
    "start_time": "2021-10-13T06:22:14.602Z"
   },
   {
    "duration": 10,
    "start_time": "2021-10-13T06:24:09.721Z"
   },
   {
    "duration": 365,
    "start_time": "2021-10-13T06:24:23.139Z"
   },
   {
    "duration": 6,
    "start_time": "2021-10-13T06:24:32.157Z"
   },
   {
    "duration": 10,
    "start_time": "2021-10-13T06:27:41.022Z"
   },
   {
    "duration": 24,
    "start_time": "2021-10-13T06:28:45.264Z"
   },
   {
    "duration": 10,
    "start_time": "2021-10-13T06:29:37.193Z"
   },
   {
    "duration": 26,
    "start_time": "2021-10-13T06:29:41.041Z"
   },
   {
    "duration": 12,
    "start_time": "2021-10-13T06:31:37.899Z"
   },
   {
    "duration": 10,
    "start_time": "2021-10-13T06:31:51.215Z"
   },
   {
    "duration": 11,
    "start_time": "2021-10-13T06:32:06.809Z"
   },
   {
    "duration": 27,
    "start_time": "2021-10-13T06:32:09.890Z"
   },
   {
    "duration": 9,
    "start_time": "2021-10-13T06:34:52.778Z"
   },
   {
    "duration": 5,
    "start_time": "2021-10-13T06:35:09.028Z"
   },
   {
    "duration": 5,
    "start_time": "2021-10-13T06:36:25.748Z"
   },
   {
    "duration": 5,
    "start_time": "2021-10-13T06:36:40.824Z"
   },
   {
    "duration": 6,
    "start_time": "2021-10-13T06:37:56.678Z"
   },
   {
    "duration": 4,
    "start_time": "2021-10-13T06:38:12.173Z"
   },
   {
    "duration": 5,
    "start_time": "2021-10-13T06:38:19.468Z"
   },
   {
    "duration": 4,
    "start_time": "2021-10-13T06:38:34.989Z"
   },
   {
    "duration": 5,
    "start_time": "2021-10-13T06:38:58.007Z"
   },
   {
    "duration": 4,
    "start_time": "2021-10-13T06:39:30.678Z"
   },
   {
    "duration": 42,
    "start_time": "2021-10-13T06:43:21.853Z"
   },
   {
    "duration": 8310,
    "start_time": "2021-10-13T06:45:08.028Z"
   },
   {
    "duration": 7693,
    "start_time": "2021-10-13T06:45:35.894Z"
   },
   {
    "duration": 55,
    "start_time": "2021-10-13T06:45:56.374Z"
   },
   {
    "duration": 9571,
    "start_time": "2021-10-13T06:47:22.284Z"
   },
   {
    "duration": 44,
    "start_time": "2021-10-13T06:47:46.899Z"
   },
   {
    "duration": 15,
    "start_time": "2021-10-13T06:49:24.809Z"
   },
   {
    "duration": 11,
    "start_time": "2021-10-13T06:50:06.248Z"
   },
   {
    "duration": 26,
    "start_time": "2021-10-13T06:50:28.245Z"
   },
   {
    "duration": 6,
    "start_time": "2021-10-13T06:51:11.230Z"
   },
   {
    "duration": 318,
    "start_time": "2021-10-13T07:00:38.464Z"
   },
   {
    "duration": 8,
    "start_time": "2021-10-13T07:00:44.285Z"
   },
   {
    "duration": 28,
    "start_time": "2021-10-13T07:00:52.580Z"
   },
   {
    "duration": 10,
    "start_time": "2021-10-13T07:01:38.204Z"
   },
   {
    "duration": 8,
    "start_time": "2021-10-13T07:01:59.280Z"
   },
   {
    "duration": 26,
    "start_time": "2021-10-13T07:02:01.881Z"
   },
   {
    "duration": 9,
    "start_time": "2021-10-13T07:02:24.931Z"
   },
   {
    "duration": 9,
    "start_time": "2021-10-13T07:02:34.223Z"
   },
   {
    "duration": 39,
    "start_time": "2021-10-13T07:02:36.401Z"
   },
   {
    "duration": 17,
    "start_time": "2021-10-13T07:22:38.841Z"
   },
   {
    "duration": 45,
    "start_time": "2021-10-13T07:23:59.698Z"
   },
   {
    "duration": 46,
    "start_time": "2021-10-13T07:26:49.923Z"
   },
   {
    "duration": 682,
    "start_time": "2021-10-13T07:27:06.593Z"
   },
   {
    "duration": 13,
    "start_time": "2021-10-13T07:27:07.277Z"
   },
   {
    "duration": 12,
    "start_time": "2021-10-13T07:27:07.292Z"
   },
   {
    "duration": 13,
    "start_time": "2021-10-13T07:27:07.306Z"
   },
   {
    "duration": 7,
    "start_time": "2021-10-13T07:27:07.321Z"
   },
   {
    "duration": 8,
    "start_time": "2021-10-13T07:27:07.329Z"
   },
   {
    "duration": 38,
    "start_time": "2021-10-13T07:27:07.339Z"
   },
   {
    "duration": 10,
    "start_time": "2021-10-13T07:27:07.380Z"
   },
   {
    "duration": 6,
    "start_time": "2021-10-13T07:27:07.393Z"
   },
   {
    "duration": 24,
    "start_time": "2021-10-13T07:27:07.400Z"
   },
   {
    "duration": 58,
    "start_time": "2021-10-13T07:27:07.426Z"
   },
   {
    "duration": 11,
    "start_time": "2021-10-13T07:27:07.486Z"
   },
   {
    "duration": 7,
    "start_time": "2021-10-13T07:27:07.498Z"
   },
   {
    "duration": 14,
    "start_time": "2021-10-13T07:27:07.507Z"
   },
   {
    "duration": 4,
    "start_time": "2021-10-13T07:27:07.523Z"
   },
   {
    "duration": 13,
    "start_time": "2021-10-13T07:27:07.529Z"
   },
   {
    "duration": 8,
    "start_time": "2021-10-13T07:27:07.577Z"
   },
   {
    "duration": 7,
    "start_time": "2021-10-13T07:27:07.586Z"
   },
   {
    "duration": 20,
    "start_time": "2021-10-13T07:27:07.595Z"
   },
   {
    "duration": 10,
    "start_time": "2021-10-13T07:27:07.617Z"
   },
   {
    "duration": 10,
    "start_time": "2021-10-13T07:27:07.628Z"
   },
   {
    "duration": 56,
    "start_time": "2021-10-13T07:27:07.639Z"
   },
   {
    "duration": 12,
    "start_time": "2021-10-13T07:27:07.699Z"
   },
   {
    "duration": 24,
    "start_time": "2021-10-13T07:27:07.713Z"
   },
   {
    "duration": 25,
    "start_time": "2021-10-13T07:27:07.739Z"
   },
   {
    "duration": 23,
    "start_time": "2021-10-13T07:27:07.766Z"
   },
   {
    "duration": 40,
    "start_time": "2021-10-13T07:27:07.791Z"
   },
   {
    "duration": 19,
    "start_time": "2021-10-13T07:27:07.832Z"
   },
   {
    "duration": 30,
    "start_time": "2021-10-13T07:27:07.853Z"
   },
   {
    "duration": 4,
    "start_time": "2021-10-13T07:27:07.884Z"
   },
   {
    "duration": 8,
    "start_time": "2021-10-13T07:27:07.890Z"
   },
   {
    "duration": 3,
    "start_time": "2021-10-13T07:27:07.899Z"
   },
   {
    "duration": 10,
    "start_time": "2021-10-13T07:27:07.904Z"
   },
   {
    "duration": 3,
    "start_time": "2021-10-13T07:27:07.916Z"
   },
   {
    "duration": 5,
    "start_time": "2021-10-13T07:27:07.921Z"
   },
   {
    "duration": 5,
    "start_time": "2021-10-13T07:27:07.928Z"
   },
   {
    "duration": 694,
    "start_time": "2021-10-13T07:27:07.935Z"
   },
   {
    "duration": 5,
    "start_time": "2021-10-13T07:27:08.631Z"
   },
   {
    "duration": 17,
    "start_time": "2021-10-13T07:27:08.637Z"
   },
   {
    "duration": 8,
    "start_time": "2021-10-13T07:27:08.656Z"
   },
   {
    "duration": 1565,
    "start_time": "2021-10-13T07:27:08.666Z"
   },
   {
    "duration": 8,
    "start_time": "2021-10-13T07:27:10.233Z"
   },
   {
    "duration": 45,
    "start_time": "2021-10-13T07:27:10.242Z"
   },
   {
    "duration": 7,
    "start_time": "2021-10-13T07:43:16.476Z"
   },
   {
    "duration": 6,
    "start_time": "2021-10-13T07:44:20.419Z"
   },
   {
    "duration": 6,
    "start_time": "2021-10-13T07:44:24.663Z"
   },
   {
    "duration": 26,
    "start_time": "2021-10-13T07:44:36.093Z"
   },
   {
    "duration": 5,
    "start_time": "2021-10-13T07:46:26.813Z"
   },
   {
    "duration": 24,
    "start_time": "2021-10-13T07:46:30.042Z"
   },
   {
    "duration": 7967,
    "start_time": "2021-10-13T07:47:20.974Z"
   },
   {
    "duration": 8339,
    "start_time": "2021-10-13T07:47:47.295Z"
   },
   {
    "duration": -852,
    "start_time": "2021-10-13T07:47:56.489Z"
   },
   {
    "duration": 9019,
    "start_time": "2021-10-13T07:48:01.131Z"
   },
   {
    "duration": 688,
    "start_time": "2021-10-13T07:48:45.937Z"
   },
   {
    "duration": 12,
    "start_time": "2021-10-13T07:48:46.627Z"
   },
   {
    "duration": 20,
    "start_time": "2021-10-13T07:48:46.641Z"
   },
   {
    "duration": 28,
    "start_time": "2021-10-13T07:48:46.664Z"
   },
   {
    "duration": 10,
    "start_time": "2021-10-13T07:48:46.695Z"
   },
   {
    "duration": 6,
    "start_time": "2021-10-13T07:48:46.707Z"
   },
   {
    "duration": 9,
    "start_time": "2021-10-13T07:48:46.715Z"
   },
   {
    "duration": 11,
    "start_time": "2021-10-13T07:48:46.728Z"
   },
   {
    "duration": 6,
    "start_time": "2021-10-13T07:48:46.777Z"
   },
   {
    "duration": 25,
    "start_time": "2021-10-13T07:48:46.785Z"
   },
   {
    "duration": 65,
    "start_time": "2021-10-13T07:48:46.812Z"
   },
   {
    "duration": 13,
    "start_time": "2021-10-13T07:48:46.879Z"
   },
   {
    "duration": 7,
    "start_time": "2021-10-13T07:48:46.894Z"
   },
   {
    "duration": 18,
    "start_time": "2021-10-13T07:48:46.902Z"
   },
   {
    "duration": 5,
    "start_time": "2021-10-13T07:48:46.922Z"
   },
   {
    "duration": 50,
    "start_time": "2021-10-13T07:48:46.930Z"
   },
   {
    "duration": 8,
    "start_time": "2021-10-13T07:48:46.983Z"
   },
   {
    "duration": 9,
    "start_time": "2021-10-13T07:48:46.993Z"
   },
   {
    "duration": 23,
    "start_time": "2021-10-13T07:48:47.004Z"
   },
   {
    "duration": 49,
    "start_time": "2021-10-13T07:48:47.029Z"
   },
   {
    "duration": 11,
    "start_time": "2021-10-13T07:48:47.080Z"
   },
   {
    "duration": 23,
    "start_time": "2021-10-13T07:48:47.093Z"
   },
   {
    "duration": 12,
    "start_time": "2021-10-13T07:48:47.120Z"
   },
   {
    "duration": 44,
    "start_time": "2021-10-13T07:48:47.134Z"
   },
   {
    "duration": 11,
    "start_time": "2021-10-13T07:48:47.180Z"
   },
   {
    "duration": 31,
    "start_time": "2021-10-13T07:48:47.193Z"
   },
   {
    "duration": 75,
    "start_time": "2021-10-13T07:48:47.226Z"
   },
   {
    "duration": 5,
    "start_time": "2021-10-13T07:48:47.303Z"
   },
   {
    "duration": 29,
    "start_time": "2021-10-13T07:48:47.309Z"
   },
   {
    "duration": 39,
    "start_time": "2021-10-13T07:48:47.340Z"
   },
   {
    "duration": 9,
    "start_time": "2021-10-13T07:48:47.381Z"
   },
   {
    "duration": 3,
    "start_time": "2021-10-13T07:48:47.392Z"
   },
   {
    "duration": 12,
    "start_time": "2021-10-13T07:48:47.397Z"
   },
   {
    "duration": 25,
    "start_time": "2021-10-13T07:48:47.411Z"
   },
   {
    "duration": 68,
    "start_time": "2021-10-13T07:48:47.438Z"
   },
   {
    "duration": 13,
    "start_time": "2021-10-13T07:48:47.508Z"
   },
   {
    "duration": 13,
    "start_time": "2021-10-13T07:48:47.523Z"
   },
   {
    "duration": 9,
    "start_time": "2021-10-13T07:48:47.538Z"
   },
   {
    "duration": 713,
    "start_time": "2021-10-13T07:48:47.550Z"
   },
   {
    "duration": 12,
    "start_time": "2021-10-13T07:48:48.264Z"
   },
   {
    "duration": 4,
    "start_time": "2021-10-13T07:48:48.278Z"
   },
   {
    "duration": 6,
    "start_time": "2021-10-13T07:48:48.284Z"
   },
   {
    "duration": 1753,
    "start_time": "2021-10-13T07:48:48.292Z"
   },
   {
    "duration": 29,
    "start_time": "2021-10-13T07:48:50.047Z"
   },
   {
    "duration": 35,
    "start_time": "2021-10-13T07:48:50.079Z"
   },
   {
    "duration": 40,
    "start_time": "2021-10-13T07:49:16.966Z"
   },
   {
    "duration": 39,
    "start_time": "2021-10-13T07:49:43.209Z"
   },
   {
    "duration": 7957,
    "start_time": "2021-10-13T07:49:52.904Z"
   },
   {
    "duration": 7795,
    "start_time": "2021-10-13T07:50:05.625Z"
   },
   {
    "duration": 346,
    "start_time": "2021-10-13T07:50:31.002Z"
   },
   {
    "duration": 689,
    "start_time": "2021-10-13T07:50:43.537Z"
   },
   {
    "duration": 14,
    "start_time": "2021-10-13T07:50:44.228Z"
   },
   {
    "duration": 14,
    "start_time": "2021-10-13T07:50:44.245Z"
   },
   {
    "duration": 15,
    "start_time": "2021-10-13T07:50:44.277Z"
   },
   {
    "duration": 10,
    "start_time": "2021-10-13T07:50:44.294Z"
   },
   {
    "duration": 6,
    "start_time": "2021-10-13T07:50:44.306Z"
   },
   {
    "duration": 8,
    "start_time": "2021-10-13T07:50:44.314Z"
   },
   {
    "duration": 55,
    "start_time": "2021-10-13T07:50:44.326Z"
   },
   {
    "duration": 13,
    "start_time": "2021-10-13T07:50:44.383Z"
   },
   {
    "duration": 43,
    "start_time": "2021-10-13T07:50:44.399Z"
   },
   {
    "duration": 27,
    "start_time": "2021-10-13T07:50:44.444Z"
   },
   {
    "duration": 11,
    "start_time": "2021-10-13T07:50:44.474Z"
   },
   {
    "duration": 7,
    "start_time": "2021-10-13T07:50:44.487Z"
   },
   {
    "duration": 14,
    "start_time": "2021-10-13T07:50:44.496Z"
   },
   {
    "duration": 6,
    "start_time": "2021-10-13T07:50:44.512Z"
   },
   {
    "duration": 18,
    "start_time": "2021-10-13T07:50:44.520Z"
   },
   {
    "duration": 11,
    "start_time": "2021-10-13T07:50:44.577Z"
   },
   {
    "duration": 11,
    "start_time": "2021-10-13T07:50:44.590Z"
   },
   {
    "duration": 36,
    "start_time": "2021-10-13T07:50:44.604Z"
   },
   {
    "duration": 40,
    "start_time": "2021-10-13T07:50:44.643Z"
   },
   {
    "duration": 12,
    "start_time": "2021-10-13T07:50:44.685Z"
   },
   {
    "duration": 37,
    "start_time": "2021-10-13T07:50:44.700Z"
   },
   {
    "duration": 42,
    "start_time": "2021-10-13T07:50:44.743Z"
   },
   {
    "duration": 21,
    "start_time": "2021-10-13T07:50:44.788Z"
   },
   {
    "duration": 15,
    "start_time": "2021-10-13T07:50:44.812Z"
   },
   {
    "duration": 63,
    "start_time": "2021-10-13T07:50:44.829Z"
   },
   {
    "duration": 69,
    "start_time": "2021-10-13T07:50:44.895Z"
   },
   {
    "duration": 4,
    "start_time": "2021-10-13T07:50:44.978Z"
   },
   {
    "duration": 55,
    "start_time": "2021-10-13T07:50:44.985Z"
   },
   {
    "duration": 19,
    "start_time": "2021-10-13T07:50:45.042Z"
   },
   {
    "duration": 20,
    "start_time": "2021-10-13T07:50:45.063Z"
   },
   {
    "duration": 10,
    "start_time": "2021-10-13T07:50:45.084Z"
   },
   {
    "duration": 30,
    "start_time": "2021-10-13T07:50:45.095Z"
   },
   {
    "duration": 21,
    "start_time": "2021-10-13T07:50:45.127Z"
   },
   {
    "duration": 18,
    "start_time": "2021-10-13T07:50:45.150Z"
   },
   {
    "duration": 16,
    "start_time": "2021-10-13T07:50:45.169Z"
   },
   {
    "duration": 30,
    "start_time": "2021-10-13T07:50:45.187Z"
   },
   {
    "duration": 21,
    "start_time": "2021-10-13T07:50:45.218Z"
   },
   {
    "duration": 688,
    "start_time": "2021-10-13T07:50:45.241Z"
   },
   {
    "duration": 5,
    "start_time": "2021-10-13T07:50:45.930Z"
   },
   {
    "duration": 6,
    "start_time": "2021-10-13T07:50:45.936Z"
   },
   {
    "duration": 4,
    "start_time": "2021-10-13T07:50:45.944Z"
   },
   {
    "duration": 1641,
    "start_time": "2021-10-13T07:50:45.949Z"
   },
   {
    "duration": 7,
    "start_time": "2021-10-13T07:50:47.592Z"
   },
   {
    "duration": 23,
    "start_time": "2021-10-13T07:50:47.601Z"
   },
   {
    "duration": 750,
    "start_time": "2021-10-13T07:51:05.927Z"
   },
   {
    "duration": 12,
    "start_time": "2021-10-13T07:51:06.679Z"
   },
   {
    "duration": 13,
    "start_time": "2021-10-13T07:51:06.694Z"
   },
   {
    "duration": 17,
    "start_time": "2021-10-13T07:51:06.710Z"
   },
   {
    "duration": 10,
    "start_time": "2021-10-13T07:51:06.729Z"
   },
   {
    "duration": 37,
    "start_time": "2021-10-13T07:51:06.741Z"
   },
   {
    "duration": 10,
    "start_time": "2021-10-13T07:51:06.780Z"
   },
   {
    "duration": 18,
    "start_time": "2021-10-13T07:51:06.793Z"
   },
   {
    "duration": 8,
    "start_time": "2021-10-13T07:51:06.814Z"
   },
   {
    "duration": 60,
    "start_time": "2021-10-13T07:51:06.824Z"
   },
   {
    "duration": 41,
    "start_time": "2021-10-13T07:51:06.886Z"
   },
   {
    "duration": 16,
    "start_time": "2021-10-13T07:51:06.929Z"
   },
   {
    "duration": 33,
    "start_time": "2021-10-13T07:51:06.948Z"
   },
   {
    "duration": 21,
    "start_time": "2021-10-13T07:51:06.983Z"
   },
   {
    "duration": 6,
    "start_time": "2021-10-13T07:51:07.006Z"
   },
   {
    "duration": 20,
    "start_time": "2021-10-13T07:51:07.015Z"
   },
   {
    "duration": 44,
    "start_time": "2021-10-13T07:51:07.038Z"
   },
   {
    "duration": 10,
    "start_time": "2021-10-13T07:51:07.084Z"
   },
   {
    "duration": 40,
    "start_time": "2021-10-13T07:51:07.097Z"
   },
   {
    "duration": 14,
    "start_time": "2021-10-13T07:51:07.139Z"
   },
   {
    "duration": 12,
    "start_time": "2021-10-13T07:51:07.177Z"
   },
   {
    "duration": 41,
    "start_time": "2021-10-13T07:51:07.192Z"
   },
   {
    "duration": 38,
    "start_time": "2021-10-13T07:51:07.238Z"
   },
   {
    "duration": 23,
    "start_time": "2021-10-13T07:51:07.280Z"
   },
   {
    "duration": 14,
    "start_time": "2021-10-13T07:51:07.305Z"
   },
   {
    "duration": 26,
    "start_time": "2021-10-13T07:51:07.321Z"
   },
   {
    "duration": 89,
    "start_time": "2021-10-13T07:51:07.348Z"
   },
   {
    "duration": 5,
    "start_time": "2021-10-13T07:51:07.439Z"
   },
   {
    "duration": 63,
    "start_time": "2021-10-13T07:51:07.446Z"
   },
   {
    "duration": 28,
    "start_time": "2021-10-13T07:51:07.511Z"
   },
   {
    "duration": 9,
    "start_time": "2021-10-13T07:51:07.541Z"
   },
   {
    "duration": 25,
    "start_time": "2021-10-13T07:51:07.551Z"
   },
   {
    "duration": 12,
    "start_time": "2021-10-13T07:51:07.578Z"
   },
   {
    "duration": 2,
    "start_time": "2021-10-13T07:51:07.593Z"
   },
   {
    "duration": 8,
    "start_time": "2021-10-13T07:51:07.598Z"
   },
   {
    "duration": 3,
    "start_time": "2021-10-13T07:51:07.608Z"
   },
   {
    "duration": 5,
    "start_time": "2021-10-13T07:51:07.613Z"
   },
   {
    "duration": 8,
    "start_time": "2021-10-13T07:51:07.620Z"
   },
   {
    "duration": 693,
    "start_time": "2021-10-13T07:51:07.629Z"
   },
   {
    "duration": 4,
    "start_time": "2021-10-13T07:51:08.324Z"
   },
   {
    "duration": 16,
    "start_time": "2021-10-13T07:51:08.330Z"
   },
   {
    "duration": 9,
    "start_time": "2021-10-13T07:51:08.348Z"
   },
   {
    "duration": 1647,
    "start_time": "2021-10-13T07:51:08.359Z"
   },
   {
    "duration": 12,
    "start_time": "2021-10-13T07:51:10.008Z"
   },
   {
    "duration": 43,
    "start_time": "2021-10-13T07:51:10.022Z"
   },
   {
    "duration": 367,
    "start_time": "2021-10-13T07:55:14.470Z"
   },
   {
    "duration": 314,
    "start_time": "2021-10-13T07:55:31.456Z"
   },
   {
    "duration": 27,
    "start_time": "2021-10-13T07:55:48.881Z"
   },
   {
    "duration": 27,
    "start_time": "2021-10-13T07:56:16.940Z"
   },
   {
    "duration": 812,
    "start_time": "2021-10-13T07:57:34.778Z"
   },
   {
    "duration": 13,
    "start_time": "2021-10-13T07:57:35.593Z"
   },
   {
    "duration": 12,
    "start_time": "2021-10-13T07:57:35.608Z"
   },
   {
    "duration": 18,
    "start_time": "2021-10-13T07:57:35.622Z"
   },
   {
    "duration": 35,
    "start_time": "2021-10-13T07:57:35.642Z"
   },
   {
    "duration": 7,
    "start_time": "2021-10-13T07:57:35.680Z"
   },
   {
    "duration": 12,
    "start_time": "2021-10-13T07:57:35.690Z"
   },
   {
    "duration": 10,
    "start_time": "2021-10-13T07:57:35.706Z"
   },
   {
    "duration": 7,
    "start_time": "2021-10-13T07:57:35.719Z"
   },
   {
    "duration": 63,
    "start_time": "2021-10-13T07:57:35.728Z"
   },
   {
    "duration": 23,
    "start_time": "2021-10-13T07:57:35.793Z"
   },
   {
    "duration": 15,
    "start_time": "2021-10-13T07:57:35.818Z"
   },
   {
    "duration": 6,
    "start_time": "2021-10-13T07:57:35.836Z"
   },
   {
    "duration": 50,
    "start_time": "2021-10-13T07:57:35.843Z"
   },
   {
    "duration": 7,
    "start_time": "2021-10-13T07:57:35.895Z"
   },
   {
    "duration": 15,
    "start_time": "2021-10-13T07:57:35.904Z"
   },
   {
    "duration": 13,
    "start_time": "2021-10-13T07:57:35.920Z"
   },
   {
    "duration": 30,
    "start_time": "2021-10-13T07:57:35.935Z"
   },
   {
    "duration": 54,
    "start_time": "2021-10-13T07:57:35.967Z"
   },
   {
    "duration": 10,
    "start_time": "2021-10-13T07:57:36.023Z"
   },
   {
    "duration": 8,
    "start_time": "2021-10-13T07:57:36.035Z"
   },
   {
    "duration": 34,
    "start_time": "2021-10-13T07:57:36.045Z"
   },
   {
    "duration": 16,
    "start_time": "2021-10-13T07:57:36.085Z"
   },
   {
    "duration": 14,
    "start_time": "2021-10-13T07:57:36.103Z"
   },
   {
    "duration": 12,
    "start_time": "2021-10-13T07:57:36.119Z"
   },
   {
    "duration": 66,
    "start_time": "2021-10-13T07:57:36.132Z"
   },
   {
    "duration": 43,
    "start_time": "2021-10-13T07:57:36.201Z"
   },
   {
    "duration": 4,
    "start_time": "2021-10-13T07:57:36.246Z"
   },
   {
    "duration": 55,
    "start_time": "2021-10-13T07:57:36.251Z"
   },
   {
    "duration": 21,
    "start_time": "2021-10-13T07:57:36.308Z"
   },
   {
    "duration": 9,
    "start_time": "2021-10-13T07:57:36.330Z"
   },
   {
    "duration": 10,
    "start_time": "2021-10-13T07:57:36.341Z"
   },
   {
    "duration": 26,
    "start_time": "2021-10-13T07:57:36.352Z"
   },
   {
    "duration": 6,
    "start_time": "2021-10-13T07:57:36.380Z"
   },
   {
    "duration": 13,
    "start_time": "2021-10-13T07:57:36.388Z"
   },
   {
    "duration": 7,
    "start_time": "2021-10-13T07:57:36.403Z"
   },
   {
    "duration": 14,
    "start_time": "2021-10-13T07:57:36.412Z"
   },
   {
    "duration": 6,
    "start_time": "2021-10-13T07:57:36.428Z"
   },
   {
    "duration": 747,
    "start_time": "2021-10-13T07:57:36.436Z"
   },
   {
    "duration": 6,
    "start_time": "2021-10-13T07:57:37.186Z"
   },
   {
    "duration": 17,
    "start_time": "2021-10-13T07:57:37.194Z"
   },
   {
    "duration": 11,
    "start_time": "2021-10-13T07:57:37.213Z"
   },
   {
    "duration": 1681,
    "start_time": "2021-10-13T07:57:37.225Z"
   },
   {
    "duration": 8,
    "start_time": "2021-10-13T07:57:38.908Z"
   },
   {
    "duration": 25,
    "start_time": "2021-10-13T07:57:38.917Z"
   },
   {
    "duration": 5,
    "start_time": "2021-10-13T07:58:53.978Z"
   },
   {
    "duration": 436,
    "start_time": "2021-10-13T07:59:05.061Z"
   },
   {
    "duration": 787,
    "start_time": "2021-10-13T07:59:19.016Z"
   },
   {
    "duration": 12,
    "start_time": "2021-10-13T07:59:19.805Z"
   },
   {
    "duration": 13,
    "start_time": "2021-10-13T07:59:19.819Z"
   },
   {
    "duration": 16,
    "start_time": "2021-10-13T07:59:19.834Z"
   },
   {
    "duration": 38,
    "start_time": "2021-10-13T07:59:19.852Z"
   },
   {
    "duration": 10,
    "start_time": "2021-10-13T07:59:19.892Z"
   },
   {
    "duration": 6,
    "start_time": "2021-10-13T07:59:19.903Z"
   },
   {
    "duration": 11,
    "start_time": "2021-10-13T07:59:19.912Z"
   },
   {
    "duration": 7,
    "start_time": "2021-10-13T07:59:19.925Z"
   },
   {
    "duration": 68,
    "start_time": "2021-10-13T07:59:19.933Z"
   },
   {
    "duration": 21,
    "start_time": "2021-10-13T07:59:20.003Z"
   },
   {
    "duration": 15,
    "start_time": "2021-10-13T07:59:20.026Z"
   },
   {
    "duration": 9459,
    "start_time": "2021-10-13T07:59:20.043Z"
   },
   {
    "duration": -863,
    "start_time": "2021-10-13T07:59:30.368Z"
   },
   {
    "duration": -868,
    "start_time": "2021-10-13T07:59:30.374Z"
   },
   {
    "duration": -871,
    "start_time": "2021-10-13T07:59:30.378Z"
   },
   {
    "duration": -874,
    "start_time": "2021-10-13T07:59:30.382Z"
   },
   {
    "duration": -876,
    "start_time": "2021-10-13T07:59:30.385Z"
   },
   {
    "duration": -879,
    "start_time": "2021-10-13T07:59:30.390Z"
   },
   {
    "duration": -885,
    "start_time": "2021-10-13T07:59:30.397Z"
   },
   {
    "duration": -887,
    "start_time": "2021-10-13T07:59:30.400Z"
   },
   {
    "duration": -890,
    "start_time": "2021-10-13T07:59:30.404Z"
   },
   {
    "duration": -892,
    "start_time": "2021-10-13T07:59:30.407Z"
   },
   {
    "duration": -894,
    "start_time": "2021-10-13T07:59:30.411Z"
   },
   {
    "duration": -896,
    "start_time": "2021-10-13T07:59:30.414Z"
   },
   {
    "duration": -899,
    "start_time": "2021-10-13T07:59:30.418Z"
   },
   {
    "duration": -902,
    "start_time": "2021-10-13T07:59:30.422Z"
   },
   {
    "duration": -905,
    "start_time": "2021-10-13T07:59:30.426Z"
   },
   {
    "duration": -908,
    "start_time": "2021-10-13T07:59:30.430Z"
   },
   {
    "duration": -910,
    "start_time": "2021-10-13T07:59:30.434Z"
   },
   {
    "duration": -933,
    "start_time": "2021-10-13T07:59:30.457Z"
   },
   {
    "duration": -941,
    "start_time": "2021-10-13T07:59:30.466Z"
   },
   {
    "duration": -946,
    "start_time": "2021-10-13T07:59:30.472Z"
   },
   {
    "duration": -949,
    "start_time": "2021-10-13T07:59:30.476Z"
   },
   {
    "duration": -952,
    "start_time": "2021-10-13T07:59:30.480Z"
   },
   {
    "duration": -954,
    "start_time": "2021-10-13T07:59:30.483Z"
   },
   {
    "duration": -957,
    "start_time": "2021-10-13T07:59:30.487Z"
   },
   {
    "duration": -961,
    "start_time": "2021-10-13T07:59:30.491Z"
   },
   {
    "duration": -964,
    "start_time": "2021-10-13T07:59:30.495Z"
   },
   {
    "duration": -972,
    "start_time": "2021-10-13T07:59:30.504Z"
   },
   {
    "duration": -977,
    "start_time": "2021-10-13T07:59:30.510Z"
   },
   {
    "duration": -980,
    "start_time": "2021-10-13T07:59:30.514Z"
   },
   {
    "duration": -982,
    "start_time": "2021-10-13T07:59:30.517Z"
   },
   {
    "duration": -986,
    "start_time": "2021-10-13T07:59:30.522Z"
   },
   {
    "duration": -988,
    "start_time": "2021-10-13T07:59:30.525Z"
   },
   {
    "duration": 389,
    "start_time": "2021-10-13T08:00:57.123Z"
   },
   {
    "duration": 695,
    "start_time": "2021-10-13T08:01:02.979Z"
   },
   {
    "duration": 11,
    "start_time": "2021-10-13T08:01:03.675Z"
   },
   {
    "duration": 17,
    "start_time": "2021-10-13T08:01:03.688Z"
   },
   {
    "duration": 12,
    "start_time": "2021-10-13T08:01:03.707Z"
   },
   {
    "duration": 6,
    "start_time": "2021-10-13T08:01:03.721Z"
   },
   {
    "duration": 9,
    "start_time": "2021-10-13T08:01:03.729Z"
   },
   {
    "duration": 38,
    "start_time": "2021-10-13T08:01:03.740Z"
   },
   {
    "duration": 10,
    "start_time": "2021-10-13T08:01:03.781Z"
   },
   {
    "duration": 13,
    "start_time": "2021-10-13T08:01:03.793Z"
   },
   {
    "duration": 28,
    "start_time": "2021-10-13T08:01:03.808Z"
   },
   {
    "duration": 45,
    "start_time": "2021-10-13T08:01:03.838Z"
   },
   {
    "duration": 11,
    "start_time": "2021-10-13T08:01:03.885Z"
   },
   {
    "duration": 32,
    "start_time": "2021-10-13T08:01:03.897Z"
   },
   {
    "duration": 37,
    "start_time": "2021-10-13T08:01:03.930Z"
   },
   {
    "duration": 5,
    "start_time": "2021-10-13T08:01:03.969Z"
   },
   {
    "duration": 63,
    "start_time": "2021-10-13T08:01:03.976Z"
   },
   {
    "duration": 13,
    "start_time": "2021-10-13T08:01:04.041Z"
   },
   {
    "duration": 18,
    "start_time": "2021-10-13T08:01:04.056Z"
   },
   {
    "duration": 24,
    "start_time": "2021-10-13T08:01:04.076Z"
   },
   {
    "duration": 10,
    "start_time": "2021-10-13T08:01:04.101Z"
   },
   {
    "duration": 25,
    "start_time": "2021-10-13T08:01:04.113Z"
   },
   {
    "duration": 26,
    "start_time": "2021-10-13T08:01:04.140Z"
   },
   {
    "duration": 16,
    "start_time": "2021-10-13T08:01:04.169Z"
   },
   {
    "duration": 14,
    "start_time": "2021-10-13T08:01:04.187Z"
   },
   {
    "duration": 12,
    "start_time": "2021-10-13T08:01:04.203Z"
   },
   {
    "duration": 24,
    "start_time": "2021-10-13T08:01:04.217Z"
   },
   {
    "duration": 68,
    "start_time": "2021-10-13T08:01:04.243Z"
   },
   {
    "duration": 4,
    "start_time": "2021-10-13T08:01:04.313Z"
   },
   {
    "duration": 27,
    "start_time": "2021-10-13T08:01:04.319Z"
   },
   {
    "duration": 44,
    "start_time": "2021-10-13T08:01:04.348Z"
   },
   {
    "duration": 8,
    "start_time": "2021-10-13T08:01:04.394Z"
   },
   {
    "duration": 4,
    "start_time": "2021-10-13T08:01:04.404Z"
   },
   {
    "duration": 11,
    "start_time": "2021-10-13T08:01:04.410Z"
   },
   {
    "duration": 4,
    "start_time": "2021-10-13T08:01:04.422Z"
   },
   {
    "duration": 10,
    "start_time": "2021-10-13T08:01:04.428Z"
   },
   {
    "duration": 9,
    "start_time": "2021-10-13T08:01:04.440Z"
   },
   {
    "duration": 12,
    "start_time": "2021-10-13T08:01:04.450Z"
   },
   {
    "duration": 16,
    "start_time": "2021-10-13T08:01:04.464Z"
   },
   {
    "duration": 769,
    "start_time": "2021-10-13T08:01:04.482Z"
   },
   {
    "duration": 4,
    "start_time": "2021-10-13T08:01:05.253Z"
   },
   {
    "duration": 19,
    "start_time": "2021-10-13T08:01:05.259Z"
   },
   {
    "duration": 4,
    "start_time": "2021-10-13T08:01:05.280Z"
   },
   {
    "duration": 1569,
    "start_time": "2021-10-13T08:01:05.285Z"
   },
   {
    "duration": 26,
    "start_time": "2021-10-13T08:01:06.855Z"
   },
   {
    "duration": 25,
    "start_time": "2021-10-13T08:01:06.882Z"
   },
   {
    "duration": 26,
    "start_time": "2021-10-13T08:07:59.811Z"
   },
   {
    "duration": 696,
    "start_time": "2021-10-13T08:08:09.289Z"
   },
   {
    "duration": 11,
    "start_time": "2021-10-13T08:08:09.987Z"
   },
   {
    "duration": 56,
    "start_time": "2021-10-13T08:08:10.000Z"
   },
   {
    "duration": 17,
    "start_time": "2021-10-13T08:08:10.059Z"
   },
   {
    "duration": 7,
    "start_time": "2021-10-13T08:08:10.078Z"
   },
   {
    "duration": 7,
    "start_time": "2021-10-13T08:08:10.087Z"
   },
   {
    "duration": 10,
    "start_time": "2021-10-13T08:08:10.096Z"
   },
   {
    "duration": 10,
    "start_time": "2021-10-13T08:08:10.109Z"
   },
   {
    "duration": 14,
    "start_time": "2021-10-13T08:08:10.121Z"
   },
   {
    "duration": 50,
    "start_time": "2021-10-13T08:08:10.136Z"
   },
   {
    "duration": 22,
    "start_time": "2021-10-13T08:08:10.188Z"
   },
   {
    "duration": 24,
    "start_time": "2021-10-13T08:08:10.212Z"
   },
   {
    "duration": 13,
    "start_time": "2021-10-13T08:08:10.238Z"
   },
   {
    "duration": 27,
    "start_time": "2021-10-13T08:08:10.252Z"
   },
   {
    "duration": 6,
    "start_time": "2021-10-13T08:08:10.281Z"
   },
   {
    "duration": 26,
    "start_time": "2021-10-13T08:08:10.289Z"
   },
   {
    "duration": 33,
    "start_time": "2021-10-13T08:08:10.317Z"
   },
   {
    "duration": 11,
    "start_time": "2021-10-13T08:08:10.352Z"
   },
   {
    "duration": 15,
    "start_time": "2021-10-13T08:08:10.365Z"
   },
   {
    "duration": 34,
    "start_time": "2021-10-13T08:08:10.382Z"
   },
   {
    "duration": 10,
    "start_time": "2021-10-13T08:08:10.417Z"
   },
   {
    "duration": 9,
    "start_time": "2021-10-13T08:08:10.428Z"
   },
   {
    "duration": 23,
    "start_time": "2021-10-13T08:08:10.441Z"
   },
   {
    "duration": 12,
    "start_time": "2021-10-13T08:08:10.476Z"
   },
   {
    "duration": 14,
    "start_time": "2021-10-13T08:08:10.489Z"
   },
   {
    "duration": 13,
    "start_time": "2021-10-13T08:08:10.505Z"
   },
   {
    "duration": 22,
    "start_time": "2021-10-13T08:08:10.519Z"
   },
   {
    "duration": 66,
    "start_time": "2021-10-13T08:08:10.543Z"
   },
   {
    "duration": 5,
    "start_time": "2021-10-13T08:08:10.612Z"
   },
   {
    "duration": 43,
    "start_time": "2021-10-13T08:08:10.618Z"
   },
   {
    "duration": 26,
    "start_time": "2021-10-13T08:08:10.663Z"
   },
   {
    "duration": 10,
    "start_time": "2021-10-13T08:08:10.691Z"
   },
   {
    "duration": 16,
    "start_time": "2021-10-13T08:08:10.703Z"
   },
   {
    "duration": 22,
    "start_time": "2021-10-13T08:08:10.721Z"
   },
   {
    "duration": 23,
    "start_time": "2021-10-13T08:08:10.745Z"
   },
   {
    "duration": 22,
    "start_time": "2021-10-13T08:08:10.769Z"
   },
   {
    "duration": 4,
    "start_time": "2021-10-13T08:08:10.792Z"
   },
   {
    "duration": 24,
    "start_time": "2021-10-13T08:08:10.798Z"
   },
   {
    "duration": 17,
    "start_time": "2021-10-13T08:08:10.824Z"
   },
   {
    "duration": 660,
    "start_time": "2021-10-13T08:08:10.843Z"
   },
   {
    "duration": 4,
    "start_time": "2021-10-13T08:08:11.505Z"
   },
   {
    "duration": 19,
    "start_time": "2021-10-13T08:08:11.510Z"
   },
   {
    "duration": 13,
    "start_time": "2021-10-13T08:08:11.531Z"
   },
   {
    "duration": 1499,
    "start_time": "2021-10-13T08:08:11.546Z"
   },
   {
    "duration": 9,
    "start_time": "2021-10-13T08:08:13.047Z"
   },
   {
    "duration": 26,
    "start_time": "2021-10-13T08:08:13.077Z"
   },
   {
    "duration": 20,
    "start_time": "2021-10-13T08:29:46.862Z"
   },
   {
    "duration": 704,
    "start_time": "2021-10-13T08:29:57.673Z"
   },
   {
    "duration": 12,
    "start_time": "2021-10-13T08:29:58.380Z"
   },
   {
    "duration": 22,
    "start_time": "2021-10-13T08:29:58.395Z"
   },
   {
    "duration": 22,
    "start_time": "2021-10-13T08:29:58.419Z"
   },
   {
    "duration": 16,
    "start_time": "2021-10-13T08:29:58.443Z"
   },
   {
    "duration": 9,
    "start_time": "2021-10-13T08:29:58.461Z"
   },
   {
    "duration": 25,
    "start_time": "2021-10-13T08:29:58.476Z"
   },
   {
    "duration": 11,
    "start_time": "2021-10-13T08:29:58.504Z"
   },
   {
    "duration": 27,
    "start_time": "2021-10-13T08:29:58.518Z"
   },
   {
    "duration": 20,
    "start_time": "2021-10-13T08:29:58.547Z"
   },
   {
    "duration": 42,
    "start_time": "2021-10-13T08:29:58.570Z"
   },
   {
    "duration": 23,
    "start_time": "2021-10-13T08:29:58.614Z"
   },
   {
    "duration": 13,
    "start_time": "2021-10-13T08:29:58.639Z"
   },
   {
    "duration": 8,
    "start_time": "2021-10-13T08:29:58.677Z"
   },
   {
    "duration": 13,
    "start_time": "2021-10-13T08:29:58.687Z"
   },
   {
    "duration": 5,
    "start_time": "2021-10-13T08:29:58.702Z"
   },
   {
    "duration": 21,
    "start_time": "2021-10-13T08:29:58.709Z"
   },
   {
    "duration": 50,
    "start_time": "2021-10-13T08:29:58.732Z"
   },
   {
    "duration": 9,
    "start_time": "2021-10-13T08:29:58.784Z"
   },
   {
    "duration": 9,
    "start_time": "2021-10-13T08:29:58.795Z"
   },
   {
    "duration": 21,
    "start_time": "2021-10-13T08:29:58.806Z"
   },
   {
    "duration": 10,
    "start_time": "2021-10-13T08:29:58.829Z"
   },
   {
    "duration": 9,
    "start_time": "2021-10-13T08:29:58.880Z"
   },
   {
    "duration": 22,
    "start_time": "2021-10-13T08:29:58.891Z"
   },
   {
    "duration": 11,
    "start_time": "2021-10-13T08:29:58.915Z"
   },
   {
    "duration": 13,
    "start_time": "2021-10-13T08:29:58.927Z"
   },
   {
    "duration": 41,
    "start_time": "2021-10-13T08:29:58.942Z"
   },
   {
    "duration": 24,
    "start_time": "2021-10-13T08:29:58.986Z"
   },
   {
    "duration": 35,
    "start_time": "2021-10-13T08:29:59.013Z"
   },
   {
    "duration": 29,
    "start_time": "2021-10-13T08:29:59.051Z"
   },
   {
    "duration": 22,
    "start_time": "2021-10-13T08:29:59.083Z"
   },
   {
    "duration": 20,
    "start_time": "2021-10-13T08:29:59.107Z"
   },
   {
    "duration": 10,
    "start_time": "2021-10-13T08:29:59.129Z"
   },
   {
    "duration": 4,
    "start_time": "2021-10-13T08:29:59.178Z"
   },
   {
    "duration": 8,
    "start_time": "2021-10-13T08:29:59.184Z"
   },
   {
    "duration": 11,
    "start_time": "2021-10-13T08:29:59.194Z"
   },
   {
    "duration": 16,
    "start_time": "2021-10-13T08:29:59.207Z"
   },
   {
    "duration": 3,
    "start_time": "2021-10-13T08:29:59.225Z"
   },
   {
    "duration": 6,
    "start_time": "2021-10-13T08:29:59.230Z"
   },
   {
    "duration": 9,
    "start_time": "2021-10-13T08:29:59.238Z"
   },
   {
    "duration": 833,
    "start_time": "2021-10-13T08:29:59.249Z"
   },
   {
    "duration": 5,
    "start_time": "2021-10-13T08:30:00.085Z"
   },
   {
    "duration": 14,
    "start_time": "2021-10-13T08:30:00.092Z"
   },
   {
    "duration": 6,
    "start_time": "2021-10-13T08:30:00.108Z"
   },
   {
    "duration": 1585,
    "start_time": "2021-10-13T08:30:00.116Z"
   },
   {
    "duration": 8,
    "start_time": "2021-10-13T08:30:01.703Z"
   },
   {
    "duration": 51,
    "start_time": "2021-10-13T08:30:01.712Z"
   },
   {
    "duration": 20,
    "start_time": "2021-10-13T08:30:25.560Z"
   },
   {
    "duration": 734,
    "start_time": "2021-10-13T08:30:48.252Z"
   },
   {
    "duration": 11,
    "start_time": "2021-10-13T08:30:48.988Z"
   },
   {
    "duration": 13,
    "start_time": "2021-10-13T08:30:49.001Z"
   },
   {
    "duration": 13,
    "start_time": "2021-10-13T08:30:49.015Z"
   },
   {
    "duration": 8,
    "start_time": "2021-10-13T08:30:49.030Z"
   },
   {
    "duration": 36,
    "start_time": "2021-10-13T08:30:49.040Z"
   },
   {
    "duration": 17,
    "start_time": "2021-10-13T08:30:49.078Z"
   },
   {
    "duration": 5,
    "start_time": "2021-10-13T08:30:49.098Z"
   },
   {
    "duration": 13,
    "start_time": "2021-10-13T08:30:49.105Z"
   },
   {
    "duration": 9,
    "start_time": "2021-10-13T08:30:49.120Z"
   },
   {
    "duration": 45,
    "start_time": "2021-10-13T08:30:49.131Z"
   },
   {
    "duration": 29,
    "start_time": "2021-10-13T08:30:49.178Z"
   },
   {
    "duration": 23,
    "start_time": "2021-10-13T08:30:49.209Z"
   },
   {
    "duration": 10,
    "start_time": "2021-10-13T08:30:49.234Z"
   },
   {
    "duration": 35,
    "start_time": "2021-10-13T08:30:49.246Z"
   },
   {
    "duration": 17,
    "start_time": "2021-10-13T08:30:49.283Z"
   },
   {
    "duration": 4,
    "start_time": "2021-10-13T08:30:49.302Z"
   },
   {
    "duration": 17,
    "start_time": "2021-10-13T08:30:49.308Z"
   },
   {
    "duration": 21,
    "start_time": "2021-10-13T08:30:49.327Z"
   },
   {
    "duration": 10,
    "start_time": "2021-10-13T08:30:49.377Z"
   },
   {
    "duration": 7,
    "start_time": "2021-10-13T08:30:49.389Z"
   },
   {
    "duration": 23,
    "start_time": "2021-10-13T08:30:49.398Z"
   },
   {
    "duration": 10,
    "start_time": "2021-10-13T08:30:49.424Z"
   },
   {
    "duration": 45,
    "start_time": "2021-10-13T08:30:49.436Z"
   },
   {
    "duration": 22,
    "start_time": "2021-10-13T08:30:49.483Z"
   },
   {
    "duration": 11,
    "start_time": "2021-10-13T08:30:49.507Z"
   },
   {
    "duration": 12,
    "start_time": "2021-10-13T08:30:49.520Z"
   },
   {
    "duration": 10,
    "start_time": "2021-10-13T08:30:49.534Z"
   },
   {
    "duration": 53,
    "start_time": "2021-10-13T08:30:49.545Z"
   },
   {
    "duration": 36,
    "start_time": "2021-10-13T08:30:49.600Z"
   },
   {
    "duration": 3,
    "start_time": "2021-10-13T08:30:49.638Z"
   },
   {
    "duration": 50,
    "start_time": "2021-10-13T08:30:49.643Z"
   },
   {
    "duration": 18,
    "start_time": "2021-10-13T08:30:49.695Z"
   },
   {
    "duration": 9,
    "start_time": "2021-10-13T08:30:49.715Z"
   },
   {
    "duration": 4,
    "start_time": "2021-10-13T08:30:49.725Z"
   },
   {
    "duration": 9,
    "start_time": "2021-10-13T08:30:49.731Z"
   },
   {
    "duration": 3,
    "start_time": "2021-10-13T08:30:49.742Z"
   },
   {
    "duration": 37,
    "start_time": "2021-10-13T08:30:49.746Z"
   },
   {
    "duration": 2,
    "start_time": "2021-10-13T08:30:49.785Z"
   },
   {
    "duration": 5,
    "start_time": "2021-10-13T08:30:49.789Z"
   },
   {
    "duration": 11,
    "start_time": "2021-10-13T08:30:49.796Z"
   },
   {
    "duration": 679,
    "start_time": "2021-10-13T08:30:49.809Z"
   },
   {
    "duration": 4,
    "start_time": "2021-10-13T08:30:50.490Z"
   },
   {
    "duration": 12,
    "start_time": "2021-10-13T08:30:50.496Z"
   },
   {
    "duration": 6,
    "start_time": "2021-10-13T08:30:50.510Z"
   },
   {
    "duration": 1525,
    "start_time": "2021-10-13T08:30:50.518Z"
   },
   {
    "duration": 10,
    "start_time": "2021-10-13T08:30:52.045Z"
   },
   {
    "duration": 26,
    "start_time": "2021-10-13T08:30:52.077Z"
   },
   {
    "duration": 369,
    "start_time": "2021-10-13T08:31:13.300Z"
   },
   {
    "duration": 18,
    "start_time": "2021-10-13T08:31:17.373Z"
   },
   {
    "duration": 718,
    "start_time": "2021-10-13T08:31:27.653Z"
   },
   {
    "duration": 11,
    "start_time": "2021-10-13T08:31:28.373Z"
   },
   {
    "duration": 13,
    "start_time": "2021-10-13T08:31:28.386Z"
   },
   {
    "duration": 18,
    "start_time": "2021-10-13T08:31:28.401Z"
   },
   {
    "duration": 6,
    "start_time": "2021-10-13T08:31:28.421Z"
   },
   {
    "duration": 5,
    "start_time": "2021-10-13T08:31:28.429Z"
   },
   {
    "duration": 42,
    "start_time": "2021-10-13T08:31:28.436Z"
   },
   {
    "duration": 5,
    "start_time": "2021-10-13T08:31:28.479Z"
   },
   {
    "duration": 12,
    "start_time": "2021-10-13T08:31:28.486Z"
   },
   {
    "duration": 7,
    "start_time": "2021-10-13T08:31:28.501Z"
   },
   {
    "duration": 17,
    "start_time": "2021-10-13T08:31:28.510Z"
   },
   {
    "duration": 15,
    "start_time": "2021-10-13T08:31:28.529Z"
   },
   {
    "duration": 56,
    "start_time": "2021-10-13T08:31:28.546Z"
   },
   {
    "duration": 22,
    "start_time": "2021-10-13T08:31:28.604Z"
   },
   {
    "duration": 11,
    "start_time": "2021-10-13T08:31:28.628Z"
   },
   {
    "duration": 38,
    "start_time": "2021-10-13T08:31:28.641Z"
   },
   {
    "duration": 13,
    "start_time": "2021-10-13T08:31:28.681Z"
   },
   {
    "duration": 10,
    "start_time": "2021-10-13T08:31:28.696Z"
   },
   {
    "duration": 14,
    "start_time": "2021-10-13T08:31:28.708Z"
   },
   {
    "duration": 24,
    "start_time": "2021-10-13T08:31:28.723Z"
   },
   {
    "duration": 35,
    "start_time": "2021-10-13T08:31:28.748Z"
   },
   {
    "duration": 10,
    "start_time": "2021-10-13T08:31:28.785Z"
   },
   {
    "duration": 23,
    "start_time": "2021-10-13T08:31:28.797Z"
   },
   {
    "duration": 10,
    "start_time": "2021-10-13T08:31:28.822Z"
   },
   {
    "duration": 8,
    "start_time": "2021-10-13T08:31:28.834Z"
   },
   {
    "duration": 23,
    "start_time": "2021-10-13T08:31:28.877Z"
   },
   {
    "duration": 13,
    "start_time": "2021-10-13T08:31:28.904Z"
   },
   {
    "duration": 14,
    "start_time": "2021-10-13T08:31:28.919Z"
   },
   {
    "duration": 48,
    "start_time": "2021-10-13T08:31:28.935Z"
   },
   {
    "duration": 33,
    "start_time": "2021-10-13T08:31:28.986Z"
   },
   {
    "duration": 56,
    "start_time": "2021-10-13T08:31:29.021Z"
   },
   {
    "duration": 4,
    "start_time": "2021-10-13T08:31:29.080Z"
   },
   {
    "duration": 27,
    "start_time": "2021-10-13T08:31:29.086Z"
   },
   {
    "duration": 20,
    "start_time": "2021-10-13T08:31:29.115Z"
   },
   {
    "duration": 43,
    "start_time": "2021-10-13T08:31:29.138Z"
   },
   {
    "duration": 4,
    "start_time": "2021-10-13T08:31:29.183Z"
   },
   {
    "duration": 9,
    "start_time": "2021-10-13T08:31:29.189Z"
   },
   {
    "duration": 3,
    "start_time": "2021-10-13T08:31:29.200Z"
   },
   {
    "duration": 14,
    "start_time": "2021-10-13T08:31:29.205Z"
   },
   {
    "duration": 3,
    "start_time": "2021-10-13T08:31:29.221Z"
   },
   {
    "duration": 6,
    "start_time": "2021-10-13T08:31:29.226Z"
   },
   {
    "duration": 10,
    "start_time": "2021-10-13T08:31:29.234Z"
   },
   {
    "duration": 704,
    "start_time": "2021-10-13T08:31:29.246Z"
   },
   {
    "duration": 4,
    "start_time": "2021-10-13T08:31:29.953Z"
   },
   {
    "duration": 21,
    "start_time": "2021-10-13T08:31:29.960Z"
   },
   {
    "duration": 4,
    "start_time": "2021-10-13T08:31:29.983Z"
   },
   {
    "duration": 1753,
    "start_time": "2021-10-13T08:31:29.989Z"
   },
   {
    "duration": 9,
    "start_time": "2021-10-13T08:31:31.745Z"
   },
   {
    "duration": 25,
    "start_time": "2021-10-13T08:31:31.776Z"
   },
   {
    "duration": 369,
    "start_time": "2021-10-13T08:31:54.012Z"
   },
   {
    "duration": 334,
    "start_time": "2021-10-13T08:32:09.662Z"
   },
   {
    "duration": 21,
    "start_time": "2021-10-13T08:32:20.280Z"
   },
   {
    "duration": 716,
    "start_time": "2021-10-13T08:32:31.469Z"
   },
   {
    "duration": 12,
    "start_time": "2021-10-13T08:32:32.187Z"
   },
   {
    "duration": 53,
    "start_time": "2021-10-13T08:32:32.201Z"
   },
   {
    "duration": 50,
    "start_time": "2021-10-13T08:32:32.256Z"
   },
   {
    "duration": 7,
    "start_time": "2021-10-13T08:32:32.308Z"
   },
   {
    "duration": 8,
    "start_time": "2021-10-13T08:32:32.317Z"
   },
   {
    "duration": 18,
    "start_time": "2021-10-13T08:32:32.327Z"
   },
   {
    "duration": 5,
    "start_time": "2021-10-13T08:32:32.348Z"
   },
   {
    "duration": 24,
    "start_time": "2021-10-13T08:32:32.355Z"
   },
   {
    "duration": 11,
    "start_time": "2021-10-13T08:32:32.381Z"
   },
   {
    "duration": 16,
    "start_time": "2021-10-13T08:32:32.395Z"
   },
   {
    "duration": 17,
    "start_time": "2021-10-13T08:32:32.413Z"
   },
   {
    "duration": 52,
    "start_time": "2021-10-13T08:32:32.432Z"
   },
   {
    "duration": 24,
    "start_time": "2021-10-13T08:32:32.485Z"
   },
   {
    "duration": 11,
    "start_time": "2021-10-13T08:32:32.510Z"
   },
   {
    "duration": 8,
    "start_time": "2021-10-13T08:32:32.523Z"
   },
   {
    "duration": 16,
    "start_time": "2021-10-13T08:32:32.533Z"
   },
   {
    "duration": 30,
    "start_time": "2021-10-13T08:32:32.551Z"
   },
   {
    "duration": 14,
    "start_time": "2021-10-13T08:32:32.583Z"
   },
   {
    "duration": 21,
    "start_time": "2021-10-13T08:32:32.600Z"
   },
   {
    "duration": 13,
    "start_time": "2021-10-13T08:32:32.623Z"
   },
   {
    "duration": 42,
    "start_time": "2021-10-13T08:32:32.638Z"
   },
   {
    "duration": 20,
    "start_time": "2021-10-13T08:32:32.684Z"
   },
   {
    "duration": 10,
    "start_time": "2021-10-13T08:32:32.707Z"
   },
   {
    "duration": 11,
    "start_time": "2021-10-13T08:32:32.719Z"
   },
   {
    "duration": 60,
    "start_time": "2021-10-13T08:32:32.732Z"
   },
   {
    "duration": 16,
    "start_time": "2021-10-13T08:32:32.794Z"
   },
   {
    "duration": 17,
    "start_time": "2021-10-13T08:32:32.812Z"
   },
   {
    "duration": 12,
    "start_time": "2021-10-13T08:32:32.831Z"
   },
   {
    "duration": 47,
    "start_time": "2021-10-13T08:32:32.845Z"
   },
   {
    "duration": 37,
    "start_time": "2021-10-13T08:32:32.894Z"
   },
   {
    "duration": 3,
    "start_time": "2021-10-13T08:32:32.933Z"
   },
   {
    "duration": 39,
    "start_time": "2021-10-13T08:32:32.938Z"
   },
   {
    "duration": 19,
    "start_time": "2021-10-13T08:32:32.979Z"
   },
   {
    "duration": 10,
    "start_time": "2021-10-13T08:32:33.000Z"
   },
   {
    "duration": 13,
    "start_time": "2021-10-13T08:32:33.012Z"
   },
   {
    "duration": 37,
    "start_time": "2021-10-13T08:32:33.026Z"
   },
   {
    "duration": 23,
    "start_time": "2021-10-13T08:32:33.065Z"
   },
   {
    "duration": 11,
    "start_time": "2021-10-13T08:32:33.090Z"
   },
   {
    "duration": 7,
    "start_time": "2021-10-13T08:32:33.103Z"
   },
   {
    "duration": 28,
    "start_time": "2021-10-13T08:32:33.112Z"
   },
   {
    "duration": 13,
    "start_time": "2021-10-13T08:32:33.141Z"
   },
   {
    "duration": 785,
    "start_time": "2021-10-13T08:32:33.155Z"
   },
   {
    "duration": 4,
    "start_time": "2021-10-13T08:32:33.943Z"
   },
   {
    "duration": 9,
    "start_time": "2021-10-13T08:32:33.948Z"
   },
   {
    "duration": 18,
    "start_time": "2021-10-13T08:32:33.958Z"
   },
   {
    "duration": 1629,
    "start_time": "2021-10-13T08:32:33.978Z"
   },
   {
    "duration": 8,
    "start_time": "2021-10-13T08:32:35.609Z"
   },
   {
    "duration": 26,
    "start_time": "2021-10-13T08:32:35.619Z"
   },
   {
    "duration": 40,
    "start_time": "2021-10-13T08:33:37.426Z"
   },
   {
    "duration": 677,
    "start_time": "2021-10-13T08:33:59.403Z"
   },
   {
    "duration": 12,
    "start_time": "2021-10-13T08:34:00.082Z"
   },
   {
    "duration": 13,
    "start_time": "2021-10-13T08:34:00.096Z"
   },
   {
    "duration": 13,
    "start_time": "2021-10-13T08:34:00.111Z"
   },
   {
    "duration": 8,
    "start_time": "2021-10-13T08:34:00.126Z"
   },
   {
    "duration": 8,
    "start_time": "2021-10-13T08:34:00.136Z"
   },
   {
    "duration": 43,
    "start_time": "2021-10-13T08:34:00.146Z"
   },
   {
    "duration": 4,
    "start_time": "2021-10-13T08:34:00.192Z"
   },
   {
    "duration": 13,
    "start_time": "2021-10-13T08:34:00.198Z"
   },
   {
    "duration": 25,
    "start_time": "2021-10-13T08:34:00.213Z"
   },
   {
    "duration": 25,
    "start_time": "2021-10-13T08:34:00.239Z"
   },
   {
    "duration": 37,
    "start_time": "2021-10-13T08:34:00.266Z"
   },
   {
    "duration": 31,
    "start_time": "2021-10-13T08:34:00.305Z"
   },
   {
    "duration": 53,
    "start_time": "2021-10-13T08:34:00.338Z"
   },
   {
    "duration": 21,
    "start_time": "2021-10-13T08:34:00.394Z"
   },
   {
    "duration": 12,
    "start_time": "2021-10-13T08:34:00.417Z"
   },
   {
    "duration": 38,
    "start_time": "2021-10-13T08:34:00.432Z"
   },
   {
    "duration": 7,
    "start_time": "2021-10-13T08:34:00.472Z"
   },
   {
    "duration": 96,
    "start_time": "2021-10-13T08:34:00.482Z"
   },
   {
    "duration": 125,
    "start_time": "2021-10-13T08:34:00.580Z"
   },
   {
    "duration": 55,
    "start_time": "2021-10-13T08:34:00.707Z"
   },
   {
    "duration": 60,
    "start_time": "2021-10-13T08:34:00.764Z"
   },
   {
    "duration": 28,
    "start_time": "2021-10-13T08:34:00.827Z"
   },
   {
    "duration": 10,
    "start_time": "2021-10-13T08:34:00.857Z"
   },
   {
    "duration": 24,
    "start_time": "2021-10-13T08:34:00.869Z"
   },
   {
    "duration": 28,
    "start_time": "2021-10-13T08:34:00.895Z"
   },
   {
    "duration": 13,
    "start_time": "2021-10-13T08:34:00.924Z"
   },
   {
    "duration": 13,
    "start_time": "2021-10-13T08:34:00.938Z"
   },
   {
    "duration": 23,
    "start_time": "2021-10-13T08:34:00.953Z"
   },
   {
    "duration": 27,
    "start_time": "2021-10-13T08:34:00.978Z"
   },
   {
    "duration": 37,
    "start_time": "2021-10-13T08:34:01.007Z"
   },
   {
    "duration": 3,
    "start_time": "2021-10-13T08:34:01.046Z"
   },
   {
    "duration": 43,
    "start_time": "2021-10-13T08:34:01.051Z"
   },
   {
    "duration": 55,
    "start_time": "2021-10-13T08:34:01.095Z"
   },
   {
    "duration": 19,
    "start_time": "2021-10-13T08:34:01.152Z"
   },
   {
    "duration": 3,
    "start_time": "2021-10-13T08:34:01.173Z"
   },
   {
    "duration": 21,
    "start_time": "2021-10-13T08:34:01.178Z"
   },
   {
    "duration": 17,
    "start_time": "2021-10-13T08:34:01.201Z"
   },
   {
    "duration": 23,
    "start_time": "2021-10-13T08:34:01.220Z"
   },
   {
    "duration": 13,
    "start_time": "2021-10-13T08:34:01.245Z"
   },
   {
    "duration": 11,
    "start_time": "2021-10-13T08:34:01.260Z"
   },
   {
    "duration": 22,
    "start_time": "2021-10-13T08:34:01.273Z"
   },
   {
    "duration": 661,
    "start_time": "2021-10-13T08:34:01.297Z"
   },
   {
    "duration": 5,
    "start_time": "2021-10-13T08:34:01.960Z"
   },
   {
    "duration": 17,
    "start_time": "2021-10-13T08:34:01.967Z"
   },
   {
    "duration": 29,
    "start_time": "2021-10-13T08:34:01.986Z"
   },
   {
    "duration": 1572,
    "start_time": "2021-10-13T08:34:02.017Z"
   },
   {
    "duration": 8,
    "start_time": "2021-10-13T08:34:03.591Z"
   },
   {
    "duration": 28,
    "start_time": "2021-10-13T08:34:03.601Z"
   },
   {
    "duration": 23,
    "start_time": "2021-10-13T08:34:29.375Z"
   },
   {
    "duration": 543,
    "start_time": "2021-10-13T08:34:45.424Z"
   },
   {
    "duration": 35,
    "start_time": "2021-10-13T08:34:53.502Z"
   },
   {
    "duration": 36,
    "start_time": "2021-10-13T08:35:34.482Z"
   },
   {
    "duration": 719,
    "start_time": "2021-10-13T08:35:40.772Z"
   },
   {
    "duration": 12,
    "start_time": "2021-10-13T08:35:41.493Z"
   },
   {
    "duration": 14,
    "start_time": "2021-10-13T08:35:41.507Z"
   },
   {
    "duration": 16,
    "start_time": "2021-10-13T08:35:41.523Z"
   },
   {
    "duration": 7,
    "start_time": "2021-10-13T08:35:41.541Z"
   },
   {
    "duration": 28,
    "start_time": "2021-10-13T08:35:41.550Z"
   },
   {
    "duration": 18,
    "start_time": "2021-10-13T08:35:41.579Z"
   },
   {
    "duration": 31,
    "start_time": "2021-10-13T08:35:41.600Z"
   },
   {
    "duration": 5,
    "start_time": "2021-10-13T08:35:41.633Z"
   },
   {
    "duration": 41,
    "start_time": "2021-10-13T08:35:41.640Z"
   },
   {
    "duration": 7,
    "start_time": "2021-10-13T08:35:41.683Z"
   },
   {
    "duration": 16,
    "start_time": "2021-10-13T08:35:41.692Z"
   },
   {
    "duration": 25,
    "start_time": "2021-10-13T08:35:41.710Z"
   },
   {
    "duration": 49,
    "start_time": "2021-10-13T08:35:41.737Z"
   },
   {
    "duration": 9,
    "start_time": "2021-10-13T08:35:41.788Z"
   },
   {
    "duration": 7,
    "start_time": "2021-10-13T08:35:41.799Z"
   },
   {
    "duration": 12,
    "start_time": "2021-10-13T08:35:41.808Z"
   },
   {
    "duration": 8,
    "start_time": "2021-10-13T08:35:41.822Z"
   },
   {
    "duration": 47,
    "start_time": "2021-10-13T08:35:41.831Z"
   },
   {
    "duration": 21,
    "start_time": "2021-10-13T08:35:41.880Z"
   },
   {
    "duration": 14,
    "start_time": "2021-10-13T08:35:41.902Z"
   },
   {
    "duration": 8,
    "start_time": "2021-10-13T08:35:41.918Z"
   },
   {
    "duration": 22,
    "start_time": "2021-10-13T08:35:41.930Z"
   },
   {
    "duration": 31,
    "start_time": "2021-10-13T08:35:41.954Z"
   },
   {
    "duration": 8,
    "start_time": "2021-10-13T08:35:41.987Z"
   },
   {
    "duration": 23,
    "start_time": "2021-10-13T08:35:41.997Z"
   },
   {
    "duration": 12,
    "start_time": "2021-10-13T08:35:42.021Z"
   },
   {
    "duration": 47,
    "start_time": "2021-10-13T08:35:42.034Z"
   },
   {
    "duration": 12,
    "start_time": "2021-10-13T08:35:42.082Z"
   },
   {
    "duration": 23,
    "start_time": "2021-10-13T08:35:42.096Z"
   },
   {
    "duration": 61,
    "start_time": "2021-10-13T08:35:42.120Z"
   },
   {
    "duration": 4,
    "start_time": "2021-10-13T08:35:42.182Z"
   },
   {
    "duration": 30,
    "start_time": "2021-10-13T08:35:42.187Z"
   },
   {
    "duration": 18,
    "start_time": "2021-10-13T08:35:42.219Z"
   },
   {
    "duration": 9,
    "start_time": "2021-10-13T08:35:42.239Z"
   },
   {
    "duration": 27,
    "start_time": "2021-10-13T08:35:42.250Z"
   },
   {
    "duration": 10,
    "start_time": "2021-10-13T08:35:42.279Z"
   },
   {
    "duration": 4,
    "start_time": "2021-10-13T08:35:42.291Z"
   },
   {
    "duration": 12,
    "start_time": "2021-10-13T08:35:42.297Z"
   },
   {
    "duration": 3,
    "start_time": "2021-10-13T08:35:42.310Z"
   },
   {
    "duration": 7,
    "start_time": "2021-10-13T08:35:42.315Z"
   },
   {
    "duration": 8,
    "start_time": "2021-10-13T08:35:42.324Z"
   },
   {
    "duration": 697,
    "start_time": "2021-10-13T08:35:42.334Z"
   },
   {
    "duration": 5,
    "start_time": "2021-10-13T08:35:43.033Z"
   },
   {
    "duration": 11,
    "start_time": "2021-10-13T08:35:43.039Z"
   },
   {
    "duration": 7,
    "start_time": "2021-10-13T08:35:43.052Z"
   },
   {
    "duration": 1559,
    "start_time": "2021-10-13T08:35:43.076Z"
   },
   {
    "duration": 8,
    "start_time": "2021-10-13T08:35:44.637Z"
   },
   {
    "duration": 44,
    "start_time": "2021-10-13T08:35:44.647Z"
   },
   {
    "duration": 8665,
    "start_time": "2021-10-13T08:36:42.658Z"
   },
   {
    "duration": 680,
    "start_time": "2021-10-13T08:36:57.433Z"
   },
   {
    "duration": 11,
    "start_time": "2021-10-13T08:36:58.115Z"
   },
   {
    "duration": 13,
    "start_time": "2021-10-13T08:36:58.129Z"
   },
   {
    "duration": 32,
    "start_time": "2021-10-13T08:36:58.144Z"
   },
   {
    "duration": 8,
    "start_time": "2021-10-13T08:36:58.178Z"
   },
   {
    "duration": 5,
    "start_time": "2021-10-13T08:36:58.187Z"
   },
   {
    "duration": 18,
    "start_time": "2021-10-13T08:36:58.193Z"
   },
   {
    "duration": 24,
    "start_time": "2021-10-13T08:36:58.213Z"
   },
   {
    "duration": 40,
    "start_time": "2021-10-13T08:36:58.239Z"
   },
   {
    "duration": 13,
    "start_time": "2021-10-13T08:36:58.281Z"
   },
   {
    "duration": 9,
    "start_time": "2021-10-13T08:36:58.296Z"
   },
   {
    "duration": 17,
    "start_time": "2021-10-13T08:36:58.307Z"
   },
   {
    "duration": 52,
    "start_time": "2021-10-13T08:36:58.325Z"
   },
   {
    "duration": 24,
    "start_time": "2021-10-13T08:36:58.379Z"
   },
   {
    "duration": 15,
    "start_time": "2021-10-13T08:36:58.404Z"
   },
   {
    "duration": 9,
    "start_time": "2021-10-13T08:36:58.421Z"
   },
   {
    "duration": 13,
    "start_time": "2021-10-13T08:36:58.432Z"
   },
   {
    "duration": 34,
    "start_time": "2021-10-13T08:36:58.447Z"
   },
   {
    "duration": 13,
    "start_time": "2021-10-13T08:36:58.483Z"
   },
   {
    "duration": 20,
    "start_time": "2021-10-13T08:36:58.498Z"
   },
   {
    "duration": 9,
    "start_time": "2021-10-13T08:36:58.519Z"
   },
   {
    "duration": 7,
    "start_time": "2021-10-13T08:36:58.530Z"
   },
   {
    "duration": 56,
    "start_time": "2021-10-13T08:36:58.540Z"
   },
   {
    "duration": 10,
    "start_time": "2021-10-13T08:36:58.598Z"
   },
   {
    "duration": 8,
    "start_time": "2021-10-13T08:36:58.610Z"
   },
   {
    "duration": 23,
    "start_time": "2021-10-13T08:36:58.620Z"
   },
   {
    "duration": 40,
    "start_time": "2021-10-13T08:36:58.645Z"
   },
   {
    "duration": 14,
    "start_time": "2021-10-13T08:36:58.687Z"
   },
   {
    "duration": 15,
    "start_time": "2021-10-13T08:36:58.703Z"
   },
   {
    "duration": 24,
    "start_time": "2021-10-13T08:36:58.720Z"
   },
   {
    "duration": 56,
    "start_time": "2021-10-13T08:36:58.746Z"
   },
   {
    "duration": 4,
    "start_time": "2021-10-13T08:36:58.804Z"
   },
   {
    "duration": 25,
    "start_time": "2021-10-13T08:36:58.809Z"
   },
   {
    "duration": 43,
    "start_time": "2021-10-13T08:36:58.836Z"
   },
   {
    "duration": 9,
    "start_time": "2021-10-13T08:36:58.880Z"
   },
   {
    "duration": 4,
    "start_time": "2021-10-13T08:36:58.890Z"
   },
   {
    "duration": 8,
    "start_time": "2021-10-13T08:36:58.895Z"
   },
   {
    "duration": 3,
    "start_time": "2021-10-13T08:36:58.905Z"
   },
   {
    "duration": 10,
    "start_time": "2021-10-13T08:36:58.910Z"
   },
   {
    "duration": 2,
    "start_time": "2021-10-13T08:36:58.922Z"
   },
   {
    "duration": 4,
    "start_time": "2021-10-13T08:36:58.926Z"
   },
   {
    "duration": 6,
    "start_time": "2021-10-13T08:36:58.938Z"
   },
   {
    "duration": 792,
    "start_time": "2021-10-13T08:36:58.946Z"
   },
   {
    "duration": 4,
    "start_time": "2021-10-13T08:36:59.740Z"
   },
   {
    "duration": 6,
    "start_time": "2021-10-13T08:36:59.746Z"
   },
   {
    "duration": 23,
    "start_time": "2021-10-13T08:36:59.753Z"
   },
   {
    "duration": 1564,
    "start_time": "2021-10-13T08:36:59.778Z"
   },
   {
    "duration": 8,
    "start_time": "2021-10-13T08:37:01.344Z"
   },
   {
    "duration": 42,
    "start_time": "2021-10-13T08:37:01.354Z"
   },
   {
    "duration": 21,
    "start_time": "2021-10-13T08:37:50.580Z"
   },
   {
    "duration": -842,
    "start_time": "2021-10-13T08:46:19.012Z"
   },
   {
    "duration": 25,
    "start_time": "2021-10-13T08:46:22.912Z"
   },
   {
    "duration": 20,
    "start_time": "2021-10-13T08:46:45.249Z"
   },
   {
    "duration": 15,
    "start_time": "2021-10-13T08:47:08.560Z"
   },
   {
    "duration": 16,
    "start_time": "2021-10-13T08:48:04.613Z"
   },
   {
    "duration": 15,
    "start_time": "2021-10-13T08:48:20.356Z"
   },
   {
    "duration": 19,
    "start_time": "2021-10-13T08:54:37.738Z"
   },
   {
    "duration": 24,
    "start_time": "2021-10-13T08:54:43.871Z"
   },
   {
    "duration": 102,
    "start_time": "2021-10-13T08:55:15.653Z"
   },
   {
    "duration": 48,
    "start_time": "2021-10-13T08:55:21.053Z"
   },
   {
    "duration": 703,
    "start_time": "2021-10-13T08:55:59.186Z"
   },
   {
    "duration": 12,
    "start_time": "2021-10-13T08:55:59.891Z"
   },
   {
    "duration": 14,
    "start_time": "2021-10-13T08:55:59.905Z"
   },
   {
    "duration": 14,
    "start_time": "2021-10-13T08:55:59.921Z"
   },
   {
    "duration": 7,
    "start_time": "2021-10-13T08:55:59.937Z"
   },
   {
    "duration": 39,
    "start_time": "2021-10-13T08:55:59.946Z"
   },
   {
    "duration": 32,
    "start_time": "2021-10-13T08:55:59.988Z"
   },
   {
    "duration": 368,
    "start_time": "2021-10-13T08:56:00.022Z"
   },
   {
    "duration": -726,
    "start_time": "2021-10-13T08:56:01.119Z"
   },
   {
    "duration": -729,
    "start_time": "2021-10-13T08:56:01.123Z"
   },
   {
    "duration": -733,
    "start_time": "2021-10-13T08:56:01.128Z"
   },
   {
    "duration": -737,
    "start_time": "2021-10-13T08:56:01.133Z"
   },
   {
    "duration": -772,
    "start_time": "2021-10-13T08:56:01.169Z"
   },
   {
    "duration": -780,
    "start_time": "2021-10-13T08:56:01.177Z"
   },
   {
    "duration": -787,
    "start_time": "2021-10-13T08:56:01.185Z"
   },
   {
    "duration": -790,
    "start_time": "2021-10-13T08:56:01.189Z"
   },
   {
    "duration": -794,
    "start_time": "2021-10-13T08:56:01.194Z"
   },
   {
    "duration": -797,
    "start_time": "2021-10-13T08:56:01.198Z"
   },
   {
    "duration": -801,
    "start_time": "2021-10-13T08:56:01.203Z"
   },
   {
    "duration": -805,
    "start_time": "2021-10-13T08:56:01.208Z"
   },
   {
    "duration": -809,
    "start_time": "2021-10-13T08:56:01.213Z"
   },
   {
    "duration": -811,
    "start_time": "2021-10-13T08:56:01.217Z"
   },
   {
    "duration": -815,
    "start_time": "2021-10-13T08:56:01.222Z"
   },
   {
    "duration": -888,
    "start_time": "2021-10-13T08:56:01.296Z"
   },
   {
    "duration": -893,
    "start_time": "2021-10-13T08:56:01.302Z"
   },
   {
    "duration": -895,
    "start_time": "2021-10-13T08:56:01.305Z"
   },
   {
    "duration": -899,
    "start_time": "2021-10-13T08:56:01.310Z"
   },
   {
    "duration": -1013,
    "start_time": "2021-10-13T08:56:01.425Z"
   },
   {
    "duration": -1017,
    "start_time": "2021-10-13T08:56:01.430Z"
   },
   {
    "duration": -1021,
    "start_time": "2021-10-13T08:56:01.435Z"
   },
   {
    "duration": -1024,
    "start_time": "2021-10-13T08:56:01.439Z"
   },
   {
    "duration": -1026,
    "start_time": "2021-10-13T08:56:01.442Z"
   },
   {
    "duration": -1030,
    "start_time": "2021-10-13T08:56:01.447Z"
   },
   {
    "duration": -1033,
    "start_time": "2021-10-13T08:56:01.451Z"
   },
   {
    "duration": -1036,
    "start_time": "2021-10-13T08:56:01.455Z"
   },
   {
    "duration": -1039,
    "start_time": "2021-10-13T08:56:01.459Z"
   },
   {
    "duration": -1045,
    "start_time": "2021-10-13T08:56:01.466Z"
   },
   {
    "duration": -1048,
    "start_time": "2021-10-13T08:56:01.470Z"
   },
   {
    "duration": -1051,
    "start_time": "2021-10-13T08:56:01.474Z"
   },
   {
    "duration": -1054,
    "start_time": "2021-10-13T08:56:01.478Z"
   },
   {
    "duration": -1057,
    "start_time": "2021-10-13T08:56:01.482Z"
   },
   {
    "duration": -1059,
    "start_time": "2021-10-13T08:56:01.485Z"
   },
   {
    "duration": -1063,
    "start_time": "2021-10-13T08:56:01.490Z"
   },
   {
    "duration": -1066,
    "start_time": "2021-10-13T08:56:01.493Z"
   },
   {
    "duration": -1069,
    "start_time": "2021-10-13T08:56:01.497Z"
   },
   {
    "duration": -1035,
    "start_time": "2021-10-13T08:56:01.510Z"
   },
   {
    "duration": -1038,
    "start_time": "2021-10-13T08:56:01.515Z"
   },
   {
    "duration": -1041,
    "start_time": "2021-10-13T08:56:01.519Z"
   },
   {
    "duration": -1044,
    "start_time": "2021-10-13T08:56:01.523Z"
   },
   {
    "duration": -1047,
    "start_time": "2021-10-13T08:56:01.527Z"
   },
   {
    "duration": -1050,
    "start_time": "2021-10-13T08:56:01.531Z"
   },
   {
    "duration": 31,
    "start_time": "2021-10-13T08:57:46.829Z"
   },
   {
    "duration": 32,
    "start_time": "2021-10-13T09:03:06.385Z"
   },
   {
    "duration": 18,
    "start_time": "2021-10-13T09:03:32.528Z"
   },
   {
    "duration": 18,
    "start_time": "2021-10-13T09:03:44.903Z"
   },
   {
    "duration": 14,
    "start_time": "2021-10-13T09:03:58.357Z"
   },
   {
    "duration": 5,
    "start_time": "2021-10-13T09:04:16.898Z"
   },
   {
    "duration": 6,
    "start_time": "2021-10-13T09:04:24.425Z"
   },
   {
    "duration": 10,
    "start_time": "2021-10-13T09:04:31.211Z"
   },
   {
    "duration": 11,
    "start_time": "2021-10-13T09:04:35.803Z"
   },
   {
    "duration": 5,
    "start_time": "2021-10-13T09:04:36.840Z"
   },
   {
    "duration": 11,
    "start_time": "2021-10-13T09:04:39.943Z"
   },
   {
    "duration": 5,
    "start_time": "2021-10-13T09:04:41.400Z"
   },
   {
    "duration": 716,
    "start_time": "2021-10-13T09:04:52.001Z"
   },
   {
    "duration": 11,
    "start_time": "2021-10-13T09:04:52.719Z"
   },
   {
    "duration": 17,
    "start_time": "2021-10-13T09:04:52.732Z"
   },
   {
    "duration": 27,
    "start_time": "2021-10-13T09:04:52.750Z"
   },
   {
    "duration": 7,
    "start_time": "2021-10-13T09:04:52.778Z"
   },
   {
    "duration": 8,
    "start_time": "2021-10-13T09:04:52.787Z"
   },
   {
    "duration": 23,
    "start_time": "2021-10-13T09:04:52.797Z"
   },
   {
    "duration": 5,
    "start_time": "2021-10-13T09:04:52.823Z"
   },
   {
    "duration": 10,
    "start_time": "2021-10-13T09:04:52.830Z"
   },
   {
    "duration": 36,
    "start_time": "2021-10-13T09:04:52.842Z"
   },
   {
    "duration": 15,
    "start_time": "2021-10-13T09:04:52.880Z"
   },
   {
    "duration": 27,
    "start_time": "2021-10-13T09:04:52.897Z"
   },
   {
    "duration": 23,
    "start_time": "2021-10-13T09:04:52.926Z"
   },
   {
    "duration": 11,
    "start_time": "2021-10-13T09:04:52.977Z"
   },
   {
    "duration": 15,
    "start_time": "2021-10-13T09:04:52.990Z"
   },
   {
    "duration": 23,
    "start_time": "2021-10-13T09:04:53.007Z"
   },
   {
    "duration": 5,
    "start_time": "2021-10-13T09:04:53.032Z"
   },
   {
    "duration": 28,
    "start_time": "2021-10-13T09:04:53.039Z"
   },
   {
    "duration": 25,
    "start_time": "2021-10-13T09:04:53.068Z"
   },
   {
    "duration": 8,
    "start_time": "2021-10-13T09:04:53.095Z"
   },
   {
    "duration": 12,
    "start_time": "2021-10-13T09:04:53.104Z"
   },
   {
    "duration": 27,
    "start_time": "2021-10-13T09:04:53.117Z"
   },
   {
    "duration": 30,
    "start_time": "2021-10-13T09:04:53.148Z"
   },
   {
    "duration": 9,
    "start_time": "2021-10-13T09:04:53.180Z"
   },
   {
    "duration": 29,
    "start_time": "2021-10-13T09:04:53.190Z"
   },
   {
    "duration": 12,
    "start_time": "2021-10-13T09:04:53.220Z"
   },
   {
    "duration": 15,
    "start_time": "2021-10-13T09:04:53.233Z"
   },
   {
    "duration": 33,
    "start_time": "2021-10-13T09:04:53.250Z"
   },
   {
    "duration": 32,
    "start_time": "2021-10-13T09:04:53.285Z"
   },
   {
    "duration": 35,
    "start_time": "2021-10-13T09:04:53.319Z"
   },
   {
    "duration": 3,
    "start_time": "2021-10-13T09:04:53.356Z"
   },
   {
    "duration": 24,
    "start_time": "2021-10-13T09:04:53.377Z"
   },
   {
    "duration": 19,
    "start_time": "2021-10-13T09:04:53.402Z"
   },
   {
    "duration": 9,
    "start_time": "2021-10-13T09:04:53.423Z"
   },
   {
    "duration": 4,
    "start_time": "2021-10-13T09:04:53.433Z"
   },
   {
    "duration": 39,
    "start_time": "2021-10-13T09:04:53.439Z"
   },
   {
    "duration": 19,
    "start_time": "2021-10-13T09:04:53.479Z"
   },
   {
    "duration": 14,
    "start_time": "2021-10-13T09:04:53.500Z"
   },
   {
    "duration": 6,
    "start_time": "2021-10-13T09:04:53.516Z"
   },
   {
    "duration": 12,
    "start_time": "2021-10-13T09:04:53.524Z"
   },
   {
    "duration": 14,
    "start_time": "2021-10-13T09:04:53.537Z"
   },
   {
    "duration": 654,
    "start_time": "2021-10-13T09:04:53.553Z"
   },
   {
    "duration": 4,
    "start_time": "2021-10-13T09:04:54.209Z"
   },
   {
    "duration": 13,
    "start_time": "2021-10-13T09:04:54.215Z"
   },
   {
    "duration": 10,
    "start_time": "2021-10-13T09:04:54.229Z"
   },
   {
    "duration": 1492,
    "start_time": "2021-10-13T09:04:54.241Z"
   },
   {
    "duration": 8,
    "start_time": "2021-10-13T09:04:55.735Z"
   },
   {
    "duration": 42,
    "start_time": "2021-10-13T09:04:55.745Z"
   },
   {
    "duration": 28,
    "start_time": "2021-10-13T09:05:23.216Z"
   },
   {
    "duration": 661,
    "start_time": "2021-10-13T09:05:34.019Z"
   },
   {
    "duration": 11,
    "start_time": "2021-10-13T09:05:34.682Z"
   },
   {
    "duration": 18,
    "start_time": "2021-10-13T09:05:34.695Z"
   },
   {
    "duration": 24,
    "start_time": "2021-10-13T09:05:34.715Z"
   },
   {
    "duration": 8,
    "start_time": "2021-10-13T09:05:34.741Z"
   },
   {
    "duration": 13,
    "start_time": "2021-10-13T09:05:34.750Z"
   },
   {
    "duration": 29,
    "start_time": "2021-10-13T09:05:34.764Z"
   },
   {
    "duration": 5,
    "start_time": "2021-10-13T09:05:34.795Z"
   },
   {
    "duration": 25,
    "start_time": "2021-10-13T09:05:34.802Z"
   },
   {
    "duration": 14,
    "start_time": "2021-10-13T09:05:34.829Z"
   },
   {
    "duration": 29,
    "start_time": "2021-10-13T09:05:34.845Z"
   },
   {
    "duration": 25,
    "start_time": "2021-10-13T09:05:34.875Z"
   },
   {
    "duration": 25,
    "start_time": "2021-10-13T09:05:34.902Z"
   },
   {
    "duration": 22,
    "start_time": "2021-10-13T09:05:34.929Z"
   },
   {
    "duration": 31,
    "start_time": "2021-10-13T09:05:34.953Z"
   },
   {
    "duration": 22,
    "start_time": "2021-10-13T09:05:34.986Z"
   },
   {
    "duration": 26,
    "start_time": "2021-10-13T09:05:35.010Z"
   },
   {
    "duration": 6,
    "start_time": "2021-10-13T09:05:35.038Z"
   },
   {
    "duration": 23,
    "start_time": "2021-10-13T09:05:35.046Z"
   },
   {
    "duration": 25,
    "start_time": "2021-10-13T09:05:35.070Z"
   },
   {
    "duration": 8,
    "start_time": "2021-10-13T09:05:35.096Z"
   },
   {
    "duration": 8,
    "start_time": "2021-10-13T09:05:35.105Z"
   },
   {
    "duration": 21,
    "start_time": "2021-10-13T09:05:35.117Z"
   },
   {
    "duration": 10,
    "start_time": "2021-10-13T09:05:35.140Z"
   },
   {
    "duration": 9,
    "start_time": "2021-10-13T09:05:35.176Z"
   },
   {
    "duration": 22,
    "start_time": "2021-10-13T09:05:35.186Z"
   },
   {
    "duration": 11,
    "start_time": "2021-10-13T09:05:35.210Z"
   },
   {
    "duration": 12,
    "start_time": "2021-10-13T09:05:35.223Z"
   },
   {
    "duration": 41,
    "start_time": "2021-10-13T09:05:35.236Z"
   },
   {
    "duration": 23,
    "start_time": "2021-10-13T09:05:35.278Z"
   },
   {
    "duration": 35,
    "start_time": "2021-10-13T09:05:35.303Z"
   },
   {
    "duration": 3,
    "start_time": "2021-10-13T09:05:35.340Z"
   },
   {
    "duration": 47,
    "start_time": "2021-10-13T09:05:35.345Z"
   },
   {
    "duration": 19,
    "start_time": "2021-10-13T09:05:35.393Z"
   },
   {
    "duration": 8,
    "start_time": "2021-10-13T09:05:35.414Z"
   },
   {
    "duration": 12,
    "start_time": "2021-10-13T09:05:35.423Z"
   },
   {
    "duration": 27,
    "start_time": "2021-10-13T09:05:35.437Z"
   },
   {
    "duration": 18,
    "start_time": "2021-10-13T09:05:35.466Z"
   },
   {
    "duration": 21,
    "start_time": "2021-10-13T09:05:35.486Z"
   },
   {
    "duration": 17,
    "start_time": "2021-10-13T09:05:35.509Z"
   },
   {
    "duration": 20,
    "start_time": "2021-10-13T09:05:35.528Z"
   },
   {
    "duration": 16,
    "start_time": "2021-10-13T09:05:35.549Z"
   },
   {
    "duration": 689,
    "start_time": "2021-10-13T09:05:35.567Z"
   },
   {
    "duration": 4,
    "start_time": "2021-10-13T09:05:36.258Z"
   },
   {
    "duration": 18,
    "start_time": "2021-10-13T09:05:36.264Z"
   },
   {
    "duration": 17,
    "start_time": "2021-10-13T09:05:36.283Z"
   },
   {
    "duration": 1720,
    "start_time": "2021-10-13T09:05:36.302Z"
   },
   {
    "duration": 9,
    "start_time": "2021-10-13T09:05:38.024Z"
   },
   {
    "duration": 44,
    "start_time": "2021-10-13T09:05:38.035Z"
   },
   {
    "duration": 38,
    "start_time": "2021-10-13T09:06:15.893Z"
   },
   {
    "duration": 67,
    "start_time": "2021-10-13T09:06:28.840Z"
   },
   {
    "duration": 11,
    "start_time": "2021-10-13T09:06:28.908Z"
   },
   {
    "duration": 13,
    "start_time": "2021-10-13T09:06:28.921Z"
   },
   {
    "duration": 42,
    "start_time": "2021-10-13T09:06:28.936Z"
   },
   {
    "duration": 8,
    "start_time": "2021-10-13T09:06:28.981Z"
   },
   {
    "duration": 5,
    "start_time": "2021-10-13T09:06:28.992Z"
   },
   {
    "duration": 35,
    "start_time": "2021-10-13T09:06:28.999Z"
   },
   {
    "duration": 5,
    "start_time": "2021-10-13T09:06:29.036Z"
   },
   {
    "duration": 40,
    "start_time": "2021-10-13T09:06:29.043Z"
   },
   {
    "duration": 5,
    "start_time": "2021-10-13T09:06:29.085Z"
   },
   {
    "duration": 17,
    "start_time": "2021-10-13T09:06:29.091Z"
   },
   {
    "duration": 17,
    "start_time": "2021-10-13T09:06:29.109Z"
   },
   {
    "duration": 55,
    "start_time": "2021-10-13T09:06:29.128Z"
   },
   {
    "duration": 22,
    "start_time": "2021-10-13T09:06:29.185Z"
   },
   {
    "duration": 11,
    "start_time": "2021-10-13T09:06:29.208Z"
   },
   {
    "duration": 5,
    "start_time": "2021-10-13T09:06:29.221Z"
   },
   {
    "duration": 12,
    "start_time": "2021-10-13T09:06:29.228Z"
   },
   {
    "duration": 37,
    "start_time": "2021-10-13T09:06:29.242Z"
   },
   {
    "duration": 16,
    "start_time": "2021-10-13T09:06:29.285Z"
   },
   {
    "duration": 25,
    "start_time": "2021-10-13T09:06:29.304Z"
   },
   {
    "duration": 8,
    "start_time": "2021-10-13T09:06:29.331Z"
   },
   {
    "duration": 37,
    "start_time": "2021-10-13T09:06:29.340Z"
   },
   {
    "duration": 22,
    "start_time": "2021-10-13T09:06:29.379Z"
   },
   {
    "duration": 10,
    "start_time": "2021-10-13T09:06:29.403Z"
   },
   {
    "duration": 9,
    "start_time": "2021-10-13T09:06:29.415Z"
   },
   {
    "duration": 24,
    "start_time": "2021-10-13T09:06:29.426Z"
   },
   {
    "duration": 32,
    "start_time": "2021-10-13T09:06:29.451Z"
   },
   {
    "duration": 12,
    "start_time": "2021-10-13T09:06:29.485Z"
   },
   {
    "duration": 10,
    "start_time": "2021-10-13T09:06:29.499Z"
   },
   {
    "duration": 22,
    "start_time": "2021-10-13T09:06:29.511Z"
   },
   {
    "duration": 69,
    "start_time": "2021-10-13T09:06:29.535Z"
   },
   {
    "duration": 3,
    "start_time": "2021-10-13T09:06:29.606Z"
   },
   {
    "duration": 28,
    "start_time": "2021-10-13T09:06:29.611Z"
   },
   {
    "duration": 37,
    "start_time": "2021-10-13T09:06:29.641Z"
   },
   {
    "duration": 7,
    "start_time": "2021-10-13T09:06:29.680Z"
   },
   {
    "duration": 3,
    "start_time": "2021-10-13T09:06:29.689Z"
   },
   {
    "duration": 12,
    "start_time": "2021-10-13T09:06:29.694Z"
   },
   {
    "duration": 4,
    "start_time": "2021-10-13T09:06:29.708Z"
   },
   {
    "duration": 10,
    "start_time": "2021-10-13T09:06:29.714Z"
   },
   {
    "duration": 24,
    "start_time": "2021-10-13T09:06:29.726Z"
   },
   {
    "duration": 2,
    "start_time": "2021-10-13T09:06:29.752Z"
   },
   {
    "duration": 5,
    "start_time": "2021-10-13T09:06:29.777Z"
   },
   {
    "duration": 684,
    "start_time": "2021-10-13T09:06:29.784Z"
   },
   {
    "duration": 10,
    "start_time": "2021-10-13T09:06:30.469Z"
   },
   {
    "duration": 17,
    "start_time": "2021-10-13T09:06:30.480Z"
   },
   {
    "duration": 18,
    "start_time": "2021-10-13T09:06:30.499Z"
   },
   {
    "duration": 1510,
    "start_time": "2021-10-13T09:06:30.519Z"
   },
   {
    "duration": 8,
    "start_time": "2021-10-13T09:06:32.031Z"
   },
   {
    "duration": 42,
    "start_time": "2021-10-13T09:06:32.040Z"
   },
   {
    "duration": 37,
    "start_time": "2021-10-13T09:08:35.595Z"
   },
   {
    "duration": 671,
    "start_time": "2021-10-13T09:08:54.024Z"
   },
   {
    "duration": 11,
    "start_time": "2021-10-13T09:08:54.697Z"
   },
   {
    "duration": 24,
    "start_time": "2021-10-13T09:08:54.710Z"
   },
   {
    "duration": 31,
    "start_time": "2021-10-13T09:08:54.736Z"
   },
   {
    "duration": 22,
    "start_time": "2021-10-13T09:08:54.769Z"
   },
   {
    "duration": 41,
    "start_time": "2021-10-13T09:08:54.793Z"
   },
   {
    "duration": 79,
    "start_time": "2021-10-13T09:08:54.836Z"
   },
   {
    "duration": 5,
    "start_time": "2021-10-13T09:08:54.919Z"
   },
   {
    "duration": 29,
    "start_time": "2021-10-13T09:08:54.926Z"
   },
   {
    "duration": 27,
    "start_time": "2021-10-13T09:08:54.957Z"
   },
   {
    "duration": 33,
    "start_time": "2021-10-13T09:08:54.986Z"
   },
   {
    "duration": 27,
    "start_time": "2021-10-13T09:08:55.022Z"
   },
   {
    "duration": 50,
    "start_time": "2021-10-13T09:08:55.052Z"
   },
   {
    "duration": 23,
    "start_time": "2021-10-13T09:08:55.104Z"
   },
   {
    "duration": 34,
    "start_time": "2021-10-13T09:08:55.129Z"
   },
   {
    "duration": 25,
    "start_time": "2021-10-13T09:08:55.165Z"
   },
   {
    "duration": 25,
    "start_time": "2021-10-13T09:08:55.192Z"
   },
   {
    "duration": 9,
    "start_time": "2021-10-13T09:08:55.219Z"
   },
   {
    "duration": 28,
    "start_time": "2021-10-13T09:08:55.230Z"
   },
   {
    "duration": 37,
    "start_time": "2021-10-13T09:08:55.260Z"
   },
   {
    "duration": 42,
    "start_time": "2021-10-13T09:08:55.299Z"
   },
   {
    "duration": 31,
    "start_time": "2021-10-13T09:08:55.342Z"
   },
   {
    "duration": 41,
    "start_time": "2021-10-13T09:08:55.376Z"
   },
   {
    "duration": 13,
    "start_time": "2021-10-13T09:08:55.419Z"
   },
   {
    "duration": 46,
    "start_time": "2021-10-13T09:08:55.434Z"
   },
   {
    "duration": 28,
    "start_time": "2021-10-13T09:08:55.482Z"
   },
   {
    "duration": 19,
    "start_time": "2021-10-13T09:08:55.511Z"
   },
   {
    "duration": 22,
    "start_time": "2021-10-13T09:08:55.531Z"
   },
   {
    "duration": 37,
    "start_time": "2021-10-13T09:08:55.554Z"
   },
   {
    "duration": 25,
    "start_time": "2021-10-13T09:08:55.593Z"
   },
   {
    "duration": 42,
    "start_time": "2021-10-13T09:08:55.619Z"
   },
   {
    "duration": 4,
    "start_time": "2021-10-13T09:08:55.663Z"
   },
   {
    "duration": 47,
    "start_time": "2021-10-13T09:08:55.668Z"
   },
   {
    "duration": 32,
    "start_time": "2021-10-13T09:08:55.717Z"
   },
   {
    "duration": 15,
    "start_time": "2021-10-13T09:08:55.751Z"
   },
   {
    "duration": 22,
    "start_time": "2021-10-13T09:08:55.768Z"
   },
   {
    "duration": 28,
    "start_time": "2021-10-13T09:08:55.792Z"
   },
   {
    "duration": 18,
    "start_time": "2021-10-13T09:08:55.822Z"
   },
   {
    "duration": 32,
    "start_time": "2021-10-13T09:08:55.841Z"
   },
   {
    "duration": 21,
    "start_time": "2021-10-13T09:08:55.874Z"
   },
   {
    "duration": 16,
    "start_time": "2021-10-13T09:08:55.896Z"
   },
   {
    "duration": 22,
    "start_time": "2021-10-13T09:08:55.914Z"
   },
   {
    "duration": 691,
    "start_time": "2021-10-13T09:08:55.938Z"
   },
   {
    "duration": 5,
    "start_time": "2021-10-13T09:08:56.631Z"
   },
   {
    "duration": 34,
    "start_time": "2021-10-13T09:08:56.637Z"
   },
   {
    "duration": 12,
    "start_time": "2021-10-13T09:08:56.672Z"
   },
   {
    "duration": 1619,
    "start_time": "2021-10-13T09:08:56.686Z"
   },
   {
    "duration": 7,
    "start_time": "2021-10-13T09:08:58.307Z"
   },
   {
    "duration": 37,
    "start_time": "2021-10-13T09:08:58.316Z"
   },
   {
    "duration": 42,
    "start_time": "2021-10-13T09:09:20.761Z"
   },
   {
    "duration": 741,
    "start_time": "2021-10-13T09:09:27.180Z"
   },
   {
    "duration": 11,
    "start_time": "2021-10-13T09:09:27.923Z"
   },
   {
    "duration": 13,
    "start_time": "2021-10-13T09:09:27.936Z"
   },
   {
    "duration": 30,
    "start_time": "2021-10-13T09:09:27.951Z"
   },
   {
    "duration": 15,
    "start_time": "2021-10-13T09:09:27.983Z"
   },
   {
    "duration": 5,
    "start_time": "2021-10-13T09:09:28.000Z"
   },
   {
    "duration": 39,
    "start_time": "2021-10-13T09:09:28.007Z"
   },
   {
    "duration": 5,
    "start_time": "2021-10-13T09:09:28.048Z"
   },
   {
    "duration": 15,
    "start_time": "2021-10-13T09:09:28.078Z"
   },
   {
    "duration": 5,
    "start_time": "2021-10-13T09:09:28.095Z"
   },
   {
    "duration": 20,
    "start_time": "2021-10-13T09:09:28.101Z"
   },
   {
    "duration": 18,
    "start_time": "2021-10-13T09:09:28.122Z"
   },
   {
    "duration": 58,
    "start_time": "2021-10-13T09:09:28.142Z"
   },
   {
    "duration": 22,
    "start_time": "2021-10-13T09:09:28.202Z"
   },
   {
    "duration": 13,
    "start_time": "2021-10-13T09:09:28.227Z"
   },
   {
    "duration": 6,
    "start_time": "2021-10-13T09:09:28.242Z"
   },
   {
    "duration": 46,
    "start_time": "2021-10-13T09:09:28.249Z"
   },
   {
    "duration": 5,
    "start_time": "2021-10-13T09:09:28.297Z"
   },
   {
    "duration": 16,
    "start_time": "2021-10-13T09:09:28.304Z"
   },
   {
    "duration": 20,
    "start_time": "2021-10-13T09:09:28.322Z"
   },
   {
    "duration": 37,
    "start_time": "2021-10-13T09:09:28.344Z"
   },
   {
    "duration": 6,
    "start_time": "2021-10-13T09:09:28.383Z"
   },
   {
    "duration": 22,
    "start_time": "2021-10-13T09:09:28.393Z"
   },
   {
    "duration": 10,
    "start_time": "2021-10-13T09:09:28.418Z"
   },
   {
    "duration": 10,
    "start_time": "2021-10-13T09:09:28.430Z"
   },
   {
    "duration": 54,
    "start_time": "2021-10-13T09:09:28.442Z"
   },
   {
    "duration": 11,
    "start_time": "2021-10-13T09:09:28.498Z"
   },
   {
    "duration": 13,
    "start_time": "2021-10-13T09:09:28.511Z"
   },
   {
    "duration": 19,
    "start_time": "2021-10-13T09:09:28.525Z"
   },
   {
    "duration": 51,
    "start_time": "2021-10-13T09:09:28.545Z"
   },
   {
    "duration": 36,
    "start_time": "2021-10-13T09:09:28.598Z"
   },
   {
    "duration": 5,
    "start_time": "2021-10-13T09:09:28.636Z"
   },
   {
    "duration": 51,
    "start_time": "2021-10-13T09:09:28.643Z"
   },
   {
    "duration": 19,
    "start_time": "2021-10-13T09:09:28.696Z"
   },
   {
    "duration": 9,
    "start_time": "2021-10-13T09:09:28.718Z"
   },
   {
    "duration": 7,
    "start_time": "2021-10-13T09:09:28.728Z"
   },
   {
    "duration": 14,
    "start_time": "2021-10-13T09:09:28.736Z"
   },
   {
    "duration": 7,
    "start_time": "2021-10-13T09:09:28.752Z"
   },
   {
    "duration": 8,
    "start_time": "2021-10-13T09:09:28.785Z"
   },
   {
    "duration": 5,
    "start_time": "2021-10-13T09:09:28.795Z"
   },
   {
    "duration": 10,
    "start_time": "2021-10-13T09:09:28.802Z"
   },
   {
    "duration": 14,
    "start_time": "2021-10-13T09:09:28.814Z"
   },
   {
    "duration": 720,
    "start_time": "2021-10-13T09:09:28.829Z"
   },
   {
    "duration": 4,
    "start_time": "2021-10-13T09:09:29.551Z"
   },
   {
    "duration": 10,
    "start_time": "2021-10-13T09:09:29.557Z"
   },
   {
    "duration": 9,
    "start_time": "2021-10-13T09:09:29.577Z"
   },
   {
    "duration": 1621,
    "start_time": "2021-10-13T09:09:29.592Z"
   },
   {
    "duration": 8,
    "start_time": "2021-10-13T09:09:31.215Z"
   },
   {
    "duration": 30,
    "start_time": "2021-10-13T09:09:31.225Z"
   },
   {
    "duration": 41,
    "start_time": "2021-10-13T09:09:57.899Z"
   },
   {
    "duration": 642,
    "start_time": "2021-10-13T09:10:36.141Z"
   },
   {
    "duration": 12,
    "start_time": "2021-10-13T09:10:36.787Z"
   },
   {
    "duration": 13,
    "start_time": "2021-10-13T09:10:36.802Z"
   },
   {
    "duration": 13,
    "start_time": "2021-10-13T09:10:36.817Z"
   },
   {
    "duration": 7,
    "start_time": "2021-10-13T09:10:36.831Z"
   },
   {
    "duration": 5,
    "start_time": "2021-10-13T09:10:36.840Z"
   },
   {
    "duration": 63,
    "start_time": "2021-10-13T09:10:36.846Z"
   },
   {
    "duration": 5,
    "start_time": "2021-10-13T09:10:36.911Z"
   },
   {
    "duration": 11,
    "start_time": "2021-10-13T09:10:36.918Z"
   },
   {
    "duration": 9,
    "start_time": "2021-10-13T09:10:36.931Z"
   },
   {
    "duration": 39,
    "start_time": "2021-10-13T09:10:36.943Z"
   },
   {
    "duration": 21,
    "start_time": "2021-10-13T09:10:36.983Z"
   },
   {
    "duration": 26,
    "start_time": "2021-10-13T09:10:37.005Z"
   },
   {
    "duration": 59,
    "start_time": "2021-10-13T09:10:37.034Z"
   },
   {
    "duration": 10,
    "start_time": "2021-10-13T09:10:37.094Z"
   },
   {
    "duration": 6,
    "start_time": "2021-10-13T09:10:37.106Z"
   },
   {
    "duration": 13,
    "start_time": "2021-10-13T09:10:37.114Z"
   },
   {
    "duration": 5,
    "start_time": "2021-10-13T09:10:37.128Z"
   },
   {
    "duration": 50,
    "start_time": "2021-10-13T09:10:37.134Z"
   },
   {
    "duration": 22,
    "start_time": "2021-10-13T09:10:37.186Z"
   },
   {
    "duration": 17,
    "start_time": "2021-10-13T09:10:37.210Z"
   },
   {
    "duration": 7,
    "start_time": "2021-10-13T09:10:37.229Z"
   },
   {
    "duration": 42,
    "start_time": "2021-10-13T09:10:37.238Z"
   },
   {
    "duration": 18,
    "start_time": "2021-10-13T09:10:37.282Z"
   },
   {
    "duration": 11,
    "start_time": "2021-10-13T09:10:37.302Z"
   },
   {
    "duration": 31,
    "start_time": "2021-10-13T09:10:37.315Z"
   },
   {
    "duration": 45,
    "start_time": "2021-10-13T09:10:37.351Z"
   },
   {
    "duration": 18,
    "start_time": "2021-10-13T09:10:37.399Z"
   },
   {
    "duration": 15,
    "start_time": "2021-10-13T09:10:37.419Z"
   },
   {
    "duration": 53,
    "start_time": "2021-10-13T09:10:37.436Z"
   },
   {
    "duration": 36,
    "start_time": "2021-10-13T09:10:37.491Z"
   },
   {
    "duration": 4,
    "start_time": "2021-10-13T09:10:37.529Z"
   },
   {
    "duration": 29,
    "start_time": "2021-10-13T09:10:37.535Z"
   },
   {
    "duration": 24,
    "start_time": "2021-10-13T09:10:37.581Z"
   },
   {
    "duration": 9,
    "start_time": "2021-10-13T09:10:37.606Z"
   },
   {
    "duration": 4,
    "start_time": "2021-10-13T09:10:37.617Z"
   },
   {
    "duration": 8,
    "start_time": "2021-10-13T09:10:37.623Z"
   },
   {
    "duration": 10,
    "start_time": "2021-10-13T09:10:37.633Z"
   },
   {
    "duration": 13,
    "start_time": "2021-10-13T09:10:37.645Z"
   },
   {
    "duration": 18,
    "start_time": "2021-10-13T09:10:37.661Z"
   },
   {
    "duration": 8,
    "start_time": "2021-10-13T09:10:37.685Z"
   },
   {
    "duration": 8,
    "start_time": "2021-10-13T09:10:37.695Z"
   },
   {
    "duration": 707,
    "start_time": "2021-10-13T09:10:37.705Z"
   },
   {
    "duration": 5,
    "start_time": "2021-10-13T09:10:38.415Z"
   },
   {
    "duration": 6,
    "start_time": "2021-10-13T09:10:38.422Z"
   },
   {
    "duration": 4,
    "start_time": "2021-10-13T09:10:38.430Z"
   },
   {
    "duration": 1575,
    "start_time": "2021-10-13T09:10:38.435Z"
   },
   {
    "duration": 7,
    "start_time": "2021-10-13T09:10:40.012Z"
   },
   {
    "duration": 33,
    "start_time": "2021-10-13T09:10:40.021Z"
   },
   {
    "duration": 37,
    "start_time": "2021-10-13T09:16:02.516Z"
   },
   {
    "duration": 726,
    "start_time": "2021-10-13T09:16:13.845Z"
   },
   {
    "duration": 12,
    "start_time": "2021-10-13T09:16:14.573Z"
   },
   {
    "duration": 19,
    "start_time": "2021-10-13T09:16:14.587Z"
   },
   {
    "duration": 25,
    "start_time": "2021-10-13T09:16:14.608Z"
   },
   {
    "duration": 20,
    "start_time": "2021-10-13T09:16:14.634Z"
   },
   {
    "duration": 14,
    "start_time": "2021-10-13T09:16:14.656Z"
   },
   {
    "duration": 46,
    "start_time": "2021-10-13T09:16:14.671Z"
   },
   {
    "duration": 5,
    "start_time": "2021-10-13T09:16:14.719Z"
   },
   {
    "duration": 29,
    "start_time": "2021-10-13T09:16:14.726Z"
   },
   {
    "duration": 12,
    "start_time": "2021-10-13T09:16:14.757Z"
   },
   {
    "duration": 24,
    "start_time": "2021-10-13T09:16:14.771Z"
   },
   {
    "duration": 25,
    "start_time": "2021-10-13T09:16:14.797Z"
   },
   {
    "duration": 27,
    "start_time": "2021-10-13T09:16:14.823Z"
   },
   {
    "duration": 37,
    "start_time": "2021-10-13T09:16:14.852Z"
   },
   {
    "duration": 19,
    "start_time": "2021-10-13T09:16:14.891Z"
   },
   {
    "duration": 20,
    "start_time": "2021-10-13T09:16:14.911Z"
   },
   {
    "duration": 22,
    "start_time": "2021-10-13T09:16:14.933Z"
   },
   {
    "duration": 10,
    "start_time": "2021-10-13T09:16:14.957Z"
   },
   {
    "duration": 23,
    "start_time": "2021-10-13T09:16:14.969Z"
   },
   {
    "duration": 42,
    "start_time": "2021-10-13T09:16:14.994Z"
   },
   {
    "duration": 68,
    "start_time": "2021-10-13T09:16:15.037Z"
   },
   {
    "duration": 144,
    "start_time": "2021-10-13T09:16:15.107Z"
   },
   {
    "duration": 29,
    "start_time": "2021-10-13T09:16:15.256Z"
   },
   {
    "duration": 10,
    "start_time": "2021-10-13T09:16:15.287Z"
   },
   {
    "duration": 20,
    "start_time": "2021-10-13T09:16:15.299Z"
   },
   {
    "duration": 25,
    "start_time": "2021-10-13T09:16:15.320Z"
   },
   {
    "duration": 31,
    "start_time": "2021-10-13T09:16:15.347Z"
   },
   {
    "duration": 13,
    "start_time": "2021-10-13T09:16:15.380Z"
   },
   {
    "duration": 12,
    "start_time": "2021-10-13T09:16:15.396Z"
   },
   {
    "duration": 26,
    "start_time": "2021-10-13T09:16:15.409Z"
   },
   {
    "duration": 68,
    "start_time": "2021-10-13T09:16:15.437Z"
   },
   {
    "duration": 4,
    "start_time": "2021-10-13T09:16:15.508Z"
   },
   {
    "duration": 24,
    "start_time": "2021-10-13T09:16:15.514Z"
   },
   {
    "duration": 45,
    "start_time": "2021-10-13T09:16:15.540Z"
   },
   {
    "duration": 10,
    "start_time": "2021-10-13T09:16:15.587Z"
   },
   {
    "duration": 5,
    "start_time": "2021-10-13T09:16:15.599Z"
   },
   {
    "duration": 8,
    "start_time": "2021-10-13T09:16:15.606Z"
   },
   {
    "duration": 4,
    "start_time": "2021-10-13T09:16:15.616Z"
   },
   {
    "duration": 12,
    "start_time": "2021-10-13T09:16:15.622Z"
   },
   {
    "duration": 4,
    "start_time": "2021-10-13T09:16:15.636Z"
   },
   {
    "duration": 4,
    "start_time": "2021-10-13T09:16:15.677Z"
   },
   {
    "duration": 8,
    "start_time": "2021-10-13T09:16:15.683Z"
   },
   {
    "duration": 691,
    "start_time": "2021-10-13T09:16:15.693Z"
   },
   {
    "duration": 6,
    "start_time": "2021-10-13T09:16:16.387Z"
   },
   {
    "duration": 6,
    "start_time": "2021-10-13T09:16:16.395Z"
   },
   {
    "duration": 5,
    "start_time": "2021-10-13T09:16:16.403Z"
   },
   {
    "duration": 1719,
    "start_time": "2021-10-13T09:16:16.410Z"
   },
   {
    "duration": 9,
    "start_time": "2021-10-13T09:16:18.131Z"
   },
   {
    "duration": 48,
    "start_time": "2021-10-13T09:16:18.142Z"
   },
   {
    "duration": 21,
    "start_time": "2021-10-13T09:17:10.618Z"
   },
   {
    "duration": 21,
    "start_time": "2021-10-13T09:17:13.210Z"
   },
   {
    "duration": 36,
    "start_time": "2021-10-13T09:17:30.424Z"
   },
   {
    "duration": 18,
    "start_time": "2021-10-13T09:17:41.658Z"
   },
   {
    "duration": 37,
    "start_time": "2021-10-13T09:17:42.996Z"
   },
   {
    "duration": 20,
    "start_time": "2021-10-13T09:17:47.864Z"
   },
   {
    "duration": 20,
    "start_time": "2021-10-13T09:27:30.567Z"
   },
   {
    "duration": 36,
    "start_time": "2021-10-13T09:29:15.162Z"
   },
   {
    "duration": 365,
    "start_time": "2021-10-13T09:29:54.081Z"
   },
   {
    "duration": 350,
    "start_time": "2021-10-13T09:30:04.629Z"
   },
   {
    "duration": 37,
    "start_time": "2021-10-13T09:30:38.306Z"
   },
   {
    "duration": 38,
    "start_time": "2021-10-13T09:32:02.216Z"
   },
   {
    "duration": 674,
    "start_time": "2021-10-13T09:32:16.930Z"
   },
   {
    "duration": 12,
    "start_time": "2021-10-13T09:32:17.607Z"
   },
   {
    "duration": 14,
    "start_time": "2021-10-13T09:32:17.621Z"
   },
   {
    "duration": 12,
    "start_time": "2021-10-13T09:32:17.637Z"
   },
   {
    "duration": 33,
    "start_time": "2021-10-13T09:32:17.650Z"
   },
   {
    "duration": 4,
    "start_time": "2021-10-13T09:32:17.685Z"
   },
   {
    "duration": 7,
    "start_time": "2021-10-13T09:32:17.692Z"
   },
   {
    "duration": 11,
    "start_time": "2021-10-13T09:32:17.702Z"
   },
   {
    "duration": 6,
    "start_time": "2021-10-13T09:32:17.716Z"
   },
   {
    "duration": 67,
    "start_time": "2021-10-13T09:32:17.724Z"
   },
   {
    "duration": 398,
    "start_time": "2021-10-13T09:32:17.792Z"
   },
   {
    "duration": -892,
    "start_time": "2021-10-13T09:32:19.085Z"
   },
   {
    "duration": -895,
    "start_time": "2021-10-13T09:32:19.090Z"
   },
   {
    "duration": -899,
    "start_time": "2021-10-13T09:32:19.094Z"
   },
   {
    "duration": -903,
    "start_time": "2021-10-13T09:32:19.099Z"
   },
   {
    "duration": -907,
    "start_time": "2021-10-13T09:32:19.104Z"
   },
   {
    "duration": -910,
    "start_time": "2021-10-13T09:32:19.108Z"
   },
   {
    "duration": -1386,
    "start_time": "2021-10-13T09:32:19.585Z"
   },
   {
    "duration": -1396,
    "start_time": "2021-10-13T09:32:19.595Z"
   },
   {
    "duration": -1400,
    "start_time": "2021-10-13T09:32:19.600Z"
   },
   {
    "duration": -1403,
    "start_time": "2021-10-13T09:32:19.604Z"
   },
   {
    "duration": -1408,
    "start_time": "2021-10-13T09:32:19.610Z"
   },
   {
    "duration": -1411,
    "start_time": "2021-10-13T09:32:19.614Z"
   },
   {
    "duration": -1414,
    "start_time": "2021-10-13T09:32:19.618Z"
   },
   {
    "duration": -1417,
    "start_time": "2021-10-13T09:32:19.622Z"
   },
   {
    "duration": -1420,
    "start_time": "2021-10-13T09:32:19.626Z"
   },
   {
    "duration": -1424,
    "start_time": "2021-10-13T09:32:19.630Z"
   },
   {
    "duration": -1425,
    "start_time": "2021-10-13T09:32:19.633Z"
   },
   {
    "duration": -1430,
    "start_time": "2021-10-13T09:32:19.638Z"
   },
   {
    "duration": -1432,
    "start_time": "2021-10-13T09:32:19.641Z"
   },
   {
    "duration": -1435,
    "start_time": "2021-10-13T09:32:19.645Z"
   },
   {
    "duration": -1438,
    "start_time": "2021-10-13T09:32:19.649Z"
   },
   {
    "duration": -1440,
    "start_time": "2021-10-13T09:32:19.652Z"
   },
   {
    "duration": -1445,
    "start_time": "2021-10-13T09:32:19.657Z"
   },
   {
    "duration": -1448,
    "start_time": "2021-10-13T09:32:19.661Z"
   },
   {
    "duration": -1451,
    "start_time": "2021-10-13T09:32:19.665Z"
   },
   {
    "duration": -1463,
    "start_time": "2021-10-13T09:32:19.678Z"
   },
   {
    "duration": -1466,
    "start_time": "2021-10-13T09:32:19.682Z"
   },
   {
    "duration": -1469,
    "start_time": "2021-10-13T09:32:19.686Z"
   },
   {
    "duration": -1472,
    "start_time": "2021-10-13T09:32:19.690Z"
   },
   {
    "duration": -1476,
    "start_time": "2021-10-13T09:32:19.694Z"
   },
   {
    "duration": -1479,
    "start_time": "2021-10-13T09:32:19.698Z"
   },
   {
    "duration": -1481,
    "start_time": "2021-10-13T09:32:19.701Z"
   },
   {
    "duration": -1485,
    "start_time": "2021-10-13T09:32:19.706Z"
   },
   {
    "duration": -1487,
    "start_time": "2021-10-13T09:32:19.709Z"
   },
   {
    "duration": -1490,
    "start_time": "2021-10-13T09:32:19.713Z"
   },
   {
    "duration": -1493,
    "start_time": "2021-10-13T09:32:19.717Z"
   },
   {
    "duration": -1498,
    "start_time": "2021-10-13T09:32:19.722Z"
   },
   {
    "duration": 33,
    "start_time": "2021-10-13T09:32:48.991Z"
   },
   {
    "duration": 32,
    "start_time": "2021-10-13T09:33:08.502Z"
   },
   {
    "duration": 15,
    "start_time": "2021-10-13T09:38:16.043Z"
   },
   {
    "duration": 30,
    "start_time": "2021-10-13T09:38:35.468Z"
   },
   {
    "duration": 34,
    "start_time": "2021-10-13T09:40:30.505Z"
   },
   {
    "duration": 694,
    "start_time": "2021-10-13T09:41:16.878Z"
   },
   {
    "duration": 10,
    "start_time": "2021-10-13T09:41:17.574Z"
   },
   {
    "duration": 98,
    "start_time": "2021-10-13T09:41:17.586Z"
   },
   {
    "duration": 55,
    "start_time": "2021-10-13T09:41:17.685Z"
   },
   {
    "duration": 17,
    "start_time": "2021-10-13T09:41:17.741Z"
   },
   {
    "duration": 55,
    "start_time": "2021-10-13T09:41:17.760Z"
   },
   {
    "duration": 10,
    "start_time": "2021-10-13T09:41:17.817Z"
   },
   {
    "duration": 11,
    "start_time": "2021-10-13T09:41:17.829Z"
   },
   {
    "duration": 9,
    "start_time": "2021-10-13T09:41:17.842Z"
   },
   {
    "duration": 28,
    "start_time": "2021-10-13T09:41:17.853Z"
   },
   {
    "duration": 10,
    "start_time": "2021-10-13T09:41:17.883Z"
   },
   {
    "duration": 6,
    "start_time": "2021-10-13T09:41:17.895Z"
   },
   {
    "duration": 15,
    "start_time": "2021-10-13T09:41:17.903Z"
   },
   {
    "duration": 4,
    "start_time": "2021-10-13T09:41:17.935Z"
   },
   {
    "duration": 41,
    "start_time": "2021-10-13T09:41:17.941Z"
   },
   {
    "duration": 25,
    "start_time": "2021-10-13T09:41:17.984Z"
   },
   {
    "duration": 7,
    "start_time": "2021-10-13T09:41:18.011Z"
   },
   {
    "duration": 6,
    "start_time": "2021-10-13T09:41:18.020Z"
   },
   {
    "duration": 22,
    "start_time": "2021-10-13T09:41:18.028Z"
   },
   {
    "duration": 33,
    "start_time": "2021-10-13T09:41:18.051Z"
   },
   {
    "duration": 8,
    "start_time": "2021-10-13T09:41:18.085Z"
   },
   {
    "duration": 22,
    "start_time": "2021-10-13T09:41:18.096Z"
   },
   {
    "duration": 11,
    "start_time": "2021-10-13T09:41:18.120Z"
   },
   {
    "duration": 45,
    "start_time": "2021-10-13T09:41:18.132Z"
   },
   {
    "duration": 11,
    "start_time": "2021-10-13T09:41:18.179Z"
   },
   {
    "duration": 22,
    "start_time": "2021-10-13T09:41:18.192Z"
   },
   {
    "duration": 37,
    "start_time": "2021-10-13T09:41:18.216Z"
   },
   {
    "duration": 4,
    "start_time": "2021-10-13T09:41:18.276Z"
   },
   {
    "duration": 32,
    "start_time": "2021-10-13T09:41:18.281Z"
   },
   {
    "duration": 19,
    "start_time": "2021-10-13T09:41:18.315Z"
   },
   {
    "duration": 51,
    "start_time": "2021-10-13T09:41:18.335Z"
   },
   {
    "duration": 8,
    "start_time": "2021-10-13T09:41:18.388Z"
   },
   {
    "duration": 3,
    "start_time": "2021-10-13T09:41:18.397Z"
   },
   {
    "duration": 14,
    "start_time": "2021-10-13T09:41:18.402Z"
   },
   {
    "duration": 4,
    "start_time": "2021-10-13T09:41:18.418Z"
   },
   {
    "duration": 14,
    "start_time": "2021-10-13T09:41:18.424Z"
   },
   {
    "duration": 3,
    "start_time": "2021-10-13T09:41:18.440Z"
   },
   {
    "duration": 7,
    "start_time": "2021-10-13T09:41:18.444Z"
   },
   {
    "duration": 9,
    "start_time": "2021-10-13T09:41:18.453Z"
   },
   {
    "duration": 656,
    "start_time": "2021-10-13T09:41:18.477Z"
   },
   {
    "duration": 4,
    "start_time": "2021-10-13T09:41:19.136Z"
   },
   {
    "duration": 6,
    "start_time": "2021-10-13T09:41:19.142Z"
   },
   {
    "duration": 6,
    "start_time": "2021-10-13T09:41:19.149Z"
   },
   {
    "duration": 1497,
    "start_time": "2021-10-13T09:41:19.156Z"
   },
   {
    "duration": 23,
    "start_time": "2021-10-13T09:41:20.655Z"
   },
   {
    "duration": 24,
    "start_time": "2021-10-13T09:41:20.680Z"
   },
   {
    "duration": 20,
    "start_time": "2021-10-13T09:42:17.040Z"
   },
   {
    "duration": 36,
    "start_time": "2021-10-13T09:42:25.369Z"
   },
   {
    "duration": 734,
    "start_time": "2021-10-13T09:42:51.261Z"
   },
   {
    "duration": 11,
    "start_time": "2021-10-13T09:42:51.997Z"
   },
   {
    "duration": 12,
    "start_time": "2021-10-13T09:42:52.010Z"
   },
   {
    "duration": 19,
    "start_time": "2021-10-13T09:42:52.024Z"
   },
   {
    "duration": 35,
    "start_time": "2021-10-13T09:42:52.045Z"
   },
   {
    "duration": 4,
    "start_time": "2021-10-13T09:42:52.082Z"
   },
   {
    "duration": 12,
    "start_time": "2021-10-13T09:42:52.088Z"
   },
   {
    "duration": 11,
    "start_time": "2021-10-13T09:42:52.102Z"
   },
   {
    "duration": 8,
    "start_time": "2021-10-13T09:42:52.115Z"
   },
   {
    "duration": 63,
    "start_time": "2021-10-13T09:42:52.125Z"
   },
   {
    "duration": 11,
    "start_time": "2021-10-13T09:42:52.189Z"
   },
   {
    "duration": 7,
    "start_time": "2021-10-13T09:42:52.201Z"
   },
   {
    "duration": 14,
    "start_time": "2021-10-13T09:42:52.209Z"
   },
   {
    "duration": 4,
    "start_time": "2021-10-13T09:42:52.225Z"
   },
   {
    "duration": 46,
    "start_time": "2021-10-13T09:42:52.231Z"
   },
   {
    "duration": 21,
    "start_time": "2021-10-13T09:42:52.279Z"
   },
   {
    "duration": 8,
    "start_time": "2021-10-13T09:42:52.302Z"
   },
   {
    "duration": 11,
    "start_time": "2021-10-13T09:42:52.311Z"
   },
   {
    "duration": 53,
    "start_time": "2021-10-13T09:42:52.324Z"
   },
   {
    "duration": 13,
    "start_time": "2021-10-13T09:42:52.379Z"
   },
   {
    "duration": 18,
    "start_time": "2021-10-13T09:42:52.394Z"
   },
   {
    "duration": 26,
    "start_time": "2021-10-13T09:42:52.414Z"
   },
   {
    "duration": 37,
    "start_time": "2021-10-13T09:42:52.445Z"
   },
   {
    "duration": 14,
    "start_time": "2021-10-13T09:42:52.485Z"
   },
   {
    "duration": 25,
    "start_time": "2021-10-13T09:42:52.502Z"
   },
   {
    "duration": 25,
    "start_time": "2021-10-13T09:42:52.528Z"
   },
   {
    "duration": 61,
    "start_time": "2021-10-13T09:42:52.555Z"
   },
   {
    "duration": 4,
    "start_time": "2021-10-13T09:42:52.618Z"
   },
   {
    "duration": 30,
    "start_time": "2021-10-13T09:42:52.623Z"
   },
   {
    "duration": 35,
    "start_time": "2021-10-13T09:42:52.655Z"
   },
   {
    "duration": 46,
    "start_time": "2021-10-13T09:42:52.692Z"
   },
   {
    "duration": 11,
    "start_time": "2021-10-13T09:42:52.740Z"
   },
   {
    "duration": 26,
    "start_time": "2021-10-13T09:42:52.753Z"
   },
   {
    "duration": 22,
    "start_time": "2021-10-13T09:42:52.781Z"
   },
   {
    "duration": 10,
    "start_time": "2021-10-13T09:42:52.804Z"
   },
   {
    "duration": 16,
    "start_time": "2021-10-13T09:42:52.815Z"
   },
   {
    "duration": 6,
    "start_time": "2021-10-13T09:42:52.834Z"
   },
   {
    "duration": 18,
    "start_time": "2021-10-13T09:42:52.842Z"
   },
   {
    "duration": 39,
    "start_time": "2021-10-13T09:42:52.862Z"
   },
   {
    "duration": 767,
    "start_time": "2021-10-13T09:42:52.903Z"
   },
   {
    "duration": 5,
    "start_time": "2021-10-13T09:42:53.676Z"
   },
   {
    "duration": 8,
    "start_time": "2021-10-13T09:42:53.683Z"
   },
   {
    "duration": 7,
    "start_time": "2021-10-13T09:42:53.693Z"
   },
   {
    "duration": 1612,
    "start_time": "2021-10-13T09:42:53.702Z"
   },
   {
    "duration": 8,
    "start_time": "2021-10-13T09:42:55.316Z"
   },
   {
    "duration": 31,
    "start_time": "2021-10-13T09:42:55.325Z"
   },
   {
    "duration": 630,
    "start_time": "2021-10-13T09:43:59.013Z"
   },
   {
    "duration": 11,
    "start_time": "2021-10-13T09:43:59.645Z"
   },
   {
    "duration": 13,
    "start_time": "2021-10-13T09:43:59.658Z"
   },
   {
    "duration": 12,
    "start_time": "2021-10-13T09:43:59.673Z"
   },
   {
    "duration": 7,
    "start_time": "2021-10-13T09:43:59.686Z"
   },
   {
    "duration": 5,
    "start_time": "2021-10-13T09:43:59.764Z"
   },
   {
    "duration": 11,
    "start_time": "2021-10-13T09:43:59.771Z"
   },
   {
    "duration": 11,
    "start_time": "2021-10-13T09:43:59.784Z"
   },
   {
    "duration": 11,
    "start_time": "2021-10-13T09:43:59.797Z"
   },
   {
    "duration": 28,
    "start_time": "2021-10-13T09:43:59.810Z"
   },
   {
    "duration": 11,
    "start_time": "2021-10-13T09:43:59.839Z"
   },
   {
    "duration": 7,
    "start_time": "2021-10-13T09:43:59.876Z"
   },
   {
    "duration": 15,
    "start_time": "2021-10-13T09:43:59.885Z"
   },
   {
    "duration": 5,
    "start_time": "2021-10-13T09:43:59.902Z"
   },
   {
    "duration": 15,
    "start_time": "2021-10-13T09:43:59.908Z"
   },
   {
    "duration": 9,
    "start_time": "2021-10-13T09:43:59.925Z"
   },
   {
    "duration": 42,
    "start_time": "2021-10-13T09:43:59.935Z"
   },
   {
    "duration": 24,
    "start_time": "2021-10-13T09:43:59.978Z"
   },
   {
    "duration": 10,
    "start_time": "2021-10-13T09:44:00.004Z"
   },
   {
    "duration": 34,
    "start_time": "2021-10-13T09:44:00.016Z"
   },
   {
    "duration": 32,
    "start_time": "2021-10-13T09:44:00.051Z"
   },
   {
    "duration": 11,
    "start_time": "2021-10-13T09:44:00.085Z"
   },
   {
    "duration": 19,
    "start_time": "2021-10-13T09:44:00.098Z"
   },
   {
    "duration": 17,
    "start_time": "2021-10-13T09:44:00.119Z"
   },
   {
    "duration": 45,
    "start_time": "2021-10-13T09:44:00.138Z"
   },
   {
    "duration": 43,
    "start_time": "2021-10-13T09:44:00.185Z"
   },
   {
    "duration": 4,
    "start_time": "2021-10-13T09:44:00.231Z"
   },
   {
    "duration": 45,
    "start_time": "2021-10-13T09:44:00.237Z"
   },
   {
    "duration": 19,
    "start_time": "2021-10-13T09:44:00.284Z"
   },
   {
    "duration": 45,
    "start_time": "2021-10-13T09:44:00.305Z"
   },
   {
    "duration": 25,
    "start_time": "2021-10-13T09:44:00.352Z"
   },
   {
    "duration": 4,
    "start_time": "2021-10-13T09:44:00.379Z"
   },
   {
    "duration": 15,
    "start_time": "2021-10-13T09:44:00.385Z"
   },
   {
    "duration": 7,
    "start_time": "2021-10-13T09:44:00.402Z"
   },
   {
    "duration": 37,
    "start_time": "2021-10-13T09:44:00.411Z"
   },
   {
    "duration": 8,
    "start_time": "2021-10-13T09:44:00.451Z"
   },
   {
    "duration": 23,
    "start_time": "2021-10-13T09:44:00.460Z"
   },
   {
    "duration": 27,
    "start_time": "2021-10-13T09:44:00.485Z"
   },
   {
    "duration": 676,
    "start_time": "2021-10-13T09:44:00.514Z"
   },
   {
    "duration": 4,
    "start_time": "2021-10-13T09:44:01.193Z"
   },
   {
    "duration": 12,
    "start_time": "2021-10-13T09:44:01.199Z"
   },
   {
    "duration": 7,
    "start_time": "2021-10-13T09:44:01.212Z"
   },
   {
    "duration": 1585,
    "start_time": "2021-10-13T09:44:01.221Z"
   },
   {
    "duration": 8,
    "start_time": "2021-10-13T09:44:02.809Z"
   },
   {
    "duration": 36,
    "start_time": "2021-10-13T09:44:02.818Z"
   },
   {
    "duration": 26,
    "start_time": "2021-10-13T09:55:47.658Z"
   },
   {
    "duration": 10,
    "start_time": "2021-10-13T09:58:28.015Z"
   },
   {
    "duration": 45,
    "start_time": "2021-10-13T09:58:42.768Z"
   },
   {
    "duration": 23,
    "start_time": "2021-10-13T10:05:30.953Z"
   },
   {
    "duration": 356,
    "start_time": "2021-10-13T10:05:49.503Z"
   },
   {
    "duration": 19,
    "start_time": "2021-10-13T10:05:55.755Z"
   },
   {
    "duration": 23,
    "start_time": "2021-10-13T10:06:05.985Z"
   },
   {
    "duration": 4,
    "start_time": "2021-10-13T10:07:00.167Z"
   },
   {
    "duration": 10,
    "start_time": "2021-10-13T10:07:05.926Z"
   },
   {
    "duration": 25,
    "start_time": "2021-10-13T10:07:08.680Z"
   },
   {
    "duration": 20,
    "start_time": "2021-10-13T10:07:19.950Z"
   },
   {
    "duration": 3,
    "start_time": "2021-10-13T10:07:34.508Z"
   },
   {
    "duration": 10,
    "start_time": "2021-10-13T10:07:38.166Z"
   },
   {
    "duration": 26,
    "start_time": "2021-10-13T10:07:39.434Z"
   },
   {
    "duration": 21,
    "start_time": "2021-10-13T10:07:44.476Z"
   },
   {
    "duration": 9,
    "start_time": "2021-10-13T10:11:42.626Z"
   },
   {
    "duration": 4,
    "start_time": "2021-10-13T10:12:53.610Z"
   },
   {
    "duration": 10,
    "start_time": "2021-10-13T10:13:01.204Z"
   },
   {
    "duration": 27,
    "start_time": "2021-10-13T10:13:02.589Z"
   },
   {
    "duration": 21,
    "start_time": "2021-10-13T10:13:08.221Z"
   },
   {
    "duration": 300,
    "start_time": "2021-10-13T10:29:28.531Z"
   },
   {
    "duration": 320,
    "start_time": "2021-10-13T10:29:46.600Z"
   },
   {
    "duration": 22,
    "start_time": "2021-10-13T10:30:14.663Z"
   },
   {
    "duration": 367,
    "start_time": "2021-10-13T10:30:18.372Z"
   },
   {
    "duration": 5047,
    "start_time": "2021-10-13T10:30:30.019Z"
   },
   {
    "duration": 3958,
    "start_time": "2021-10-13T10:30:50.772Z"
   },
   {
    "duration": 404,
    "start_time": "2021-10-13T10:31:03.956Z"
   },
   {
    "duration": 5,
    "start_time": "2021-10-13T10:31:25.321Z"
   },
   {
    "duration": 4,
    "start_time": "2021-10-13T10:31:41.379Z"
   },
   {
    "duration": 310,
    "start_time": "2021-10-13T10:32:09.693Z"
   },
   {
    "duration": 333,
    "start_time": "2021-10-13T10:32:15.940Z"
   },
   {
    "duration": 23,
    "start_time": "2021-10-13T10:32:21.022Z"
   },
   {
    "duration": 289,
    "start_time": "2021-10-13T10:32:28.618Z"
   },
   {
    "duration": 4,
    "start_time": "2021-10-13T10:34:11.548Z"
   },
   {
    "duration": 338,
    "start_time": "2021-10-13T10:34:41.170Z"
   },
   {
    "duration": 106,
    "start_time": "2021-10-13T10:34:49.509Z"
   },
   {
    "duration": 6,
    "start_time": "2021-10-13T10:34:53.759Z"
   },
   {
    "duration": 417,
    "start_time": "2021-10-13T10:35:24.382Z"
   },
   {
    "duration": 8499,
    "start_time": "2021-10-13T10:35:48.102Z"
   },
   {
    "duration": 12141,
    "start_time": "2021-10-13T10:36:03.469Z"
   },
   {
    "duration": 301,
    "start_time": "2021-10-13T10:36:26.445Z"
   },
   {
    "duration": 34,
    "start_time": "2021-10-13T10:38:09.836Z"
   },
   {
    "duration": 30,
    "start_time": "2021-10-13T10:40:05.512Z"
   },
   {
    "duration": 3,
    "start_time": "2021-10-13T10:43:37.902Z"
   },
   {
    "duration": 10,
    "start_time": "2021-10-13T10:43:39.895Z"
   },
   {
    "duration": 25,
    "start_time": "2021-10-13T10:43:41.043Z"
   },
   {
    "duration": 22,
    "start_time": "2021-10-13T10:43:46.133Z"
   },
   {
    "duration": 1163,
    "start_time": "2021-10-13T10:46:40.933Z"
   },
   {
    "duration": 1732,
    "start_time": "2021-10-13T10:47:18.252Z"
   },
   {
    "duration": 302,
    "start_time": "2021-10-13T10:47:36.263Z"
   },
   {
    "duration": 290,
    "start_time": "2021-10-13T10:48:12.836Z"
   },
   {
    "duration": 428,
    "start_time": "2021-10-13T10:48:20.895Z"
   },
   {
    "duration": 8,
    "start_time": "2021-10-13T10:49:26.142Z"
   },
   {
    "duration": 295,
    "start_time": "2021-10-13T10:49:43.121Z"
   },
   {
    "duration": 797,
    "start_time": "2021-10-13T10:50:01.074Z"
   },
   {
    "duration": 391,
    "start_time": "2021-10-14T05:58:38.352Z"
   },
   {
    "duration": 97,
    "start_time": "2021-10-14T05:58:49.145Z"
   },
   {
    "duration": 934,
    "start_time": "2021-10-14T05:59:12.073Z"
   },
   {
    "duration": 14,
    "start_time": "2021-10-14T05:59:13.010Z"
   },
   {
    "duration": 18,
    "start_time": "2021-10-14T05:59:13.027Z"
   },
   {
    "duration": 16,
    "start_time": "2021-10-14T05:59:13.048Z"
   },
   {
    "duration": 41,
    "start_time": "2021-10-14T05:59:13.066Z"
   },
   {
    "duration": 6,
    "start_time": "2021-10-14T05:59:13.109Z"
   },
   {
    "duration": 8,
    "start_time": "2021-10-14T05:59:13.118Z"
   },
   {
    "duration": 14,
    "start_time": "2021-10-14T05:59:13.130Z"
   },
   {
    "duration": 53,
    "start_time": "2021-10-14T05:59:13.147Z"
   },
   {
    "duration": 38,
    "start_time": "2021-10-14T05:59:13.203Z"
   },
   {
    "duration": 15,
    "start_time": "2021-10-14T05:59:13.243Z"
   },
   {
    "duration": 45,
    "start_time": "2021-10-14T05:59:13.260Z"
   },
   {
    "duration": 19,
    "start_time": "2021-10-14T05:59:13.307Z"
   },
   {
    "duration": 6,
    "start_time": "2021-10-14T05:59:13.328Z"
   },
   {
    "duration": 18,
    "start_time": "2021-10-14T05:59:13.337Z"
   },
   {
    "duration": 50,
    "start_time": "2021-10-14T05:59:13.357Z"
   },
   {
    "duration": 9,
    "start_time": "2021-10-14T05:59:13.409Z"
   },
   {
    "duration": 37,
    "start_time": "2021-10-14T05:59:13.420Z"
   },
   {
    "duration": 45,
    "start_time": "2021-10-14T05:59:13.459Z"
   },
   {
    "duration": 11,
    "start_time": "2021-10-14T05:59:13.507Z"
   },
   {
    "duration": 37,
    "start_time": "2021-10-14T05:59:13.520Z"
   },
   {
    "duration": 43,
    "start_time": "2021-10-14T05:59:13.559Z"
   },
   {
    "duration": 20,
    "start_time": "2021-10-14T05:59:13.606Z"
   },
   {
    "duration": 14,
    "start_time": "2021-10-14T05:59:13.629Z"
   },
   {
    "duration": 61,
    "start_time": "2021-10-14T05:59:13.645Z"
   },
   {
    "duration": 63,
    "start_time": "2021-10-14T05:59:13.708Z"
   },
   {
    "duration": 5,
    "start_time": "2021-10-14T05:59:13.773Z"
   },
   {
    "duration": 39,
    "start_time": "2021-10-14T05:59:13.800Z"
   },
   {
    "duration": 28,
    "start_time": "2021-10-14T05:59:13.841Z"
   },
   {
    "duration": 89,
    "start_time": "2021-10-14T05:59:13.872Z"
   },
   {
    "duration": 12,
    "start_time": "2021-10-14T05:59:13.964Z"
   },
   {
    "duration": 6,
    "start_time": "2021-10-14T05:59:14.001Z"
   },
   {
    "duration": 17,
    "start_time": "2021-10-14T05:59:14.010Z"
   },
   {
    "duration": 71,
    "start_time": "2021-10-14T05:59:14.029Z"
   },
   {
    "duration": 35,
    "start_time": "2021-10-14T05:59:14.103Z"
   },
   {
    "duration": 9,
    "start_time": "2021-10-14T05:59:14.141Z"
   },
   {
    "duration": 5,
    "start_time": "2021-10-14T05:59:14.152Z"
   },
   {
    "duration": 47,
    "start_time": "2021-10-14T05:59:14.160Z"
   },
   {
    "duration": 4,
    "start_time": "2021-10-14T05:59:14.210Z"
   },
   {
    "duration": 8,
    "start_time": "2021-10-14T05:59:14.217Z"
   },
   {
    "duration": 8,
    "start_time": "2021-10-14T05:59:14.228Z"
   },
   {
    "duration": 965,
    "start_time": "2021-10-14T05:59:14.238Z"
   },
   {
    "duration": 8,
    "start_time": "2021-10-14T05:59:15.206Z"
   },
   {
    "duration": 9,
    "start_time": "2021-10-14T05:59:15.216Z"
   },
   {
    "duration": 9,
    "start_time": "2021-10-14T05:59:15.228Z"
   },
   {
    "duration": 2070,
    "start_time": "2021-10-14T05:59:15.240Z"
   },
   {
    "duration": 12,
    "start_time": "2021-10-14T05:59:17.313Z"
   },
   {
    "duration": 43,
    "start_time": "2021-10-14T05:59:17.328Z"
   },
   {
    "duration": 68,
    "start_time": "2021-10-14T05:59:17.401Z"
   },
   {
    "duration": 238,
    "start_time": "2021-10-14T05:59:49.652Z"
   },
   {
    "duration": 113,
    "start_time": "2021-10-14T06:03:03.606Z"
   },
   {
    "duration": 433,
    "start_time": "2021-10-14T06:03:20.887Z"
   },
   {
    "duration": 333,
    "start_time": "2021-10-14T06:03:35.487Z"
   },
   {
    "duration": 110,
    "start_time": "2021-10-14T06:03:50.924Z"
   },
   {
    "duration": 330,
    "start_time": "2021-10-14T06:03:58.565Z"
   },
   {
    "duration": 315,
    "start_time": "2021-10-14T06:04:34.418Z"
   },
   {
    "duration": 301,
    "start_time": "2021-10-14T06:06:06.268Z"
   },
   {
    "duration": 302,
    "start_time": "2021-10-14T06:06:15.813Z"
   },
   {
    "duration": 335,
    "start_time": "2021-10-14T06:06:30.799Z"
   },
   {
    "duration": 302,
    "start_time": "2021-10-14T06:06:45.809Z"
   },
   {
    "duration": 315,
    "start_time": "2021-10-14T06:09:45.009Z"
   },
   {
    "duration": 336,
    "start_time": "2021-10-14T06:09:59.149Z"
   },
   {
    "duration": 465,
    "start_time": "2021-10-14T06:13:52.557Z"
   },
   {
    "duration": 505,
    "start_time": "2021-10-14T06:13:58.362Z"
   },
   {
    "duration": 300,
    "start_time": "2021-10-14T06:14:04.410Z"
   },
   {
    "duration": 303,
    "start_time": "2021-10-14T06:14:35.749Z"
   },
   {
    "duration": 346,
    "start_time": "2021-10-14T06:14:44.306Z"
   },
   {
    "duration": 292,
    "start_time": "2021-10-14T06:15:10.630Z"
   },
   {
    "duration": 293,
    "start_time": "2021-10-14T06:15:28.133Z"
   },
   {
    "duration": 311,
    "start_time": "2021-10-14T06:15:40.703Z"
   },
   {
    "duration": 153,
    "start_time": "2021-10-14T06:25:20.910Z"
   },
   {
    "duration": 360,
    "start_time": "2021-10-14T06:25:27.712Z"
   },
   {
    "duration": 333,
    "start_time": "2021-10-14T06:25:36.389Z"
   },
   {
    "duration": 368,
    "start_time": "2021-10-14T06:30:03.364Z"
   },
   {
    "duration": 313,
    "start_time": "2021-10-14T06:30:09.954Z"
   },
   {
    "duration": 337,
    "start_time": "2021-10-14T06:30:17.371Z"
   },
   {
    "duration": 459,
    "start_time": "2021-10-14T06:31:20.651Z"
   },
   {
    "duration": 349,
    "start_time": "2021-10-14T06:31:35.431Z"
   },
   {
    "duration": 945,
    "start_time": "2021-10-14T06:31:48.726Z"
   },
   {
    "duration": 31,
    "start_time": "2021-10-14T06:31:49.674Z"
   },
   {
    "duration": 23,
    "start_time": "2021-10-14T06:31:49.708Z"
   },
   {
    "duration": 17,
    "start_time": "2021-10-14T06:31:49.734Z"
   },
   {
    "duration": 9,
    "start_time": "2021-10-14T06:31:49.754Z"
   },
   {
    "duration": 37,
    "start_time": "2021-10-14T06:31:49.766Z"
   },
   {
    "duration": 33,
    "start_time": "2021-10-14T06:31:49.806Z"
   },
   {
    "duration": 6,
    "start_time": "2021-10-14T06:31:49.843Z"
   },
   {
    "duration": 55,
    "start_time": "2021-10-14T06:31:49.852Z"
   },
   {
    "duration": 8,
    "start_time": "2021-10-14T06:31:49.910Z"
   },
   {
    "duration": 40,
    "start_time": "2021-10-14T06:31:49.921Z"
   },
   {
    "duration": 48,
    "start_time": "2021-10-14T06:31:49.963Z"
   },
   {
    "duration": 11,
    "start_time": "2021-10-14T06:31:50.013Z"
   },
   {
    "duration": 21,
    "start_time": "2021-10-14T06:31:50.026Z"
   },
   {
    "duration": 52,
    "start_time": "2021-10-14T06:31:50.050Z"
   },
   {
    "duration": 20,
    "start_time": "2021-10-14T06:31:50.104Z"
   },
   {
    "duration": 14,
    "start_time": "2021-10-14T06:31:50.126Z"
   },
   {
    "duration": 9,
    "start_time": "2021-10-14T06:31:50.142Z"
   },
   {
    "duration": 74,
    "start_time": "2021-10-14T06:31:50.153Z"
   },
   {
    "duration": 15,
    "start_time": "2021-10-14T06:31:50.229Z"
   },
   {
    "duration": 12,
    "start_time": "2021-10-14T06:31:50.247Z"
   },
   {
    "duration": 69,
    "start_time": "2021-10-14T06:31:50.262Z"
   },
   {
    "duration": 16,
    "start_time": "2021-10-14T06:31:50.335Z"
   },
   {
    "duration": 19,
    "start_time": "2021-10-14T06:31:50.355Z"
   },
   {
    "duration": 14,
    "start_time": "2021-10-14T06:31:50.401Z"
   },
   {
    "duration": 37,
    "start_time": "2021-10-14T06:31:50.417Z"
   },
   {
    "duration": 95,
    "start_time": "2021-10-14T06:31:50.457Z"
   },
   {
    "duration": 5,
    "start_time": "2021-10-14T06:31:50.554Z"
   },
   {
    "duration": 62,
    "start_time": "2021-10-14T06:31:50.561Z"
   },
   {
    "duration": 30,
    "start_time": "2021-10-14T06:31:50.625Z"
   },
   {
    "duration": 91,
    "start_time": "2021-10-14T06:31:50.657Z"
   },
   {
    "duration": 10,
    "start_time": "2021-10-14T06:31:50.751Z"
   },
   {
    "duration": 4,
    "start_time": "2021-10-14T06:31:50.764Z"
   },
   {
    "duration": 41,
    "start_time": "2021-10-14T06:31:50.770Z"
   },
   {
    "duration": 48,
    "start_time": "2021-10-14T06:31:50.813Z"
   },
   {
    "duration": 58,
    "start_time": "2021-10-14T06:31:50.865Z"
   },
   {
    "duration": 8,
    "start_time": "2021-10-14T06:31:50.926Z"
   },
   {
    "duration": 6,
    "start_time": "2021-10-14T06:31:50.937Z"
   },
   {
    "duration": 16,
    "start_time": "2021-10-14T06:31:50.946Z"
   },
   {
    "duration": 4,
    "start_time": "2021-10-14T06:31:50.964Z"
   },
   {
    "duration": 4,
    "start_time": "2021-10-14T06:31:51.002Z"
   },
   {
    "duration": 13,
    "start_time": "2021-10-14T06:31:51.009Z"
   },
   {
    "duration": 959,
    "start_time": "2021-10-14T06:31:51.024Z"
   },
   {
    "duration": 15,
    "start_time": "2021-10-14T06:31:51.986Z"
   },
   {
    "duration": 7,
    "start_time": "2021-10-14T06:31:52.003Z"
   },
   {
    "duration": 5,
    "start_time": "2021-10-14T06:31:52.012Z"
   },
   {
    "duration": 2081,
    "start_time": "2021-10-14T06:31:52.020Z"
   },
   {
    "duration": 12,
    "start_time": "2021-10-14T06:31:54.103Z"
   },
   {
    "duration": 46,
    "start_time": "2021-10-14T06:31:54.118Z"
   },
   {
    "duration": 280,
    "start_time": "2021-10-14T06:31:54.168Z"
   },
   {
    "duration": 69,
    "start_time": "2021-10-14T06:31:54.451Z"
   },
   {
    "duration": 45,
    "start_time": "2021-10-14T06:32:36.374Z"
   },
   {
    "duration": 14,
    "start_time": "2021-10-14T06:32:56.028Z"
   },
   {
    "duration": 14,
    "start_time": "2021-10-14T06:33:01.173Z"
   },
   {
    "duration": 13,
    "start_time": "2021-10-14T06:33:09.478Z"
   },
   {
    "duration": 8,
    "start_time": "2021-10-14T06:33:19.348Z"
   },
   {
    "duration": 13,
    "start_time": "2021-10-14T06:33:40.477Z"
   },
   {
    "duration": 14,
    "start_time": "2021-10-14T06:33:44.186Z"
   },
   {
    "duration": 47,
    "start_time": "2021-10-14T06:33:48.588Z"
   },
   {
    "duration": 46,
    "start_time": "2021-10-14T06:33:52.940Z"
   },
   {
    "duration": 25,
    "start_time": "2021-10-14T06:34:02.678Z"
   },
   {
    "duration": 26,
    "start_time": "2021-10-14T06:34:29.213Z"
   },
   {
    "duration": 46,
    "start_time": "2021-10-14T06:34:56.536Z"
   },
   {
    "duration": 47,
    "start_time": "2021-10-14T06:35:25.815Z"
   },
   {
    "duration": 265,
    "start_time": "2021-10-14T06:35:50.756Z"
   },
   {
    "duration": 66,
    "start_time": "2021-10-14T06:37:21.677Z"
   },
   {
    "duration": 455,
    "start_time": "2021-10-14T06:39:13.786Z"
   },
   {
    "duration": 63,
    "start_time": "2021-10-14T06:39:25.150Z"
   },
   {
    "duration": 306,
    "start_time": "2021-10-14T06:59:41.730Z"
   },
   {
    "duration": 71,
    "start_time": "2021-10-14T06:59:52.204Z"
   },
   {
    "duration": 44,
    "start_time": "2021-10-14T07:00:58.090Z"
   },
   {
    "duration": 46,
    "start_time": "2021-10-14T07:01:08.176Z"
   },
   {
    "duration": 10,
    "start_time": "2021-10-14T07:01:43.688Z"
   },
   {
    "duration": 13,
    "start_time": "2021-10-14T07:02:36.557Z"
   },
   {
    "duration": 7,
    "start_time": "2021-10-14T07:02:41.113Z"
   },
   {
    "duration": 14,
    "start_time": "2021-10-14T07:02:45.659Z"
   },
   {
    "duration": 935,
    "start_time": "2021-10-14T07:02:56.139Z"
   },
   {
    "duration": 29,
    "start_time": "2021-10-14T07:02:57.076Z"
   },
   {
    "duration": 20,
    "start_time": "2021-10-14T07:02:57.110Z"
   },
   {
    "duration": 17,
    "start_time": "2021-10-14T07:02:57.134Z"
   },
   {
    "duration": 52,
    "start_time": "2021-10-14T07:02:57.154Z"
   },
   {
    "duration": 12,
    "start_time": "2021-10-14T07:02:57.209Z"
   },
   {
    "duration": 12,
    "start_time": "2021-10-14T07:02:57.224Z"
   },
   {
    "duration": 68,
    "start_time": "2021-10-14T07:02:57.241Z"
   },
   {
    "duration": 7,
    "start_time": "2021-10-14T07:02:57.313Z"
   },
   {
    "duration": 21,
    "start_time": "2021-10-14T07:02:57.323Z"
   },
   {
    "duration": 9,
    "start_time": "2021-10-14T07:02:57.347Z"
   },
   {
    "duration": 76,
    "start_time": "2021-10-14T07:02:57.359Z"
   },
   {
    "duration": 17,
    "start_time": "2021-10-14T07:02:57.438Z"
   },
   {
    "duration": 47,
    "start_time": "2021-10-14T07:02:57.458Z"
   },
   {
    "duration": 22,
    "start_time": "2021-10-14T07:02:57.508Z"
   },
   {
    "duration": 8,
    "start_time": "2021-10-14T07:02:57.533Z"
   },
   {
    "duration": 63,
    "start_time": "2021-10-14T07:02:57.543Z"
   },
   {
    "duration": 18,
    "start_time": "2021-10-14T07:02:57.609Z"
   },
   {
    "duration": 11,
    "start_time": "2021-10-14T07:02:57.630Z"
   },
   {
    "duration": 66,
    "start_time": "2021-10-14T07:02:57.644Z"
   },
   {
    "duration": 15,
    "start_time": "2021-10-14T07:02:57.713Z"
   },
   {
    "duration": 14,
    "start_time": "2021-10-14T07:02:57.731Z"
   },
   {
    "duration": 80,
    "start_time": "2021-10-14T07:02:57.752Z"
   },
   {
    "duration": 16,
    "start_time": "2021-10-14T07:02:57.835Z"
   },
   {
    "duration": 48,
    "start_time": "2021-10-14T07:02:57.854Z"
   },
   {
    "duration": 17,
    "start_time": "2021-10-14T07:02:57.904Z"
   },
   {
    "duration": 46,
    "start_time": "2021-10-14T07:02:57.923Z"
   },
   {
    "duration": 89,
    "start_time": "2021-10-14T07:02:57.972Z"
   },
   {
    "duration": 6,
    "start_time": "2021-10-14T07:02:58.063Z"
   },
   {
    "duration": 64,
    "start_time": "2021-10-14T07:02:58.071Z"
   },
   {
    "duration": 30,
    "start_time": "2021-10-14T07:02:58.137Z"
   },
   {
    "duration": 85,
    "start_time": "2021-10-14T07:02:58.170Z"
   },
   {
    "duration": 13,
    "start_time": "2021-10-14T07:02:58.257Z"
   },
   {
    "duration": 27,
    "start_time": "2021-10-14T07:02:58.273Z"
   },
   {
    "duration": 24,
    "start_time": "2021-10-14T07:02:58.304Z"
   },
   {
    "duration": 43,
    "start_time": "2021-10-14T07:02:58.331Z"
   },
   {
    "duration": 57,
    "start_time": "2021-10-14T07:02:58.376Z"
   },
   {
    "duration": 6,
    "start_time": "2021-10-14T07:02:58.436Z"
   },
   {
    "duration": 7,
    "start_time": "2021-10-14T07:02:58.445Z"
   },
   {
    "duration": 47,
    "start_time": "2021-10-14T07:02:58.454Z"
   },
   {
    "duration": 9,
    "start_time": "2021-10-14T07:02:58.504Z"
   },
   {
    "duration": 8,
    "start_time": "2021-10-14T07:02:58.516Z"
   },
   {
    "duration": 10,
    "start_time": "2021-10-14T07:02:58.527Z"
   },
   {
    "duration": 975,
    "start_time": "2021-10-14T07:02:58.540Z"
   },
   {
    "duration": 6,
    "start_time": "2021-10-14T07:02:59.518Z"
   },
   {
    "duration": 17,
    "start_time": "2021-10-14T07:02:59.527Z"
   },
   {
    "duration": 19,
    "start_time": "2021-10-14T07:02:59.546Z"
   },
   {
    "duration": 2081,
    "start_time": "2021-10-14T07:02:59.568Z"
   },
   {
    "duration": -689,
    "start_time": "2021-10-14T07:03:02.341Z"
   },
   {
    "duration": -694,
    "start_time": "2021-10-14T07:03:02.348Z"
   },
   {
    "duration": -698,
    "start_time": "2021-10-14T07:03:02.353Z"
   },
   {
    "duration": -700,
    "start_time": "2021-10-14T07:03:02.357Z"
   },
   {
    "duration": -701,
    "start_time": "2021-10-14T07:03:02.360Z"
   },
   {
    "duration": 2029,
    "start_time": "2021-10-14T07:03:50.079Z"
   },
   {
    "duration": 8975,
    "start_time": "2021-10-14T07:04:11.425Z"
   },
   {
    "duration": 42,
    "start_time": "2021-10-14T07:04:20.479Z"
   },
   {
    "duration": 12,
    "start_time": "2021-10-14T07:04:31.437Z"
   },
   {
    "duration": 45,
    "start_time": "2021-10-14T07:05:15.162Z"
   },
   {
    "duration": 48,
    "start_time": "2021-10-14T07:05:24.401Z"
   },
   {
    "duration": 10,
    "start_time": "2021-10-14T07:06:05.884Z"
   },
   {
    "duration": 12,
    "start_time": "2021-10-14T07:06:19.566Z"
   },
   {
    "duration": 42,
    "start_time": "2021-10-14T07:06:34.059Z"
   },
   {
    "duration": 10,
    "start_time": "2021-10-14T07:06:54.831Z"
   },
   {
    "duration": 35,
    "start_time": "2021-10-14T07:07:17.439Z"
   },
   {
    "duration": 30,
    "start_time": "2021-10-14T07:07:18.908Z"
   },
   {
    "duration": 42,
    "start_time": "2021-10-14T07:07:28.300Z"
   },
   {
    "duration": 30,
    "start_time": "2021-10-14T07:07:46.713Z"
   },
   {
    "duration": 45,
    "start_time": "2021-10-14T07:07:53.097Z"
   },
   {
    "duration": 29,
    "start_time": "2021-10-14T07:08:25.043Z"
   },
   {
    "duration": 47,
    "start_time": "2021-10-14T07:08:31.008Z"
   },
   {
    "duration": 47,
    "start_time": "2021-10-14T07:09:21.460Z"
   },
   {
    "duration": 49,
    "start_time": "2021-10-14T07:09:38.350Z"
   },
   {
    "duration": 47,
    "start_time": "2021-10-14T07:10:04.407Z"
   },
   {
    "duration": 47,
    "start_time": "2021-10-14T07:10:11.975Z"
   },
   {
    "duration": 920,
    "start_time": "2021-10-14T07:10:21.878Z"
   },
   {
    "duration": 16,
    "start_time": "2021-10-14T07:10:22.800Z"
   },
   {
    "duration": 18,
    "start_time": "2021-10-14T07:10:22.819Z"
   },
   {
    "duration": 16,
    "start_time": "2021-10-14T07:10:22.840Z"
   },
   {
    "duration": 43,
    "start_time": "2021-10-14T07:10:22.859Z"
   },
   {
    "duration": 37,
    "start_time": "2021-10-14T07:10:22.905Z"
   },
   {
    "duration": 6,
    "start_time": "2021-10-14T07:10:22.945Z"
   },
   {
    "duration": 70,
    "start_time": "2021-10-14T07:10:22.954Z"
   },
   {
    "duration": 6,
    "start_time": "2021-10-14T07:10:23.027Z"
   },
   {
    "duration": 19,
    "start_time": "2021-10-14T07:10:23.036Z"
   },
   {
    "duration": 9,
    "start_time": "2021-10-14T07:10:23.058Z"
   },
   {
    "duration": 41,
    "start_time": "2021-10-14T07:10:23.101Z"
   },
   {
    "duration": 15,
    "start_time": "2021-10-14T07:10:23.144Z"
   },
   {
    "duration": 42,
    "start_time": "2021-10-14T07:10:23.161Z"
   },
   {
    "duration": 20,
    "start_time": "2021-10-14T07:10:23.205Z"
   },
   {
    "duration": 8,
    "start_time": "2021-10-14T07:10:23.228Z"
   },
   {
    "duration": 22,
    "start_time": "2021-10-14T07:10:23.238Z"
   },
   {
    "duration": 51,
    "start_time": "2021-10-14T07:10:23.262Z"
   },
   {
    "duration": 11,
    "start_time": "2021-10-14T07:10:23.315Z"
   },
   {
    "duration": 38,
    "start_time": "2021-10-14T07:10:23.328Z"
   },
   {
    "duration": 39,
    "start_time": "2021-10-14T07:10:23.368Z"
   },
   {
    "duration": 11,
    "start_time": "2021-10-14T07:10:23.410Z"
   },
   {
    "duration": 71,
    "start_time": "2021-10-14T07:10:23.429Z"
   },
   {
    "duration": 18,
    "start_time": "2021-10-14T07:10:23.504Z"
   },
   {
    "duration": 23,
    "start_time": "2021-10-14T07:10:23.525Z"
   },
   {
    "duration": 55,
    "start_time": "2021-10-14T07:10:23.551Z"
   },
   {
    "duration": 42,
    "start_time": "2021-10-14T07:10:23.609Z"
   },
   {
    "duration": 97,
    "start_time": "2021-10-14T07:10:23.655Z"
   },
   {
    "duration": 6,
    "start_time": "2021-10-14T07:10:23.755Z"
   },
   {
    "duration": 63,
    "start_time": "2021-10-14T07:10:23.764Z"
   },
   {
    "duration": 34,
    "start_time": "2021-10-14T07:10:23.830Z"
   },
   {
    "duration": 93,
    "start_time": "2021-10-14T07:10:23.868Z"
   },
   {
    "duration": 12,
    "start_time": "2021-10-14T07:10:23.964Z"
   },
   {
    "duration": 5,
    "start_time": "2021-10-14T07:10:24.003Z"
   },
   {
    "duration": 19,
    "start_time": "2021-10-14T07:10:24.011Z"
   },
   {
    "duration": 67,
    "start_time": "2021-10-14T07:10:24.033Z"
   },
   {
    "duration": 35,
    "start_time": "2021-10-14T07:10:24.103Z"
   },
   {
    "duration": 6,
    "start_time": "2021-10-14T07:10:24.140Z"
   },
   {
    "duration": 6,
    "start_time": "2021-10-14T07:10:24.148Z"
   },
   {
    "duration": 19,
    "start_time": "2021-10-14T07:10:24.156Z"
   },
   {
    "duration": 3,
    "start_time": "2021-10-14T07:10:24.201Z"
   },
   {
    "duration": 8,
    "start_time": "2021-10-14T07:10:24.207Z"
   },
   {
    "duration": 15,
    "start_time": "2021-10-14T07:10:24.217Z"
   },
   {
    "duration": 1061,
    "start_time": "2021-10-14T07:10:24.235Z"
   },
   {
    "duration": 6,
    "start_time": "2021-10-14T07:10:25.301Z"
   },
   {
    "duration": 9,
    "start_time": "2021-10-14T07:10:25.309Z"
   },
   {
    "duration": 6,
    "start_time": "2021-10-14T07:10:25.320Z"
   },
   {
    "duration": 1859,
    "start_time": "2021-10-14T07:10:25.329Z"
   },
   {
    "duration": -713,
    "start_time": "2021-10-14T07:10:27.903Z"
   },
   {
    "duration": -719,
    "start_time": "2021-10-14T07:10:27.910Z"
   },
   {
    "duration": -723,
    "start_time": "2021-10-14T07:10:27.916Z"
   },
   {
    "duration": -727,
    "start_time": "2021-10-14T07:10:27.921Z"
   },
   {
    "duration": -729,
    "start_time": "2021-10-14T07:10:27.925Z"
   },
   {
    "duration": 46,
    "start_time": "2021-10-14T07:10:52.859Z"
   },
   {
    "duration": 46,
    "start_time": "2021-10-14T07:11:34.988Z"
   },
   {
    "duration": 46,
    "start_time": "2021-10-14T07:11:40.484Z"
   },
   {
    "duration": 28,
    "start_time": "2021-10-14T07:11:59.722Z"
   },
   {
    "duration": 45,
    "start_time": "2021-10-14T07:12:04.997Z"
   },
   {
    "duration": 873,
    "start_time": "2021-10-14T07:12:15.233Z"
   },
   {
    "duration": 17,
    "start_time": "2021-10-14T07:12:16.110Z"
   },
   {
    "duration": 21,
    "start_time": "2021-10-14T07:12:16.131Z"
   },
   {
    "duration": 46,
    "start_time": "2021-10-14T07:12:16.156Z"
   },
   {
    "duration": 13,
    "start_time": "2021-10-14T07:12:16.206Z"
   },
   {
    "duration": 44,
    "start_time": "2021-10-14T07:12:16.223Z"
   },
   {
    "duration": 30,
    "start_time": "2021-10-14T07:12:16.270Z"
   },
   {
    "duration": 25,
    "start_time": "2021-10-14T07:12:16.304Z"
   },
   {
    "duration": 8,
    "start_time": "2021-10-14T07:12:16.333Z"
   },
   {
    "duration": 65,
    "start_time": "2021-10-14T07:12:16.344Z"
   },
   {
    "duration": 8,
    "start_time": "2021-10-14T07:12:16.412Z"
   },
   {
    "duration": 39,
    "start_time": "2021-10-14T07:12:16.423Z"
   },
   {
    "duration": 37,
    "start_time": "2021-10-14T07:12:16.465Z"
   },
   {
    "duration": 11,
    "start_time": "2021-10-14T07:12:16.505Z"
   },
   {
    "duration": 20,
    "start_time": "2021-10-14T07:12:16.520Z"
   },
   {
    "duration": 7,
    "start_time": "2021-10-14T07:12:16.542Z"
   },
   {
    "duration": 64,
    "start_time": "2021-10-14T07:12:16.552Z"
   },
   {
    "duration": 11,
    "start_time": "2021-10-14T07:12:16.619Z"
   },
   {
    "duration": 9,
    "start_time": "2021-10-14T07:12:16.632Z"
   },
   {
    "duration": 77,
    "start_time": "2021-10-14T07:12:16.643Z"
   },
   {
    "duration": 13,
    "start_time": "2021-10-14T07:12:16.722Z"
   },
   {
    "duration": 11,
    "start_time": "2021-10-14T07:12:16.737Z"
   },
   {
    "duration": 72,
    "start_time": "2021-10-14T07:12:16.754Z"
   },
   {
    "duration": 14,
    "start_time": "2021-10-14T07:12:16.830Z"
   },
   {
    "duration": 20,
    "start_time": "2021-10-14T07:12:16.847Z"
   },
   {
    "duration": 17,
    "start_time": "2021-10-14T07:12:16.901Z"
   },
   {
    "duration": 43,
    "start_time": "2021-10-14T07:12:16.921Z"
   },
   {
    "duration": 96,
    "start_time": "2021-10-14T07:12:16.967Z"
   },
   {
    "duration": 6,
    "start_time": "2021-10-14T07:12:17.066Z"
   },
   {
    "duration": 47,
    "start_time": "2021-10-14T07:12:17.102Z"
   },
   {
    "duration": 50,
    "start_time": "2021-10-14T07:12:17.151Z"
   },
   {
    "duration": 66,
    "start_time": "2021-10-14T07:12:17.203Z"
   },
   {
    "duration": 32,
    "start_time": "2021-10-14T07:12:17.272Z"
   },
   {
    "duration": 5,
    "start_time": "2021-10-14T07:12:17.307Z"
   },
   {
    "duration": 28,
    "start_time": "2021-10-14T07:12:17.314Z"
   },
   {
    "duration": 58,
    "start_time": "2021-10-14T07:12:17.344Z"
   },
   {
    "duration": 33,
    "start_time": "2021-10-14T07:12:17.404Z"
   },
   {
    "duration": 6,
    "start_time": "2021-10-14T07:12:17.440Z"
   },
   {
    "duration": 15,
    "start_time": "2021-10-14T07:12:17.449Z"
   },
   {
    "duration": 33,
    "start_time": "2021-10-14T07:12:17.467Z"
   },
   {
    "duration": 17,
    "start_time": "2021-10-14T07:12:17.503Z"
   },
   {
    "duration": 24,
    "start_time": "2021-10-14T07:12:17.523Z"
   },
   {
    "duration": 19,
    "start_time": "2021-10-14T07:12:17.550Z"
   },
   {
    "duration": 971,
    "start_time": "2021-10-14T07:12:17.572Z"
   },
   {
    "duration": 7,
    "start_time": "2021-10-14T07:12:18.547Z"
   },
   {
    "duration": 11,
    "start_time": "2021-10-14T07:12:18.557Z"
   },
   {
    "duration": 31,
    "start_time": "2021-10-14T07:12:18.570Z"
   },
   {
    "duration": 1686,
    "start_time": "2021-10-14T07:12:18.604Z"
   },
   {
    "duration": -715,
    "start_time": "2021-10-14T07:12:21.008Z"
   },
   {
    "duration": -718,
    "start_time": "2021-10-14T07:12:21.013Z"
   },
   {
    "duration": -721,
    "start_time": "2021-10-14T07:12:21.017Z"
   },
   {
    "duration": -724,
    "start_time": "2021-10-14T07:12:21.021Z"
   },
   {
    "duration": -728,
    "start_time": "2021-10-14T07:12:21.027Z"
   },
   {
    "duration": 47,
    "start_time": "2021-10-14T07:12:56.151Z"
   },
   {
    "duration": 32,
    "start_time": "2021-10-14T07:13:37.989Z"
   },
   {
    "duration": 32,
    "start_time": "2021-10-14T07:13:44.999Z"
   },
   {
    "duration": 43,
    "start_time": "2021-10-14T07:13:54.801Z"
   },
   {
    "duration": 884,
    "start_time": "2021-10-14T07:14:08.016Z"
   },
   {
    "duration": 15,
    "start_time": "2021-10-14T07:14:08.903Z"
   },
   {
    "duration": 19,
    "start_time": "2021-10-14T07:14:08.921Z"
   },
   {
    "duration": 23,
    "start_time": "2021-10-14T07:14:08.944Z"
   },
   {
    "duration": 39,
    "start_time": "2021-10-14T07:14:08.970Z"
   },
   {
    "duration": 38,
    "start_time": "2021-10-14T07:14:09.012Z"
   },
   {
    "duration": 6,
    "start_time": "2021-10-14T07:14:09.053Z"
   },
   {
    "duration": 57,
    "start_time": "2021-10-14T07:14:09.062Z"
   },
   {
    "duration": 6,
    "start_time": "2021-10-14T07:14:09.122Z"
   },
   {
    "duration": 19,
    "start_time": "2021-10-14T07:14:09.130Z"
   },
   {
    "duration": 10,
    "start_time": "2021-10-14T07:14:09.151Z"
   },
   {
    "duration": 71,
    "start_time": "2021-10-14T07:14:09.163Z"
   },
   {
    "duration": 13,
    "start_time": "2021-10-14T07:14:09.237Z"
   },
   {
    "duration": 10,
    "start_time": "2021-10-14T07:14:09.253Z"
   },
   {
    "duration": 52,
    "start_time": "2021-10-14T07:14:09.266Z"
   },
   {
    "duration": 5,
    "start_time": "2021-10-14T07:14:09.321Z"
   },
   {
    "duration": 20,
    "start_time": "2021-10-14T07:14:09.328Z"
   },
   {
    "duration": 12,
    "start_time": "2021-10-14T07:14:09.351Z"
   },
   {
    "duration": 44,
    "start_time": "2021-10-14T07:14:09.365Z"
   },
   {
    "duration": 41,
    "start_time": "2021-10-14T07:14:09.411Z"
   },
   {
    "duration": 13,
    "start_time": "2021-10-14T07:14:09.455Z"
   },
   {
    "duration": 40,
    "start_time": "2021-10-14T07:14:09.471Z"
   },
   {
    "duration": 39,
    "start_time": "2021-10-14T07:14:09.517Z"
   },
   {
    "duration": 44,
    "start_time": "2021-10-14T07:14:09.559Z"
   },
   {
    "duration": 21,
    "start_time": "2021-10-14T07:14:09.605Z"
   },
   {
    "duration": 17,
    "start_time": "2021-10-14T07:14:09.628Z"
   },
   {
    "duration": 67,
    "start_time": "2021-10-14T07:14:09.647Z"
   },
   {
    "duration": 64,
    "start_time": "2021-10-14T07:14:09.716Z"
   },
   {
    "duration": 21,
    "start_time": "2021-10-14T07:14:09.783Z"
   },
   {
    "duration": 42,
    "start_time": "2021-10-14T07:14:09.807Z"
   },
   {
    "duration": 58,
    "start_time": "2021-10-14T07:14:09.851Z"
   },
   {
    "duration": 69,
    "start_time": "2021-10-14T07:14:09.911Z"
   },
   {
    "duration": 27,
    "start_time": "2021-10-14T07:14:09.983Z"
   },
   {
    "duration": 7,
    "start_time": "2021-10-14T07:14:10.013Z"
   },
   {
    "duration": 20,
    "start_time": "2021-10-14T07:14:10.022Z"
   },
   {
    "duration": 69,
    "start_time": "2021-10-14T07:14:10.045Z"
   },
   {
    "duration": 37,
    "start_time": "2021-10-14T07:14:10.116Z"
   },
   {
    "duration": 8,
    "start_time": "2021-10-14T07:14:10.155Z"
   },
   {
    "duration": 5,
    "start_time": "2021-10-14T07:14:10.165Z"
   },
   {
    "duration": 7,
    "start_time": "2021-10-14T07:14:10.200Z"
   },
   {
    "duration": 4,
    "start_time": "2021-10-14T07:14:10.209Z"
   },
   {
    "duration": 8,
    "start_time": "2021-10-14T07:14:10.215Z"
   },
   {
    "duration": 9,
    "start_time": "2021-10-14T07:14:10.225Z"
   },
   {
    "duration": 995,
    "start_time": "2021-10-14T07:14:10.236Z"
   },
   {
    "duration": 7,
    "start_time": "2021-10-14T07:14:11.234Z"
   },
   {
    "duration": 16,
    "start_time": "2021-10-14T07:14:11.245Z"
   },
   {
    "duration": 8,
    "start_time": "2021-10-14T07:14:11.263Z"
   },
   {
    "duration": 1689,
    "start_time": "2021-10-14T07:14:11.302Z"
   },
   {
    "duration": -890,
    "start_time": "2021-10-14T07:14:13.885Z"
   },
   {
    "duration": -964,
    "start_time": "2021-10-14T07:14:13.961Z"
   },
   {
    "duration": -986,
    "start_time": "2021-10-14T07:14:13.985Z"
   },
   {
    "duration": -998,
    "start_time": "2021-10-14T07:14:13.999Z"
   },
   {
    "duration": -1008,
    "start_time": "2021-10-14T07:14:14.012Z"
   },
   {
    "duration": 47,
    "start_time": "2021-10-14T07:14:29.834Z"
   },
   {
    "duration": 14,
    "start_time": "2021-10-14T07:14:50.740Z"
   },
   {
    "duration": 883,
    "start_time": "2021-10-14T07:15:29.337Z"
   },
   {
    "duration": 16,
    "start_time": "2021-10-14T07:15:30.223Z"
   },
   {
    "duration": 28,
    "start_time": "2021-10-14T07:15:30.243Z"
   },
   {
    "duration": 38,
    "start_time": "2021-10-14T07:15:30.274Z"
   },
   {
    "duration": 18,
    "start_time": "2021-10-14T07:15:30.315Z"
   },
   {
    "duration": 50,
    "start_time": "2021-10-14T07:15:30.335Z"
   },
   {
    "duration": 21,
    "start_time": "2021-10-14T07:15:30.388Z"
   },
   {
    "duration": 12,
    "start_time": "2021-10-14T07:15:30.413Z"
   },
   {
    "duration": 20,
    "start_time": "2021-10-14T07:15:30.428Z"
   },
   {
    "duration": 22,
    "start_time": "2021-10-14T07:15:30.451Z"
   },
   {
    "duration": 49,
    "start_time": "2021-10-14T07:15:30.476Z"
   },
   {
    "duration": 15,
    "start_time": "2021-10-14T07:15:30.528Z"
   },
   {
    "duration": 14,
    "start_time": "2021-10-14T07:15:30.546Z"
   },
   {
    "duration": 55,
    "start_time": "2021-10-14T07:15:30.562Z"
   },
   {
    "duration": 28,
    "start_time": "2021-10-14T07:15:30.620Z"
   },
   {
    "duration": 27,
    "start_time": "2021-10-14T07:15:30.651Z"
   },
   {
    "duration": 24,
    "start_time": "2021-10-14T07:15:30.680Z"
   },
   {
    "duration": 14,
    "start_time": "2021-10-14T07:15:30.707Z"
   },
   {
    "duration": 63,
    "start_time": "2021-10-14T07:15:30.724Z"
   },
   {
    "duration": 18,
    "start_time": "2021-10-14T07:15:30.789Z"
   },
   {
    "duration": 12,
    "start_time": "2021-10-14T07:15:30.810Z"
   },
   {
    "duration": 37,
    "start_time": "2021-10-14T07:15:30.825Z"
   },
   {
    "duration": 41,
    "start_time": "2021-10-14T07:15:30.868Z"
   },
   {
    "duration": 22,
    "start_time": "2021-10-14T07:15:30.912Z"
   },
   {
    "duration": 14,
    "start_time": "2021-10-14T07:15:30.937Z"
   },
   {
    "duration": 72,
    "start_time": "2021-10-14T07:15:30.954Z"
   },
   {
    "duration": 77,
    "start_time": "2021-10-14T07:15:31.028Z"
   },
   {
    "duration": 5,
    "start_time": "2021-10-14T07:15:31.107Z"
   },
   {
    "duration": 51,
    "start_time": "2021-10-14T07:15:31.114Z"
   },
   {
    "duration": 51,
    "start_time": "2021-10-14T07:15:31.167Z"
   },
   {
    "duration": 62,
    "start_time": "2021-10-14T07:15:31.220Z"
   },
   {
    "duration": 11,
    "start_time": "2021-10-14T07:15:31.300Z"
   },
   {
    "duration": 5,
    "start_time": "2021-10-14T07:15:31.313Z"
   },
   {
    "duration": 28,
    "start_time": "2021-10-14T07:15:31.320Z"
   },
   {
    "duration": 62,
    "start_time": "2021-10-14T07:15:31.350Z"
   },
   {
    "duration": 35,
    "start_time": "2021-10-14T07:15:31.415Z"
   },
   {
    "duration": 8,
    "start_time": "2021-10-14T07:15:31.452Z"
   },
   {
    "duration": 38,
    "start_time": "2021-10-14T07:15:31.463Z"
   },
   {
    "duration": 7,
    "start_time": "2021-10-14T07:15:31.504Z"
   },
   {
    "duration": 12,
    "start_time": "2021-10-14T07:15:31.514Z"
   },
   {
    "duration": 10,
    "start_time": "2021-10-14T07:15:31.529Z"
   },
   {
    "duration": 11,
    "start_time": "2021-10-14T07:15:31.542Z"
   },
   {
    "duration": 969,
    "start_time": "2021-10-14T07:15:31.556Z"
   },
   {
    "duration": 6,
    "start_time": "2021-10-14T07:15:32.528Z"
   },
   {
    "duration": 13,
    "start_time": "2021-10-14T07:15:32.536Z"
   },
   {
    "duration": 6,
    "start_time": "2021-10-14T07:15:32.552Z"
   },
   {
    "duration": 2140,
    "start_time": "2021-10-14T07:15:32.560Z"
   },
   {
    "duration": 12,
    "start_time": "2021-10-14T07:15:34.703Z"
   },
   {
    "duration": 45,
    "start_time": "2021-10-14T07:15:34.719Z"
   },
   {
    "duration": 43,
    "start_time": "2021-10-14T07:15:34.766Z"
   },
   {
    "duration": 90,
    "start_time": "2021-10-14T07:15:34.812Z"
   },
   {
    "duration": 60,
    "start_time": "2021-10-14T07:15:34.904Z"
   },
   {
    "duration": 256,
    "start_time": "2021-10-14T07:16:22.875Z"
   },
   {
    "duration": 61,
    "start_time": "2021-10-14T07:16:42.831Z"
   },
   {
    "duration": 71,
    "start_time": "2021-10-14T07:17:06.366Z"
   },
   {
    "duration": 416,
    "start_time": "2021-10-14T07:17:12.892Z"
   },
   {
    "duration": 71,
    "start_time": "2021-10-14T07:17:23.238Z"
   },
   {
    "duration": 61,
    "start_time": "2021-10-14T07:17:32.620Z"
   },
   {
    "duration": 7946,
    "start_time": "2021-10-14T07:25:39.167Z"
   },
   {
    "duration": 17,
    "start_time": "2021-10-14T07:25:59.935Z"
   },
   {
    "duration": 13,
    "start_time": "2021-10-14T08:00:43.414Z"
   },
   {
    "duration": 13,
    "start_time": "2021-10-14T08:02:49.250Z"
   },
   {
    "duration": 14,
    "start_time": "2021-10-14T08:03:40.174Z"
   },
   {
    "duration": 14,
    "start_time": "2021-10-14T08:04:43.735Z"
   },
   {
    "duration": 9,
    "start_time": "2021-10-14T08:05:31.647Z"
   },
   {
    "duration": 13,
    "start_time": "2021-10-14T08:05:43.223Z"
   },
   {
    "duration": 9,
    "start_time": "2021-10-14T08:05:51.784Z"
   },
   {
    "duration": 67,
    "start_time": "2021-10-14T08:13:42.689Z"
   },
   {
    "duration": 63,
    "start_time": "2021-10-14T08:14:02.261Z"
   },
   {
    "duration": 60,
    "start_time": "2021-10-14T08:14:12.697Z"
   },
   {
    "duration": 57,
    "start_time": "2021-10-14T08:14:32.030Z"
   },
   {
    "duration": 13,
    "start_time": "2021-10-14T08:16:02.910Z"
   },
   {
    "duration": 16,
    "start_time": "2021-10-14T08:16:07.258Z"
   },
   {
    "duration": 11,
    "start_time": "2021-10-14T08:43:17.077Z"
   },
   {
    "duration": 11,
    "start_time": "2021-10-14T08:43:27.975Z"
   },
   {
    "duration": 11,
    "start_time": "2021-10-14T08:43:43.389Z"
   },
   {
    "duration": 11,
    "start_time": "2021-10-14T08:43:54.207Z"
   },
   {
    "duration": 94,
    "start_time": "2021-10-14T08:45:15.681Z"
   },
   {
    "duration": 313,
    "start_time": "2021-10-14T08:45:45.420Z"
   },
   {
    "duration": 337,
    "start_time": "2021-10-14T08:45:56.582Z"
   },
   {
    "duration": 1215,
    "start_time": "2021-10-14T08:46:26.767Z"
   },
   {
    "duration": 1214,
    "start_time": "2021-10-14T08:46:33.094Z"
   },
   {
    "duration": 1268,
    "start_time": "2021-10-14T08:46:51.135Z"
   },
   {
    "duration": 1284,
    "start_time": "2021-10-14T08:47:03.950Z"
   },
   {
    "duration": 11,
    "start_time": "2021-10-14T08:47:24.195Z"
   },
   {
    "duration": 10,
    "start_time": "2021-10-14T08:47:31.769Z"
   },
   {
    "duration": 8,
    "start_time": "2021-10-14T08:47:44.321Z"
   },
   {
    "duration": 11,
    "start_time": "2021-10-14T08:47:55.618Z"
   },
   {
    "duration": 10,
    "start_time": "2021-10-14T08:48:21.412Z"
   },
   {
    "duration": 344,
    "start_time": "2021-10-14T08:48:33.233Z"
   },
   {
    "duration": 10,
    "start_time": "2021-10-14T08:48:39.470Z"
   },
   {
    "duration": 12,
    "start_time": "2021-10-14T08:48:59.669Z"
   },
   {
    "duration": 7627,
    "start_time": "2021-10-14T08:49:25.962Z"
   },
   {
    "duration": 8223,
    "start_time": "2021-10-14T08:49:38.379Z"
   },
   {
    "duration": 4010,
    "start_time": "2021-10-14T08:50:07.510Z"
   },
   {
    "duration": 351,
    "start_time": "2021-10-14T08:50:33.514Z"
   },
   {
    "duration": 11,
    "start_time": "2021-10-14T08:50:42.829Z"
   },
   {
    "duration": 6,
    "start_time": "2021-10-14T08:51:07.556Z"
   },
   {
    "duration": 6,
    "start_time": "2021-10-14T08:51:14.250Z"
   },
   {
    "duration": 8,
    "start_time": "2021-10-14T08:51:17.885Z"
   },
   {
    "duration": 313,
    "start_time": "2021-10-14T08:51:30.363Z"
   },
   {
    "duration": 6,
    "start_time": "2021-10-14T08:52:27.741Z"
   },
   {
    "duration": 920,
    "start_time": "2021-10-14T08:52:50.298Z"
   },
   {
    "duration": 15,
    "start_time": "2021-10-14T08:52:51.221Z"
   },
   {
    "duration": 27,
    "start_time": "2021-10-14T08:52:51.240Z"
   },
   {
    "duration": 37,
    "start_time": "2021-10-14T08:52:51.270Z"
   },
   {
    "duration": 10,
    "start_time": "2021-10-14T08:52:51.309Z"
   },
   {
    "duration": 28,
    "start_time": "2021-10-14T08:52:51.321Z"
   },
   {
    "duration": 24,
    "start_time": "2021-10-14T08:52:51.351Z"
   },
   {
    "duration": 13,
    "start_time": "2021-10-14T08:52:51.378Z"
   },
   {
    "duration": 43,
    "start_time": "2021-10-14T08:52:51.401Z"
   },
   {
    "duration": 12,
    "start_time": "2021-10-14T08:52:51.447Z"
   },
   {
    "duration": 53,
    "start_time": "2021-10-14T08:52:51.461Z"
   },
   {
    "duration": 14,
    "start_time": "2021-10-14T08:52:51.517Z"
   },
   {
    "duration": 12,
    "start_time": "2021-10-14T08:52:51.533Z"
   },
   {
    "duration": 55,
    "start_time": "2021-10-14T08:52:51.547Z"
   },
   {
    "duration": 6,
    "start_time": "2021-10-14T08:52:51.604Z"
   },
   {
    "duration": 21,
    "start_time": "2021-10-14T08:52:51.612Z"
   },
   {
    "duration": 22,
    "start_time": "2021-10-14T08:52:51.635Z"
   },
   {
    "duration": 9,
    "start_time": "2021-10-14T08:52:51.660Z"
   },
   {
    "duration": 66,
    "start_time": "2021-10-14T08:52:51.672Z"
   },
   {
    "duration": 13,
    "start_time": "2021-10-14T08:52:51.740Z"
   },
   {
    "duration": 12,
    "start_time": "2021-10-14T08:52:51.755Z"
   },
   {
    "duration": 64,
    "start_time": "2021-10-14T08:52:51.769Z"
   },
   {
    "duration": 16,
    "start_time": "2021-10-14T08:52:51.838Z"
   },
   {
    "duration": 45,
    "start_time": "2021-10-14T08:52:51.857Z"
   },
   {
    "duration": 18,
    "start_time": "2021-10-14T08:52:51.904Z"
   },
   {
    "duration": 41,
    "start_time": "2021-10-14T08:52:51.924Z"
   },
   {
    "duration": 90,
    "start_time": "2021-10-14T08:52:51.967Z"
   },
   {
    "duration": 5,
    "start_time": "2021-10-14T08:52:52.060Z"
   },
   {
    "duration": 65,
    "start_time": "2021-10-14T08:52:52.067Z"
   },
   {
    "duration": 32,
    "start_time": "2021-10-14T08:52:52.134Z"
   },
   {
    "duration": 87,
    "start_time": "2021-10-14T08:52:52.168Z"
   },
   {
    "duration": 11,
    "start_time": "2021-10-14T08:52:52.257Z"
   },
   {
    "duration": 5,
    "start_time": "2021-10-14T08:52:52.270Z"
   },
   {
    "duration": 36,
    "start_time": "2021-10-14T08:52:52.278Z"
   },
   {
    "duration": 53,
    "start_time": "2021-10-14T08:52:52.316Z"
   },
   {
    "duration": 54,
    "start_time": "2021-10-14T08:52:52.371Z"
   },
   {
    "duration": 6,
    "start_time": "2021-10-14T08:52:52.428Z"
   },
   {
    "duration": 14,
    "start_time": "2021-10-14T08:52:52.436Z"
   },
   {
    "duration": 15,
    "start_time": "2021-10-14T08:52:52.453Z"
   },
   {
    "duration": 12,
    "start_time": "2021-10-14T08:52:52.470Z"
   },
   {
    "duration": 11,
    "start_time": "2021-10-14T08:52:52.484Z"
   },
   {
    "duration": 6,
    "start_time": "2021-10-14T08:52:52.502Z"
   },
   {
    "duration": 966,
    "start_time": "2021-10-14T08:52:52.510Z"
   },
   {
    "duration": 6,
    "start_time": "2021-10-14T08:52:53.479Z"
   },
   {
    "duration": 16,
    "start_time": "2021-10-14T08:52:53.487Z"
   },
   {
    "duration": 7,
    "start_time": "2021-10-14T08:52:53.506Z"
   },
   {
    "duration": 2043,
    "start_time": "2021-10-14T08:52:53.516Z"
   },
   {
    "duration": 11,
    "start_time": "2021-10-14T08:52:55.561Z"
   },
   {
    "duration": 70,
    "start_time": "2021-10-14T08:52:55.574Z"
   },
   {
    "duration": 88,
    "start_time": "2021-10-14T08:52:55.647Z"
   },
   {
    "duration": 19,
    "start_time": "2021-10-14T08:52:55.738Z"
   },
   {
    "duration": 85,
    "start_time": "2021-10-14T08:52:55.759Z"
   },
   {
    "duration": 13,
    "start_time": "2021-10-14T08:52:55.847Z"
   },
   {
    "duration": 16,
    "start_time": "2021-10-14T08:52:55.864Z"
   },
   {
    "duration": 6,
    "start_time": "2021-10-14T08:56:03.180Z"
   },
   {
    "duration": 6,
    "start_time": "2021-10-14T08:57:23.708Z"
   },
   {
    "duration": 10,
    "start_time": "2021-10-14T08:57:40.339Z"
   },
   {
    "duration": 469,
    "start_time": "2021-10-14T08:58:27.404Z"
   },
   {
    "duration": 11,
    "start_time": "2021-10-14T08:58:31.143Z"
   },
   {
    "duration": 4,
    "start_time": "2021-10-14T08:58:48.079Z"
   },
   {
    "duration": 503,
    "start_time": "2021-10-14T08:59:05.469Z"
   },
   {
    "duration": 9,
    "start_time": "2021-10-14T08:59:16.177Z"
   },
   {
    "duration": 306,
    "start_time": "2021-10-14T08:59:36.876Z"
   },
   {
    "duration": 320,
    "start_time": "2021-10-14T08:59:42.848Z"
   },
   {
    "duration": 325,
    "start_time": "2021-10-14T08:59:48.440Z"
   },
   {
    "duration": 359,
    "start_time": "2021-10-14T08:59:51.950Z"
   },
   {
    "duration": 6,
    "start_time": "2021-10-14T08:59:59.196Z"
   },
   {
    "duration": 378,
    "start_time": "2021-10-14T09:00:13.073Z"
   },
   {
    "duration": 388,
    "start_time": "2021-10-14T09:00:26.735Z"
   },
   {
    "duration": 312,
    "start_time": "2021-10-14T09:00:33.615Z"
   },
   {
    "duration": 9,
    "start_time": "2021-10-14T09:00:38.831Z"
   },
   {
    "duration": 83,
    "start_time": "2021-10-14T09:02:38.577Z"
   },
   {
    "duration": 20,
    "start_time": "2021-10-14T09:03:21.454Z"
   },
   {
    "duration": 111,
    "start_time": "2021-10-14T09:05:37.036Z"
   },
   {
    "duration": 61,
    "start_time": "2021-10-14T09:05:46.756Z"
   },
   {
    "duration": 13,
    "start_time": "2021-10-14T09:05:56.316Z"
   },
   {
    "duration": 123,
    "start_time": "2021-10-14T09:07:14.562Z"
   },
   {
    "duration": 19,
    "start_time": "2021-10-14T09:07:33.420Z"
   },
   {
    "duration": 15,
    "start_time": "2021-10-14T09:19:53.188Z"
   },
   {
    "duration": 43,
    "start_time": "2021-10-14T09:19:56.140Z"
   },
   {
    "duration": 912,
    "start_time": "2021-10-14T09:20:36.071Z"
   },
   {
    "duration": 19,
    "start_time": "2021-10-14T09:20:36.986Z"
   },
   {
    "duration": 32,
    "start_time": "2021-10-14T09:20:37.008Z"
   },
   {
    "duration": 27,
    "start_time": "2021-10-14T09:20:37.043Z"
   },
   {
    "duration": 16,
    "start_time": "2021-10-14T09:20:37.073Z"
   },
   {
    "duration": 32,
    "start_time": "2021-10-14T09:20:37.091Z"
   },
   {
    "duration": 26,
    "start_time": "2021-10-14T09:20:37.125Z"
   },
   {
    "duration": 7,
    "start_time": "2021-10-14T09:20:37.154Z"
   },
   {
    "duration": 16,
    "start_time": "2021-10-14T09:20:37.164Z"
   },
   {
    "duration": 19,
    "start_time": "2021-10-14T09:20:37.183Z"
   },
   {
    "duration": 40,
    "start_time": "2021-10-14T09:20:37.205Z"
   },
   {
    "duration": 13,
    "start_time": "2021-10-14T09:20:37.248Z"
   },
   {
    "duration": 38,
    "start_time": "2021-10-14T09:20:37.263Z"
   },
   {
    "duration": 21,
    "start_time": "2021-10-14T09:20:37.304Z"
   },
   {
    "duration": 11,
    "start_time": "2021-10-14T09:20:37.327Z"
   },
   {
    "duration": 34,
    "start_time": "2021-10-14T09:20:37.340Z"
   },
   {
    "duration": 26,
    "start_time": "2021-10-14T09:20:37.377Z"
   },
   {
    "duration": 25,
    "start_time": "2021-10-14T09:20:37.405Z"
   },
   {
    "duration": 55,
    "start_time": "2021-10-14T09:20:37.432Z"
   },
   {
    "duration": 13,
    "start_time": "2021-10-14T09:20:37.489Z"
   },
   {
    "duration": 20,
    "start_time": "2021-10-14T09:20:37.504Z"
   },
   {
    "duration": 50,
    "start_time": "2021-10-14T09:20:37.527Z"
   },
   {
    "duration": 19,
    "start_time": "2021-10-14T09:20:37.582Z"
   },
   {
    "duration": 27,
    "start_time": "2021-10-14T09:20:37.604Z"
   },
   {
    "duration": 27,
    "start_time": "2021-10-14T09:20:37.634Z"
   },
   {
    "duration": 49,
    "start_time": "2021-10-14T09:20:37.663Z"
   },
   {
    "duration": 67,
    "start_time": "2021-10-14T09:20:37.715Z"
   },
   {
    "duration": 5,
    "start_time": "2021-10-14T09:20:37.801Z"
   },
   {
    "duration": 53,
    "start_time": "2021-10-14T09:20:37.809Z"
   },
   {
    "duration": 43,
    "start_time": "2021-10-14T09:20:37.865Z"
   },
   {
    "duration": 62,
    "start_time": "2021-10-14T09:20:37.911Z"
   },
   {
    "duration": 28,
    "start_time": "2021-10-14T09:20:37.976Z"
   },
   {
    "duration": 5,
    "start_time": "2021-10-14T09:20:38.006Z"
   },
   {
    "duration": 39,
    "start_time": "2021-10-14T09:20:38.013Z"
   },
   {
    "duration": 57,
    "start_time": "2021-10-14T09:20:38.054Z"
   },
   {
    "duration": 663,
    "start_time": "2021-10-14T09:20:38.114Z"
   },
   {
    "duration": -1833,
    "start_time": "2021-10-14T09:20:40.612Z"
   },
   {
    "duration": -1841,
    "start_time": "2021-10-14T09:20:40.622Z"
   },
   {
    "duration": -1847,
    "start_time": "2021-10-14T09:20:40.630Z"
   },
   {
    "duration": -1856,
    "start_time": "2021-10-14T09:20:40.640Z"
   },
   {
    "duration": -1863,
    "start_time": "2021-10-14T09:20:40.649Z"
   },
   {
    "duration": -1870,
    "start_time": "2021-10-14T09:20:40.657Z"
   },
   {
    "duration": -1878,
    "start_time": "2021-10-14T09:20:40.667Z"
   },
   {
    "duration": -1885,
    "start_time": "2021-10-14T09:20:40.675Z"
   },
   {
    "duration": -1971,
    "start_time": "2021-10-14T09:20:40.763Z"
   },
   {
    "duration": -1988,
    "start_time": "2021-10-14T09:20:40.781Z"
   },
   {
    "duration": -2002,
    "start_time": "2021-10-14T09:20:40.796Z"
   },
   {
    "duration": -2012,
    "start_time": "2021-10-14T09:20:40.808Z"
   },
   {
    "duration": -2022,
    "start_time": "2021-10-14T09:20:40.819Z"
   },
   {
    "duration": -2030,
    "start_time": "2021-10-14T09:20:40.828Z"
   },
   {
    "duration": -2036,
    "start_time": "2021-10-14T09:20:40.836Z"
   },
   {
    "duration": -2043,
    "start_time": "2021-10-14T09:20:40.844Z"
   },
   {
    "duration": -2062,
    "start_time": "2021-10-14T09:20:40.864Z"
   },
   {
    "duration": -2078,
    "start_time": "2021-10-14T09:20:40.882Z"
   },
   {
    "duration": -2094,
    "start_time": "2021-10-14T09:20:40.899Z"
   },
   {
    "duration": -2105,
    "start_time": "2021-10-14T09:20:40.911Z"
   },
   {
    "duration": 30,
    "start_time": "2021-10-14T09:21:19.454Z"
   },
   {
    "duration": 119,
    "start_time": "2021-10-14T09:22:07.016Z"
   },
   {
    "duration": 11,
    "start_time": "2021-10-14T09:22:13.332Z"
   },
   {
    "duration": 62,
    "start_time": "2021-10-14T09:23:21.798Z"
   },
   {
    "duration": 79,
    "start_time": "2021-10-14T09:23:42.803Z"
   },
   {
    "duration": 60,
    "start_time": "2021-10-14T09:23:50.257Z"
   },
   {
    "duration": 63,
    "start_time": "2021-10-14T09:24:02.042Z"
   },
   {
    "duration": 17,
    "start_time": "2021-10-14T09:24:08.226Z"
   },
   {
    "duration": 77,
    "start_time": "2021-10-14T09:24:53.610Z"
   },
   {
    "duration": 21,
    "start_time": "2021-10-14T09:25:10.383Z"
   },
   {
    "duration": 19,
    "start_time": "2021-10-14T09:25:27.450Z"
   },
   {
    "duration": 12,
    "start_time": "2021-10-14T09:31:31.279Z"
   },
   {
    "duration": 17,
    "start_time": "2021-10-14T09:31:47.831Z"
   },
   {
    "duration": 8741,
    "start_time": "2021-10-14T09:42:17.019Z"
   },
   {
    "duration": 325,
    "start_time": "2021-10-14T09:42:45.347Z"
   },
   {
    "duration": 334,
    "start_time": "2021-10-14T09:42:51.314Z"
   },
   {
    "duration": 1524,
    "start_time": "2021-10-14T09:43:04.995Z"
   },
   {
    "duration": 24,
    "start_time": "2021-10-14T09:43:06.523Z"
   },
   {
    "duration": 51,
    "start_time": "2021-10-14T09:43:06.551Z"
   },
   {
    "duration": 28,
    "start_time": "2021-10-14T09:43:06.605Z"
   },
   {
    "duration": 12,
    "start_time": "2021-10-14T09:43:06.636Z"
   },
   {
    "duration": 10,
    "start_time": "2021-10-14T09:43:06.651Z"
   },
   {
    "duration": 21,
    "start_time": "2021-10-14T09:43:06.701Z"
   },
   {
    "duration": 10,
    "start_time": "2021-10-14T09:43:06.727Z"
   },
   {
    "duration": 38,
    "start_time": "2021-10-14T09:43:06.741Z"
   },
   {
    "duration": 26,
    "start_time": "2021-10-14T09:43:06.783Z"
   },
   {
    "duration": 39,
    "start_time": "2021-10-14T09:43:06.812Z"
   },
   {
    "duration": 48,
    "start_time": "2021-10-14T09:43:06.853Z"
   },
   {
    "duration": 10,
    "start_time": "2021-10-14T09:43:06.903Z"
   },
   {
    "duration": 26,
    "start_time": "2021-10-14T09:43:06.916Z"
   },
   {
    "duration": 11,
    "start_time": "2021-10-14T09:43:06.945Z"
   },
   {
    "duration": 57,
    "start_time": "2021-10-14T09:43:06.959Z"
   },
   {
    "duration": 14,
    "start_time": "2021-10-14T09:43:07.019Z"
   },
   {
    "duration": 14,
    "start_time": "2021-10-14T09:43:07.036Z"
   },
   {
    "duration": 82,
    "start_time": "2021-10-14T09:43:07.053Z"
   },
   {
    "duration": 13,
    "start_time": "2021-10-14T09:43:07.137Z"
   },
   {
    "duration": 12,
    "start_time": "2021-10-14T09:43:07.152Z"
   },
   {
    "duration": 65,
    "start_time": "2021-10-14T09:43:07.166Z"
   },
   {
    "duration": 16,
    "start_time": "2021-10-14T09:43:07.236Z"
   },
   {
    "duration": 50,
    "start_time": "2021-10-14T09:43:07.255Z"
   },
   {
    "duration": 15,
    "start_time": "2021-10-14T09:43:07.307Z"
   },
   {
    "duration": 39,
    "start_time": "2021-10-14T09:43:07.325Z"
   },
   {
    "duration": 94,
    "start_time": "2021-10-14T09:43:07.367Z"
   },
   {
    "duration": 5,
    "start_time": "2021-10-14T09:43:07.464Z"
   },
   {
    "duration": 63,
    "start_time": "2021-10-14T09:43:07.471Z"
   },
   {
    "duration": 30,
    "start_time": "2021-10-14T09:43:07.536Z"
   },
   {
    "duration": 84,
    "start_time": "2021-10-14T09:43:07.568Z"
   },
   {
    "duration": 10,
    "start_time": "2021-10-14T09:43:07.655Z"
   },
   {
    "duration": 5,
    "start_time": "2021-10-14T09:43:07.668Z"
   },
   {
    "duration": 16,
    "start_time": "2021-10-14T09:43:07.700Z"
   },
   {
    "duration": 44,
    "start_time": "2021-10-14T09:43:07.718Z"
   },
   {
    "duration": 46,
    "start_time": "2021-10-14T09:43:07.765Z"
   },
   {
    "duration": 7,
    "start_time": "2021-10-14T09:43:07.813Z"
   },
   {
    "duration": 7,
    "start_time": "2021-10-14T09:43:07.822Z"
   },
   {
    "duration": 16,
    "start_time": "2021-10-14T09:43:07.831Z"
   },
   {
    "duration": 4,
    "start_time": "2021-10-14T09:43:07.849Z"
   },
   {
    "duration": 8,
    "start_time": "2021-10-14T09:43:07.855Z"
   },
   {
    "duration": 37,
    "start_time": "2021-10-14T09:43:07.865Z"
   },
   {
    "duration": 942,
    "start_time": "2021-10-14T09:43:07.904Z"
   },
   {
    "duration": 7,
    "start_time": "2021-10-14T09:43:08.849Z"
   },
   {
    "duration": 10,
    "start_time": "2021-10-14T09:43:08.859Z"
   },
   {
    "duration": 32,
    "start_time": "2021-10-14T09:43:08.872Z"
   },
   {
    "duration": 1995,
    "start_time": "2021-10-14T09:43:08.906Z"
   },
   {
    "duration": 10,
    "start_time": "2021-10-14T09:43:10.904Z"
   },
   {
    "duration": 59,
    "start_time": "2021-10-14T09:43:10.916Z"
   },
   {
    "duration": 83,
    "start_time": "2021-10-14T09:43:10.977Z"
   },
   {
    "duration": 17,
    "start_time": "2021-10-14T09:43:11.062Z"
   },
   {
    "duration": 77,
    "start_time": "2021-10-14T09:43:11.082Z"
   },
   {
    "duration": 14,
    "start_time": "2021-10-14T09:43:11.161Z"
   },
   {
    "duration": 77,
    "start_time": "2021-10-14T09:43:11.200Z"
   },
   {
    "duration": 31,
    "start_time": "2021-10-14T09:43:11.279Z"
   },
   {
    "duration": 63,
    "start_time": "2021-10-14T09:43:11.312Z"
   },
   {
    "duration": 26,
    "start_time": "2021-10-14T09:43:11.377Z"
   },
   {
    "duration": 97,
    "start_time": "2021-10-14T09:43:11.406Z"
   },
   {
    "duration": 13,
    "start_time": "2021-10-14T09:44:06.360Z"
   },
   {
    "duration": 12,
    "start_time": "2021-10-14T09:44:19.249Z"
   },
   {
    "duration": 72,
    "start_time": "2021-10-14T10:00:12.576Z"
   },
   {
    "duration": 883,
    "start_time": "2021-10-14T10:01:40.101Z"
   },
   {
    "duration": 15,
    "start_time": "2021-10-14T10:01:40.986Z"
   },
   {
    "duration": 18,
    "start_time": "2021-10-14T10:01:41.004Z"
   },
   {
    "duration": 15,
    "start_time": "2021-10-14T10:01:41.025Z"
   },
   {
    "duration": 9,
    "start_time": "2021-10-14T10:01:41.043Z"
   },
   {
    "duration": 46,
    "start_time": "2021-10-14T10:01:41.054Z"
   },
   {
    "duration": 15,
    "start_time": "2021-10-14T10:01:41.103Z"
   },
   {
    "duration": 6,
    "start_time": "2021-10-14T10:01:41.122Z"
   },
   {
    "duration": 14,
    "start_time": "2021-10-14T10:01:41.131Z"
   },
   {
    "duration": 11,
    "start_time": "2021-10-14T10:01:41.148Z"
   },
   {
    "duration": 38,
    "start_time": "2021-10-14T10:01:41.201Z"
   },
   {
    "duration": 13,
    "start_time": "2021-10-14T10:01:41.242Z"
   },
   {
    "duration": 45,
    "start_time": "2021-10-14T10:01:41.257Z"
   },
   {
    "duration": 23,
    "start_time": "2021-10-14T10:01:41.305Z"
   },
   {
    "duration": 9,
    "start_time": "2021-10-14T10:01:41.330Z"
   },
   {
    "duration": 20,
    "start_time": "2021-10-14T10:01:41.342Z"
   },
   {
    "duration": 11,
    "start_time": "2021-10-14T10:01:41.401Z"
   },
   {
    "duration": 9,
    "start_time": "2021-10-14T10:01:41.415Z"
   },
   {
    "duration": 38,
    "start_time": "2021-10-14T10:01:41.426Z"
   },
   {
    "duration": 14,
    "start_time": "2021-10-14T10:01:41.500Z"
   },
   {
    "duration": 11,
    "start_time": "2021-10-14T10:01:41.516Z"
   },
   {
    "duration": 40,
    "start_time": "2021-10-14T10:01:41.529Z"
   },
   {
    "duration": 46,
    "start_time": "2021-10-14T10:01:41.574Z"
   },
   {
    "duration": 21,
    "start_time": "2021-10-14T10:01:41.624Z"
   },
   {
    "duration": 14,
    "start_time": "2021-10-14T10:01:41.647Z"
   },
   {
    "duration": 72,
    "start_time": "2021-10-14T10:01:41.664Z"
   },
   {
    "duration": 90,
    "start_time": "2021-10-14T10:01:41.739Z"
   },
   {
    "duration": 6,
    "start_time": "2021-10-14T10:01:41.832Z"
   },
   {
    "duration": 61,
    "start_time": "2021-10-14T10:01:41.841Z"
   },
   {
    "duration": 32,
    "start_time": "2021-10-14T10:01:41.905Z"
   },
   {
    "duration": 94,
    "start_time": "2021-10-14T10:01:41.940Z"
   },
   {
    "duration": 75,
    "start_time": "2021-10-14T10:01:42.037Z"
   },
   {
    "duration": 10,
    "start_time": "2021-10-14T10:01:42.115Z"
   },
   {
    "duration": 4,
    "start_time": "2021-10-14T10:01:42.128Z"
   },
   {
    "duration": 16,
    "start_time": "2021-10-14T10:01:42.135Z"
   },
   {
    "duration": 76,
    "start_time": "2021-10-14T10:01:42.153Z"
   },
   {
    "duration": 12,
    "start_time": "2021-10-14T10:01:42.231Z"
   },
   {
    "duration": 6,
    "start_time": "2021-10-14T10:01:42.246Z"
   },
   {
    "duration": 4,
    "start_time": "2021-10-14T10:01:42.254Z"
   },
   {
    "duration": 46,
    "start_time": "2021-10-14T10:01:42.259Z"
   },
   {
    "duration": 4,
    "start_time": "2021-10-14T10:01:42.307Z"
   },
   {
    "duration": 8,
    "start_time": "2021-10-14T10:01:42.313Z"
   },
   {
    "duration": 9,
    "start_time": "2021-10-14T10:01:42.323Z"
   },
   {
    "duration": 979,
    "start_time": "2021-10-14T10:01:42.334Z"
   },
   {
    "duration": 6,
    "start_time": "2021-10-14T10:01:43.316Z"
   },
   {
    "duration": 13,
    "start_time": "2021-10-14T10:01:43.324Z"
   },
   {
    "duration": 6,
    "start_time": "2021-10-14T10:01:43.339Z"
   },
   {
    "duration": 2174,
    "start_time": "2021-10-14T10:01:43.347Z"
   },
   {
    "duration": 12,
    "start_time": "2021-10-14T10:01:45.523Z"
   },
   {
    "duration": 69,
    "start_time": "2021-10-14T10:01:45.538Z"
   },
   {
    "duration": 90,
    "start_time": "2021-10-14T10:01:45.610Z"
   },
   {
    "duration": 19,
    "start_time": "2021-10-14T10:01:45.702Z"
   },
   {
    "duration": 98,
    "start_time": "2021-10-14T10:01:45.724Z"
   },
   {
    "duration": 14,
    "start_time": "2021-10-14T10:01:45.825Z"
   },
   {
    "duration": 99,
    "start_time": "2021-10-14T10:01:45.842Z"
   },
   {
    "duration": 19,
    "start_time": "2021-10-14T10:01:45.945Z"
   },
   {
    "duration": 90,
    "start_time": "2021-10-14T10:01:45.967Z"
   },
   {
    "duration": 17,
    "start_time": "2021-10-14T10:01:46.060Z"
   },
   {
    "duration": 80,
    "start_time": "2021-10-14T10:01:46.080Z"
   },
   {
    "duration": 12,
    "start_time": "2021-10-14T10:01:46.163Z"
   },
   {
    "duration": 61,
    "start_time": "2021-10-14T10:01:58.155Z"
   },
   {
    "duration": 456,
    "start_time": "2021-10-14T10:02:57.004Z"
   },
   {
    "duration": 367,
    "start_time": "2021-10-14T10:03:10.043Z"
   },
   {
    "duration": 36,
    "start_time": "2021-10-14T10:03:21.984Z"
   },
   {
    "duration": 35,
    "start_time": "2021-10-14T10:03:26.599Z"
   },
   {
    "duration": 69,
    "start_time": "2021-10-14T10:03:35.231Z"
   },
   {
    "duration": 71,
    "start_time": "2021-10-14T10:04:51.595Z"
   },
   {
    "duration": 71,
    "start_time": "2021-10-14T10:05:05.057Z"
   },
   {
    "duration": 37,
    "start_time": "2021-10-14T10:05:16.971Z"
   },
   {
    "duration": 73,
    "start_time": "2021-10-14T10:05:21.522Z"
   },
   {
    "duration": 907,
    "start_time": "2021-10-14T10:05:33.558Z"
   },
   {
    "duration": 17,
    "start_time": "2021-10-14T10:05:34.467Z"
   },
   {
    "duration": 20,
    "start_time": "2021-10-14T10:05:34.499Z"
   },
   {
    "duration": 22,
    "start_time": "2021-10-14T10:05:34.521Z"
   },
   {
    "duration": 10,
    "start_time": "2021-10-14T10:05:34.545Z"
   },
   {
    "duration": 8,
    "start_time": "2021-10-14T10:05:34.557Z"
   },
   {
    "duration": 16,
    "start_time": "2021-10-14T10:05:34.600Z"
   },
   {
    "duration": 6,
    "start_time": "2021-10-14T10:05:34.620Z"
   },
   {
    "duration": 19,
    "start_time": "2021-10-14T10:05:34.630Z"
   },
   {
    "duration": 10,
    "start_time": "2021-10-14T10:05:34.652Z"
   },
   {
    "duration": 52,
    "start_time": "2021-10-14T10:05:34.702Z"
   },
   {
    "duration": 45,
    "start_time": "2021-10-14T10:05:34.757Z"
   },
   {
    "duration": 10,
    "start_time": "2021-10-14T10:05:34.805Z"
   },
   {
    "duration": 34,
    "start_time": "2021-10-14T10:05:34.818Z"
   },
   {
    "duration": 9,
    "start_time": "2021-10-14T10:05:34.855Z"
   },
   {
    "duration": 52,
    "start_time": "2021-10-14T10:05:34.866Z"
   },
   {
    "duration": 12,
    "start_time": "2021-10-14T10:05:34.921Z"
   },
   {
    "duration": 11,
    "start_time": "2021-10-14T10:05:34.936Z"
   },
   {
    "duration": 70,
    "start_time": "2021-10-14T10:05:34.950Z"
   },
   {
    "duration": 13,
    "start_time": "2021-10-14T10:05:35.022Z"
   },
   {
    "duration": 11,
    "start_time": "2021-10-14T10:05:35.037Z"
   },
   {
    "duration": 66,
    "start_time": "2021-10-14T10:05:35.051Z"
   },
   {
    "duration": 15,
    "start_time": "2021-10-14T10:05:35.123Z"
   },
   {
    "duration": 21,
    "start_time": "2021-10-14T10:05:35.141Z"
   },
   {
    "duration": 43,
    "start_time": "2021-10-14T10:05:35.164Z"
   },
   {
    "duration": 37,
    "start_time": "2021-10-14T10:05:35.210Z"
   },
   {
    "duration": 85,
    "start_time": "2021-10-14T10:05:35.250Z"
   },
   {
    "duration": 5,
    "start_time": "2021-10-14T10:05:35.338Z"
   },
   {
    "duration": 56,
    "start_time": "2021-10-14T10:05:35.346Z"
   },
   {
    "duration": 31,
    "start_time": "2021-10-14T10:05:35.404Z"
   },
   {
    "duration": 82,
    "start_time": "2021-10-14T10:05:35.437Z"
   },
   {
    "duration": 82,
    "start_time": "2021-10-14T10:05:35.521Z"
   },
   {
    "duration": 11,
    "start_time": "2021-10-14T10:05:35.605Z"
   },
   {
    "duration": 5,
    "start_time": "2021-10-14T10:05:35.618Z"
   },
   {
    "duration": 28,
    "start_time": "2021-10-14T10:05:35.626Z"
   },
   {
    "duration": 61,
    "start_time": "2021-10-14T10:05:35.657Z"
   },
   {
    "duration": 13,
    "start_time": "2021-10-14T10:05:35.720Z"
   },
   {
    "duration": 7,
    "start_time": "2021-10-14T10:05:35.736Z"
   },
   {
    "duration": 4,
    "start_time": "2021-10-14T10:05:35.745Z"
   },
   {
    "duration": 20,
    "start_time": "2021-10-14T10:05:35.752Z"
   },
   {
    "duration": 30,
    "start_time": "2021-10-14T10:05:35.774Z"
   },
   {
    "duration": 10,
    "start_time": "2021-10-14T10:05:35.806Z"
   },
   {
    "duration": 10,
    "start_time": "2021-10-14T10:05:35.819Z"
   },
   {
    "duration": 972,
    "start_time": "2021-10-14T10:05:35.832Z"
   },
   {
    "duration": 6,
    "start_time": "2021-10-14T10:05:36.807Z"
   },
   {
    "duration": 8,
    "start_time": "2021-10-14T10:05:36.816Z"
   },
   {
    "duration": 5,
    "start_time": "2021-10-14T10:05:36.827Z"
   },
   {
    "duration": 2093,
    "start_time": "2021-10-14T10:05:36.835Z"
   },
   {
    "duration": 10,
    "start_time": "2021-10-14T10:05:38.931Z"
   },
   {
    "duration": 67,
    "start_time": "2021-10-14T10:05:38.944Z"
   },
   {
    "duration": 71,
    "start_time": "2021-10-14T10:05:39.013Z"
   },
   {
    "duration": 18,
    "start_time": "2021-10-14T10:05:39.100Z"
   },
   {
    "duration": 81,
    "start_time": "2021-10-14T10:05:39.121Z"
   },
   {
    "duration": 13,
    "start_time": "2021-10-14T10:05:39.204Z"
   },
   {
    "duration": 96,
    "start_time": "2021-10-14T10:05:39.219Z"
   },
   {
    "duration": 20,
    "start_time": "2021-10-14T10:05:39.317Z"
   },
   {
    "duration": 80,
    "start_time": "2021-10-14T10:05:39.339Z"
   },
   {
    "duration": 12,
    "start_time": "2021-10-14T10:05:39.421Z"
   },
   {
    "duration": 83,
    "start_time": "2021-10-14T10:05:39.436Z"
   },
   {
    "duration": 13,
    "start_time": "2021-10-14T10:05:39.521Z"
   },
   {
    "duration": 10,
    "start_time": "2021-10-14T10:06:25.625Z"
   },
   {
    "duration": 870,
    "start_time": "2021-10-14T11:06:15.530Z"
   },
   {
    "duration": 17,
    "start_time": "2021-10-14T11:06:16.404Z"
   },
   {
    "duration": 20,
    "start_time": "2021-10-14T11:06:16.424Z"
   },
   {
    "duration": 17,
    "start_time": "2021-10-14T11:06:16.446Z"
   },
   {
    "duration": 10,
    "start_time": "2021-10-14T11:06:16.500Z"
   },
   {
    "duration": 11,
    "start_time": "2021-10-14T11:06:16.513Z"
   },
   {
    "duration": 13,
    "start_time": "2021-10-14T11:06:16.527Z"
   },
   {
    "duration": 6,
    "start_time": "2021-10-14T11:06:16.544Z"
   },
   {
    "duration": 56,
    "start_time": "2021-10-14T11:06:16.553Z"
   },
   {
    "duration": 6,
    "start_time": "2021-10-14T11:06:16.612Z"
   },
   {
    "duration": 45,
    "start_time": "2021-10-14T11:06:16.620Z"
   },
   {
    "duration": 35,
    "start_time": "2021-10-14T11:06:16.668Z"
   },
   {
    "duration": 9,
    "start_time": "2021-10-14T11:06:16.705Z"
   },
   {
    "duration": 24,
    "start_time": "2021-10-14T11:06:16.717Z"
   },
   {
    "duration": 7,
    "start_time": "2021-10-14T11:06:16.743Z"
   },
   {
    "duration": 62,
    "start_time": "2021-10-14T11:06:16.752Z"
   },
   {
    "duration": 12,
    "start_time": "2021-10-14T11:06:16.816Z"
   },
   {
    "duration": 10,
    "start_time": "2021-10-14T11:06:16.830Z"
   },
   {
    "duration": 70,
    "start_time": "2021-10-14T11:06:16.842Z"
   },
   {
    "duration": 13,
    "start_time": "2021-10-14T11:06:16.915Z"
   },
   {
    "duration": 11,
    "start_time": "2021-10-14T11:06:16.930Z"
   },
   {
    "duration": 70,
    "start_time": "2021-10-14T11:06:16.944Z"
   },
   {
    "duration": 16,
    "start_time": "2021-10-14T11:06:17.020Z"
   },
   {
    "duration": 20,
    "start_time": "2021-10-14T11:06:17.039Z"
   },
   {
    "duration": 44,
    "start_time": "2021-10-14T11:06:17.062Z"
   },
   {
    "duration": 38,
    "start_time": "2021-10-14T11:06:17.109Z"
   },
   {
    "duration": 78,
    "start_time": "2021-10-14T11:06:17.150Z"
   },
   {
    "duration": 5,
    "start_time": "2021-10-14T11:06:17.230Z"
   },
   {
    "duration": 65,
    "start_time": "2021-10-14T11:06:17.237Z"
   },
   {
    "duration": 31,
    "start_time": "2021-10-14T11:06:17.304Z"
   },
   {
    "duration": 86,
    "start_time": "2021-10-14T11:06:17.338Z"
   },
   {
    "duration": 82,
    "start_time": "2021-10-14T11:06:17.427Z"
   },
   {
    "duration": 11,
    "start_time": "2021-10-14T11:06:17.511Z"
   },
   {
    "duration": 5,
    "start_time": "2021-10-14T11:06:17.525Z"
   },
   {
    "duration": 19,
    "start_time": "2021-10-14T11:06:17.533Z"
   },
   {
    "duration": 68,
    "start_time": "2021-10-14T11:06:17.555Z"
   },
   {
    "duration": 14,
    "start_time": "2021-10-14T11:06:17.626Z"
   },
   {
    "duration": 7,
    "start_time": "2021-10-14T11:06:17.642Z"
   },
   {
    "duration": 5,
    "start_time": "2021-10-14T11:06:17.652Z"
   },
   {
    "duration": 41,
    "start_time": "2021-10-14T11:06:17.659Z"
   },
   {
    "duration": 6,
    "start_time": "2021-10-14T11:06:17.703Z"
   },
   {
    "duration": 8,
    "start_time": "2021-10-14T11:06:17.711Z"
   },
   {
    "duration": 10,
    "start_time": "2021-10-14T11:06:17.721Z"
   },
   {
    "duration": 977,
    "start_time": "2021-10-14T11:06:17.733Z"
   },
   {
    "duration": 6,
    "start_time": "2021-10-14T11:06:18.713Z"
   },
   {
    "duration": 11,
    "start_time": "2021-10-14T11:06:18.722Z"
   },
   {
    "duration": 6,
    "start_time": "2021-10-14T11:06:18.735Z"
   },
   {
    "duration": 2195,
    "start_time": "2021-10-14T11:06:18.743Z"
   },
   {
    "duration": 10,
    "start_time": "2021-10-14T11:06:20.940Z"
   },
   {
    "duration": 64,
    "start_time": "2021-10-14T11:06:20.953Z"
   },
   {
    "duration": 88,
    "start_time": "2021-10-14T11:06:21.019Z"
   },
   {
    "duration": 16,
    "start_time": "2021-10-14T11:06:21.109Z"
   },
   {
    "duration": 73,
    "start_time": "2021-10-14T11:06:21.128Z"
   },
   {
    "duration": 12,
    "start_time": "2021-10-14T11:06:21.204Z"
   },
   {
    "duration": 102,
    "start_time": "2021-10-14T11:06:21.220Z"
   },
   {
    "duration": 21,
    "start_time": "2021-10-14T11:06:21.325Z"
   },
   {
    "duration": 81,
    "start_time": "2021-10-14T11:06:21.349Z"
   },
   {
    "duration": 11,
    "start_time": "2021-10-14T11:06:21.433Z"
   },
   {
    "duration": 118,
    "start_time": "2021-10-14T11:06:21.446Z"
   },
   {
    "duration": 17,
    "start_time": "2021-10-14T11:06:21.567Z"
   },
   {
    "duration": 914,
    "start_time": "2021-10-15T09:34:03.947Z"
   },
   {
    "duration": 21,
    "start_time": "2021-10-15T09:34:04.864Z"
   },
   {
    "duration": 20,
    "start_time": "2021-10-15T09:34:04.888Z"
   },
   {
    "duration": 68,
    "start_time": "2021-10-15T09:34:04.912Z"
   },
   {
    "duration": 11,
    "start_time": "2021-10-15T09:34:04.983Z"
   },
   {
    "duration": 6,
    "start_time": "2021-10-15T09:34:04.997Z"
   },
   {
    "duration": 16,
    "start_time": "2021-10-15T09:34:05.005Z"
   },
   {
    "duration": 6,
    "start_time": "2021-10-15T09:34:05.026Z"
   },
   {
    "duration": 18,
    "start_time": "2021-10-15T09:34:05.064Z"
   },
   {
    "duration": 9,
    "start_time": "2021-10-15T09:34:05.084Z"
   },
   {
    "duration": 79,
    "start_time": "2021-10-15T09:34:05.096Z"
   },
   {
    "duration": 16,
    "start_time": "2021-10-15T09:34:05.178Z"
   },
   {
    "duration": 10,
    "start_time": "2021-10-15T09:34:05.198Z"
   },
   {
    "duration": 69,
    "start_time": "2021-10-15T09:34:05.211Z"
   },
   {
    "duration": 6,
    "start_time": "2021-10-15T09:34:05.283Z"
   },
   {
    "duration": 26,
    "start_time": "2021-10-15T09:34:05.291Z"
   },
   {
    "duration": 14,
    "start_time": "2021-10-15T09:34:05.319Z"
   },
   {
    "duration": 40,
    "start_time": "2021-10-15T09:34:05.335Z"
   },
   {
    "duration": 37,
    "start_time": "2021-10-15T09:34:05.378Z"
   },
   {
    "duration": 14,
    "start_time": "2021-10-15T09:34:05.417Z"
   },
   {
    "duration": 16,
    "start_time": "2021-10-15T09:34:05.463Z"
   },
   {
    "duration": 42,
    "start_time": "2021-10-15T09:34:05.482Z"
   },
   {
    "duration": 52,
    "start_time": "2021-10-15T09:34:05.530Z"
   },
   {
    "duration": 23,
    "start_time": "2021-10-15T09:34:05.586Z"
   },
   {
    "duration": 18,
    "start_time": "2021-10-15T09:34:05.612Z"
   },
   {
    "duration": 72,
    "start_time": "2021-10-15T09:34:05.633Z"
   },
   {
    "duration": 96,
    "start_time": "2021-10-15T09:34:05.707Z"
   },
   {
    "duration": 5,
    "start_time": "2021-10-15T09:34:05.806Z"
   },
   {
    "duration": 73,
    "start_time": "2021-10-15T09:34:05.813Z"
   },
   {
    "duration": 36,
    "start_time": "2021-10-15T09:34:05.889Z"
   },
   {
    "duration": 87,
    "start_time": "2021-10-15T09:34:05.928Z"
   },
   {
    "duration": 87,
    "start_time": "2021-10-15T09:34:06.018Z"
   },
   {
    "duration": 11,
    "start_time": "2021-10-15T09:34:06.108Z"
   },
   {
    "duration": 4,
    "start_time": "2021-10-15T09:34:06.122Z"
   },
   {
    "duration": 45,
    "start_time": "2021-10-15T09:34:06.128Z"
   },
   {
    "duration": 51,
    "start_time": "2021-10-15T09:34:06.175Z"
   },
   {
    "duration": 15,
    "start_time": "2021-10-15T09:34:06.241Z"
   },
   {
    "duration": 9,
    "start_time": "2021-10-15T09:34:06.258Z"
   },
   {
    "duration": 21,
    "start_time": "2021-10-15T09:34:06.269Z"
   },
   {
    "duration": 12,
    "start_time": "2021-10-15T09:34:06.292Z"
   },
   {
    "duration": 3,
    "start_time": "2021-10-15T09:34:06.306Z"
   },
   {
    "duration": 6,
    "start_time": "2021-10-15T09:34:06.311Z"
   },
   {
    "duration": 8,
    "start_time": "2021-10-15T09:34:06.319Z"
   },
   {
    "duration": 936,
    "start_time": "2021-10-15T09:34:06.329Z"
   },
   {
    "duration": 6,
    "start_time": "2021-10-15T09:34:07.268Z"
   },
   {
    "duration": 26,
    "start_time": "2021-10-15T09:34:07.277Z"
   },
   {
    "duration": 6,
    "start_time": "2021-10-15T09:34:07.305Z"
   },
   {
    "duration": 2263,
    "start_time": "2021-10-15T09:34:07.313Z"
   },
   {
    "duration": 10,
    "start_time": "2021-10-15T09:34:09.580Z"
   },
   {
    "duration": 43,
    "start_time": "2021-10-15T09:34:09.592Z"
   },
   {
    "duration": 93,
    "start_time": "2021-10-15T09:34:09.637Z"
   },
   {
    "duration": 37,
    "start_time": "2021-10-15T09:34:09.733Z"
   },
   {
    "duration": 59,
    "start_time": "2021-10-15T09:34:09.773Z"
   },
   {
    "duration": 33,
    "start_time": "2021-10-15T09:34:09.834Z"
   },
   {
    "duration": 93,
    "start_time": "2021-10-15T09:34:09.870Z"
   },
   {
    "duration": 27,
    "start_time": "2021-10-15T09:34:09.967Z"
   },
   {
    "duration": 93,
    "start_time": "2021-10-15T09:34:09.997Z"
   },
   {
    "duration": 12,
    "start_time": "2021-10-15T09:34:10.093Z"
   },
   {
    "duration": 74,
    "start_time": "2021-10-15T09:34:10.107Z"
   },
   {
    "duration": 11,
    "start_time": "2021-10-15T09:34:10.184Z"
   },
   {
    "duration": 10,
    "start_time": "2021-10-15T09:50:42.944Z"
   },
   {
    "duration": 13,
    "start_time": "2021-10-15T09:50:51.310Z"
   },
   {
    "duration": 866,
    "start_time": "2021-10-15T09:51:02.660Z"
   },
   {
    "duration": 16,
    "start_time": "2021-10-15T09:51:03.529Z"
   },
   {
    "duration": 22,
    "start_time": "2021-10-15T09:51:03.561Z"
   },
   {
    "duration": 16,
    "start_time": "2021-10-15T09:51:03.586Z"
   },
   {
    "duration": 10,
    "start_time": "2021-10-15T09:51:03.605Z"
   },
   {
    "duration": 43,
    "start_time": "2021-10-15T09:51:03.618Z"
   },
   {
    "duration": 16,
    "start_time": "2021-10-15T09:51:03.663Z"
   },
   {
    "duration": 6,
    "start_time": "2021-10-15T09:51:03.683Z"
   },
   {
    "duration": 15,
    "start_time": "2021-10-15T09:51:03.692Z"
   },
   {
    "duration": 10,
    "start_time": "2021-10-15T09:51:03.709Z"
   },
   {
    "duration": 75,
    "start_time": "2021-10-15T09:51:03.721Z"
   },
   {
    "duration": 13,
    "start_time": "2021-10-15T09:51:03.798Z"
   },
   {
    "duration": 10,
    "start_time": "2021-10-15T09:51:03.813Z"
   },
   {
    "duration": 54,
    "start_time": "2021-10-15T09:51:03.825Z"
   },
   {
    "duration": 6,
    "start_time": "2021-10-15T09:51:03.881Z"
   },
   {
    "duration": 28,
    "start_time": "2021-10-15T09:51:03.889Z"
   },
   {
    "duration": 42,
    "start_time": "2021-10-15T09:51:03.919Z"
   },
   {
    "duration": 10,
    "start_time": "2021-10-15T09:51:03.964Z"
   },
   {
    "duration": 34,
    "start_time": "2021-10-15T09:51:03.976Z"
   },
   {
    "duration": 11,
    "start_time": "2021-10-15T09:51:04.013Z"
   },
   {
    "duration": 43,
    "start_time": "2021-10-15T09:51:04.027Z"
   },
   {
    "duration": 37,
    "start_time": "2021-10-15T09:51:04.072Z"
   },
   {
    "duration": 16,
    "start_time": "2021-10-15T09:51:04.116Z"
   },
   {
    "duration": 21,
    "start_time": "2021-10-15T09:51:04.163Z"
   },
   {
    "duration": 14,
    "start_time": "2021-10-15T09:51:04.187Z"
   },
   {
    "duration": 64,
    "start_time": "2021-10-15T09:51:04.203Z"
   },
   {
    "duration": 64,
    "start_time": "2021-10-15T09:51:04.270Z"
   },
   {
    "duration": 26,
    "start_time": "2021-10-15T09:51:04.337Z"
   },
   {
    "duration": 43,
    "start_time": "2021-10-15T09:51:04.365Z"
   },
   {
    "duration": 30,
    "start_time": "2021-10-15T09:51:04.410Z"
   },
   {
    "duration": 59,
    "start_time": "2021-10-15T09:51:04.461Z"
   },
   {
    "duration": 97,
    "start_time": "2021-10-15T09:51:04.523Z"
   },
   {
    "duration": 11,
    "start_time": "2021-10-15T09:51:04.623Z"
   },
   {
    "duration": 25,
    "start_time": "2021-10-15T09:51:04.637Z"
   },
   {
    "duration": 14,
    "start_time": "2021-10-15T09:51:04.664Z"
   },
   {
    "duration": 44,
    "start_time": "2021-10-15T09:51:04.681Z"
   },
   {
    "duration": 36,
    "start_time": "2021-10-15T09:51:04.728Z"
   },
   {
    "duration": 6,
    "start_time": "2021-10-15T09:51:04.767Z"
   },
   {
    "duration": 5,
    "start_time": "2021-10-15T09:51:04.776Z"
   },
   {
    "duration": 14,
    "start_time": "2021-10-15T09:51:04.784Z"
   },
   {
    "duration": 4,
    "start_time": "2021-10-15T09:51:04.800Z"
   },
   {
    "duration": 6,
    "start_time": "2021-10-15T09:51:04.807Z"
   },
   {
    "duration": 47,
    "start_time": "2021-10-15T09:51:04.816Z"
   },
   {
    "duration": 918,
    "start_time": "2021-10-15T09:51:04.866Z"
   },
   {
    "duration": 6,
    "start_time": "2021-10-15T09:51:05.787Z"
   },
   {
    "duration": 9,
    "start_time": "2021-10-15T09:51:05.795Z"
   },
   {
    "duration": 8,
    "start_time": "2021-10-15T09:51:05.807Z"
   },
   {
    "duration": 2060,
    "start_time": "2021-10-15T09:51:05.817Z"
   },
   {
    "duration": 10,
    "start_time": "2021-10-15T09:51:07.880Z"
   },
   {
    "duration": 70,
    "start_time": "2021-10-15T09:51:07.893Z"
   },
   {
    "duration": 66,
    "start_time": "2021-10-15T09:51:07.966Z"
   },
   {
    "duration": 37,
    "start_time": "2021-10-15T09:51:08.035Z"
   },
   {
    "duration": 59,
    "start_time": "2021-10-15T09:51:08.074Z"
   },
   {
    "duration": 37,
    "start_time": "2021-10-15T09:51:08.135Z"
   },
   {
    "duration": 95,
    "start_time": "2021-10-15T09:51:08.174Z"
   },
   {
    "duration": 20,
    "start_time": "2021-10-15T09:51:08.272Z"
   },
   {
    "duration": 86,
    "start_time": "2021-10-15T09:51:08.294Z"
   },
   {
    "duration": 12,
    "start_time": "2021-10-15T09:51:08.382Z"
   },
   {
    "duration": 79,
    "start_time": "2021-10-15T09:51:08.397Z"
   },
   {
    "duration": 11,
    "start_time": "2021-10-15T09:51:08.479Z"
   },
   {
    "duration": 91,
    "start_time": "2021-10-15T10:39:34.408Z"
   },
   {
    "duration": 27,
    "start_time": "2021-10-15T10:40:19.449Z"
   },
   {
    "duration": 80,
    "start_time": "2021-10-15T10:44:35.477Z"
   },
   {
    "duration": 22,
    "start_time": "2021-10-15T10:44:44.273Z"
   },
   {
    "duration": 875,
    "start_time": "2021-10-15T10:48:14.811Z"
   },
   {
    "duration": 14,
    "start_time": "2021-10-15T10:48:15.689Z"
   },
   {
    "duration": 34,
    "start_time": "2021-10-15T10:48:15.706Z"
   },
   {
    "duration": 34,
    "start_time": "2021-10-15T10:48:15.742Z"
   },
   {
    "duration": 10,
    "start_time": "2021-10-15T10:48:15.779Z"
   },
   {
    "duration": 11,
    "start_time": "2021-10-15T10:48:15.791Z"
   },
   {
    "duration": 15,
    "start_time": "2021-10-15T10:48:15.804Z"
   },
   {
    "duration": 49,
    "start_time": "2021-10-15T10:48:15.822Z"
   },
   {
    "duration": 20,
    "start_time": "2021-10-15T10:48:15.875Z"
   },
   {
    "duration": 9,
    "start_time": "2021-10-15T10:48:15.897Z"
   },
   {
    "duration": 59,
    "start_time": "2021-10-15T10:48:15.908Z"
   },
   {
    "duration": 20,
    "start_time": "2021-10-15T10:48:15.970Z"
   },
   {
    "duration": 9,
    "start_time": "2021-10-15T10:48:15.994Z"
   },
   {
    "duration": 72,
    "start_time": "2021-10-15T10:48:16.006Z"
   },
   {
    "duration": 7,
    "start_time": "2021-10-15T10:48:16.080Z"
   },
   {
    "duration": 30,
    "start_time": "2021-10-15T10:48:16.090Z"
   },
   {
    "duration": 46,
    "start_time": "2021-10-15T10:48:16.122Z"
   },
   {
    "duration": 10,
    "start_time": "2021-10-15T10:48:16.171Z"
   },
   {
    "duration": 38,
    "start_time": "2021-10-15T10:48:16.184Z"
   },
   {
    "duration": 43,
    "start_time": "2021-10-15T10:48:16.224Z"
   },
   {
    "duration": 13,
    "start_time": "2021-10-15T10:48:16.273Z"
   },
   {
    "duration": 39,
    "start_time": "2021-10-15T10:48:16.288Z"
   },
   {
    "duration": 52,
    "start_time": "2021-10-15T10:48:16.335Z"
   },
   {
    "duration": 29,
    "start_time": "2021-10-15T10:48:16.391Z"
   },
   {
    "duration": 15,
    "start_time": "2021-10-15T10:48:16.422Z"
   },
   {
    "duration": 56,
    "start_time": "2021-10-15T10:48:16.440Z"
   },
   {
    "duration": 90,
    "start_time": "2021-10-15T10:48:16.499Z"
   },
   {
    "duration": 5,
    "start_time": "2021-10-15T10:48:16.591Z"
   },
   {
    "duration": 42,
    "start_time": "2021-10-15T10:48:16.599Z"
   },
   {
    "duration": 52,
    "start_time": "2021-10-15T10:48:16.643Z"
   },
   {
    "duration": 89,
    "start_time": "2021-10-15T10:48:16.698Z"
   },
   {
    "duration": 93,
    "start_time": "2021-10-15T10:48:16.790Z"
   },
   {
    "duration": 11,
    "start_time": "2021-10-15T10:48:16.885Z"
   },
   {
    "duration": 5,
    "start_time": "2021-10-15T10:48:16.898Z"
   },
   {
    "duration": 16,
    "start_time": "2021-10-15T10:48:16.906Z"
   },
   {
    "duration": 74,
    "start_time": "2021-10-15T10:48:16.924Z"
   },
   {
    "duration": 15,
    "start_time": "2021-10-15T10:48:17.001Z"
   },
   {
    "duration": 7,
    "start_time": "2021-10-15T10:48:17.018Z"
   },
   {
    "duration": 4,
    "start_time": "2021-10-15T10:48:17.028Z"
   },
   {
    "duration": 13,
    "start_time": "2021-10-15T10:48:17.062Z"
   },
   {
    "duration": 4,
    "start_time": "2021-10-15T10:48:17.077Z"
   },
   {
    "duration": 6,
    "start_time": "2021-10-15T10:48:17.083Z"
   },
   {
    "duration": 10,
    "start_time": "2021-10-15T10:48:17.091Z"
   },
   {
    "duration": 1038,
    "start_time": "2021-10-15T10:48:17.103Z"
   },
   {
    "duration": 18,
    "start_time": "2021-10-15T10:48:18.144Z"
   },
   {
    "duration": 10,
    "start_time": "2021-10-15T10:48:18.165Z"
   },
   {
    "duration": 6,
    "start_time": "2021-10-15T10:48:18.179Z"
   },
   {
    "duration": 2243,
    "start_time": "2021-10-15T10:48:18.202Z"
   },
   {
    "duration": 13,
    "start_time": "2021-10-15T10:48:20.461Z"
   },
   {
    "duration": 53,
    "start_time": "2021-10-15T10:48:20.477Z"
   },
   {
    "duration": 107,
    "start_time": "2021-10-15T10:48:20.533Z"
   },
   {
    "duration": 31,
    "start_time": "2021-10-15T10:48:20.643Z"
   },
   {
    "duration": 63,
    "start_time": "2021-10-15T10:48:20.677Z"
   },
   {
    "duration": 36,
    "start_time": "2021-10-15T10:48:20.743Z"
   },
   {
    "duration": 93,
    "start_time": "2021-10-15T10:48:20.782Z"
   },
   {
    "duration": 20,
    "start_time": "2021-10-15T10:48:20.878Z"
   },
   {
    "duration": 95,
    "start_time": "2021-10-15T10:48:20.901Z"
   },
   {
    "duration": 12,
    "start_time": "2021-10-15T10:48:20.998Z"
   },
   {
    "duration": 92,
    "start_time": "2021-10-15T10:48:21.012Z"
   },
   {
    "duration": 16,
    "start_time": "2021-10-15T10:48:21.107Z"
   },
   {
    "duration": 923,
    "start_time": "2021-10-15T16:23:52.342Z"
   },
   {
    "duration": 15,
    "start_time": "2021-10-15T16:23:53.268Z"
   },
   {
    "duration": 18,
    "start_time": "2021-10-15T16:23:53.286Z"
   },
   {
    "duration": 14,
    "start_time": "2021-10-15T16:23:53.324Z"
   },
   {
    "duration": 9,
    "start_time": "2021-10-15T16:23:53.341Z"
   },
   {
    "duration": 18,
    "start_time": "2021-10-15T16:23:53.353Z"
   },
   {
    "duration": 24,
    "start_time": "2021-10-15T16:23:53.374Z"
   },
   {
    "duration": 6,
    "start_time": "2021-10-15T16:23:53.423Z"
   },
   {
    "duration": 15,
    "start_time": "2021-10-15T16:23:53.432Z"
   },
   {
    "duration": 9,
    "start_time": "2021-10-15T16:23:53.449Z"
   },
   {
    "duration": 80,
    "start_time": "2021-10-15T16:23:53.461Z"
   },
   {
    "duration": 13,
    "start_time": "2021-10-15T16:23:53.544Z"
   },
   {
    "duration": 9,
    "start_time": "2021-10-15T16:23:53.559Z"
   },
   {
    "duration": 57,
    "start_time": "2021-10-15T16:23:53.570Z"
   },
   {
    "duration": 7,
    "start_time": "2021-10-15T16:23:53.630Z"
   },
   {
    "duration": 20,
    "start_time": "2021-10-15T16:23:53.640Z"
   },
   {
    "duration": 11,
    "start_time": "2021-10-15T16:23:53.662Z"
   },
   {
    "duration": 9,
    "start_time": "2021-10-15T16:23:53.675Z"
   },
   {
    "duration": 71,
    "start_time": "2021-10-15T16:23:53.687Z"
   },
   {
    "duration": 13,
    "start_time": "2021-10-15T16:23:53.760Z"
   },
   {
    "duration": 10,
    "start_time": "2021-10-15T16:23:53.776Z"
   },
   {
    "duration": 67,
    "start_time": "2021-10-15T16:23:53.789Z"
   },
   {
    "duration": 16,
    "start_time": "2021-10-15T16:23:53.862Z"
   },
   {
    "duration": 47,
    "start_time": "2021-10-15T16:23:53.881Z"
   },
   {
    "duration": 18,
    "start_time": "2021-10-15T16:23:53.930Z"
   },
   {
    "duration": 38,
    "start_time": "2021-10-15T16:23:53.950Z"
   },
   {
    "duration": 84,
    "start_time": "2021-10-15T16:23:53.991Z"
   },
   {
    "duration": 5,
    "start_time": "2021-10-15T16:23:54.077Z"
   },
   {
    "duration": 66,
    "start_time": "2021-10-15T16:23:54.084Z"
   },
   {
    "duration": 29,
    "start_time": "2021-10-15T16:23:54.152Z"
   },
   {
    "duration": 85,
    "start_time": "2021-10-15T16:23:54.184Z"
   },
   {
    "duration": 73,
    "start_time": "2021-10-15T16:23:54.271Z"
   },
   {
    "duration": 10,
    "start_time": "2021-10-15T16:23:54.347Z"
   },
   {
    "duration": 12,
    "start_time": "2021-10-15T16:23:54.359Z"
   },
   {
    "duration": 25,
    "start_time": "2021-10-15T16:23:54.374Z"
   },
   {
    "duration": 63,
    "start_time": "2021-10-15T16:23:54.401Z"
   },
   {
    "duration": 19,
    "start_time": "2021-10-15T16:23:54.466Z"
   },
   {
    "duration": 7,
    "start_time": "2021-10-15T16:23:54.488Z"
   },
   {
    "duration": 27,
    "start_time": "2021-10-15T16:23:54.497Z"
   },
   {
    "duration": 19,
    "start_time": "2021-10-15T16:23:54.526Z"
   },
   {
    "duration": 3,
    "start_time": "2021-10-15T16:23:54.548Z"
   },
   {
    "duration": 10,
    "start_time": "2021-10-15T16:23:54.554Z"
   },
   {
    "duration": 8,
    "start_time": "2021-10-15T16:23:54.567Z"
   },
   {
    "duration": 913,
    "start_time": "2021-10-15T16:23:54.577Z"
   },
   {
    "duration": 6,
    "start_time": "2021-10-15T16:23:55.493Z"
   },
   {
    "duration": 24,
    "start_time": "2021-10-15T16:23:55.501Z"
   },
   {
    "duration": 6,
    "start_time": "2021-10-15T16:23:55.528Z"
   },
   {
    "duration": 1990,
    "start_time": "2021-10-15T16:23:55.537Z"
   },
   {
    "duration": 9,
    "start_time": "2021-10-15T16:23:57.530Z"
   },
   {
    "duration": 52,
    "start_time": "2021-10-15T16:23:57.542Z"
   },
   {
    "duration": 97,
    "start_time": "2021-10-15T16:23:57.597Z"
   },
   {
    "duration": 36,
    "start_time": "2021-10-15T16:23:57.697Z"
   },
   {
    "duration": 62,
    "start_time": "2021-10-15T16:23:57.736Z"
   },
   {
    "duration": 33,
    "start_time": "2021-10-15T16:23:57.800Z"
   },
   {
    "duration": 116,
    "start_time": "2021-10-15T16:23:57.836Z"
   },
   {
    "duration": 18,
    "start_time": "2021-10-15T16:23:57.954Z"
   },
   {
    "duration": 77,
    "start_time": "2021-10-15T16:23:57.975Z"
   },
   {
    "duration": 12,
    "start_time": "2021-10-15T16:23:58.055Z"
   },
   {
    "duration": 79,
    "start_time": "2021-10-15T16:23:58.069Z"
   },
   {
    "duration": 12,
    "start_time": "2021-10-15T16:23:58.150Z"
   },
   {
    "duration": 17,
    "start_time": "2021-10-15T16:35:00.360Z"
   },
   {
    "duration": 4,
    "start_time": "2021-10-17T07:58:32.429Z"
   },
   {
    "duration": 3,
    "start_time": "2021-10-17T07:58:41.000Z"
   },
   {
    "duration": 85,
    "start_time": "2021-10-17T07:58:51.944Z"
   },
   {
    "duration": 87,
    "start_time": "2021-10-17T07:58:56.352Z"
   },
   {
    "duration": 3,
    "start_time": "2021-10-17T07:59:00.855Z"
   },
   {
    "duration": 100,
    "start_time": "2021-10-17T07:59:18.759Z"
   },
   {
    "duration": 83,
    "start_time": "2021-10-17T07:59:25.135Z"
   },
   {
    "duration": 82,
    "start_time": "2021-10-17T08:37:21.065Z"
   },
   {
    "duration": 796,
    "start_time": "2021-10-17T08:37:32.049Z"
   },
   {
    "duration": 7,
    "start_time": "2021-10-17T08:42:37.848Z"
   },
   {
    "duration": 7,
    "start_time": "2021-10-17T08:43:12.155Z"
   },
   {
    "duration": 322,
    "start_time": "2021-10-17T08:43:36.241Z"
   },
   {
    "duration": 6,
    "start_time": "2021-10-17T08:44:42.728Z"
   },
   {
    "duration": 7,
    "start_time": "2021-10-17T08:44:46.587Z"
   },
   {
    "duration": 343,
    "start_time": "2021-10-17T08:45:08.784Z"
   },
   {
    "duration": 6,
    "start_time": "2021-10-17T08:45:28.201Z"
   },
   {
    "duration": 7,
    "start_time": "2021-10-17T08:45:32.833Z"
   },
   {
    "duration": 835,
    "start_time": "2021-10-17T08:45:38.940Z"
   },
   {
    "duration": 10,
    "start_time": "2021-10-17T08:45:39.777Z"
   },
   {
    "duration": 12,
    "start_time": "2021-10-17T08:45:39.789Z"
   },
   {
    "duration": 15,
    "start_time": "2021-10-17T08:45:39.802Z"
   },
   {
    "duration": 27,
    "start_time": "2021-10-17T08:45:39.818Z"
   },
   {
    "duration": 7,
    "start_time": "2021-10-17T08:45:39.846Z"
   },
   {
    "duration": 10,
    "start_time": "2021-10-17T08:45:39.854Z"
   },
   {
    "duration": 13,
    "start_time": "2021-10-17T08:45:39.868Z"
   },
   {
    "duration": 6,
    "start_time": "2021-10-17T08:45:39.883Z"
   },
   {
    "duration": 10,
    "start_time": "2021-10-17T08:45:39.890Z"
   },
   {
    "duration": 8,
    "start_time": "2021-10-17T08:45:39.902Z"
   },
   {
    "duration": 50,
    "start_time": "2021-10-17T08:45:39.911Z"
   },
   {
    "duration": 9,
    "start_time": "2021-10-17T08:45:39.963Z"
   },
   {
    "duration": 8,
    "start_time": "2021-10-17T08:45:39.974Z"
   },
   {
    "duration": 13,
    "start_time": "2021-10-17T08:45:39.984Z"
   },
   {
    "duration": 4,
    "start_time": "2021-10-17T08:45:39.998Z"
   },
   {
    "duration": 41,
    "start_time": "2021-10-17T08:45:40.004Z"
   },
   {
    "duration": 12,
    "start_time": "2021-10-17T08:45:40.048Z"
   },
   {
    "duration": 6,
    "start_time": "2021-10-17T08:45:40.061Z"
   },
   {
    "duration": 24,
    "start_time": "2021-10-17T08:45:40.069Z"
   },
   {
    "duration": 8,
    "start_time": "2021-10-17T08:45:40.095Z"
   },
   {
    "duration": 7,
    "start_time": "2021-10-17T08:45:40.105Z"
   },
   {
    "duration": 42,
    "start_time": "2021-10-17T08:45:40.115Z"
   },
   {
    "duration": 9,
    "start_time": "2021-10-17T08:45:40.160Z"
   },
   {
    "duration": 12,
    "start_time": "2021-10-17T08:45:40.171Z"
   },
   {
    "duration": 12,
    "start_time": "2021-10-17T08:45:40.185Z"
   },
   {
    "duration": 27,
    "start_time": "2021-10-17T08:45:40.198Z"
   },
   {
    "duration": 54,
    "start_time": "2021-10-17T08:45:40.226Z"
   },
   {
    "duration": 3,
    "start_time": "2021-10-17T08:45:40.281Z"
   },
   {
    "duration": 25,
    "start_time": "2021-10-17T08:45:40.286Z"
   },
   {
    "duration": 32,
    "start_time": "2021-10-17T08:45:40.312Z"
   },
   {
    "duration": 19,
    "start_time": "2021-10-17T08:45:40.346Z"
   },
   {
    "duration": 36,
    "start_time": "2021-10-17T08:45:40.367Z"
   },
   {
    "duration": 62,
    "start_time": "2021-10-17T08:45:40.405Z"
   },
   {
    "duration": 7,
    "start_time": "2021-10-17T08:45:40.469Z"
   },
   {
    "duration": 8,
    "start_time": "2021-10-17T08:45:40.478Z"
   },
   {
    "duration": 14,
    "start_time": "2021-10-17T08:45:40.488Z"
   },
   {
    "duration": 34,
    "start_time": "2021-10-17T08:45:40.504Z"
   },
   {
    "duration": 13,
    "start_time": "2021-10-17T08:45:40.539Z"
   },
   {
    "duration": 5,
    "start_time": "2021-10-17T08:45:40.554Z"
   },
   {
    "duration": 4,
    "start_time": "2021-10-17T08:45:40.560Z"
   },
   {
    "duration": 16,
    "start_time": "2021-10-17T08:45:40.565Z"
   },
   {
    "duration": 3,
    "start_time": "2021-10-17T08:45:40.583Z"
   },
   {
    "duration": 11,
    "start_time": "2021-10-17T08:45:40.588Z"
   },
   {
    "duration": 9,
    "start_time": "2021-10-17T08:45:40.601Z"
   },
   {
    "duration": 646,
    "start_time": "2021-10-17T08:45:40.612Z"
   },
   {
    "duration": 4,
    "start_time": "2021-10-17T08:45:41.260Z"
   },
   {
    "duration": 10,
    "start_time": "2021-10-17T08:45:41.265Z"
   },
   {
    "duration": 9,
    "start_time": "2021-10-17T08:45:41.276Z"
   },
   {
    "duration": 1403,
    "start_time": "2021-10-17T08:45:41.287Z"
   },
   {
    "duration": 9,
    "start_time": "2021-10-17T08:45:42.692Z"
   },
   {
    "duration": 47,
    "start_time": "2021-10-17T08:45:42.702Z"
   },
   {
    "duration": 43,
    "start_time": "2021-10-17T08:45:42.751Z"
   },
   {
    "duration": 14,
    "start_time": "2021-10-17T08:45:42.796Z"
   },
   {
    "duration": 57,
    "start_time": "2021-10-17T08:45:42.812Z"
   },
   {
    "duration": 8,
    "start_time": "2021-10-17T08:45:42.870Z"
   },
   {
    "duration": 48,
    "start_time": "2021-10-17T08:45:42.880Z"
   },
   {
    "duration": 26,
    "start_time": "2021-10-17T08:45:42.930Z"
   },
   {
    "duration": 37,
    "start_time": "2021-10-17T08:45:42.958Z"
   },
   {
    "duration": 10,
    "start_time": "2021-10-17T08:45:42.997Z"
   },
   {
    "duration": 68,
    "start_time": "2021-10-17T08:45:43.009Z"
   },
   {
    "duration": 9,
    "start_time": "2021-10-17T08:45:43.079Z"
   },
   {
    "duration": 4,
    "start_time": "2021-10-17T08:46:25.207Z"
   },
   {
    "duration": 8,
    "start_time": "2021-10-17T08:46:29.892Z"
   },
   {
    "duration": 8,
    "start_time": "2021-10-17T08:46:47.569Z"
   },
   {
    "duration": 1324,
    "start_time": "2021-10-17T08:51:58.000Z"
   },
   {
    "duration": 387,
    "start_time": "2021-10-17T08:52:24.695Z"
   },
   {
    "duration": 285,
    "start_time": "2021-10-17T08:52:45.239Z"
   },
   {
    "duration": 25,
    "start_time": "2021-10-17T08:53:00.147Z"
   },
   {
    "duration": 854,
    "start_time": "2021-10-17T08:53:15.325Z"
   },
   {
    "duration": 11,
    "start_time": "2021-10-17T08:53:16.181Z"
   },
   {
    "duration": 13,
    "start_time": "2021-10-17T08:53:16.194Z"
   },
   {
    "duration": 13,
    "start_time": "2021-10-17T08:53:16.208Z"
   },
   {
    "duration": 22,
    "start_time": "2021-10-17T08:53:16.223Z"
   },
   {
    "duration": 4,
    "start_time": "2021-10-17T08:53:16.246Z"
   },
   {
    "duration": 9,
    "start_time": "2021-10-17T08:53:16.251Z"
   },
   {
    "duration": 4,
    "start_time": "2021-10-17T08:53:16.262Z"
   },
   {
    "duration": 11,
    "start_time": "2021-10-17T08:53:16.268Z"
   },
   {
    "duration": 7,
    "start_time": "2021-10-17T08:53:16.280Z"
   },
   {
    "duration": 56,
    "start_time": "2021-10-17T08:53:16.289Z"
   },
   {
    "duration": 11,
    "start_time": "2021-10-17T08:53:16.347Z"
   },
   {
    "duration": 23,
    "start_time": "2021-10-17T08:53:16.360Z"
   },
   {
    "duration": 5,
    "start_time": "2021-10-17T08:53:16.385Z"
   },
   {
    "duration": 13,
    "start_time": "2021-10-17T08:53:16.391Z"
   },
   {
    "duration": 5,
    "start_time": "2021-10-17T08:53:16.405Z"
   },
   {
    "duration": 44,
    "start_time": "2021-10-17T08:53:16.411Z"
   },
   {
    "duration": 8,
    "start_time": "2021-10-17T08:53:16.457Z"
   },
   {
    "duration": 8,
    "start_time": "2021-10-17T08:53:16.467Z"
   },
   {
    "duration": 23,
    "start_time": "2021-10-17T08:53:16.476Z"
   },
   {
    "duration": 9,
    "start_time": "2021-10-17T08:53:16.501Z"
   },
   {
    "duration": 34,
    "start_time": "2021-10-17T08:53:16.511Z"
   },
   {
    "duration": 26,
    "start_time": "2021-10-17T08:53:16.549Z"
   },
   {
    "duration": 11,
    "start_time": "2021-10-17T08:53:16.577Z"
   },
   {
    "duration": 20,
    "start_time": "2021-10-17T08:53:16.589Z"
   },
   {
    "duration": 12,
    "start_time": "2021-10-17T08:53:16.611Z"
   },
   {
    "duration": 22,
    "start_time": "2021-10-17T08:53:16.644Z"
   },
   {
    "duration": 38,
    "start_time": "2021-10-17T08:53:16.668Z"
   },
   {
    "duration": 4,
    "start_time": "2021-10-17T08:53:16.708Z"
   },
   {
    "duration": 47,
    "start_time": "2021-10-17T08:53:16.713Z"
   },
   {
    "duration": 11,
    "start_time": "2021-10-17T08:53:16.761Z"
   },
   {
    "duration": 19,
    "start_time": "2021-10-17T08:53:16.773Z"
   },
   {
    "duration": 56,
    "start_time": "2021-10-17T08:53:16.793Z"
   },
   {
    "duration": 38,
    "start_time": "2021-10-17T08:53:16.851Z"
   },
   {
    "duration": 7,
    "start_time": "2021-10-17T08:53:16.891Z"
   },
   {
    "duration": 3,
    "start_time": "2021-10-17T08:53:16.899Z"
   },
   {
    "duration": 11,
    "start_time": "2021-10-17T08:53:16.904Z"
   },
   {
    "duration": 47,
    "start_time": "2021-10-17T08:53:16.916Z"
   },
   {
    "duration": 8,
    "start_time": "2021-10-17T08:53:16.965Z"
   },
   {
    "duration": 5,
    "start_time": "2021-10-17T08:53:16.975Z"
   },
   {
    "duration": 3,
    "start_time": "2021-10-17T08:53:16.981Z"
   },
   {
    "duration": 6,
    "start_time": "2021-10-17T08:53:16.986Z"
   },
   {
    "duration": 8,
    "start_time": "2021-10-17T08:53:16.993Z"
   },
   {
    "duration": 5,
    "start_time": "2021-10-17T08:53:17.002Z"
   },
   {
    "duration": 38,
    "start_time": "2021-10-17T08:53:17.008Z"
   },
   {
    "duration": 662,
    "start_time": "2021-10-17T08:53:17.047Z"
   },
   {
    "duration": 5,
    "start_time": "2021-10-17T08:53:17.711Z"
   },
   {
    "duration": 14,
    "start_time": "2021-10-17T08:53:17.717Z"
   },
   {
    "duration": 16,
    "start_time": "2021-10-17T08:53:17.733Z"
   },
   {
    "duration": 1327,
    "start_time": "2021-10-17T08:53:17.751Z"
   },
   {
    "duration": 7,
    "start_time": "2021-10-17T08:53:19.080Z"
   },
   {
    "duration": 27,
    "start_time": "2021-10-17T08:53:19.089Z"
   },
   {
    "duration": 63,
    "start_time": "2021-10-17T08:53:19.118Z"
   },
   {
    "duration": 9,
    "start_time": "2021-10-17T08:53:19.183Z"
   },
   {
    "duration": 52,
    "start_time": "2021-10-17T08:53:19.193Z"
   },
   {
    "duration": 9,
    "start_time": "2021-10-17T08:53:19.247Z"
   },
   {
    "duration": 45,
    "start_time": "2021-10-17T08:53:19.258Z"
   },
   {
    "duration": 10,
    "start_time": "2021-10-17T08:53:19.305Z"
   },
   {
    "duration": 58,
    "start_time": "2021-10-17T08:53:19.317Z"
   },
   {
    "duration": 8,
    "start_time": "2021-10-17T08:53:19.377Z"
   },
   {
    "duration": 38,
    "start_time": "2021-10-17T08:53:19.387Z"
   },
   {
    "duration": 25,
    "start_time": "2021-10-17T08:53:19.427Z"
   },
   {
    "duration": 20,
    "start_time": "2021-10-17T08:54:06.191Z"
   },
   {
    "duration": 26,
    "start_time": "2021-10-17T08:54:26.283Z"
   },
   {
    "duration": 20,
    "start_time": "2021-10-17T08:54:53.420Z"
   },
   {
    "duration": 26,
    "start_time": "2021-10-17T08:54:59.444Z"
   },
   {
    "duration": 19,
    "start_time": "2021-10-17T08:55:09.397Z"
   },
   {
    "duration": 13,
    "start_time": "2021-10-17T08:55:25.405Z"
   },
   {
    "duration": 12,
    "start_time": "2021-10-17T08:55:48.548Z"
   },
   {
    "duration": 12,
    "start_time": "2021-10-17T08:56:19.646Z"
   },
   {
    "duration": 318,
    "start_time": "2021-10-17T08:57:34.574Z"
   },
   {
    "duration": 12,
    "start_time": "2021-10-17T08:57:42.536Z"
   },
   {
    "duration": 827,
    "start_time": "2021-10-17T09:00:29.821Z"
   },
   {
    "duration": 10,
    "start_time": "2021-10-17T09:00:30.650Z"
   },
   {
    "duration": 23,
    "start_time": "2021-10-17T09:00:30.662Z"
   },
   {
    "duration": 19,
    "start_time": "2021-10-17T09:00:30.687Z"
   },
   {
    "duration": 12,
    "start_time": "2021-10-17T09:00:30.707Z"
   },
   {
    "duration": 15,
    "start_time": "2021-10-17T09:00:30.721Z"
   },
   {
    "duration": 28,
    "start_time": "2021-10-17T09:00:30.737Z"
   },
   {
    "duration": 16,
    "start_time": "2021-10-17T09:00:30.767Z"
   },
   {
    "duration": 20,
    "start_time": "2021-10-17T09:00:30.785Z"
   },
   {
    "duration": 27,
    "start_time": "2021-10-17T09:00:30.807Z"
   },
   {
    "duration": 45,
    "start_time": "2021-10-17T09:00:30.835Z"
   },
   {
    "duration": 18,
    "start_time": "2021-10-17T09:00:30.881Z"
   },
   {
    "duration": 40,
    "start_time": "2021-10-17T09:00:30.901Z"
   },
   {
    "duration": 28,
    "start_time": "2021-10-17T09:00:30.943Z"
   },
   {
    "duration": 32,
    "start_time": "2021-10-17T09:00:30.972Z"
   },
   {
    "duration": 16,
    "start_time": "2021-10-17T09:00:31.006Z"
   },
   {
    "duration": 39,
    "start_time": "2021-10-17T09:00:31.024Z"
   },
   {
    "duration": 28,
    "start_time": "2021-10-17T09:00:31.064Z"
   },
   {
    "duration": 25,
    "start_time": "2021-10-17T09:00:31.094Z"
   },
   {
    "duration": 35,
    "start_time": "2021-10-17T09:00:31.120Z"
   },
   {
    "duration": 8,
    "start_time": "2021-10-17T09:00:31.157Z"
   },
   {
    "duration": 38,
    "start_time": "2021-10-17T09:00:31.167Z"
   },
   {
    "duration": 37,
    "start_time": "2021-10-17T09:00:31.208Z"
   },
   {
    "duration": 17,
    "start_time": "2021-10-17T09:00:31.247Z"
   },
   {
    "duration": 21,
    "start_time": "2021-10-17T09:00:31.265Z"
   },
   {
    "duration": 30,
    "start_time": "2021-10-17T09:00:31.288Z"
   },
   {
    "duration": 38,
    "start_time": "2021-10-17T09:00:31.319Z"
   },
   {
    "duration": 37,
    "start_time": "2021-10-17T09:00:31.358Z"
   },
   {
    "duration": 4,
    "start_time": "2021-10-17T09:00:31.397Z"
   },
   {
    "duration": 48,
    "start_time": "2021-10-17T09:00:31.402Z"
   },
   {
    "duration": 25,
    "start_time": "2021-10-17T09:00:31.452Z"
   },
   {
    "duration": 33,
    "start_time": "2021-10-17T09:00:31.479Z"
   },
   {
    "duration": 42,
    "start_time": "2021-10-17T09:00:31.514Z"
   },
   {
    "duration": 38,
    "start_time": "2021-10-17T09:00:31.557Z"
   },
   {
    "duration": 8,
    "start_time": "2021-10-17T09:00:31.596Z"
   },
   {
    "duration": 21,
    "start_time": "2021-10-17T09:00:31.605Z"
   },
   {
    "duration": 53,
    "start_time": "2021-10-17T09:00:31.627Z"
   },
   {
    "duration": 37,
    "start_time": "2021-10-17T09:00:31.681Z"
   },
   {
    "duration": 16,
    "start_time": "2021-10-17T09:00:31.719Z"
   },
   {
    "duration": 21,
    "start_time": "2021-10-17T09:00:31.736Z"
   },
   {
    "duration": 45,
    "start_time": "2021-10-17T09:00:31.759Z"
   },
   {
    "duration": 26,
    "start_time": "2021-10-17T09:00:31.805Z"
   },
   {
    "duration": 19,
    "start_time": "2021-10-17T09:00:31.833Z"
   },
   {
    "duration": 27,
    "start_time": "2021-10-17T09:00:31.854Z"
   },
   {
    "duration": 22,
    "start_time": "2021-10-17T09:00:31.883Z"
   },
   {
    "duration": 668,
    "start_time": "2021-10-17T09:00:31.907Z"
   },
   {
    "duration": 4,
    "start_time": "2021-10-17T09:00:32.577Z"
   },
   {
    "duration": 24,
    "start_time": "2021-10-17T09:00:32.582Z"
   },
   {
    "duration": 18,
    "start_time": "2021-10-17T09:00:32.608Z"
   },
   {
    "duration": 1358,
    "start_time": "2021-10-17T09:00:32.627Z"
   },
   {
    "duration": 6,
    "start_time": "2021-10-17T09:00:33.987Z"
   },
   {
    "duration": 43,
    "start_time": "2021-10-17T09:00:33.995Z"
   },
   {
    "duration": 45,
    "start_time": "2021-10-17T09:00:34.040Z"
   },
   {
    "duration": 9,
    "start_time": "2021-10-17T09:00:34.087Z"
   },
   {
    "duration": 48,
    "start_time": "2021-10-17T09:00:34.097Z"
   },
   {
    "duration": 8,
    "start_time": "2021-10-17T09:00:34.146Z"
   },
   {
    "duration": 64,
    "start_time": "2021-10-17T09:00:34.155Z"
   },
   {
    "duration": 10,
    "start_time": "2021-10-17T09:00:34.221Z"
   },
   {
    "duration": 50,
    "start_time": "2021-10-17T09:00:34.233Z"
   },
   {
    "duration": 7,
    "start_time": "2021-10-17T09:00:34.285Z"
   },
   {
    "duration": 49,
    "start_time": "2021-10-17T09:00:34.293Z"
   },
   {
    "duration": 7,
    "start_time": "2021-10-17T09:00:34.344Z"
   },
   {
    "duration": 401,
    "start_time": "2021-10-17T09:08:15.030Z"
   },
   {
    "duration": 252,
    "start_time": "2021-10-17T09:08:47.963Z"
   },
   {
    "duration": 255,
    "start_time": "2021-10-17T09:09:24.230Z"
   },
   {
    "duration": 290,
    "start_time": "2021-10-17T09:28:30.577Z"
   },
   {
    "duration": 6,
    "start_time": "2021-10-17T09:30:21.148Z"
   },
   {
    "duration": 25,
    "start_time": "2021-10-17T09:30:38.656Z"
   },
   {
    "duration": 8,
    "start_time": "2021-10-17T09:31:07.764Z"
   },
   {
    "duration": 8,
    "start_time": "2021-10-17T09:31:49.384Z"
   },
   {
    "duration": 8,
    "start_time": "2021-10-17T09:31:55.697Z"
   },
   {
    "duration": 9,
    "start_time": "2021-10-17T09:32:02.350Z"
   },
   {
    "duration": 866,
    "start_time": "2021-10-17T09:32:16.693Z"
   },
   {
    "duration": 10,
    "start_time": "2021-10-17T09:32:17.560Z"
   },
   {
    "duration": 11,
    "start_time": "2021-10-17T09:32:17.572Z"
   },
   {
    "duration": 11,
    "start_time": "2021-10-17T09:32:17.585Z"
   },
   {
    "duration": 6,
    "start_time": "2021-10-17T09:32:17.598Z"
   },
   {
    "duration": 5,
    "start_time": "2021-10-17T09:32:17.606Z"
   },
   {
    "duration": 34,
    "start_time": "2021-10-17T09:32:17.612Z"
   },
   {
    "duration": 5,
    "start_time": "2021-10-17T09:32:17.649Z"
   },
   {
    "duration": 10,
    "start_time": "2021-10-17T09:32:17.656Z"
   },
   {
    "duration": 15,
    "start_time": "2021-10-17T09:32:17.668Z"
   },
   {
    "duration": 28,
    "start_time": "2021-10-17T09:32:17.685Z"
   },
   {
    "duration": 35,
    "start_time": "2021-10-17T09:32:17.715Z"
   },
   {
    "duration": 15,
    "start_time": "2021-10-17T09:32:17.752Z"
   },
   {
    "duration": 6,
    "start_time": "2021-10-17T09:32:17.769Z"
   },
   {
    "duration": 12,
    "start_time": "2021-10-17T09:32:17.777Z"
   },
   {
    "duration": 4,
    "start_time": "2021-10-17T09:32:17.791Z"
   },
   {
    "duration": 56,
    "start_time": "2021-10-17T09:32:17.796Z"
   },
   {
    "duration": 6,
    "start_time": "2021-10-17T09:32:17.854Z"
   },
   {
    "duration": 6,
    "start_time": "2021-10-17T09:32:17.862Z"
   },
   {
    "duration": 22,
    "start_time": "2021-10-17T09:32:17.870Z"
   },
   {
    "duration": 8,
    "start_time": "2021-10-17T09:32:17.894Z"
   },
   {
    "duration": 7,
    "start_time": "2021-10-17T09:32:17.904Z"
   },
   {
    "duration": 51,
    "start_time": "2021-10-17T09:32:17.913Z"
   },
   {
    "duration": 10,
    "start_time": "2021-10-17T09:32:17.966Z"
   },
   {
    "duration": 12,
    "start_time": "2021-10-17T09:32:17.978Z"
   },
   {
    "duration": 14,
    "start_time": "2021-10-17T09:32:17.991Z"
   },
   {
    "duration": 47,
    "start_time": "2021-10-17T09:32:18.007Z"
   },
   {
    "duration": 40,
    "start_time": "2021-10-17T09:32:18.055Z"
   },
   {
    "duration": 3,
    "start_time": "2021-10-17T09:32:18.097Z"
   },
   {
    "duration": 43,
    "start_time": "2021-10-17T09:32:18.102Z"
   },
   {
    "duration": 9,
    "start_time": "2021-10-17T09:32:18.147Z"
   },
   {
    "duration": 330,
    "start_time": "2021-10-17T09:32:18.158Z"
   },
   {
    "duration": -3152,
    "start_time": "2021-10-17T09:32:21.644Z"
   },
   {
    "duration": -3162,
    "start_time": "2021-10-17T09:32:21.655Z"
   },
   {
    "duration": -3355,
    "start_time": "2021-10-17T09:32:21.848Z"
   },
   {
    "duration": -3373,
    "start_time": "2021-10-17T09:32:21.867Z"
   },
   {
    "duration": -3420,
    "start_time": "2021-10-17T09:32:21.915Z"
   },
   {
    "duration": -3495,
    "start_time": "2021-10-17T09:32:21.991Z"
   },
   {
    "duration": -3511,
    "start_time": "2021-10-17T09:32:22.008Z"
   },
   {
    "duration": -3529,
    "start_time": "2021-10-17T09:32:22.027Z"
   },
   {
    "duration": -3548,
    "start_time": "2021-10-17T09:32:22.047Z"
   },
   {
    "duration": -3585,
    "start_time": "2021-10-17T09:32:22.085Z"
   },
   {
    "duration": -3607,
    "start_time": "2021-10-17T09:32:22.108Z"
   },
   {
    "duration": -3673,
    "start_time": "2021-10-17T09:32:22.175Z"
   },
   {
    "duration": -3690,
    "start_time": "2021-10-17T09:32:22.193Z"
   },
   {
    "duration": -3709,
    "start_time": "2021-10-17T09:32:22.213Z"
   },
   {
    "duration": -3733,
    "start_time": "2021-10-17T09:32:22.238Z"
   },
   {
    "duration": -3759,
    "start_time": "2021-10-17T09:32:22.265Z"
   },
   {
    "duration": -3817,
    "start_time": "2021-10-17T09:32:22.323Z"
   },
   {
    "duration": -3833,
    "start_time": "2021-10-17T09:32:22.340Z"
   },
   {
    "duration": -3850,
    "start_time": "2021-10-17T09:32:22.358Z"
   },
   {
    "duration": -3871,
    "start_time": "2021-10-17T09:32:22.380Z"
   },
   {
    "duration": -3886,
    "start_time": "2021-10-17T09:32:22.396Z"
   },
   {
    "duration": -3897,
    "start_time": "2021-10-17T09:32:22.408Z"
   },
   {
    "duration": -3930,
    "start_time": "2021-10-17T09:32:22.442Z"
   },
   {
    "duration": -3942,
    "start_time": "2021-10-17T09:32:22.455Z"
   },
   {
    "duration": -3951,
    "start_time": "2021-10-17T09:32:22.465Z"
   },
   {
    "duration": -3969,
    "start_time": "2021-10-17T09:32:22.483Z"
   },
   {
    "duration": -3981,
    "start_time": "2021-10-17T09:32:22.496Z"
   },
   {
    "duration": -3998,
    "start_time": "2021-10-17T09:32:22.514Z"
   },
   {
    "duration": -4013,
    "start_time": "2021-10-17T09:32:22.530Z"
   },
   {
    "duration": -4052,
    "start_time": "2021-10-17T09:32:22.570Z"
   },
   {
    "duration": -4065,
    "start_time": "2021-10-17T09:32:22.584Z"
   },
   {
    "duration": -4075,
    "start_time": "2021-10-17T09:32:22.595Z"
   },
   {
    "duration": -4084,
    "start_time": "2021-10-17T09:32:22.605Z"
   },
   {
    "duration": 10,
    "start_time": "2021-10-17T09:32:34.631Z"
   },
   {
    "duration": 9,
    "start_time": "2021-10-17T09:32:40.500Z"
   },
   {
    "duration": 87,
    "start_time": "2021-10-17T09:32:53.046Z"
   },
   {
    "duration": 23,
    "start_time": "2021-10-17T09:32:58.890Z"
   },
   {
    "duration": 25,
    "start_time": "2021-10-17T09:33:08.906Z"
   },
   {
    "duration": 3482,
    "start_time": "2021-10-17T09:33:43.943Z"
   },
   {
    "duration": 3859,
    "start_time": "2021-10-17T09:34:07.675Z"
   },
   {
    "duration": 3256,
    "start_time": "2021-10-17T09:34:18.954Z"
   },
   {
    "duration": 3192,
    "start_time": "2021-10-17T09:34:31.646Z"
   },
   {
    "duration": 3387,
    "start_time": "2021-10-17T09:34:47.275Z"
   },
   {
    "duration": 832,
    "start_time": "2021-10-17T09:35:14.623Z"
   },
   {
    "duration": 11,
    "start_time": "2021-10-17T09:35:15.457Z"
   },
   {
    "duration": 13,
    "start_time": "2021-10-17T09:35:15.469Z"
   },
   {
    "duration": 12,
    "start_time": "2021-10-17T09:35:15.483Z"
   },
   {
    "duration": 7,
    "start_time": "2021-10-17T09:35:15.497Z"
   },
   {
    "duration": 7,
    "start_time": "2021-10-17T09:35:15.506Z"
   },
   {
    "duration": 37,
    "start_time": "2021-10-17T09:35:15.514Z"
   },
   {
    "duration": 9,
    "start_time": "2021-10-17T09:35:15.554Z"
   },
   {
    "duration": 11,
    "start_time": "2021-10-17T09:35:15.565Z"
   },
   {
    "duration": 8,
    "start_time": "2021-10-17T09:35:15.578Z"
   },
   {
    "duration": 30,
    "start_time": "2021-10-17T09:35:15.587Z"
   },
   {
    "duration": 33,
    "start_time": "2021-10-17T09:35:15.619Z"
   },
   {
    "duration": 14,
    "start_time": "2021-10-17T09:35:15.654Z"
   },
   {
    "duration": 7,
    "start_time": "2021-10-17T09:35:15.670Z"
   },
   {
    "duration": 15,
    "start_time": "2021-10-17T09:35:15.678Z"
   },
   {
    "duration": 6,
    "start_time": "2021-10-17T09:35:15.695Z"
   },
   {
    "duration": 47,
    "start_time": "2021-10-17T09:35:15.702Z"
   },
   {
    "duration": 8,
    "start_time": "2021-10-17T09:35:15.752Z"
   },
   {
    "duration": 8,
    "start_time": "2021-10-17T09:35:15.762Z"
   },
   {
    "duration": 22,
    "start_time": "2021-10-17T09:35:15.772Z"
   },
   {
    "duration": 9,
    "start_time": "2021-10-17T09:35:15.796Z"
   },
   {
    "duration": 44,
    "start_time": "2021-10-17T09:35:15.807Z"
   },
   {
    "duration": 23,
    "start_time": "2021-10-17T09:35:15.856Z"
   },
   {
    "duration": 10,
    "start_time": "2021-10-17T09:35:15.881Z"
   },
   {
    "duration": 12,
    "start_time": "2021-10-17T09:35:15.892Z"
   },
   {
    "duration": 39,
    "start_time": "2021-10-17T09:35:15.906Z"
   },
   {
    "duration": 24,
    "start_time": "2021-10-17T09:35:15.947Z"
   },
   {
    "duration": 40,
    "start_time": "2021-10-17T09:35:15.972Z"
   },
   {
    "duration": 3,
    "start_time": "2021-10-17T09:35:16.014Z"
   },
   {
    "duration": 45,
    "start_time": "2021-10-17T09:35:16.019Z"
   },
   {
    "duration": 5,
    "start_time": "2021-10-17T09:35:16.066Z"
   },
   {
    "duration": 323,
    "start_time": "2021-10-17T09:35:16.073Z"
   },
   {
    "duration": -1719,
    "start_time": "2021-10-17T09:35:18.117Z"
   },
   {
    "duration": -1729,
    "start_time": "2021-10-17T09:35:18.128Z"
   },
   {
    "duration": -1739,
    "start_time": "2021-10-17T09:35:18.138Z"
   },
   {
    "duration": -1749,
    "start_time": "2021-10-17T09:35:18.149Z"
   },
   {
    "duration": -1756,
    "start_time": "2021-10-17T09:35:18.157Z"
   },
   {
    "duration": -1768,
    "start_time": "2021-10-17T09:35:18.170Z"
   },
   {
    "duration": -1776,
    "start_time": "2021-10-17T09:35:18.179Z"
   },
   {
    "duration": -1883,
    "start_time": "2021-10-17T09:35:18.287Z"
   },
   {
    "duration": -1892,
    "start_time": "2021-10-17T09:35:18.297Z"
   },
   {
    "duration": -1907,
    "start_time": "2021-10-17T09:35:18.313Z"
   },
   {
    "duration": -1919,
    "start_time": "2021-10-17T09:35:18.326Z"
   },
   {
    "duration": -1932,
    "start_time": "2021-10-17T09:35:18.340Z"
   },
   {
    "duration": -1943,
    "start_time": "2021-10-17T09:35:18.352Z"
   },
   {
    "duration": -1954,
    "start_time": "2021-10-17T09:35:18.364Z"
   },
   {
    "duration": -1979,
    "start_time": "2021-10-17T09:35:18.389Z"
   },
   {
    "duration": -1996,
    "start_time": "2021-10-17T09:35:18.407Z"
   },
   {
    "duration": -2011,
    "start_time": "2021-10-17T09:35:18.423Z"
   },
   {
    "duration": -2381,
    "start_time": "2021-10-17T09:35:18.794Z"
   },
   {
    "duration": -2390,
    "start_time": "2021-10-17T09:35:18.804Z"
   },
   {
    "duration": -2401,
    "start_time": "2021-10-17T09:35:18.815Z"
   },
   {
    "duration": -2408,
    "start_time": "2021-10-17T09:35:18.823Z"
   },
   {
    "duration": -2434,
    "start_time": "2021-10-17T09:35:18.850Z"
   },
   {
    "duration": -2443,
    "start_time": "2021-10-17T09:35:18.860Z"
   },
   {
    "duration": -2454,
    "start_time": "2021-10-17T09:35:18.872Z"
   },
   {
    "duration": -2464,
    "start_time": "2021-10-17T09:35:18.883Z"
   },
   {
    "duration": -2486,
    "start_time": "2021-10-17T09:35:18.906Z"
   },
   {
    "duration": -2500,
    "start_time": "2021-10-17T09:35:18.921Z"
   },
   {
    "duration": -2514,
    "start_time": "2021-10-17T09:35:18.935Z"
   },
   {
    "duration": -2541,
    "start_time": "2021-10-17T09:35:18.963Z"
   },
   {
    "duration": -2598,
    "start_time": "2021-10-17T09:35:19.021Z"
   },
   {
    "duration": -2627,
    "start_time": "2021-10-17T09:35:19.051Z"
   },
   {
    "duration": -2668,
    "start_time": "2021-10-17T09:35:19.093Z"
   },
   {
    "duration": -2682,
    "start_time": "2021-10-17T09:35:19.108Z"
   },
   {
    "duration": 270,
    "start_time": "2021-10-17T09:36:22.228Z"
   },
   {
    "duration": 4,
    "start_time": "2021-10-17T09:36:42.399Z"
   },
   {
    "duration": 25,
    "start_time": "2021-10-17T09:36:56.816Z"
   },
   {
    "duration": 4,
    "start_time": "2021-10-17T09:37:06.279Z"
   },
   {
    "duration": 4,
    "start_time": "2021-10-17T09:37:08.723Z"
   },
   {
    "duration": 22,
    "start_time": "2021-10-17T09:37:16.321Z"
   },
   {
    "duration": 5,
    "start_time": "2021-10-17T09:40:57.824Z"
   },
   {
    "duration": 21,
    "start_time": "2021-10-17T09:41:07.052Z"
   },
   {
    "duration": 4,
    "start_time": "2021-10-17T09:41:16.074Z"
   },
   {
    "duration": 24,
    "start_time": "2021-10-17T09:41:18.850Z"
   },
   {
    "duration": 801,
    "start_time": "2021-10-17T09:43:11.278Z"
   },
   {
    "duration": 11,
    "start_time": "2021-10-17T09:43:12.081Z"
   },
   {
    "duration": 18,
    "start_time": "2021-10-17T09:43:12.094Z"
   },
   {
    "duration": 44,
    "start_time": "2021-10-17T09:43:12.114Z"
   },
   {
    "duration": 36,
    "start_time": "2021-10-17T09:43:12.159Z"
   },
   {
    "duration": 28,
    "start_time": "2021-10-17T09:43:12.197Z"
   },
   {
    "duration": 55,
    "start_time": "2021-10-17T09:43:12.227Z"
   },
   {
    "duration": 29,
    "start_time": "2021-10-17T09:43:12.285Z"
   },
   {
    "duration": 37,
    "start_time": "2021-10-17T09:43:12.317Z"
   },
   {
    "duration": 27,
    "start_time": "2021-10-17T09:43:12.356Z"
   },
   {
    "duration": 40,
    "start_time": "2021-10-17T09:43:12.384Z"
   },
   {
    "duration": 37,
    "start_time": "2021-10-17T09:43:12.426Z"
   },
   {
    "duration": 51,
    "start_time": "2021-10-17T09:43:12.465Z"
   },
   {
    "duration": 8,
    "start_time": "2021-10-17T09:43:12.518Z"
   },
   {
    "duration": 37,
    "start_time": "2021-10-17T09:43:12.528Z"
   },
   {
    "duration": 38,
    "start_time": "2021-10-17T09:43:12.567Z"
   },
   {
    "duration": 28,
    "start_time": "2021-10-17T09:43:12.606Z"
   },
   {
    "duration": 49,
    "start_time": "2021-10-17T09:43:12.636Z"
   },
   {
    "duration": 28,
    "start_time": "2021-10-17T09:43:12.687Z"
   },
   {
    "duration": 22,
    "start_time": "2021-10-17T09:43:12.717Z"
   },
   {
    "duration": 8,
    "start_time": "2021-10-17T09:43:12.741Z"
   },
   {
    "duration": 12,
    "start_time": "2021-10-17T09:43:12.750Z"
   },
   {
    "duration": 26,
    "start_time": "2021-10-17T09:43:12.765Z"
   },
   {
    "duration": 10,
    "start_time": "2021-10-17T09:43:12.794Z"
   },
   {
    "duration": 13,
    "start_time": "2021-10-17T09:43:12.805Z"
   },
   {
    "duration": 30,
    "start_time": "2021-10-17T09:43:12.820Z"
   },
   {
    "duration": 30,
    "start_time": "2021-10-17T09:43:12.852Z"
   },
   {
    "duration": 38,
    "start_time": "2021-10-17T09:43:12.884Z"
   },
   {
    "duration": 3,
    "start_time": "2021-10-17T09:43:12.923Z"
   },
   {
    "duration": 33,
    "start_time": "2021-10-17T09:43:12.928Z"
   },
   {
    "duration": 3,
    "start_time": "2021-10-17T09:43:12.963Z"
   },
   {
    "duration": 14,
    "start_time": "2021-10-17T09:43:12.968Z"
   },
   {
    "duration": 5,
    "start_time": "2021-10-17T09:43:12.984Z"
   },
   {
    "duration": 30,
    "start_time": "2021-10-17T09:43:12.991Z"
   },
   {
    "duration": 24,
    "start_time": "2021-10-17T09:43:13.022Z"
   },
   {
    "duration": 18,
    "start_time": "2021-10-17T09:43:13.047Z"
   },
   {
    "duration": 32,
    "start_time": "2021-10-17T09:43:13.066Z"
   },
   {
    "duration": 57,
    "start_time": "2021-10-17T09:43:13.100Z"
   },
   {
    "duration": 7,
    "start_time": "2021-10-17T09:43:13.159Z"
   },
   {
    "duration": 7,
    "start_time": "2021-10-17T09:43:13.167Z"
   },
   {
    "duration": 29,
    "start_time": "2021-10-17T09:43:13.176Z"
   },
   {
    "duration": 29,
    "start_time": "2021-10-17T09:43:13.207Z"
   },
   {
    "duration": 22,
    "start_time": "2021-10-17T09:43:13.238Z"
   },
   {
    "duration": 16,
    "start_time": "2021-10-17T09:43:13.262Z"
   },
   {
    "duration": 33,
    "start_time": "2021-10-17T09:43:13.279Z"
   },
   {
    "duration": 39,
    "start_time": "2021-10-17T09:43:13.314Z"
   },
   {
    "duration": 13,
    "start_time": "2021-10-17T09:43:13.354Z"
   },
   {
    "duration": 16,
    "start_time": "2021-10-17T09:43:13.369Z"
   },
   {
    "duration": 22,
    "start_time": "2021-10-17T09:43:13.387Z"
   },
   {
    "duration": 650,
    "start_time": "2021-10-17T09:43:13.411Z"
   },
   {
    "duration": 4,
    "start_time": "2021-10-17T09:43:14.063Z"
   },
   {
    "duration": 25,
    "start_time": "2021-10-17T09:43:14.069Z"
   },
   {
    "duration": 15,
    "start_time": "2021-10-17T09:43:14.096Z"
   },
   {
    "duration": 1637,
    "start_time": "2021-10-17T09:43:14.113Z"
   },
   {
    "duration": 10,
    "start_time": "2021-10-17T09:43:15.752Z"
   },
   {
    "duration": 33,
    "start_time": "2021-10-17T09:43:15.764Z"
   },
   {
    "duration": 55,
    "start_time": "2021-10-17T09:43:15.799Z"
   },
   {
    "duration": 8,
    "start_time": "2021-10-17T09:43:15.856Z"
   },
   {
    "duration": 61,
    "start_time": "2021-10-17T09:43:15.866Z"
   },
   {
    "duration": 8,
    "start_time": "2021-10-17T09:43:15.929Z"
   },
   {
    "duration": 66,
    "start_time": "2021-10-17T09:43:15.938Z"
   },
   {
    "duration": 12,
    "start_time": "2021-10-17T09:43:16.006Z"
   },
   {
    "duration": 61,
    "start_time": "2021-10-17T09:43:16.019Z"
   },
   {
    "duration": 9,
    "start_time": "2021-10-17T09:43:16.082Z"
   },
   {
    "duration": 51,
    "start_time": "2021-10-17T09:43:16.092Z"
   },
   {
    "duration": 9,
    "start_time": "2021-10-17T09:43:16.145Z"
   },
   {
    "duration": 960,
    "start_time": "2021-10-17T19:22:33.676Z"
   },
   {
    "duration": 10,
    "start_time": "2021-10-17T19:22:34.637Z"
   },
   {
    "duration": 11,
    "start_time": "2021-10-17T19:22:34.649Z"
   },
   {
    "duration": 15,
    "start_time": "2021-10-17T19:22:34.662Z"
   },
   {
    "duration": 6,
    "start_time": "2021-10-17T19:22:34.678Z"
   },
   {
    "duration": 8,
    "start_time": "2021-10-17T19:22:34.685Z"
   },
   {
    "duration": 8,
    "start_time": "2021-10-17T19:22:34.694Z"
   },
   {
    "duration": 3,
    "start_time": "2021-10-17T19:22:34.704Z"
   },
   {
    "duration": 9,
    "start_time": "2021-10-17T19:22:34.709Z"
   },
   {
    "duration": 7,
    "start_time": "2021-10-17T19:22:34.719Z"
   },
   {
    "duration": 52,
    "start_time": "2021-10-17T19:22:34.728Z"
   },
   {
    "duration": 9,
    "start_time": "2021-10-17T19:22:34.782Z"
   },
   {
    "duration": 13,
    "start_time": "2021-10-17T19:22:34.792Z"
   },
   {
    "duration": 6,
    "start_time": "2021-10-17T19:22:34.807Z"
   },
   {
    "duration": 12,
    "start_time": "2021-10-17T19:22:34.814Z"
   },
   {
    "duration": 4,
    "start_time": "2021-10-17T19:22:34.827Z"
   },
   {
    "duration": 12,
    "start_time": "2021-10-17T19:22:34.833Z"
   },
   {
    "duration": 7,
    "start_time": "2021-10-17T19:22:34.877Z"
   },
   {
    "duration": 6,
    "start_time": "2021-10-17T19:22:34.886Z"
   },
   {
    "duration": 20,
    "start_time": "2021-10-17T19:22:34.893Z"
   },
   {
    "duration": 8,
    "start_time": "2021-10-17T19:22:34.914Z"
   },
   {
    "duration": 7,
    "start_time": "2021-10-17T19:22:34.923Z"
   },
   {
    "duration": 54,
    "start_time": "2021-10-17T19:22:34.934Z"
   },
   {
    "duration": 10,
    "start_time": "2021-10-17T19:22:34.990Z"
   },
   {
    "duration": 12,
    "start_time": "2021-10-17T19:22:35.001Z"
   },
   {
    "duration": 12,
    "start_time": "2021-10-17T19:22:35.015Z"
   },
   {
    "duration": 22,
    "start_time": "2021-10-17T19:22:35.028Z"
   },
   {
    "duration": 58,
    "start_time": "2021-10-17T19:22:35.051Z"
   },
   {
    "duration": 3,
    "start_time": "2021-10-17T19:22:35.110Z"
   },
   {
    "duration": 23,
    "start_time": "2021-10-17T19:22:35.115Z"
   },
   {
    "duration": 4,
    "start_time": "2021-10-17T19:22:35.139Z"
   },
   {
    "duration": 32,
    "start_time": "2021-10-17T19:22:35.144Z"
   },
   {
    "duration": 3,
    "start_time": "2021-10-17T19:22:35.178Z"
   },
   {
    "duration": 21,
    "start_time": "2021-10-17T19:22:35.183Z"
   },
   {
    "duration": 10,
    "start_time": "2021-10-17T19:22:35.206Z"
   },
   {
    "duration": 17,
    "start_time": "2021-10-17T19:22:35.218Z"
   },
   {
    "duration": 56,
    "start_time": "2021-10-17T19:22:35.236Z"
   },
   {
    "duration": 34,
    "start_time": "2021-10-17T19:22:35.294Z"
   },
   {
    "duration": 7,
    "start_time": "2021-10-17T19:22:35.330Z"
   },
   {
    "duration": 2,
    "start_time": "2021-10-17T19:22:35.339Z"
   },
   {
    "duration": 34,
    "start_time": "2021-10-17T19:22:35.343Z"
   },
   {
    "duration": 24,
    "start_time": "2021-10-17T19:22:35.379Z"
   },
   {
    "duration": 9,
    "start_time": "2021-10-17T19:22:35.405Z"
   },
   {
    "duration": 6,
    "start_time": "2021-10-17T19:22:35.415Z"
   },
   {
    "duration": 4,
    "start_time": "2021-10-17T19:22:35.423Z"
   },
   {
    "duration": 8,
    "start_time": "2021-10-17T19:22:35.429Z"
   },
   {
    "duration": 4,
    "start_time": "2021-10-17T19:22:35.438Z"
   },
   {
    "duration": 5,
    "start_time": "2021-10-17T19:22:35.443Z"
   },
   {
    "duration": 4,
    "start_time": "2021-10-17T19:22:35.477Z"
   },
   {
    "duration": 604,
    "start_time": "2021-10-17T19:22:35.483Z"
   },
   {
    "duration": 4,
    "start_time": "2021-10-17T19:22:36.089Z"
   },
   {
    "duration": 13,
    "start_time": "2021-10-17T19:22:36.094Z"
   },
   {
    "duration": 4,
    "start_time": "2021-10-17T19:22:36.108Z"
   },
   {
    "duration": 1324,
    "start_time": "2021-10-17T19:22:36.113Z"
   },
   {
    "duration": 8,
    "start_time": "2021-10-17T19:22:37.438Z"
   },
   {
    "duration": 45,
    "start_time": "2021-10-17T19:22:37.448Z"
   },
   {
    "duration": 41,
    "start_time": "2021-10-17T19:22:37.495Z"
   },
   {
    "duration": 9,
    "start_time": "2021-10-17T19:22:37.538Z"
   },
   {
    "duration": 60,
    "start_time": "2021-10-17T19:22:37.549Z"
   },
   {
    "duration": 8,
    "start_time": "2021-10-17T19:22:37.611Z"
   },
   {
    "duration": 57,
    "start_time": "2021-10-17T19:22:37.621Z"
   },
   {
    "duration": 11,
    "start_time": "2021-10-17T19:22:37.680Z"
   },
   {
    "duration": 36,
    "start_time": "2021-10-17T19:22:37.693Z"
   },
   {
    "duration": 6,
    "start_time": "2021-10-17T19:22:37.731Z"
   },
   {
    "duration": 59,
    "start_time": "2021-10-17T19:22:37.739Z"
   },
   {
    "duration": 7,
    "start_time": "2021-10-17T19:22:37.799Z"
   },
   {
    "duration": 696,
    "start_time": "2022-05-21T10:26:09.210Z"
   },
   {
    "duration": 22,
    "start_time": "2022-05-21T10:26:09.908Z"
   },
   {
    "duration": 30,
    "start_time": "2022-05-21T10:26:09.949Z"
   },
   {
    "duration": 20,
    "start_time": "2022-05-21T10:26:09.982Z"
   },
   {
    "duration": 9,
    "start_time": "2022-05-21T10:26:10.003Z"
   },
   {
    "duration": 40,
    "start_time": "2022-05-21T10:26:10.013Z"
   },
   {
    "duration": 12,
    "start_time": "2022-05-21T10:26:10.055Z"
   },
   {
    "duration": 8,
    "start_time": "2022-05-21T10:26:10.069Z"
   },
   {
    "duration": 14,
    "start_time": "2022-05-21T10:26:10.079Z"
   },
   {
    "duration": 6,
    "start_time": "2022-05-21T10:26:10.096Z"
   },
   {
    "duration": 34,
    "start_time": "2022-05-21T10:26:10.104Z"
   },
   {
    "duration": 18,
    "start_time": "2022-05-21T10:26:10.143Z"
   },
   {
    "duration": 17,
    "start_time": "2022-05-21T10:26:10.163Z"
   },
   {
    "duration": 13,
    "start_time": "2022-05-21T10:26:10.182Z"
   },
   {
    "duration": 27,
    "start_time": "2022-05-21T10:26:10.197Z"
   },
   {
    "duration": 10,
    "start_time": "2022-05-21T10:26:10.226Z"
   },
   {
    "duration": 39,
    "start_time": "2022-05-21T10:26:10.240Z"
   },
   {
    "duration": 14,
    "start_time": "2022-05-21T10:26:10.281Z"
   },
   {
    "duration": 6,
    "start_time": "2022-05-21T10:26:10.297Z"
   },
   {
    "duration": 34,
    "start_time": "2022-05-21T10:26:10.305Z"
   },
   {
    "duration": 15,
    "start_time": "2022-05-21T10:26:10.342Z"
   },
   {
    "duration": 11,
    "start_time": "2022-05-21T10:26:10.359Z"
   },
   {
    "duration": 22,
    "start_time": "2022-05-21T10:26:10.372Z"
   },
   {
    "duration": 11,
    "start_time": "2022-05-21T10:26:10.396Z"
   },
   {
    "duration": 33,
    "start_time": "2022-05-21T10:26:10.408Z"
   },
   {
    "duration": 19,
    "start_time": "2022-05-21T10:26:10.448Z"
   },
   {
    "duration": 26,
    "start_time": "2022-05-21T10:26:10.469Z"
   },
   {
    "duration": 58,
    "start_time": "2022-05-21T10:26:10.499Z"
   },
   {
    "duration": 4,
    "start_time": "2022-05-21T10:26:10.559Z"
   },
   {
    "duration": 31,
    "start_time": "2022-05-21T10:26:10.564Z"
   },
   {
    "duration": 5,
    "start_time": "2022-05-21T10:26:10.596Z"
   },
   {
    "duration": 5,
    "start_time": "2022-05-21T10:26:10.603Z"
   },
   {
    "duration": 5,
    "start_time": "2022-05-21T10:26:10.609Z"
   },
   {
    "duration": 40,
    "start_time": "2022-05-21T10:26:10.616Z"
   },
   {
    "duration": 15,
    "start_time": "2022-05-21T10:26:10.657Z"
   },
   {
    "duration": 27,
    "start_time": "2022-05-21T10:26:10.674Z"
   },
   {
    "duration": 76,
    "start_time": "2022-05-21T10:26:10.702Z"
   },
   {
    "duration": 68,
    "start_time": "2022-05-21T10:26:10.779Z"
   },
   {
    "duration": 11,
    "start_time": "2022-05-21T10:26:10.851Z"
   },
   {
    "duration": 3,
    "start_time": "2022-05-21T10:26:10.864Z"
   },
   {
    "duration": 15,
    "start_time": "2022-05-21T10:26:10.869Z"
   },
   {
    "duration": 27,
    "start_time": "2022-05-21T10:26:10.886Z"
   },
   {
    "duration": 27,
    "start_time": "2022-05-21T10:26:10.925Z"
   },
   {
    "duration": 8,
    "start_time": "2022-05-21T10:26:10.954Z"
   },
   {
    "duration": 7,
    "start_time": "2022-05-21T10:26:10.963Z"
   },
   {
    "duration": 7,
    "start_time": "2022-05-21T10:26:10.972Z"
   },
   {
    "duration": 4,
    "start_time": "2022-05-21T10:26:10.980Z"
   },
   {
    "duration": 7,
    "start_time": "2022-05-21T10:26:10.986Z"
   },
   {
    "duration": 10,
    "start_time": "2022-05-21T10:26:10.995Z"
   },
   {
    "duration": 758,
    "start_time": "2022-05-21T10:26:11.007Z"
   },
   {
    "duration": 5,
    "start_time": "2022-05-21T10:26:11.768Z"
   },
   {
    "duration": 12,
    "start_time": "2022-05-21T10:26:11.775Z"
   },
   {
    "duration": 8,
    "start_time": "2022-05-21T10:26:11.788Z"
   },
   {
    "duration": 1649,
    "start_time": "2022-05-21T10:26:11.797Z"
   },
   {
    "duration": 9,
    "start_time": "2022-05-21T10:26:13.448Z"
   },
   {
    "duration": 28,
    "start_time": "2022-05-21T10:26:13.459Z"
   },
   {
    "duration": 59,
    "start_time": "2022-05-21T10:26:13.489Z"
   },
   {
    "duration": 11,
    "start_time": "2022-05-21T10:26:13.552Z"
   },
   {
    "duration": 36,
    "start_time": "2022-05-21T10:26:13.565Z"
   },
   {
    "duration": 29,
    "start_time": "2022-05-21T10:26:13.603Z"
   },
   {
    "duration": 63,
    "start_time": "2022-05-21T10:26:13.633Z"
   },
   {
    "duration": 15,
    "start_time": "2022-05-21T10:26:13.698Z"
   },
   {
    "duration": 50,
    "start_time": "2022-05-21T10:26:13.714Z"
   },
   {
    "duration": 9,
    "start_time": "2022-05-21T10:26:13.766Z"
   },
   {
    "duration": 51,
    "start_time": "2022-05-21T10:26:13.778Z"
   },
   {
    "duration": 16,
    "start_time": "2022-05-21T10:26:13.831Z"
   },
   {
    "duration": 107,
    "start_time": "2022-05-21T10:57:28.635Z"
   },
   {
    "duration": 57,
    "start_time": "2022-05-21T10:57:45.769Z"
   },
   {
    "duration": 12,
    "start_time": "2022-05-21T10:58:58.066Z"
   },
   {
    "duration": 9,
    "start_time": "2022-05-21T10:59:01.037Z"
   },
   {
    "duration": 11,
    "start_time": "2022-05-21T10:59:03.795Z"
   },
   {
    "duration": 8,
    "start_time": "2022-05-21T10:59:53.292Z"
   },
   {
    "duration": 16,
    "start_time": "2022-05-21T11:00:03.490Z"
   },
   {
    "duration": 12,
    "start_time": "2022-05-21T11:00:21.622Z"
   },
   {
    "duration": 26,
    "start_time": "2022-05-21T11:00:42.063Z"
   },
   {
    "duration": 32,
    "start_time": "2022-05-21T11:00:48.817Z"
   },
   {
    "duration": 31,
    "start_time": "2022-05-21T11:00:58.770Z"
   },
   {
    "duration": 3,
    "start_time": "2022-05-21T11:01:22.202Z"
   },
   {
    "duration": 20,
    "start_time": "2022-05-21T11:01:28.887Z"
   },
   {
    "duration": 5,
    "start_time": "2022-05-21T11:01:40.937Z"
   },
   {
    "duration": 2197,
    "start_time": "2022-05-21T11:01:52.081Z"
   },
   {
    "duration": 30,
    "start_time": "2022-05-21T11:01:59.078Z"
   },
   {
    "duration": 66,
    "start_time": "2022-05-21T11:02:30.677Z"
   },
   {
    "duration": 14,
    "start_time": "2022-05-21T11:02:35.087Z"
   },
   {
    "duration": 3,
    "start_time": "2022-05-21T11:02:58.381Z"
   },
   {
    "duration": 510,
    "start_time": "2022-05-21T11:03:03.295Z"
   },
   {
    "duration": 0,
    "start_time": "2022-05-21T11:03:03.808Z"
   },
   {
    "duration": 0,
    "start_time": "2022-05-21T11:03:03.810Z"
   },
   {
    "duration": 0,
    "start_time": "2022-05-21T11:03:03.826Z"
   },
   {
    "duration": 0,
    "start_time": "2022-05-21T11:03:03.832Z"
   },
   {
    "duration": 0,
    "start_time": "2022-05-21T11:03:03.834Z"
   },
   {
    "duration": 0,
    "start_time": "2022-05-21T11:03:03.835Z"
   },
   {
    "duration": 0,
    "start_time": "2022-05-21T11:03:03.837Z"
   },
   {
    "duration": 0,
    "start_time": "2022-05-21T11:03:03.838Z"
   },
   {
    "duration": 0,
    "start_time": "2022-05-21T11:03:03.842Z"
   },
   {
    "duration": 0,
    "start_time": "2022-05-21T11:03:03.843Z"
   },
   {
    "duration": 0,
    "start_time": "2022-05-21T11:03:03.844Z"
   },
   {
    "duration": 0,
    "start_time": "2022-05-21T11:03:03.845Z"
   },
   {
    "duration": 0,
    "start_time": "2022-05-21T11:03:03.846Z"
   },
   {
    "duration": 0,
    "start_time": "2022-05-21T11:03:03.847Z"
   },
   {
    "duration": 0,
    "start_time": "2022-05-21T11:03:03.848Z"
   },
   {
    "duration": 0,
    "start_time": "2022-05-21T11:03:03.849Z"
   },
   {
    "duration": 0,
    "start_time": "2022-05-21T11:03:03.850Z"
   },
   {
    "duration": 0,
    "start_time": "2022-05-21T11:03:03.851Z"
   },
   {
    "duration": 0,
    "start_time": "2022-05-21T11:03:03.852Z"
   },
   {
    "duration": 0,
    "start_time": "2022-05-21T11:03:03.853Z"
   },
   {
    "duration": 0,
    "start_time": "2022-05-21T11:03:03.854Z"
   },
   {
    "duration": 0,
    "start_time": "2022-05-21T11:03:03.855Z"
   },
   {
    "duration": 0,
    "start_time": "2022-05-21T11:03:03.856Z"
   },
   {
    "duration": 0,
    "start_time": "2022-05-21T11:03:03.857Z"
   },
   {
    "duration": 0,
    "start_time": "2022-05-21T11:03:03.858Z"
   },
   {
    "duration": 0,
    "start_time": "2022-05-21T11:03:03.859Z"
   },
   {
    "duration": 0,
    "start_time": "2022-05-21T11:03:03.860Z"
   },
   {
    "duration": 0,
    "start_time": "2022-05-21T11:03:03.862Z"
   },
   {
    "duration": 0,
    "start_time": "2022-05-21T11:03:03.863Z"
   },
   {
    "duration": 0,
    "start_time": "2022-05-21T11:03:03.865Z"
   },
   {
    "duration": 0,
    "start_time": "2022-05-21T11:03:03.866Z"
   },
   {
    "duration": 0,
    "start_time": "2022-05-21T11:03:03.867Z"
   },
   {
    "duration": 0,
    "start_time": "2022-05-21T11:03:03.868Z"
   },
   {
    "duration": 0,
    "start_time": "2022-05-21T11:03:03.868Z"
   },
   {
    "duration": 0,
    "start_time": "2022-05-21T11:03:03.869Z"
   },
   {
    "duration": 0,
    "start_time": "2022-05-21T11:03:03.926Z"
   },
   {
    "duration": 0,
    "start_time": "2022-05-21T11:03:03.927Z"
   },
   {
    "duration": 11,
    "start_time": "2022-05-21T11:03:03.930Z"
   },
   {
    "duration": 0,
    "start_time": "2022-05-21T11:03:03.943Z"
   },
   {
    "duration": 0,
    "start_time": "2022-05-21T11:03:03.945Z"
   },
   {
    "duration": 0,
    "start_time": "2022-05-21T11:03:03.947Z"
   },
   {
    "duration": 0,
    "start_time": "2022-05-21T11:03:03.949Z"
   },
   {
    "duration": 0,
    "start_time": "2022-05-21T11:03:03.950Z"
   },
   {
    "duration": 1,
    "start_time": "2022-05-21T11:03:03.951Z"
   },
   {
    "duration": 0,
    "start_time": "2022-05-21T11:03:03.953Z"
   },
   {
    "duration": 0,
    "start_time": "2022-05-21T11:03:03.954Z"
   },
   {
    "duration": 0,
    "start_time": "2022-05-21T11:03:03.956Z"
   },
   {
    "duration": 0,
    "start_time": "2022-05-21T11:03:03.957Z"
   },
   {
    "duration": 0,
    "start_time": "2022-05-21T11:03:03.959Z"
   },
   {
    "duration": 0,
    "start_time": "2022-05-21T11:03:03.961Z"
   },
   {
    "duration": 0,
    "start_time": "2022-05-21T11:03:03.962Z"
   },
   {
    "duration": 0,
    "start_time": "2022-05-21T11:03:03.963Z"
   },
   {
    "duration": 0,
    "start_time": "2022-05-21T11:03:03.965Z"
   },
   {
    "duration": 0,
    "start_time": "2022-05-21T11:03:03.966Z"
   },
   {
    "duration": 12,
    "start_time": "2022-05-21T11:03:04.031Z"
   },
   {
    "duration": 0,
    "start_time": "2022-05-21T11:03:04.044Z"
   },
   {
    "duration": 0,
    "start_time": "2022-05-21T11:03:04.045Z"
   },
   {
    "duration": 0,
    "start_time": "2022-05-21T11:03:04.046Z"
   },
   {
    "duration": 0,
    "start_time": "2022-05-21T11:03:04.047Z"
   },
   {
    "duration": 0,
    "start_time": "2022-05-21T11:03:04.048Z"
   },
   {
    "duration": 8,
    "start_time": "2022-05-21T11:03:04.070Z"
   },
   {
    "duration": 0,
    "start_time": "2022-05-21T11:03:04.080Z"
   },
   {
    "duration": 0,
    "start_time": "2022-05-21T11:03:04.125Z"
   },
   {
    "duration": 14,
    "start_time": "2022-05-21T11:03:04.127Z"
   },
   {
    "duration": 0,
    "start_time": "2022-05-21T11:03:04.143Z"
   },
   {
    "duration": 0,
    "start_time": "2022-05-21T11:03:04.144Z"
   },
   {
    "duration": 56,
    "start_time": "2022-05-21T11:03:04.179Z"
   },
   {
    "duration": 21,
    "start_time": "2022-05-21T11:03:04.239Z"
   },
   {
    "duration": 8,
    "start_time": "2022-05-21T11:03:04.262Z"
   },
   {
    "duration": 13,
    "start_time": "2022-05-21T11:03:04.272Z"
   },
   {
    "duration": 41,
    "start_time": "2022-05-21T11:03:04.288Z"
   },
   {
    "duration": 20,
    "start_time": "2022-05-21T11:03:04.331Z"
   },
   {
    "duration": 7,
    "start_time": "2022-05-21T11:03:04.352Z"
   },
   {
    "duration": 29,
    "start_time": "2022-05-21T11:03:04.361Z"
   },
   {
    "duration": 46,
    "start_time": "2022-05-21T11:03:04.392Z"
   },
   {
    "duration": 39,
    "start_time": "2022-05-21T11:03:04.439Z"
   },
   {
    "duration": 4,
    "start_time": "2022-05-21T11:03:04.480Z"
   },
   {
    "duration": 11,
    "start_time": "2022-05-21T11:03:04.486Z"
   },
   {
    "duration": 0,
    "start_time": "2022-05-21T11:03:04.499Z"
   },
   {
    "duration": 0,
    "start_time": "2022-05-21T11:03:04.523Z"
   },
   {
    "duration": 1,
    "start_time": "2022-05-21T11:03:04.523Z"
   },
   {
    "duration": 4,
    "start_time": "2022-05-21T11:03:16.683Z"
   },
   {
    "duration": 51,
    "start_time": "2022-05-21T11:03:18.206Z"
   },
   {
    "duration": 13,
    "start_time": "2022-05-21T11:03:19.109Z"
   },
   {
    "duration": 8,
    "start_time": "2022-05-21T11:03:20.088Z"
   },
   {
    "duration": 10,
    "start_time": "2022-05-21T11:03:20.865Z"
   },
   {
    "duration": 12,
    "start_time": "2022-05-21T11:03:21.723Z"
   },
   {
    "duration": 23,
    "start_time": "2022-05-21T11:03:22.768Z"
   },
   {
    "duration": 3,
    "start_time": "2022-05-21T11:03:23.768Z"
   },
   {
    "duration": 21,
    "start_time": "2022-05-21T11:03:24.686Z"
   },
   {
    "duration": 57,
    "start_time": "2022-05-21T11:03:25.437Z"
   },
   {
    "duration": 42,
    "start_time": "2022-05-21T11:03:26.274Z"
   },
   {
    "duration": 3,
    "start_time": "2022-05-21T11:03:27.340Z"
   },
   {
    "duration": 2223,
    "start_time": "2022-05-21T11:03:56.836Z"
   },
   {
    "duration": 3,
    "start_time": "2022-05-21T11:04:00.707Z"
   },
   {
    "duration": 5,
    "start_time": "2022-05-21T11:04:02.665Z"
   },
   {
    "duration": 2392,
    "start_time": "2022-05-21T11:04:04.273Z"
   },
   {
    "duration": 24,
    "start_time": "2022-05-21T11:04:08.289Z"
   },
   {
    "duration": 2370,
    "start_time": "2022-05-21T11:10:22.487Z"
   },
   {
    "duration": 3,
    "start_time": "2022-05-21T11:10:41.369Z"
   },
   {
    "duration": 4,
    "start_time": "2022-05-21T11:10:58.678Z"
   },
   {
    "duration": 50,
    "start_time": "2022-05-21T11:11:13.967Z"
   },
   {
    "duration": 13,
    "start_time": "2022-05-21T11:11:24.571Z"
   },
   {
    "duration": 17,
    "start_time": "2022-05-21T11:12:10.972Z"
   },
   {
    "duration": 13,
    "start_time": "2022-05-21T11:12:41.671Z"
   },
   {
    "duration": 12,
    "start_time": "2022-05-21T11:13:12.364Z"
   },
   {
    "duration": 9,
    "start_time": "2022-05-21T11:13:40.574Z"
   },
   {
    "duration": 5,
    "start_time": "2022-05-21T11:14:28.275Z"
   },
   {
    "duration": 7,
    "start_time": "2022-05-21T11:14:59.880Z"
   },
   {
    "duration": 6,
    "start_time": "2022-05-21T11:15:17.372Z"
   },
   {
    "duration": 14,
    "start_time": "2022-05-21T11:15:49.134Z"
   },
   {
    "duration": 6,
    "start_time": "2022-05-21T11:15:57.607Z"
   },
   {
    "duration": 25,
    "start_time": "2022-05-21T11:16:38.672Z"
   },
   {
    "duration": 13,
    "start_time": "2022-05-21T11:17:23.036Z"
   },
   {
    "duration": 18,
    "start_time": "2022-05-21T11:17:57.275Z"
   },
   {
    "duration": 10,
    "start_time": "2022-05-21T11:18:30.791Z"
   },
   {
    "duration": 14,
    "start_time": "2022-05-21T11:18:56.939Z"
   },
   {
    "duration": 5,
    "start_time": "2022-05-21T11:19:24.538Z"
   },
   {
    "duration": 14,
    "start_time": "2022-05-21T11:19:41.474Z"
   },
   {
    "duration": 9,
    "start_time": "2022-05-21T11:20:31.507Z"
   },
   {
    "duration": 7,
    "start_time": "2022-05-21T11:21:08.377Z"
   },
   {
    "duration": 15,
    "start_time": "2022-05-21T11:21:08.972Z"
   },
   {
    "duration": 10,
    "start_time": "2022-05-21T11:21:34.910Z"
   },
   {
    "duration": 7,
    "start_time": "2022-05-21T11:21:57.681Z"
   },
   {
    "duration": 44,
    "start_time": "2022-05-21T11:22:05.531Z"
   },
   {
    "duration": 18,
    "start_time": "2022-05-21T11:22:19.118Z"
   },
   {
    "duration": 13,
    "start_time": "2022-05-21T11:22:41.172Z"
   },
   {
    "duration": 16,
    "start_time": "2022-05-21T11:23:13.930Z"
   },
   {
    "duration": 9,
    "start_time": "2022-05-21T11:23:35.476Z"
   },
   {
    "duration": 16,
    "start_time": "2022-05-21T11:23:54.278Z"
   },
   {
    "duration": 44,
    "start_time": "2022-05-21T11:24:10.665Z"
   },
   {
    "duration": 4,
    "start_time": "2022-05-21T11:25:20.400Z"
   },
   {
    "duration": 15,
    "start_time": "2022-05-21T11:25:25.922Z"
   },
   {
    "duration": 4,
    "start_time": "2022-05-21T11:25:43.835Z"
   },
   {
    "duration": 5,
    "start_time": "2022-05-21T11:26:00.971Z"
   },
   {
    "duration": 8,
    "start_time": "2022-05-21T11:26:18.611Z"
   },
   {
    "duration": 13,
    "start_time": "2022-05-21T11:26:34.050Z"
   },
   {
    "duration": 17,
    "start_time": "2022-05-21T11:27:12.488Z"
   },
   {
    "duration": 20,
    "start_time": "2022-05-21T11:27:46.586Z"
   },
   {
    "duration": 30,
    "start_time": "2022-05-21T11:28:05.869Z"
   },
   {
    "duration": 34,
    "start_time": "2022-05-21T11:28:26.323Z"
   },
   {
    "duration": 8,
    "start_time": "2022-05-21T11:29:21.475Z"
   },
   {
    "duration": 3,
    "start_time": "2022-05-21T11:29:43.604Z"
   },
   {
    "duration": 10,
    "start_time": "2022-05-21T11:29:58.932Z"
   },
   {
    "duration": 15,
    "start_time": "2022-05-21T11:30:04.573Z"
   },
   {
    "duration": 15,
    "start_time": "2022-05-21T11:30:11.355Z"
   },
   {
    "duration": 8,
    "start_time": "2022-05-21T11:30:30.195Z"
   },
   {
    "duration": 5,
    "start_time": "2022-05-21T11:30:46.186Z"
   },
   {
    "duration": 4,
    "start_time": "2022-05-21T11:31:04.636Z"
   },
   {
    "duration": 23,
    "start_time": "2022-05-21T11:31:10.337Z"
   },
   {
    "duration": 3,
    "start_time": "2022-05-21T11:31:28.308Z"
   },
   {
    "duration": 7,
    "start_time": "2022-05-21T11:31:46.010Z"
   },
   {
    "duration": 750,
    "start_time": "2022-05-21T11:32:03.610Z"
   },
   {
    "duration": 5,
    "start_time": "2022-05-21T11:32:23.598Z"
   },
   {
    "duration": 5,
    "start_time": "2022-05-21T11:32:41.768Z"
   },
   {
    "duration": 4,
    "start_time": "2022-05-21T11:33:14.183Z"
   },
   {
    "duration": 1327,
    "start_time": "2022-05-21T11:33:35.361Z"
   },
   {
    "duration": 50,
    "start_time": "2022-05-21T11:33:46.911Z"
   },
   {
    "duration": 8,
    "start_time": "2022-05-21T11:33:57.363Z"
   },
   {
    "duration": 36,
    "start_time": "2022-05-21T11:34:06.790Z"
   },
   {
    "duration": 26,
    "start_time": "2022-05-21T11:34:20.169Z"
   },
   {
    "duration": 15,
    "start_time": "2022-05-21T11:34:24.135Z"
   },
   {
    "duration": 44,
    "start_time": "2022-05-21T11:36:58.570Z"
   },
   {
    "duration": 11,
    "start_time": "2022-05-21T11:38:43.438Z"
   },
   {
    "duration": 38,
    "start_time": "2022-05-21T11:44:03.674Z"
   },
   {
    "duration": 11,
    "start_time": "2022-05-21T11:44:26.367Z"
   },
   {
    "duration": 22,
    "start_time": "2022-05-21T11:44:37.353Z"
   },
   {
    "duration": 57,
    "start_time": "2022-05-21T11:44:49.523Z"
   },
   {
    "duration": 17,
    "start_time": "2022-05-21T11:45:27.266Z"
   },
   {
    "duration": 2,
    "start_time": "2022-05-21T11:45:36.820Z"
   },
   {
    "duration": 36,
    "start_time": "2022-05-21T11:48:39.430Z"
   },
   {
    "duration": 12,
    "start_time": "2022-05-21T11:48:58.989Z"
   },
   {
    "duration": 35,
    "start_time": "2022-05-21T11:51:26.735Z"
   },
   {
    "duration": 10,
    "start_time": "2022-05-21T11:51:54.913Z"
   }
  ],
  "kernelspec": {
   "display_name": "Python 3",
   "language": "python",
   "name": "python3"
  },
  "language_info": {
   "codemirror_mode": {
    "name": "ipython",
    "version": 3
   },
   "file_extension": ".py",
   "mimetype": "text/x-python",
   "name": "python",
   "nbconvert_exporter": "python",
   "pygments_lexer": "ipython3",
   "version": "3.8.8"
  },
  "toc": {
   "base_numbering": 1,
   "nav_menu": {},
   "number_sections": true,
   "sideBar": true,
   "skip_h1_title": true,
   "title_cell": "Table of Contents",
   "title_sidebar": "Contents",
   "toc_cell": false,
   "toc_position": {},
   "toc_section_display": true,
   "toc_window_display": false
  }
 },
 "nbformat": 4,
 "nbformat_minor": 4
}
